{
 "cells": [
  {
   "cell_type": "markdown",
   "metadata": {},
   "source": [
    "## Load data"
   ]
  },
  {
   "cell_type": "code",
   "execution_count": 1,
   "metadata": {},
   "outputs": [],
   "source": [
    "from collections import Counter\n",
    "import pandas as pd\n",
    "import numpy as np\n",
    "import os\n",
    "import re\n",
    "\n",
    "#Import all the dependencies\n",
    "from gensim.models.doc2vec import Doc2Vec, TaggedDocument\n",
    "from nltk.tokenize import word_tokenize\n",
    "import nltk\n",
    "from nltk.corpus import stopwords\n",
    "# nltk.download('stopwords')\n",
    "remove_these = set(stopwords.words('english'))"
   ]
  },
  {
   "cell_type": "code",
   "execution_count": 2,
   "metadata": {},
   "outputs": [],
   "source": [
    "REMOVE_STOPWORDS = True"
   ]
  },
  {
   "cell_type": "code",
   "execution_count": 3,
   "metadata": {},
   "outputs": [
    {
     "name": "stdout",
     "output_type": "stream",
     "text": [
      "CPU times: user 24.3 s, sys: 294 ms, total: 24.6 s\n",
      "Wall time: 24.8 s\n"
     ]
    }
   ],
   "source": [
    "%%time\n",
    "\n",
    "with open('../../data/mxm_dataset_train.txt','r') as f:\n",
    "    lines = f.readlines()\n",
    "    words = lines[17].replace('%','').split(',')\n",
    "    all_songs_dict = dict()\n",
    "    for i,l in list(enumerate(lines))[18:]:\n",
    "        song_info = l.split(',')\n",
    "        MSDID = song_info[0]\n",
    "        song_bow = [x.split(':') for x in song_info[2:]]\n",
    "        song_dict = {}\n",
    "        for word, word_count in song_bow:\n",
    "            song_dict[int(word)] = int(word_count.replace('\\n',''))\n",
    "        word_lists = [[words[word-1]]*song_dict[word] for word in song_dict.keys()]\n",
    "        song = [word for word_list in word_lists for word in word_list]\n",
    "        if REMOVE_STOPWORDS:\n",
    "            song = [w for w in song if w not in remove_these]\n",
    "        all_songs_dict[str(MSDID)] = ' '.join(song).replace('\\n','')"
   ]
  },
  {
   "cell_type": "code",
   "execution_count": 4,
   "metadata": {},
   "outputs": [
    {
     "name": "stdout",
     "output_type": "stream",
     "text": [
      "210519\n"
     ]
    }
   ],
   "source": [
    "print(len(all_songs_dict.keys()))\n",
    "song_msd_ids = list(all_songs_dict.keys())"
   ]
  },
  {
   "cell_type": "code",
   "execution_count": 5,
   "metadata": {},
   "outputs": [
    {
     "name": "stdout",
     "output_type": "stream",
     "text": [
      "TRREYEX128F42807EB\n"
     ]
    }
   ],
   "source": [
    "print(np.random.choice(song_msd_ids))"
   ]
  },
  {
   "cell_type": "code",
   "execution_count": 6,
   "metadata": {},
   "outputs": [
    {
     "name": "stdout",
     "output_type": "stream",
     "text": [
      "CPU times: user 1.39 s, sys: 254 ms, total: 1.64 s\n",
      "Wall time: 1.67 s\n"
     ]
    }
   ],
   "source": [
    "%%time\n",
    "\n",
    "all_song_meta_dict = dict()\n",
    "with open('../../data/mxm_779k_matches.txt','r') as f:\n",
    "    lines = f.readlines()\n",
    "    for i in range(18, len(lines)):\n",
    "        line = lines[i].split('<SEP>')\n",
    "        MSDID = line[0]\n",
    "        artist = line[1]\n",
    "        title = line[2]\n",
    "        all_song_meta_dict[str(MSDID)] = {'artist': artist, 'title': title}"
   ]
  },
  {
   "cell_type": "code",
   "execution_count": 7,
   "metadata": {},
   "outputs": [
    {
     "data": {
      "text/plain": [
       "779056"
      ]
     },
     "execution_count": 7,
     "metadata": {},
     "output_type": "execute_result"
    }
   ],
   "source": [
    "len(all_song_meta_dict.keys())"
   ]
  },
  {
   "cell_type": "code",
   "execution_count": 8,
   "metadata": {},
   "outputs": [],
   "source": [
    "# all_artists = sorted(set([all_song_meta_dict[msdId]['artist'].lower() for msdId in all_song_meta_dict]))"
   ]
  },
  {
   "cell_type": "code",
   "execution_count": 9,
   "metadata": {},
   "outputs": [
    {
     "name": "stdout",
     "output_type": "stream",
     "text": [
      "(210519, 2)\n"
     ]
    },
    {
     "data": {
      "text/html": [
       "<div>\n",
       "<style scoped>\n",
       "    .dataframe tbody tr th:only-of-type {\n",
       "        vertical-align: middle;\n",
       "    }\n",
       "\n",
       "    .dataframe tbody tr th {\n",
       "        vertical-align: top;\n",
       "    }\n",
       "\n",
       "    .dataframe thead th {\n",
       "        text-align: right;\n",
       "    }\n",
       "</style>\n",
       "<table border=\"1\" class=\"dataframe\">\n",
       "  <thead>\n",
       "    <tr style=\"text-align: right;\">\n",
       "      <th></th>\n",
       "      <th>MSDID</th>\n",
       "      <th>cleaned_text</th>\n",
       "    </tr>\n",
       "  </thead>\n",
       "  <tbody>\n",
       "    <tr>\n",
       "      <th>0</th>\n",
       "      <td>TRAAAAV128F421A322</td>\n",
       "      <td>like like de got would seem someon understand ...</td>\n",
       "    </tr>\n",
       "    <tr>\n",
       "      <th>1</th>\n",
       "      <td>TRAAABD128F429CF47</td>\n",
       "      <td>know know know know know time time time la la ...</td>\n",
       "    </tr>\n",
       "    <tr>\n",
       "      <th>2</th>\n",
       "      <td>TRAAAED128E0783FAB</td>\n",
       "      <td>love love love love love love love love love l...</td>\n",
       "    </tr>\n",
       "    <tr>\n",
       "      <th>3</th>\n",
       "      <td>TRAAAEF128F4273421</td>\n",
       "      <td>know got got got feel let would would would ey...</td>\n",
       "    </tr>\n",
       "    <tr>\n",
       "      <th>4</th>\n",
       "      <td>TRAAAEW128F42930C0</td>\n",
       "      <td>like take would wo someth stay burn burn burn ...</td>\n",
       "    </tr>\n",
       "  </tbody>\n",
       "</table>\n",
       "</div>"
      ],
      "text/plain": [
       "                MSDID                                       cleaned_text\n",
       "0  TRAAAAV128F421A322  like like de got would seem someon understand ...\n",
       "1  TRAAABD128F429CF47  know know know know know time time time la la ...\n",
       "2  TRAAAED128E0783FAB  love love love love love love love love love l...\n",
       "3  TRAAAEF128F4273421  know got got got feel let would would would ey...\n",
       "4  TRAAAEW128F42930C0  like take would wo someth stay burn burn burn ..."
      ]
     },
     "execution_count": 9,
     "metadata": {},
     "output_type": "execute_result"
    }
   ],
   "source": [
    "d = {\n",
    "    'MSDID': list(all_songs_dict.keys()),\n",
    "    'cleaned_text': [all_songs_dict[x] for x in all_songs_dict.keys()]\n",
    "    }\n",
    "msdid_df = pd.DataFrame.from_dict(d)\n",
    "print(msdid_df.shape)\n",
    "msdid_df.head()"
   ]
  },
  {
   "cell_type": "code",
   "execution_count": 10,
   "metadata": {},
   "outputs": [
    {
     "name": "stdout",
     "output_type": "stream",
     "text": [
      "(210519, 3)\n"
     ]
    },
    {
     "data": {
      "text/html": [
       "<div>\n",
       "<style scoped>\n",
       "    .dataframe tbody tr th:only-of-type {\n",
       "        vertical-align: middle;\n",
       "    }\n",
       "\n",
       "    .dataframe tbody tr th {\n",
       "        vertical-align: top;\n",
       "    }\n",
       "\n",
       "    .dataframe thead th {\n",
       "        text-align: right;\n",
       "    }\n",
       "</style>\n",
       "<table border=\"1\" class=\"dataframe\">\n",
       "  <thead>\n",
       "    <tr style=\"text-align: right;\">\n",
       "      <th></th>\n",
       "      <th>MSDID</th>\n",
       "      <th>artist</th>\n",
       "      <th>title</th>\n",
       "    </tr>\n",
       "  </thead>\n",
       "  <tbody>\n",
       "    <tr>\n",
       "      <th>0</th>\n",
       "      <td>TRAAAAV128F421A322</td>\n",
       "      <td>Western Addiction</td>\n",
       "      <td>A Poor Recipe For Civic Cohesion</td>\n",
       "    </tr>\n",
       "    <tr>\n",
       "      <th>1</th>\n",
       "      <td>TRAAABD128F429CF47</td>\n",
       "      <td>The Box Tops</td>\n",
       "      <td>Soul Deep</td>\n",
       "    </tr>\n",
       "    <tr>\n",
       "      <th>2</th>\n",
       "      <td>TRAAAED128E0783FAB</td>\n",
       "      <td>Jamie Cullum</td>\n",
       "      <td>It's About Time</td>\n",
       "    </tr>\n",
       "    <tr>\n",
       "      <th>3</th>\n",
       "      <td>TRAAAEF128F4273421</td>\n",
       "      <td>Adam Ant</td>\n",
       "      <td>Something Girls</td>\n",
       "    </tr>\n",
       "    <tr>\n",
       "      <th>4</th>\n",
       "      <td>TRAAAEW128F42930C0</td>\n",
       "      <td>Broken Spindles</td>\n",
       "      <td>Burn My Body (Album Version)</td>\n",
       "    </tr>\n",
       "  </tbody>\n",
       "</table>\n",
       "</div>"
      ],
      "text/plain": [
       "                MSDID             artist                             title\n",
       "0  TRAAAAV128F421A322  Western Addiction  A Poor Recipe For Civic Cohesion\n",
       "1  TRAAABD128F429CF47       The Box Tops                         Soul Deep\n",
       "2  TRAAAED128E0783FAB       Jamie Cullum                   It's About Time\n",
       "3  TRAAAEF128F4273421           Adam Ant                   Something Girls\n",
       "4  TRAAAEW128F42930C0    Broken Spindles      Burn My Body (Album Version)"
      ]
     },
     "execution_count": 10,
     "metadata": {},
     "output_type": "execute_result"
    }
   ],
   "source": [
    "d = {\n",
    "    'MSDID': msdid_df['MSDID'],\n",
    "    'artist': [all_song_meta_dict[x]['artist'] for x in msdid_df['MSDID']],\n",
    "    'title': [all_song_meta_dict[x]['title'] for x in msdid_df['MSDID']]\n",
    "    }\n",
    "meta_df = pd.DataFrame.from_dict(d)\n",
    "print(meta_df.shape)\n",
    "meta_df.head()"
   ]
  },
  {
   "cell_type": "code",
   "execution_count": 11,
   "metadata": {},
   "outputs": [
    {
     "name": "stdout",
     "output_type": "stream",
     "text": [
      "(210519, 4)\n"
     ]
    },
    {
     "data": {
      "text/html": [
       "<div>\n",
       "<style scoped>\n",
       "    .dataframe tbody tr th:only-of-type {\n",
       "        vertical-align: middle;\n",
       "    }\n",
       "\n",
       "    .dataframe tbody tr th {\n",
       "        vertical-align: top;\n",
       "    }\n",
       "\n",
       "    .dataframe thead th {\n",
       "        text-align: right;\n",
       "    }\n",
       "</style>\n",
       "<table border=\"1\" class=\"dataframe\">\n",
       "  <thead>\n",
       "    <tr style=\"text-align: right;\">\n",
       "      <th></th>\n",
       "      <th>MSDID</th>\n",
       "      <th>cleaned_text</th>\n",
       "      <th>artist</th>\n",
       "      <th>title</th>\n",
       "    </tr>\n",
       "  </thead>\n",
       "  <tbody>\n",
       "    <tr>\n",
       "      <th>0</th>\n",
       "      <td>TRAAAAV128F421A322</td>\n",
       "      <td>like like de got would seem someon understand ...</td>\n",
       "      <td>Western Addiction</td>\n",
       "      <td>A Poor Recipe For Civic Cohesion</td>\n",
       "    </tr>\n",
       "    <tr>\n",
       "      <th>1</th>\n",
       "      <td>TRAAABD128F429CF47</td>\n",
       "      <td>know know know know know time time time la la ...</td>\n",
       "      <td>The Box Tops</td>\n",
       "      <td>Soul Deep</td>\n",
       "    </tr>\n",
       "    <tr>\n",
       "      <th>2</th>\n",
       "      <td>TRAAAED128E0783FAB</td>\n",
       "      <td>love love love love love love love love love l...</td>\n",
       "      <td>Jamie Cullum</td>\n",
       "      <td>It's About Time</td>\n",
       "    </tr>\n",
       "    <tr>\n",
       "      <th>3</th>\n",
       "      <td>TRAAAEF128F4273421</td>\n",
       "      <td>know got got got feel let would would would ey...</td>\n",
       "      <td>Adam Ant</td>\n",
       "      <td>Something Girls</td>\n",
       "    </tr>\n",
       "    <tr>\n",
       "      <th>4</th>\n",
       "      <td>TRAAAEW128F42930C0</td>\n",
       "      <td>like take would wo someth stay burn burn burn ...</td>\n",
       "      <td>Broken Spindles</td>\n",
       "      <td>Burn My Body (Album Version)</td>\n",
       "    </tr>\n",
       "  </tbody>\n",
       "</table>\n",
       "</div>"
      ],
      "text/plain": [
       "                MSDID                                       cleaned_text  \\\n",
       "0  TRAAAAV128F421A322  like like de got would seem someon understand ...   \n",
       "1  TRAAABD128F429CF47  know know know know know time time time la la ...   \n",
       "2  TRAAAED128E0783FAB  love love love love love love love love love l...   \n",
       "3  TRAAAEF128F4273421  know got got got feel let would would would ey...   \n",
       "4  TRAAAEW128F42930C0  like take would wo someth stay burn burn burn ...   \n",
       "\n",
       "              artist                             title  \n",
       "0  Western Addiction  A Poor Recipe For Civic Cohesion  \n",
       "1       The Box Tops                         Soul Deep  \n",
       "2       Jamie Cullum                   It's About Time  \n",
       "3           Adam Ant                   Something Girls  \n",
       "4    Broken Spindles      Burn My Body (Album Version)  "
      ]
     },
     "execution_count": 11,
     "metadata": {},
     "output_type": "execute_result"
    }
   ],
   "source": [
    "full_df_ = pd.merge(msdid_df, meta_df, on='MSDID', how='left')\n",
    "print(full_df_.shape)\n",
    "full_df_.head()"
   ]
  },
  {
   "cell_type": "code",
   "execution_count": 54,
   "metadata": {},
   "outputs": [],
   "source": [
    "my_artists_ = ['Green Day','Blink-182','Sum 41','Rise Against',\n",
    "              'Four Year Strong','Three Days Grace',\n",
    "              'Tame Impala','Snoop Dogg','Thin Lizzy','The Strokes',\n",
    "              'Nirvana','All Time Low', 'Foo Fighters','Lil Wayne',\n",
    "              'Eminem','Tom Petty','Seether', 'Shinedown',\n",
    "              'Red Hot Chili Peppers','The Who', 'The Doors',\n",
    "              'Linkin Park','Arctic Monkeys','The Black Keys',\n",
    "              'Led Zeppelin','The Kinks','Collective Soul',\n",
    "              'Avenged Sevenfold','George Harrison','Eric Clapton',\n",
    "              'The Donnas','System of a Down', 'MxPx',\n",
    "              'Weezer','Rancid','Atmosphere','Santigold',\n",
    "              'Iron Maiden','Fall Out Boy', 'Hank Williams']\n",
    "\n",
    "my_artists = ['The Smashing Pumpkins', 'Bruce Springsteen','Beastie Boys']\n",
    "\n",
    "sampled_artists = list(np.random.choice(full_df_['artist'], size=500, replace=False))\n",
    "# sampled_artists"
   ]
  },
  {
   "cell_type": "code",
   "execution_count": 85,
   "metadata": {},
   "outputs": [
    {
     "name": "stdout",
     "output_type": "stream",
     "text": [
      "(210519, 4)\n"
     ]
    },
    {
     "data": {
      "text/html": [
       "<div>\n",
       "<style scoped>\n",
       "    .dataframe tbody tr th:only-of-type {\n",
       "        vertical-align: middle;\n",
       "    }\n",
       "\n",
       "    .dataframe tbody tr th {\n",
       "        vertical-align: top;\n",
       "    }\n",
       "\n",
       "    .dataframe thead th {\n",
       "        text-align: right;\n",
       "    }\n",
       "</style>\n",
       "<table border=\"1\" class=\"dataframe\">\n",
       "  <thead>\n",
       "    <tr style=\"text-align: right;\">\n",
       "      <th></th>\n",
       "      <th>MSDID</th>\n",
       "      <th>cleaned_text</th>\n",
       "      <th>artist</th>\n",
       "      <th>title</th>\n",
       "    </tr>\n",
       "  </thead>\n",
       "  <tbody>\n",
       "    <tr>\n",
       "      <th>0</th>\n",
       "      <td>TRAAAAV128F421A322</td>\n",
       "      <td>like like de got would seem someon understand ...</td>\n",
       "      <td>Western Addiction</td>\n",
       "      <td>A Poor Recipe For Civic Cohesion</td>\n",
       "    </tr>\n",
       "    <tr>\n",
       "      <th>1</th>\n",
       "      <td>TRAAABD128F429CF47</td>\n",
       "      <td>know know know know know time time time la la ...</td>\n",
       "      <td>The Box Tops</td>\n",
       "      <td>Soul Deep</td>\n",
       "    </tr>\n",
       "    <tr>\n",
       "      <th>2</th>\n",
       "      <td>TRAAAED128E0783FAB</td>\n",
       "      <td>love love love love love love love love love l...</td>\n",
       "      <td>Jamie Cullum</td>\n",
       "      <td>It's About Time</td>\n",
       "    </tr>\n",
       "    <tr>\n",
       "      <th>3</th>\n",
       "      <td>TRAAAEF128F4273421</td>\n",
       "      <td>know got got got feel let would would would ey...</td>\n",
       "      <td>Adam Ant</td>\n",
       "      <td>Something Girls</td>\n",
       "    </tr>\n",
       "    <tr>\n",
       "      <th>4</th>\n",
       "      <td>TRAAAEW128F42930C0</td>\n",
       "      <td>like take would wo someth stay burn burn burn ...</td>\n",
       "      <td>Broken Spindles</td>\n",
       "      <td>Burn My Body (Album Version)</td>\n",
       "    </tr>\n",
       "  </tbody>\n",
       "</table>\n",
       "</div>"
      ],
      "text/plain": [
       "                MSDID                                       cleaned_text  \\\n",
       "0  TRAAAAV128F421A322  like like de got would seem someon understand ...   \n",
       "1  TRAAABD128F429CF47  know know know know know time time time la la ...   \n",
       "2  TRAAAED128E0783FAB  love love love love love love love love love l...   \n",
       "3  TRAAAEF128F4273421  know got got got feel let would would would ey...   \n",
       "4  TRAAAEW128F42930C0  like take would wo someth stay burn burn burn ...   \n",
       "\n",
       "              artist                             title  \n",
       "0  Western Addiction  A Poor Recipe For Civic Cohesion  \n",
       "1       The Box Tops                         Soul Deep  \n",
       "2       Jamie Cullum                   It's About Time  \n",
       "3           Adam Ant                   Something Girls  \n",
       "4    Broken Spindles      Burn My Body (Album Version)  "
      ]
     },
     "execution_count": 85,
     "metadata": {},
     "output_type": "execute_result"
    }
   ],
   "source": [
    "# top_artists = full_df_['artist'].value_counts()[:10].reset_index()['index'].values\n",
    "# full_df = full_df_[full_df_['artist'].isin(my_artists)].reset_index(drop=True)\n",
    "# full_df = full_df_[full_df_['artist'].isin(sampled_artists)].reset_index(drop=True)\n",
    "# full_df = full_df_[full_df_['artist'].isin(sampled_artists + my_artists + my_artists_)].reset_index(drop=True)\n",
    "full_df = full_df_.copy()\n",
    "print(full_df.shape)\n",
    "full_df.head()"
   ]
  },
  {
   "cell_type": "markdown",
   "metadata": {},
   "source": [
    "## Train model and get embeddings"
   ]
  },
  {
   "cell_type": "code",
   "execution_count": 86,
   "metadata": {},
   "outputs": [
    {
     "name": "stdout",
     "output_type": "stream",
     "text": [
      "CPU times: user 7min 41s, sys: 16.6 s, total: 7min 58s\n",
      "Wall time: 5min 7s\n"
     ]
    }
   ],
   "source": [
    "%%time\n",
    "\n",
    "# get training data\n",
    "data = full_df['cleaned_text'].tolist()\n",
    "# test_data = test_df['cleaned_text'].tolist()\n",
    "train_corpus = [TaggedDocument(words=word_tokenize(_d.lower()), tags=[str(i)]) for i, _d in list(enumerate(data))]\n",
    "# build model\n",
    "model = Doc2Vec(vector_size=50, min_count=1, epochs=10, dm=0)\n",
    "model.build_vocab(train_corpus)\n",
    "# train model\n",
    "model.train(train_corpus, total_examples=model.corpus_count, epochs=model.epochs)"
   ]
  },
  {
   "cell_type": "code",
   "execution_count": 87,
   "metadata": {},
   "outputs": [],
   "source": [
    "model.save('trained_model_example')"
   ]
  },
  {
   "cell_type": "code",
   "execution_count": 88,
   "metadata": {},
   "outputs": [],
   "source": [
    "model = Doc2Vec.load('trained_model_example')"
   ]
  },
  {
   "cell_type": "code",
   "execution_count": 89,
   "metadata": {},
   "outputs": [],
   "source": [
    "emb_df = pd.DataFrame([model.docvecs[f'{i}'] for i in range(len(full_df))])\n",
    "fe_df = full_df.copy()\n",
    "for c in emb_df.columns:\n",
    "    fe_df[c] = emb_df[c]\n",
    "# fe_df[fe_df['artist'].isin(my_artists)].groupby('artist').mean().reset_index()"
   ]
  },
  {
   "cell_type": "code",
   "execution_count": 90,
   "metadata": {},
   "outputs": [
    {
     "data": {
      "text/html": [
       "<div>\n",
       "<style scoped>\n",
       "    .dataframe tbody tr th:only-of-type {\n",
       "        vertical-align: middle;\n",
       "    }\n",
       "\n",
       "    .dataframe tbody tr th {\n",
       "        vertical-align: top;\n",
       "    }\n",
       "\n",
       "    .dataframe thead th {\n",
       "        text-align: right;\n",
       "    }\n",
       "</style>\n",
       "<table border=\"1\" class=\"dataframe\">\n",
       "  <thead>\n",
       "    <tr style=\"text-align: right;\">\n",
       "      <th></th>\n",
       "      <th>MSDID</th>\n",
       "      <th>cleaned_text</th>\n",
       "      <th>artist</th>\n",
       "      <th>title</th>\n",
       "      <th>0</th>\n",
       "      <th>1</th>\n",
       "      <th>2</th>\n",
       "      <th>3</th>\n",
       "      <th>4</th>\n",
       "      <th>5</th>\n",
       "      <th>...</th>\n",
       "      <th>40</th>\n",
       "      <th>41</th>\n",
       "      <th>42</th>\n",
       "      <th>43</th>\n",
       "      <th>44</th>\n",
       "      <th>45</th>\n",
       "      <th>46</th>\n",
       "      <th>47</th>\n",
       "      <th>48</th>\n",
       "      <th>49</th>\n",
       "    </tr>\n",
       "  </thead>\n",
       "  <tbody>\n",
       "    <tr>\n",
       "      <th>0</th>\n",
       "      <td>TRAAAAV128F421A322</td>\n",
       "      <td>like like de got would seem someon understand ...</td>\n",
       "      <td>Western Addiction</td>\n",
       "      <td>A Poor Recipe For Civic Cohesion</td>\n",
       "      <td>0.401697</td>\n",
       "      <td>0.526880</td>\n",
       "      <td>0.000193</td>\n",
       "      <td>-0.207701</td>\n",
       "      <td>0.087055</td>\n",
       "      <td>-0.078098</td>\n",
       "      <td>...</td>\n",
       "      <td>-0.441855</td>\n",
       "      <td>-0.378998</td>\n",
       "      <td>-0.175866</td>\n",
       "      <td>0.203068</td>\n",
       "      <td>-0.027629</td>\n",
       "      <td>0.477828</td>\n",
       "      <td>-0.254180</td>\n",
       "      <td>-0.115484</td>\n",
       "      <td>0.236513</td>\n",
       "      <td>0.109752</td>\n",
       "    </tr>\n",
       "    <tr>\n",
       "      <th>1</th>\n",
       "      <td>TRAAABD128F429CF47</td>\n",
       "      <td>know know know know know time time time la la ...</td>\n",
       "      <td>The Box Tops</td>\n",
       "      <td>Soul Deep</td>\n",
       "      <td>0.087861</td>\n",
       "      <td>-0.038411</td>\n",
       "      <td>-0.197510</td>\n",
       "      <td>-0.030250</td>\n",
       "      <td>-0.019774</td>\n",
       "      <td>-0.743675</td>\n",
       "      <td>...</td>\n",
       "      <td>-0.274182</td>\n",
       "      <td>0.128060</td>\n",
       "      <td>0.208673</td>\n",
       "      <td>0.077781</td>\n",
       "      <td>0.185496</td>\n",
       "      <td>0.068143</td>\n",
       "      <td>-0.626044</td>\n",
       "      <td>-0.538793</td>\n",
       "      <td>-0.053541</td>\n",
       "      <td>-0.068593</td>\n",
       "    </tr>\n",
       "    <tr>\n",
       "      <th>2</th>\n",
       "      <td>TRAAAED128E0783FAB</td>\n",
       "      <td>love love love love love love love love love l...</td>\n",
       "      <td>Jamie Cullum</td>\n",
       "      <td>It's About Time</td>\n",
       "      <td>0.212101</td>\n",
       "      <td>0.353612</td>\n",
       "      <td>-0.462079</td>\n",
       "      <td>-0.311941</td>\n",
       "      <td>0.261468</td>\n",
       "      <td>-0.583442</td>\n",
       "      <td>...</td>\n",
       "      <td>-0.165262</td>\n",
       "      <td>-0.897217</td>\n",
       "      <td>-0.154583</td>\n",
       "      <td>0.144875</td>\n",
       "      <td>-0.070821</td>\n",
       "      <td>-0.462086</td>\n",
       "      <td>-0.377535</td>\n",
       "      <td>-0.233483</td>\n",
       "      <td>0.211760</td>\n",
       "      <td>-0.161529</td>\n",
       "    </tr>\n",
       "    <tr>\n",
       "      <th>3</th>\n",
       "      <td>TRAAAEF128F4273421</td>\n",
       "      <td>know got got got feel let would would would ey...</td>\n",
       "      <td>Adam Ant</td>\n",
       "      <td>Something Girls</td>\n",
       "      <td>0.006594</td>\n",
       "      <td>0.402120</td>\n",
       "      <td>-0.435748</td>\n",
       "      <td>-0.142244</td>\n",
       "      <td>0.086601</td>\n",
       "      <td>-0.458696</td>\n",
       "      <td>...</td>\n",
       "      <td>-0.006869</td>\n",
       "      <td>-0.286528</td>\n",
       "      <td>-0.198836</td>\n",
       "      <td>0.117229</td>\n",
       "      <td>-0.070014</td>\n",
       "      <td>-0.559188</td>\n",
       "      <td>-0.138114</td>\n",
       "      <td>-0.108960</td>\n",
       "      <td>-0.379482</td>\n",
       "      <td>0.152984</td>\n",
       "    </tr>\n",
       "    <tr>\n",
       "      <th>4</th>\n",
       "      <td>TRAAAEW128F42930C0</td>\n",
       "      <td>like take would wo someth stay burn burn burn ...</td>\n",
       "      <td>Broken Spindles</td>\n",
       "      <td>Burn My Body (Album Version)</td>\n",
       "      <td>0.256399</td>\n",
       "      <td>0.174773</td>\n",
       "      <td>-0.139055</td>\n",
       "      <td>0.095113</td>\n",
       "      <td>-0.103092</td>\n",
       "      <td>-0.408004</td>\n",
       "      <td>...</td>\n",
       "      <td>-0.366267</td>\n",
       "      <td>-0.334991</td>\n",
       "      <td>-0.356486</td>\n",
       "      <td>0.077660</td>\n",
       "      <td>0.222815</td>\n",
       "      <td>0.359386</td>\n",
       "      <td>-0.492463</td>\n",
       "      <td>0.079446</td>\n",
       "      <td>0.100171</td>\n",
       "      <td>-0.393555</td>\n",
       "    </tr>\n",
       "  </tbody>\n",
       "</table>\n",
       "<p>5 rows × 54 columns</p>\n",
       "</div>"
      ],
      "text/plain": [
       "                MSDID                                       cleaned_text  \\\n",
       "0  TRAAAAV128F421A322  like like de got would seem someon understand ...   \n",
       "1  TRAAABD128F429CF47  know know know know know time time time la la ...   \n",
       "2  TRAAAED128E0783FAB  love love love love love love love love love l...   \n",
       "3  TRAAAEF128F4273421  know got got got feel let would would would ey...   \n",
       "4  TRAAAEW128F42930C0  like take would wo someth stay burn burn burn ...   \n",
       "\n",
       "              artist                             title         0         1  \\\n",
       "0  Western Addiction  A Poor Recipe For Civic Cohesion  0.401697  0.526880   \n",
       "1       The Box Tops                         Soul Deep  0.087861 -0.038411   \n",
       "2       Jamie Cullum                   It's About Time  0.212101  0.353612   \n",
       "3           Adam Ant                   Something Girls  0.006594  0.402120   \n",
       "4    Broken Spindles      Burn My Body (Album Version)  0.256399  0.174773   \n",
       "\n",
       "          2         3         4         5  ...        40        41        42  \\\n",
       "0  0.000193 -0.207701  0.087055 -0.078098  ... -0.441855 -0.378998 -0.175866   \n",
       "1 -0.197510 -0.030250 -0.019774 -0.743675  ... -0.274182  0.128060  0.208673   \n",
       "2 -0.462079 -0.311941  0.261468 -0.583442  ... -0.165262 -0.897217 -0.154583   \n",
       "3 -0.435748 -0.142244  0.086601 -0.458696  ... -0.006869 -0.286528 -0.198836   \n",
       "4 -0.139055  0.095113 -0.103092 -0.408004  ... -0.366267 -0.334991 -0.356486   \n",
       "\n",
       "         43        44        45        46        47        48        49  \n",
       "0  0.203068 -0.027629  0.477828 -0.254180 -0.115484  0.236513  0.109752  \n",
       "1  0.077781  0.185496  0.068143 -0.626044 -0.538793 -0.053541 -0.068593  \n",
       "2  0.144875 -0.070821 -0.462086 -0.377535 -0.233483  0.211760 -0.161529  \n",
       "3  0.117229 -0.070014 -0.559188 -0.138114 -0.108960 -0.379482  0.152984  \n",
       "4  0.077660  0.222815  0.359386 -0.492463  0.079446  0.100171 -0.393555  \n",
       "\n",
       "[5 rows x 54 columns]"
      ]
     },
     "execution_count": 90,
     "metadata": {},
     "output_type": "execute_result"
    }
   ],
   "source": [
    "fe_df.head()"
   ]
  },
  {
   "cell_type": "markdown",
   "metadata": {},
   "source": [
    "## Visualization with t-SNE"
   ]
  },
  {
   "cell_type": "code",
   "execution_count": 91,
   "metadata": {},
   "outputs": [],
   "source": [
    "from sklearn.preprocessing import StandardScaler\n",
    "from sklearn.manifold import TSNE\n",
    "from sklearn.pipeline import Pipeline"
   ]
  },
  {
   "cell_type": "code",
   "execution_count": 92,
   "metadata": {},
   "outputs": [],
   "source": [
    "n = 3\n",
    "\n",
    "pipeline = Pipeline([('scaling', StandardScaler()), ('tsne', TSNE(n_components=n, perplexity=30, random_state=42))])\n",
    "song_embedding = pipeline.fit_transform(emb_df)\n",
    "# tsne = TSNE(n_components=n, perplexity=30, random_state=42)\n",
    "# song_embedding = tsne.fit_transform(song_df)\n",
    "tsne_df = pd.DataFrame(data = song_embedding, columns = list(range(n)))\n",
    "tsne_df['title'] = full_df['title']\n",
    "tsne_df['artist'] = full_df['artist']"
   ]
  },
  {
   "cell_type": "code",
   "execution_count": 93,
   "metadata": {},
   "outputs": [],
   "source": [
    "tsne_df.to_csv('tsne_3_componets.csv', index=False)"
   ]
  },
  {
   "cell_type": "code",
   "execution_count": 94,
   "metadata": {},
   "outputs": [],
   "source": [
    "# song_df = ?"
   ]
  },
  {
   "cell_type": "code",
   "execution_count": 244,
   "metadata": {},
   "outputs": [
    {
     "data": {
      "text/plain": [
       "['Blink-182',\n",
       " 'Tame Impala',\n",
       " 'Snoop Dogg',\n",
       " 'The Strokes',\n",
       " 'Eminem',\n",
       " 'Red Hot Chili Peppers',\n",
       " 'The Who',\n",
       " 'Linkin Park',\n",
       " 'Avenged Sevenfold',\n",
       " 'Eric Clapton']"
      ]
     },
     "execution_count": 244,
     "metadata": {},
     "output_type": "execute_result"
    }
   ],
   "source": [
    "my_artists = ['Blink-182',\n",
    "              'Tame Impala','Snoop Dogg','The Strokes',\n",
    "              'Eminem',\n",
    "              'Red Hot Chili Peppers','The Who',\n",
    "              'Linkin Park',\n",
    "              'Avenged Sevenfold','Eric Clapton']\n",
    "# my_artists = tsne_df['artist'].sample(100)\n",
    "# my_artists = ['Avenged Sevenfold', 'Eminem','The Strokes']\n",
    "# my_artists = ['Avenged Sevenfold', 'Bob Dylan', 'Hank Williams','Dolly Parton']\n",
    "my_artists"
   ]
  },
  {
   "cell_type": "code",
   "execution_count": 245,
   "metadata": {},
   "outputs": [
    {
     "data": {
      "text/plain": [
       "Carly Simon              136\n",
       "Bruce Springsteen        131\n",
       "Frank Sinatra            117\n",
       "Johnny Cash              115\n",
       "The Cure                 113\n",
       "Neil Diamond             112\n",
       "Joan Baez                111\n",
       "Less Than Jake           111\n",
       "The Hollies              110\n",
       "Elvis Presley            110\n",
       "Bob Dylan                110\n",
       "James Taylor             109\n",
       "Willie Nelson            108\n",
       "Aerosmith                107\n",
       "Beastie Boys             106\n",
       "Céline Dion              104\n",
       "Randy Travis             103\n",
       "Neil Young               103\n",
       "Dolly Parton             102\n",
       "MxPx                     101\n",
       "The Smashing Pumpkins    101\n",
       "David Bowie              101\n",
       "Billie Holiday           100\n",
       "Cat Stevens               99\n",
       "NOFX                      98\n",
       "Lou Reed                  98\n",
       "Bryan Ferry               98\n",
       "Cradle Of Filth           98\n",
       "ZZ Top                    97\n",
       "Intocable                 97\n",
       "Name: artist, dtype: int64"
      ]
     },
     "execution_count": 245,
     "metadata": {},
     "output_type": "execute_result"
    }
   ],
   "source": [
    "tsne_df.artist.value_counts()[:30]"
   ]
  },
  {
   "cell_type": "code",
   "execution_count": 246,
   "metadata": {},
   "outputs": [],
   "source": [
    "plot_df = fe_df[fe_df['artist'].isin(my_artists)].reset_index(drop=True)"
   ]
  },
  {
   "cell_type": "code",
   "execution_count": 247,
   "metadata": {},
   "outputs": [],
   "source": [
    "emb_df_ = emb_df[fe_df['artist'].isin(my_artists)]"
   ]
  },
  {
   "cell_type": "code",
   "execution_count": 248,
   "metadata": {},
   "outputs": [
    {
     "name": "stdout",
     "output_type": "stream",
     "text": [
      "(210519, 5)\n"
     ]
    },
    {
     "data": {
      "text/html": [
       "<div>\n",
       "<style scoped>\n",
       "    .dataframe tbody tr th:only-of-type {\n",
       "        vertical-align: middle;\n",
       "    }\n",
       "\n",
       "    .dataframe tbody tr th {\n",
       "        vertical-align: top;\n",
       "    }\n",
       "\n",
       "    .dataframe thead th {\n",
       "        text-align: right;\n",
       "    }\n",
       "</style>\n",
       "<table border=\"1\" class=\"dataframe\">\n",
       "  <thead>\n",
       "    <tr style=\"text-align: right;\">\n",
       "      <th></th>\n",
       "      <th>0</th>\n",
       "      <th>1</th>\n",
       "      <th>2</th>\n",
       "      <th>title</th>\n",
       "      <th>artist</th>\n",
       "    </tr>\n",
       "  </thead>\n",
       "  <tbody>\n",
       "    <tr>\n",
       "      <th>0</th>\n",
       "      <td>15.544641</td>\n",
       "      <td>-7.086922</td>\n",
       "      <td>0.319564</td>\n",
       "      <td>A Poor Recipe For Civic Cohesion</td>\n",
       "      <td>Western Addiction</td>\n",
       "    </tr>\n",
       "    <tr>\n",
       "      <th>1</th>\n",
       "      <td>-5.121363</td>\n",
       "      <td>-9.543425</td>\n",
       "      <td>-9.229302</td>\n",
       "      <td>Soul Deep</td>\n",
       "      <td>The Box Tops</td>\n",
       "    </tr>\n",
       "    <tr>\n",
       "      <th>2</th>\n",
       "      <td>-4.169483</td>\n",
       "      <td>-12.589064</td>\n",
       "      <td>-2.418897</td>\n",
       "      <td>It's About Time</td>\n",
       "      <td>Jamie Cullum</td>\n",
       "    </tr>\n",
       "    <tr>\n",
       "      <th>3</th>\n",
       "      <td>1.856107</td>\n",
       "      <td>7.004950</td>\n",
       "      <td>-2.476534</td>\n",
       "      <td>Something Girls</td>\n",
       "      <td>Adam Ant</td>\n",
       "    </tr>\n",
       "    <tr>\n",
       "      <th>4</th>\n",
       "      <td>6.806807</td>\n",
       "      <td>-1.747844</td>\n",
       "      <td>6.527610</td>\n",
       "      <td>Burn My Body (Album Version)</td>\n",
       "      <td>Broken Spindles</td>\n",
       "    </tr>\n",
       "  </tbody>\n",
       "</table>\n",
       "</div>"
      ],
      "text/plain": [
       "           0          1         2                             title  \\\n",
       "0  15.544641  -7.086922  0.319564  A Poor Recipe For Civic Cohesion   \n",
       "1  -5.121363  -9.543425 -9.229302                         Soul Deep   \n",
       "2  -4.169483 -12.589064 -2.418897                   It's About Time   \n",
       "3   1.856107   7.004950 -2.476534                   Something Girls   \n",
       "4   6.806807  -1.747844  6.527610      Burn My Body (Album Version)   \n",
       "\n",
       "              artist  \n",
       "0  Western Addiction  \n",
       "1       The Box Tops  \n",
       "2       Jamie Cullum  \n",
       "3           Adam Ant  \n",
       "4    Broken Spindles  "
      ]
     },
     "execution_count": 248,
     "metadata": {},
     "output_type": "execute_result"
    }
   ],
   "source": [
    "print(tsne_df.shape)\n",
    "tsne_df.head()"
   ]
  },
  {
   "cell_type": "code",
   "execution_count": 249,
   "metadata": {},
   "outputs": [],
   "source": [
    "# tsne_df = tsne_df.groupby('artist').mean().reset_index()"
   ]
  },
  {
   "cell_type": "code",
   "execution_count": 250,
   "metadata": {},
   "outputs": [
    {
     "name": "stdout",
     "output_type": "stream",
     "text": [
      "(525, 5)\n"
     ]
    },
    {
     "data": {
      "text/html": [
       "<div>\n",
       "<style scoped>\n",
       "    .dataframe tbody tr th:only-of-type {\n",
       "        vertical-align: middle;\n",
       "    }\n",
       "\n",
       "    .dataframe tbody tr th {\n",
       "        vertical-align: top;\n",
       "    }\n",
       "\n",
       "    .dataframe thead th {\n",
       "        text-align: right;\n",
       "    }\n",
       "</style>\n",
       "<table border=\"1\" class=\"dataframe\">\n",
       "  <thead>\n",
       "    <tr style=\"text-align: right;\">\n",
       "      <th></th>\n",
       "      <th>t-SNE dimension 0</th>\n",
       "      <th>t-SNE dimension 1</th>\n",
       "      <th>t-SNE dimension 2</th>\n",
       "      <th>title</th>\n",
       "      <th>artist</th>\n",
       "    </tr>\n",
       "  </thead>\n",
       "  <tbody>\n",
       "    <tr>\n",
       "      <th>0</th>\n",
       "      <td>6.755438</td>\n",
       "      <td>12.022617</td>\n",
       "      <td>-4.888264</td>\n",
       "      <td>The One And Only (Edited)</td>\n",
       "      <td>Snoop Dogg</td>\n",
       "    </tr>\n",
       "    <tr>\n",
       "      <th>1</th>\n",
       "      <td>2.356681</td>\n",
       "      <td>-11.784923</td>\n",
       "      <td>-2.789675</td>\n",
       "      <td>Not Now</td>\n",
       "      <td>Blink-182</td>\n",
       "    </tr>\n",
       "    <tr>\n",
       "      <th>2</th>\n",
       "      <td>3.059399</td>\n",
       "      <td>-1.241729</td>\n",
       "      <td>6.286456</td>\n",
       "      <td>A New Hope</td>\n",
       "      <td>Blink-182</td>\n",
       "    </tr>\n",
       "    <tr>\n",
       "      <th>3</th>\n",
       "      <td>6.596621</td>\n",
       "      <td>14.061868</td>\n",
       "      <td>-5.131838</td>\n",
       "      <td>Get On Top (Album Version)</td>\n",
       "      <td>Red Hot Chili Peppers</td>\n",
       "    </tr>\n",
       "    <tr>\n",
       "      <th>4</th>\n",
       "      <td>7.413083</td>\n",
       "      <td>4.659088</td>\n",
       "      <td>9.663710</td>\n",
       "      <td>Naked In The Rain (Album Version)</td>\n",
       "      <td>Red Hot Chili Peppers</td>\n",
       "    </tr>\n",
       "  </tbody>\n",
       "</table>\n",
       "</div>"
      ],
      "text/plain": [
       "   t-SNE dimension 0  t-SNE dimension 1  t-SNE dimension 2  \\\n",
       "0           6.755438          12.022617          -4.888264   \n",
       "1           2.356681         -11.784923          -2.789675   \n",
       "2           3.059399          -1.241729           6.286456   \n",
       "3           6.596621          14.061868          -5.131838   \n",
       "4           7.413083           4.659088           9.663710   \n",
       "\n",
       "                               title                 artist  \n",
       "0          The One And Only (Edited)             Snoop Dogg  \n",
       "1                            Not Now              Blink-182  \n",
       "2                         A New Hope              Blink-182  \n",
       "3         Get On Top (Album Version)  Red Hot Chili Peppers  \n",
       "4  Naked In The Rain (Album Version)  Red Hot Chili Peppers  "
      ]
     },
     "execution_count": 250,
     "metadata": {},
     "output_type": "execute_result"
    }
   ],
   "source": [
    "tsne_df_ = tsne_df[fe_df['artist'].isin(my_artists)].reset_index(drop=True)\n",
    "tsne_df_['title'] = plot_df['title']\n",
    "tsne_df_['artist'] = plot_df['artist']\n",
    "tsne_df_.columns = ['t-SNE dimension 0','t-SNE dimension 1','t-SNE dimension 2','title','artist']\n",
    "print(tsne_df_.shape)\n",
    "tsne_df_.head()"
   ]
  },
  {
   "cell_type": "code",
   "execution_count": 251,
   "metadata": {},
   "outputs": [
    {
     "data": {
      "text/html": [
       "<div>\n",
       "<style scoped>\n",
       "    .dataframe tbody tr th:only-of-type {\n",
       "        vertical-align: middle;\n",
       "    }\n",
       "\n",
       "    .dataframe tbody tr th {\n",
       "        vertical-align: top;\n",
       "    }\n",
       "\n",
       "    .dataframe thead th {\n",
       "        text-align: right;\n",
       "    }\n",
       "</style>\n",
       "<table border=\"1\" class=\"dataframe\">\n",
       "  <thead>\n",
       "    <tr style=\"text-align: right;\">\n",
       "      <th></th>\n",
       "      <th>t-SNE dimension 0</th>\n",
       "      <th>t-SNE dimension 1</th>\n",
       "      <th>t-SNE dimension 2</th>\n",
       "      <th>title</th>\n",
       "      <th>artist</th>\n",
       "    </tr>\n",
       "  </thead>\n",
       "  <tbody>\n",
       "    <tr>\n",
       "      <th>0</th>\n",
       "      <td>6.755438</td>\n",
       "      <td>12.022617</td>\n",
       "      <td>-4.888264</td>\n",
       "      <td>The One And Only (Edited)</td>\n",
       "      <td>Snoop Dogg</td>\n",
       "    </tr>\n",
       "    <tr>\n",
       "      <th>1</th>\n",
       "      <td>2.356681</td>\n",
       "      <td>-11.784923</td>\n",
       "      <td>-2.789675</td>\n",
       "      <td>Not Now</td>\n",
       "      <td>Blink-182</td>\n",
       "    </tr>\n",
       "    <tr>\n",
       "      <th>2</th>\n",
       "      <td>3.059399</td>\n",
       "      <td>-1.241729</td>\n",
       "      <td>6.286456</td>\n",
       "      <td>A New Hope</td>\n",
       "      <td>Blink-182</td>\n",
       "    </tr>\n",
       "    <tr>\n",
       "      <th>3</th>\n",
       "      <td>6.596621</td>\n",
       "      <td>14.061868</td>\n",
       "      <td>-5.131838</td>\n",
       "      <td>Get On Top (Album Version)</td>\n",
       "      <td>Red Hot Chili Peppers</td>\n",
       "    </tr>\n",
       "    <tr>\n",
       "      <th>4</th>\n",
       "      <td>7.413083</td>\n",
       "      <td>4.659088</td>\n",
       "      <td>9.663710</td>\n",
       "      <td>Naked In The Rain (Album Version)</td>\n",
       "      <td>Red Hot Chili Peppers</td>\n",
       "    </tr>\n",
       "    <tr>\n",
       "      <th>...</th>\n",
       "      <td>...</td>\n",
       "      <td>...</td>\n",
       "      <td>...</td>\n",
       "      <td>...</td>\n",
       "      <td>...</td>\n",
       "    </tr>\n",
       "    <tr>\n",
       "      <th>520</th>\n",
       "      <td>1.453490</td>\n",
       "      <td>-8.320243</td>\n",
       "      <td>-0.390243</td>\n",
       "      <td>Unbound [The Wild Ride] (Album Version)</td>\n",
       "      <td>Avenged Sevenfold</td>\n",
       "    </tr>\n",
       "    <tr>\n",
       "      <th>521</th>\n",
       "      <td>-3.411914</td>\n",
       "      <td>-15.171261</td>\n",
       "      <td>10.287209</td>\n",
       "      <td>Shadow Of The Day (Album Version)</td>\n",
       "      <td>Linkin Park</td>\n",
       "    </tr>\n",
       "    <tr>\n",
       "      <th>522</th>\n",
       "      <td>8.634074</td>\n",
       "      <td>-1.029791</td>\n",
       "      <td>-2.887656</td>\n",
       "      <td>Thick And Thin</td>\n",
       "      <td>Avenged Sevenfold</td>\n",
       "    </tr>\n",
       "    <tr>\n",
       "      <th>523</th>\n",
       "      <td>4.788575</td>\n",
       "      <td>10.448133</td>\n",
       "      <td>-4.437519</td>\n",
       "      <td>No Apologies</td>\n",
       "      <td>Eminem</td>\n",
       "    </tr>\n",
       "    <tr>\n",
       "      <th>524</th>\n",
       "      <td>2.936702</td>\n",
       "      <td>-3.857265</td>\n",
       "      <td>-4.544518</td>\n",
       "      <td>Slow Cheetah (Album Version)</td>\n",
       "      <td>Red Hot Chili Peppers</td>\n",
       "    </tr>\n",
       "  </tbody>\n",
       "</table>\n",
       "<p>525 rows × 5 columns</p>\n",
       "</div>"
      ],
      "text/plain": [
       "     t-SNE dimension 0  t-SNE dimension 1  t-SNE dimension 2  \\\n",
       "0             6.755438          12.022617          -4.888264   \n",
       "1             2.356681         -11.784923          -2.789675   \n",
       "2             3.059399          -1.241729           6.286456   \n",
       "3             6.596621          14.061868          -5.131838   \n",
       "4             7.413083           4.659088           9.663710   \n",
       "..                 ...                ...                ...   \n",
       "520           1.453490          -8.320243          -0.390243   \n",
       "521          -3.411914         -15.171261          10.287209   \n",
       "522           8.634074          -1.029791          -2.887656   \n",
       "523           4.788575          10.448133          -4.437519   \n",
       "524           2.936702          -3.857265          -4.544518   \n",
       "\n",
       "                                       title                 artist  \n",
       "0                  The One And Only (Edited)             Snoop Dogg  \n",
       "1                                    Not Now              Blink-182  \n",
       "2                                 A New Hope              Blink-182  \n",
       "3                 Get On Top (Album Version)  Red Hot Chili Peppers  \n",
       "4          Naked In The Rain (Album Version)  Red Hot Chili Peppers  \n",
       "..                                       ...                    ...  \n",
       "520  Unbound [The Wild Ride] (Album Version)      Avenged Sevenfold  \n",
       "521        Shadow Of The Day (Album Version)            Linkin Park  \n",
       "522                           Thick And Thin      Avenged Sevenfold  \n",
       "523                             No Apologies                 Eminem  \n",
       "524             Slow Cheetah (Album Version)  Red Hot Chili Peppers  \n",
       "\n",
       "[525 rows x 5 columns]"
      ]
     },
     "execution_count": 251,
     "metadata": {},
     "output_type": "execute_result"
    }
   ],
   "source": [
    "tsne_df_"
   ]
  },
  {
   "cell_type": "code",
   "execution_count": null,
   "metadata": {},
   "outputs": [],
   "source": []
  },
  {
   "cell_type": "code",
   "execution_count": 252,
   "metadata": {},
   "outputs": [
    {
     "data": {
      "application/vnd.plotly.v1+json": {
       "config": {
        "plotlyServerURL": "https://plot.ly"
       },
       "data": [
        {
         "customdata": [
          [
           "Snoop Dogg",
           "The One And Only (Edited)"
          ],
          [
           "Snoop Dogg",
           "Sexual Eruption"
          ],
          [
           "Snoop Dogg",
           "Show Me Love (Explicit)"
          ],
          [
           "Snoop Dogg",
           "Beat Up On Yo Pads"
          ],
          [
           "Snoop Dogg",
           "Gin And Juice II (Explicit)"
          ],
          [
           "Snoop Dogg",
           "2 Of Amereicaz Most Wanted"
          ],
          [
           "Snoop Dogg",
           "Snoop D.O. Double G"
          ],
          [
           "Snoop Dogg",
           "Look Out"
          ],
          [
           "Snoop Dogg",
           "Bang Out"
          ],
          [
           "Snoop Dogg",
           "Betta Days (Explicit)"
          ],
          [
           "Snoop Dogg",
           "Pimp Slapp'd (Edited)"
          ],
          [
           "Snoop Dogg",
           "Dolomite Intro (Explicit)"
          ],
          [
           "Snoop Dogg",
           "A Message 2 Fat Cuzz (Edited)"
          ],
          [
           "Snoop Dogg",
           "Why Did You Leave Me"
          ],
          [
           "Snoop Dogg",
           "Snoopafella (Edited)"
          ],
          [
           "Snoop Dogg",
           "10 Lil' Crips"
          ],
          [
           "Snoop Dogg",
           "Straight Ballin'"
          ],
          [
           "Snoop Dogg",
           "Hustle And Ball (Explicit)"
          ],
          [
           "Snoop Dogg",
           "Dogghouse"
          ],
          [
           "Snoop Dogg",
           "Fresh Pair of Panties On"
          ],
          [
           "Snoop Dogg",
           "Those Gurlz"
          ],
          [
           "Snoop Dogg",
           "Upside Down (Explicit)"
          ],
          [
           "Snoop Dogg",
           "Sets Up"
          ],
          [
           "Snoop Dogg",
           "Snoop Dogg Intro"
          ]
         ],
         "hovertemplate": "artist=%{customdata[0]}<br>t-SNE dimension 0=%{x}<br>t-SNE dimension 1=%{y}<br>title=%{customdata[1]}<extra></extra>",
         "legendgroup": "Snoop Dogg",
         "marker": {
          "color": "#1F77B4",
          "opacity": 0.8,
          "size": 15,
          "symbol": "circle"
         },
         "mode": "markers",
         "name": "Snoop Dogg",
         "showlegend": true,
         "type": "scatter",
         "x": [
          6.755438327789307,
          4.453805446624756,
          3.940727949142456,
          6.084778785705566,
          5.540463447570801,
          7.082093238830566,
          5.054286479949951,
          6.808389186859131,
          10.754349708557129,
          10.486239433288574,
          10.674015998840332,
          2.2179152965545654,
          8.906776428222656,
          9.164970397949219,
          9.05984878540039,
          12.261672019958496,
          9.117244720458984,
          12.210005760192871,
          10.806488037109375,
          3.802687168121338,
          3.8919951915740967,
          9.53791618347168,
          6.069442272186279,
          6.362498760223389
         ],
         "xaxis": "x",
         "y": [
          12.02261734008789,
          12.611482620239258,
          11.389323234558105,
          12.465433120727539,
          13.809954643249512,
          13.365623474121094,
          11.724719047546387,
          14.0655517578125,
          13.614028930664062,
          12.236190795898438,
          13.181790351867676,
          8.54517936706543,
          2.001079797744751,
          14.051029205322266,
          9.455069541931152,
          11.23013687133789,
          13.12591552734375,
          11.532280921936035,
          11.27861213684082,
          11.629487991333008,
          11.588382720947266,
          12.810932159423828,
          13.565901756286621,
          8.898372650146484
         ],
         "yaxis": "y"
        },
        {
         "customdata": [
          [
           "Blink-182",
           "Not Now"
          ],
          [
           "Blink-182",
           "A New Hope"
          ],
          [
           "Blink-182",
           "Man Overboard"
          ],
          [
           "Blink-182",
           "Asthenia"
          ],
          [
           "Blink-182",
           "All Of This"
          ],
          [
           "Blink-182",
           "Carousel"
          ],
          [
           "Blink-182",
           "Shut Up"
          ],
          [
           "Blink-182",
           "Stay Together For The Kids"
          ],
          [
           "Blink-182",
           "Every Time I Look For You"
          ],
          [
           "Blink-182",
           "Does My Breath Smell?"
          ],
          [
           "Blink-182",
           "Roller Coaster"
          ],
          [
           "Blink-182",
           "21 Days"
          ],
          [
           "Blink-182",
           "GO"
          ],
          [
           "Blink-182",
           "Dumpweed"
          ],
          [
           "Blink-182",
           "Toast and Bananas"
          ],
          [
           "Blink-182",
           "Always"
          ],
          [
           "Blink-182",
           "Reebok Commercial"
          ],
          [
           "Blink-182",
           "I Won't Be Home For Christmas"
          ],
          [
           "Blink-182",
           "Rich Lips"
          ],
          [
           "Blink-182",
           "First Date"
          ],
          [
           "Blink-182",
           "Depends"
          ],
          [
           "Blink-182",
           "Anthem Part Two"
          ],
          [
           "Blink-182",
           "Dysentery Gary"
          ],
          [
           "Blink-182",
           "Wendy Clear"
          ],
          [
           "Blink-182",
           "Reckless Abandon"
          ],
          [
           "Blink-182",
           "Mutt"
          ],
          [
           "Blink-182",
           "Touchdown Boy"
          ],
          [
           "Blink-182",
           "Adam's Song"
          ],
          [
           "Blink-182",
           "The Rock Show"
          ],
          [
           "Blink-182",
           "Give Me One Good Reason"
          ],
          [
           "Blink-182",
           "Skit 13 (Blink 182 / 008811237929)"
          ],
          [
           "Blink-182",
           "My Pet Sally"
          ],
          [
           "Blink-182",
           "I'm Sorry"
          ],
          [
           "Blink-182",
           "Story Of A Lonely Guy"
          ],
          [
           "Blink-182",
           "Aliens Exist"
          ],
          [
           "Blink-182",
           "Another Girl Another Planet"
          ],
          [
           "Blink-182",
           "M+M's"
          ],
          [
           "Blink-182",
           "Ben Wah Balls"
          ],
          [
           "Blink-182",
           "Happy Holidays_ You Bastard"
          ],
          [
           "Blink-182",
           "Degenerate"
          ],
          [
           "Blink-182",
           "The Girl Next Door"
          ],
          [
           "Blink-182",
           "Strings"
          ],
          [
           "Blink-182",
           "Pathetic"
          ],
          [
           "Blink-182",
           "Point of View"
          ],
          [
           "Blink-182",
           "Please Take Me Home"
          ],
          [
           "Blink-182",
           "What's My Age Again?"
          ],
          [
           "Blink-182",
           "All The Small Things"
          ],
          [
           "Blink-182",
           "Untitled"
          ],
          [
           "Blink-182",
           "Violence"
          ],
          [
           "Blink-182",
           "Boring"
          ],
          [
           "Blink-182",
           "Time"
          ],
          [
           "Blink-182",
           "Romeo and Rebecca"
          ],
          [
           "Blink-182",
           "Skit 4 (Blink 182 / 008811237929)"
          ],
          [
           "Blink-182",
           "Toast & Bananas"
          ],
          [
           "Blink-182",
           "Don't Leave Me"
          ],
          [
           "Blink-182",
           "Blew Job"
          ],
          [
           "Blink-182",
           "Feeling This"
          ],
          [
           "Blink-182",
           "TV"
          ],
          [
           "Blink-182",
           "Emo"
          ],
          [
           "Blink-182",
           "Apple Shampoo"
          ],
          [
           "Blink-182",
           "Romeo & Rebecca"
          ],
          [
           "Blink-182",
           "The Party Song"
          ],
          [
           "Blink-182",
           "Peggy Sue"
          ],
          [
           "Blink-182",
           "The Fallen Interlude"
          ],
          [
           "Blink-182",
           "Enthused"
          ],
          [
           "Blink-182",
           "Online Songs"
          ],
          [
           "Blink-182",
           "Voyeur"
          ],
          [
           "Blink-182",
           "I Miss You"
          ],
          [
           "Blink-182",
           "Going Away To College"
          ],
          [
           "Blink-182",
           "Fentoozler"
          ],
          [
           "Blink-182",
           "I'm Lost Without You"
          ],
          [
           "Blink-182",
           "Lemmings"
          ],
          [
           "Blink-182",
           "Skit 12 (Blink 182 / 008811237929)"
          ],
          [
           "Blink-182",
           "Stockholm Syndrome"
          ]
         ],
         "hovertemplate": "artist=%{customdata[0]}<br>t-SNE dimension 0=%{x}<br>t-SNE dimension 1=%{y}<br>title=%{customdata[1]}<extra></extra>",
         "legendgroup": "Blink-182",
         "marker": {
          "color": "#FF7F0E",
          "opacity": 0.8,
          "size": 15,
          "symbol": "circle"
         },
         "mode": "markers",
         "name": "Blink-182",
         "showlegend": true,
         "type": "scatter",
         "x": [
          2.3566806316375732,
          3.059398651123047,
          -0.30200111865997314,
          1.1372278928756714,
          -13.233210563659668,
          2.6938135623931885,
          6.969316482543945,
          -3.565216064453125,
          -4.3484578132629395,
          4.013646125793457,
          -5.109289169311523,
          -0.8019116520881653,
          6.662245750427246,
          -1.4231576919555664,
          -3.846250057220459,
          -2.6405222415924072,
          2.4519765377044678,
          4.134634971618652,
          6.433021545410156,
          -2.4352169036865234,
          4.293147087097168,
          10.493805885314941,
          5.677994251251221,
          4.38225793838501,
          7.783583641052246,
          4.7574591636657715,
          0.4907520115375519,
          0.9051226377487183,
          3.1483473777770996,
          5.429284572601318,
          0.9603747725486755,
          -4.587449073791504,
          -6.4981818199157715,
          -1.0897197723388672,
          4.452060222625732,
          13.886101722717285,
          -2.7733519077301025,
          1.4001896381378174,
          4.638012886047363,
          8.720237731933594,
          5.17531156539917,
          -2.6626899242401123,
          5.062623023986816,
          0.9708960056304932,
          -3.2777442932128906,
          5.526009559631348,
          -13.651350021362305,
          2.6845524311065674,
          0.9846048355102539,
          3.0175931453704834,
          9.622015953063965,
          -2.545830249786377,
          6.437599182128906,
          -3.863867998123169,
          -0.128468856215477,
          4.525346755981445,
          -5.27100133895874,
          5.254818439483643,
          -2.0775837898254395,
          0.8537702560424805,
          -2.5729117393493652,
          -3.640801429748535,
          4.745861053466797,
          -2.0894477367401123,
          3.145460367202759,
          -6.729828357696533,
          4.549828052520752,
          -4.329050540924072,
          2.1772632598876953,
          4.0586981773376465,
          -7.211516857147217,
          -4.409763336181641,
          -13.700679779052734,
          2.4081389904022217
         ],
         "xaxis": "x",
         "y": [
          -11.78492259979248,
          -1.2417293787002563,
          -3.546501874923706,
          -4.4080095291137695,
          1.7194944620132446,
          7.73802375793457,
          5.7558817863464355,
          -5.27542781829834,
          -6.36754846572876,
          0.41183188557624817,
          -1.8885869979858398,
          -5.944765567779541,
          2.4626734256744385,
          -0.10858072340488434,
          -1.2794642448425293,
          2.0661721229553223,
          2.572256326675415,
          6.796043872833252,
          4.629025936126709,
          2.2654924392700195,
          8.909446716308594,
          -1.9268556833267212,
          7.818443775177002,
          3.3902013301849365,
          4.479219436645508,
          0.16418896615505219,
          8.9191255569458,
          0.4313511252403259,
          5.710592269897461,
          2.8627607822418213,
          6.708183765411377,
          6.396519660949707,
          -6.285228252410889,
          -3.930428981781006,
          3.3136441707611084,
          -0.13669778406620026,
          -0.32003358006477356,
          6.1210856437683105,
          5.237949848175049,
          11.335197448730469,
          5.9665727615356445,
          1.5974323749542236,
          3.0503597259521484,
          -7.172080993652344,
          -3.94511079788208,
          2.705474853515625,
          6.495556354522705,
          2.820160150527954,
          -1.3375577926635742,
          -4.888912677764893,
          4.554693698883057,
          -1.3833905458450317,
          4.637691020965576,
          -1.3017733097076416,
          -0.01881919428706169,
          8.315130233764648,
          -3.979839563369751,
          3.4685795307159424,
          -1.5663241147994995,
          -3.4748144149780273,
          -1.328218698501587,
          3.520172357559204,
          0.7496342658996582,
          4.488559246063232,
          -0.42356666922569275,
          -9.37824535369873,
          8.302923202514648,
          -3.271491050720215,
          5.324845790863037,
          4.799044609069824,
          -8.23343276977539,
          -0.3833903670310974,
          6.268874168395996,
          -9.295848846435547
         ],
         "yaxis": "y"
        },
        {
         "customdata": [
          [
           "Red Hot Chili Peppers",
           "Get On Top (Album Version)"
          ],
          [
           "Red Hot Chili Peppers",
           "Naked In The Rain (Album Version)"
          ],
          [
           "Red Hot Chili Peppers",
           "Venice Queen (Album Version)"
          ],
          [
           "Red Hot Chili Peppers",
           "Snow [Hey Oh] [Live Version]"
          ],
          [
           "Red Hot Chili Peppers",
           "American Ghost Dance (2003 Digital Remastered)"
          ],
          [
           "Red Hot Chili Peppers",
           "Emit Remmus (Album Version)"
          ],
          [
           "Red Hot Chili Peppers",
           "The Greeting Song (Album Version)"
          ],
          [
           "Red Hot Chili Peppers",
           "Hard To Concentrate (Album Version)"
          ],
          [
           "Red Hot Chili Peppers",
           "I'll Be Your Domino (Non-Album Track)"
          ],
          [
           "Red Hot Chili Peppers",
           "Buckle Down (2002 Digital Remaster)"
          ],
          [
           "Red Hot Chili Peppers",
           "I Could Die For You (Album Version)"
          ],
          [
           "Red Hot Chili Peppers",
           "Love Trilogy (2003 Digital Remaster) ()"
          ],
          [
           "Red Hot Chili Peppers",
           "Knock Me Down (2003 Digital Remaster)"
          ],
          [
           "Red Hot Chili Peppers",
           "She's Only 18 (Album Version)"
          ],
          [
           "Red Hot Chili Peppers",
           "Behind The Sun (Instrumental Demo) (2002 Digital Remaster)"
          ],
          [
           "Red Hot Chili Peppers",
           "Wet Sand (Album Version)"
          ],
          [
           "Red Hot Chili Peppers",
           "Road Trippin' (Album Version)"
          ],
          [
           "Red Hot Chili Peppers",
           "Mercy Mercy (Non-Album Track)"
          ],
          [
           "Red Hot Chili Peppers",
           "Baby Appeal (2002 Digital Remastser) ()"
          ],
          [
           "Red Hot Chili Peppers",
           "Lovin' And Touchin' (2003 Digitally Remastered)"
          ],
          [
           "Red Hot Chili Peppers",
           "The Zephyr Song (Album Version)"
          ],
          [
           "Red Hot Chili Peppers",
           "Universally Speaking (Album Version)"
          ],
          [
           "Red Hot Chili Peppers",
           "Good Time Boys (2003 Digital Remaster)"
          ],
          [
           "Red Hot Chili Peppers",
           "Minor Thing (Album Version)"
          ],
          [
           "Red Hot Chili Peppers",
           "Hollywood (Africa) (2003 Digitally Remastered)"
          ],
          [
           "Red Hot Chili Peppers",
           "You Always Sing The Same (2002 Digital Remaster)"
          ],
          [
           "Red Hot Chili Peppers",
           "Turn It Again (Album Version)"
          ],
          [
           "Red Hot Chili Peppers",
           "Funky Monks (Album Version)"
          ],
          [
           "Red Hot Chili Peppers",
           "Lately (Non-Album Track)"
          ],
          [
           "Red Hot Chili Peppers",
           "Apache Rose Peacock (Album Version)"
          ],
          [
           "Red Hot Chili Peppers",
           "She Looks To Me (Album Version)"
          ],
          [
           "Red Hot Chili Peppers",
           "Hollywood (Africa)"
          ],
          [
           "Red Hot Chili Peppers",
           "Higher Ground (Album Version)"
          ],
          [
           "Red Hot Chili Peppers",
           "Warm Tape (Album Version)"
          ],
          [
           "Red Hot Chili Peppers",
           "Blues For Meister"
          ],
          [
           "Red Hot Chili Peppers",
           "Castles Made Of Sand (Studio) (Bonus Track)"
          ],
          [
           "Red Hot Chili Peppers",
           "Stadium Arcadium (Album Version)"
          ],
          [
           "Red Hot Chili Peppers",
           "Around The World (Album Version)"
          ],
          [
           "Red Hot Chili Peppers",
           "Millionaires Against Hunger (2002 Digital Remastser) (Explicit)"
          ],
          [
           "Red Hot Chili Peppers",
           "Throw Away Your Television (Album Version)"
          ],
          [
           "Red Hot Chili Peppers",
           "Especially In Michigan (Album Version)"
          ],
          [
           "Red Hot Chili Peppers",
           "Police Helicopter (Demo Version) (2003 Digital Remaster)"
          ],
          [
           "Red Hot Chili Peppers",
           "Mellowship Slinky In B Major (Album Version)"
          ],
          [
           "Red Hot Chili Peppers",
           "Yertle The Turtle (2003 Digitally Remastered)"
          ],
          [
           "Red Hot Chili Peppers",
           "Nobody Weird Like Me (2003 Digital Remaster)"
          ],
          [
           "Red Hot Chili Peppers",
           "On Mercury (Album Version)"
          ],
          [
           "Red Hot Chili Peppers",
           "Magic Johnson (2003 Digital Remaster)"
          ],
          [
           "Red Hot Chili Peppers",
           "Parallel Universe (Album Version)"
          ],
          [
           "Red Hot Chili Peppers",
           "C'mon Girl (Album Version)"
          ],
          [
           "Red Hot Chili Peppers",
           "If You Want Me To Stay (Pink Mustang Mix)"
          ],
          [
           "Red Hot Chili Peppers",
           "Thirty Dirty Birds (2003 Digitally Remastered)"
          ],
          [
           "Red Hot Chili Peppers",
           "Let's Make Evil (Bonus Track)"
          ],
          [
           "Red Hot Chili Peppers",
           "What It Is (AKA Nina's Song) (Demo) (Digitally Remastered 02) ()"
          ],
          [
           "Red Hot Chili Peppers",
           "Green Heaven (Demo Version) (Digitally Remastered 02) ()"
          ],
          [
           "Red Hot Chili Peppers",
           "Hollywood (Africa) (Extended Dance Mix)"
          ],
          [
           "Red Hot Chili Peppers",
           "Shallow Be Thy Game (Album Version)"
          ],
          [
           "Red Hot Chili Peppers",
           "Tell Me Baby (Album Version)"
          ],
          [
           "Red Hot Chili Peppers",
           "My Lovely Man (Album Version)"
          ],
          [
           "Red Hot Chili Peppers",
           "Blood Sugar Sex Magik (Album Version)"
          ],
          [
           "Red Hot Chili Peppers",
           "Save This Lady (Non-Album Track)"
          ],
          [
           "Red Hot Chili Peppers",
           "I Like Dirt (Album Version)"
          ],
          [
           "Red Hot Chili Peppers",
           "Storm In A Teacup (Album Version)"
          ],
          [
           "Red Hot Chili Peppers",
           "Breaking The Girl (Album Version)"
          ],
          [
           "Red Hot Chili Peppers",
           "You Always Sing The Same (Demo)"
          ],
          [
           "Red Hot Chili Peppers",
           "Deep Kick (Album Version)"
          ],
          [
           "Red Hot Chili Peppers",
           "Blackeyed Blonde (2003 Digitally Remastered)"
          ],
          [
           "Red Hot Chili Peppers",
           "Falling Into Grace (Album Version)"
          ],
          [
           "Red Hot Chili Peppers",
           "Soul To Squeeze (Album Version)"
          ],
          [
           "Red Hot Chili Peppers",
           "Right On Time (Album Version)"
          ],
          [
           "Red Hot Chili Peppers",
           "Stranded (Demo)"
          ],
          [
           "Red Hot Chili Peppers",
           "Me And My Friends (2003 Digital Remaster)"
          ],
          [
           "Red Hot Chili Peppers",
           "Subterranean Homesick Blues (2003 Digital Remaster)"
          ],
          [
           "Red Hot Chili Peppers",
           "Skinny Sweaty Man (2003 Digital Remaster)"
          ],
          [
           "Red Hot Chili Peppers",
           "Behind The Sun"
          ],
          [
           "Red Hot Chili Peppers",
           "Hump de Bump (Album Version)"
          ],
          [
           "Red Hot Chili Peppers",
           "Under The Bridge (Album Version)"
          ],
          [
           "Red Hot Chili Peppers",
           "Give It Away (Album Version)"
          ],
          [
           "Red Hot Chili Peppers",
           "Salute To Kareem (Demo)"
          ],
          [
           "Red Hot Chili Peppers",
           "Get Up and Jump (Demo Version) (Digitally Remastered 02) ()"
          ],
          [
           "Red Hot Chili Peppers",
           "Desecration Smile (Album Version)"
          ],
          [
           "Red Hot Chili Peppers",
           "Organic Anti-Beat Box Band (2003 Digital Remaster)"
          ],
          [
           "Red Hot Chili Peppers",
           "The Righteous And The Wicked (Album Version)"
          ],
          [
           "Red Hot Chili Peppers",
           "Freaky Styley (2003 Digitally Remastered)"
          ],
          [
           "Red Hot Chili Peppers",
           "Strip My Mind (Album Version)"
          ],
          [
           "Red Hot Chili Peppers",
           "Why Don't You Love Me (2002 Digital Remaster)"
          ],
          [
           "Red Hot Chili Peppers",
           "Jungle Man"
          ],
          [
           "Red Hot Chili Peppers",
           "Over Funk (Bonus Track)"
          ],
          [
           "Red Hot Chili Peppers",
           "Taste The Pain"
          ],
          [
           "Red Hot Chili Peppers",
           "Death Of A Martian (Album Version)"
          ],
          [
           "Red Hot Chili Peppers",
           "Fire (2003 Digital Remaster)"
          ],
          [
           "Red Hot Chili Peppers",
           "True Men Don't Kill Coyotes (24-Bit Digitally Remastered 02)"
          ],
          [
           "Red Hot Chili Peppers",
           "Knock Me Down (Original Long Version)"
          ],
          [
           "Red Hot Chili Peppers",
           "I Could Have Lied (Album Version)"
          ],
          [
           "Red Hot Chili Peppers",
           "Californication (Album Version)"
          ],
          [
           "Red Hot Chili Peppers",
           "Out In L.A. (2002 Digital Remastser) ()"
          ],
          [
           "Red Hot Chili Peppers",
           "Slow Cheetah (Album Version)"
          ]
         ],
         "hovertemplate": "artist=%{customdata[0]}<br>t-SNE dimension 0=%{x}<br>t-SNE dimension 1=%{y}<br>title=%{customdata[1]}<extra></extra>",
         "legendgroup": "Red Hot Chili Peppers",
         "marker": {
          "color": "#2CA02C",
          "opacity": 0.8,
          "size": 15,
          "symbol": "circle"
         },
         "mode": "markers",
         "name": "Red Hot Chili Peppers",
         "showlegend": true,
         "type": "scatter",
         "x": [
          6.596621036529541,
          7.413082599639893,
          5.029504776000977,
          -0.9413048028945923,
          6.349835395812988,
          0.3598494231700897,
          0.22980473935604095,
          8.998594284057617,
          1.637436032295227,
          2.1116020679473877,
          -2.8660736083984375,
          11.240880012512207,
          -1.7598199844360352,
          -3.697075128555298,
          0.625644326210022,
          -0.11654376238584518,
          -6.352496147155762,
          1.1656535863876343,
          -0.08214525878429413,
          -5.744508266448975,
          3.913696765899658,
          0.6831018328666687,
          7.960481643676758,
          8.860852241516113,
          1.6454039812088013,
          -1.8471068143844604,
          5.176307201385498,
          -0.11430303752422333,
          1.3348630666732788,
          7.500875949859619,
          -0.5979627370834351,
          1.6571696996688843,
          17.81173324584961,
          -1.287011742591858,
          0.9808276891708374,
          1.7200431823730469,
          -3.1471593379974365,
          11.029253959655762,
          12.98361587524414,
          9.465018272399902,
          7.358333110809326,
          4.96921968460083,
          6.726891040802002,
          0.20661744475364685,
          5.992878437042236,
          1.1254839897155762,
          9.14825439453125,
          7.4089765548706055,
          0.33095866441726685,
          -13.083494186401367,
          2.5155534744262695,
          7.4296674728393555,
          7.832608222961426,
          10.585566520690918,
          9.508264541625977,
          8.05686092376709,
          -7.713482856750488,
          -10.203474044799805,
          9.203943252563477,
          0.8874683380126953,
          0.3453082740306854,
          7.512555122375488,
          2.748063325881958,
          -1.8475829362869263,
          2.259547472000122,
          9.338879585266113,
          -1.5927517414093018,
          14.452829360961914,
          -3.7218146324157715,
          -7.606037616729736,
          1.3912312984466553,
          8.74587631225586,
          -0.7217297554016113,
          0.6276878118515015,
          1.0339146852493286,
          -5.151357173919678,
          10.050107955932617,
          -4.367839336395264,
          3.044234275817871,
          4.625454425811768,
          4.5240797996521,
          14.132533073425293,
          1.8006551265716553,
          7.161806583404541,
          -10.099491119384766,
          8.325454711914062,
          1.660294532775879,
          -11.566741943359375,
          2.8355302810668945,
          1.051222562789917,
          7.263175010681152,
          -1.675667643547058,
          0.9782916903495789,
          1.2562073469161987,
          1.584025263786316,
          2.936701774597168
         ],
         "xaxis": "x",
         "y": [
          14.061867713928223,
          4.659088134765625,
          8.352967262268066,
          -7.984272480010986,
          1.4558069705963135,
          8.912236213684082,
          13.189105987548828,
          0.9674646258354187,
          2.0653512477874756,
          9.685155868530273,
          -10.253776550292969,
          2.834866762161255,
          1.7768241167068481,
          7.689018249511719,
          -4.615082263946533,
          5.550363063812256,
          0.7594795823097229,
          -4.310291290283203,
          12.223422050476074,
          6.364253520965576,
          -0.752365231513977,
          -5.4384918212890625,
          12.26838493347168,
          9.659327507019043,
          12.954582214355469,
          5.785226821899414,
          12.914953231811523,
          5.41356897354126,
          -1.063736915588379,
          10.27839183807373,
          1.0571213960647583,
          12.970852851867676,
          -1.4838571548461914,
          3.595522880554199,
          9.156765937805176,
          1.3712300062179565,
          -3.1082189083099365,
          14.689563751220703,
          1.5752143859863281,
          -1.4366521835327148,
          3.3093202114105225,
          9.767828941345215,
          10.415108680725098,
          4.061183929443359,
          11.176214218139648,
          18.463836669921875,
          10.32468318939209,
          4.623378276824951,
          4.0417561531066895,
          0.8994793891906738,
          8.662042617797852,
          -2.189042091369629,
          4.502214431762695,
          6.526679992675781,
          11.197332382202148,
          -0.8221040964126587,
          3.2297897338867188,
          1.2659070491790771,
          -1.880133032798767,
          8.34197998046875,
          3.8252267837524414,
          4.740922451019287,
          -6.887091159820557,
          5.724881172180176,
          5.570163726806641,
          7.341282844543457,
          5.483868598937988,
          0.5138327479362488,
          -3.815709352493286,
          -1.6657603979110718,
          12.771931648254395,
          7.544348239898682,
          7.449912071228027,
          -4.618947982788086,
          11.433611869812012,
          7.072324752807617,
          -3.0281331539154053,
          4.773242473602295,
          10.945828437805176,
          -1.1306294202804565,
          11.692533493041992,
          -1.2477748394012451,
          3.271885633468628,
          9.183663368225098,
          10.391741752624512,
          7.836656093597412,
          5.506453037261963,
          -8.12472152709961,
          -1.7066624164581299,
          11.117745399475098,
          1.4412968158721924,
          1.828441858291626,
          -3.1094417572021484,
          2.1239352226257324,
          12.896331787109375,
          -3.857264757156372
         ],
         "yaxis": "y"
        },
        {
         "customdata": [
          [
           "Eminem",
           "Ricky Ticky Toc"
          ],
          [
           "Eminem",
           "The Way I Am"
          ],
          [
           "Eminem",
           "Beautiful"
          ],
          [
           "Eminem",
           "Paul"
          ],
          [
           "Eminem",
           "Hailie's Song"
          ],
          [
           "Eminem",
           "Without Me"
          ],
          [
           "Eminem",
           "8 Mile"
          ],
          [
           "Eminem",
           "Dr. West"
          ],
          [
           "Eminem",
           "Curtains Up"
          ],
          [
           "Eminem",
           "Yellow Brick Road"
          ],
          [
           "Eminem",
           "If I Had"
          ],
          [
           "Eminem",
           "Em Calls Paul (skit)"
          ],
          [
           "Eminem",
           "When I'm Gone"
          ],
          [
           "Eminem",
           "Bad Influence"
          ],
          [
           "Eminem",
           "'97 Bonnie & Clyde"
          ],
          [
           "Eminem",
           "Rock Bottom"
          ],
          [
           "Eminem",
           "Careful What You Wish For"
          ],
          [
           "Eminem",
           "Puke"
          ],
          [
           "Eminem",
           "My Darling"
          ],
          [
           "Eminem",
           "Public Service Announcement"
          ],
          [
           "Eminem",
           "Just Don't Give"
          ],
          [
           "Eminem",
           "We As Americans"
          ],
          [
           "Eminem",
           "Ken Kaniff"
          ],
          [
           "Eminem",
           "Shady Narcotics"
          ],
          [
           "Eminem",
           "Love You More"
          ],
          [
           "Eminem",
           "Square Dance"
          ],
          [
           "Eminem",
           "Still Don't Give"
          ],
          [
           "Eminem",
           "Hazardous Youth"
          ],
          [
           "Eminem",
           "Tonya"
          ],
          [
           "Eminem",
           "Criminal"
          ],
          [
           "Eminem",
           "FACK"
          ],
          [
           "Eminem",
           "Public Enemy #1"
          ],
          [
           "Eminem",
           "My 1st Single"
          ],
          [
           "Eminem",
           "**** You"
          ],
          [
           "Eminem",
           "My Name Is"
          ],
          [
           "Eminem",
           "Any Man"
          ],
          [
           "Eminem",
           "Cleanin' Out My Closet"
          ],
          [
           "Eminem",
           "Curtains Close"
          ],
          [
           "Eminem",
           "The Kids"
          ],
          [
           "Eminem",
           "The Kiss"
          ],
          [
           "Eminem",
           "Cum On Everybody"
          ],
          [
           "Eminem",
           "Rabbit Run"
          ],
          [
           "Eminem",
           "Sing For The Moment"
          ],
          [
           "Eminem",
           "Lose Yourself"
          ],
          [
           "Eminem",
           "Paul (skit)"
          ],
          [
           "Eminem",
           "The Conspiracy (Freestyle)"
          ],
          [
           "Eminem",
           "Like Toy Soldiers"
          ],
          [
           "Eminem",
           "Marshall Mathers"
          ],
          [
           "Eminem",
           "Mockingbird"
          ],
          [
           "Eminem",
           "Mr. Mathers"
          ],
          [
           "Eminem",
           "No Apologies"
          ]
         ],
         "hovertemplate": "artist=%{customdata[0]}<br>t-SNE dimension 0=%{x}<br>t-SNE dimension 1=%{y}<br>title=%{customdata[1]}<extra></extra>",
         "legendgroup": "Eminem",
         "marker": {
          "color": "#D62728",
          "opacity": 0.8,
          "size": 15,
          "symbol": "circle"
         },
         "mode": "markers",
         "name": "Eminem",
         "showlegend": true,
         "type": "scatter",
         "x": [
          5.491713523864746,
          5.641539573669434,
          4.444303035736084,
          0.5186765789985657,
          5.750620365142822,
          4.294959545135498,
          5.4058613777160645,
          -1.0947879552841187,
          0.5415023565292358,
          5.183362007141113,
          6.861126899719238,
          6.080900192260742,
          -5.253662109375,
          6.967147350311279,
          6.293120384216309,
          8.481157302856445,
          9.243951797485352,
          6.678559303283691,
          -1.4962033033370972,
          9.307604789733887,
          9.091588973999023,
          10.532957077026367,
          3.7625732421875,
          7.329883575439453,
          7.754630088806152,
          8.210373878479004,
          9.985544204711914,
          10.408164978027344,
          6.5775837898254395,
          10.08006763458252,
          9.396994590759277,
          7.99508810043335,
          9.616074562072754,
          11.811978340148926,
          8.831174850463867,
          11.135032653808594,
          7.24661111831665,
          4.911929130554199,
          4.165127277374268,
          9.322354316711426,
          10.051172256469727,
          7.717445373535156,
          7.26663875579834,
          6.45710563659668,
          8.163273811340332,
          7.947653293609619,
          8.331428527832031,
          6.735136032104492,
          4.992342472076416,
          4.508730888366699,
          4.788575172424316
         ],
         "xaxis": "x",
         "y": [
          10.10013198852539,
          10.507609367370605,
          7.677149295806885,
          4.284065246582031,
          7.939253807067871,
          7.4168572425842285,
          8.456562995910645,
          0.7147215008735657,
          8.241268157958984,
          12.533061027526855,
          13.889168739318848,
          14.726287841796875,
          4.2861104011535645,
          13.515549659729004,
          14.23442554473877,
          12.167669296264648,
          11.72517204284668,
          4.644543647766113,
          2.927441358566284,
          12.647127151489258,
          12.654219627380371,
          12.751165390014648,
          10.074577331542969,
          11.281131744384766,
          10.43303108215332,
          10.908573150634766,
          12.297059059143066,
          11.895851135253906,
          7.539965629577637,
          11.52688980102539,
          12.355323791503906,
          7.2442426681518555,
          12.40493106842041,
          11.852505683898926,
          7.53232479095459,
          9.938780784606934,
          7.981229782104492,
          11.286413192749023,
          6.215920448303223,
          12.708413124084473,
          10.425337791442871,
          6.683711051940918,
          7.266102313995361,
          7.90250301361084,
          12.304891586303711,
          9.321624755859375,
          9.241303443908691,
          11.103642463684082,
          7.117836952209473,
          8.816483497619629,
          10.44813346862793
         ],
         "yaxis": "y"
        },
        {
         "customdata": [
          [
           "Eric Clapton",
           "Hello Old Friend"
          ],
          [
           "Eric Clapton",
           "When You Got A Good Friend (Album Version)"
          ],
          [
           "Eric Clapton",
           "Tulsa Time"
          ],
          [
           "Eric Clapton",
           "Floating Bridge"
          ],
          [
           "Eric Clapton",
           "Blues Power"
          ],
          [
           "Eric Clapton",
           "Further On Up The Road"
          ],
          [
           "Eric Clapton",
           "Wonderful Tonight"
          ],
          [
           "Eric Clapton",
           "I Want A Little Girl (Live)"
          ],
          [
           "Eric Clapton",
           "Willie And The Hand Jive"
          ],
          [
           "Eric Clapton",
           "Can't Find My Way Home"
          ],
          [
           "Eric Clapton",
           "Love Don't Love Nobody (Album Version)"
          ],
          [
           "Eric Clapton",
           "Alberta"
          ],
          [
           "Eric Clapton",
           "Come Back Baby (Album Version)"
          ],
          [
           "Eric Clapton",
           "We're All The Way"
          ],
          [
           "Eric Clapton",
           "Lay Down Sally"
          ],
          [
           "Eric Clapton",
           "Someday After A While (Live) (Album Version)"
          ],
          [
           "Eric Clapton",
           "Bell Bottom Blues (Live)"
          ],
          [
           "Eric Clapton",
           "Standin' Round Crying (Live) (Album Version)"
          ],
          [
           "Eric Clapton",
           "Tangled In Love (Album Version)"
          ],
          [
           "Eric Clapton",
           "Forever Man (Album Version)"
          ],
          [
           "Eric Clapton",
           "Let It Grow"
          ],
          [
           "Eric Clapton",
           "Cocaine"
          ],
          [
           "Eric Clapton",
           "Holy Mother (Album Version)"
          ],
          [
           "Eric Clapton",
           "Singin' The Blues"
          ],
          [
           "Eric Clapton",
           "It's In The Way That You Use It (Album Version)"
          ],
          [
           "Eric Clapton",
           "The Core"
          ],
          [
           "Eric Clapton",
           "All Our Past Times"
          ],
          [
           "Eric Clapton",
           "Bottle Of Red Wine"
          ],
          [
           "Eric Clapton",
           "Little Wing"
          ],
          [
           "Eric Clapton",
           "Hound Dog (Album Version)"
          ],
          [
           "Eric Clapton",
           "Swing Low Sweet Chariot"
          ],
          [
           "Eric Clapton",
           "Meet Me (Down At The Bottom)"
          ],
          [
           "Eric Clapton",
           "Hoochie Coochie Man  (Live) (Album Version)"
          ],
          [
           "Eric Clapton",
           "Rita Mae"
          ],
          [
           "Eric Clapton",
           "Breaking Point  (Album Version)"
          ],
          [
           "Eric Clapton",
           "Early In The Morning"
          ],
          [
           "Eric Clapton",
           "Blues Leave Me Alone  (Live)  (Album Version)"
          ],
          [
           "Eric Clapton",
           "After Midnight"
          ],
          [
           "Eric Clapton",
           "I'm Tore Down  (Live) (Album Version)"
          ],
          [
           "Eric Clapton",
           "How Long Blues  (Live)  (Album Version)"
          ],
          [
           "Eric Clapton",
           "Kind Hearted Woman"
          ],
          [
           "Eric Clapton",
           "It All Depends (Album Version)"
          ],
          [
           "Eric Clapton",
           "Double Trouble"
          ],
          [
           "Eric Clapton",
           "Beware Of Darkness (LP Version)"
          ],
          [
           "Eric Clapton",
           "Key To The Highway (Live)"
          ],
          [
           "Eric Clapton",
           "Driftin' (Live)  (Album Version)"
          ],
          [
           "Eric Clapton",
           "Take A Chance (Album Version)"
          ],
          [
           "Eric Clapton",
           "Smile"
          ],
          [
           "Eric Clapton",
           "Kind Hearted Woman Blues (Album Version)"
          ],
          [
           "Eric Clapton",
           "Before You Accuse Me (Unplugged CD Version)"
          ],
          [
           "Eric Clapton",
           "Little Queen Of Spades (Album Version)"
          ],
          [
           "Eric Clapton",
           "Roll It"
          ],
          [
           "Eric Clapton",
           "I'm Going Left (Album Version)"
          ],
          [
           "Eric Clapton",
           "Crosscut Saw (LP Version)"
          ],
          [
           "Eric Clapton",
           "Pretending"
          ],
          [
           "Eric Clapton",
           "I Shot The Sheriff"
          ],
          [
           "Eric Clapton",
           "Little Rachel"
          ],
          [
           "Eric Clapton",
           "Watch Yourself (Live) (Album Version)"
          ],
          [
           "Eric Clapton",
           "Badge"
          ],
          [
           "Eric Clapton",
           "Going Down Slow (Album Version)"
          ],
          [
           "Eric Clapton",
           "Me And The Devil Blues (Album Version)"
          ],
          [
           "Eric Clapton",
           "Knockin' On Heaven's Door"
          ],
          [
           "Eric Clapton",
           "Let It Rain"
          ],
          [
           "Eric Clapton",
           "Please Be With Me"
          ],
          [
           "Eric Clapton",
           "Tears In Heaven"
          ],
          [
           "Eric Clapton",
           "Before You Accuse Me (Take A Look At Yourself)"
          ],
          [
           "Eric Clapton",
           "Have You Ever Loved A Woman"
          ],
          [
           "Eric Clapton",
           "Behind The Mask (Album Version)"
          ],
          [
           "Eric Clapton",
           "Don't Think Twice_ It's All Right"
          ],
          [
           "Eric Clapton",
           "Knock On Wood  (Album Version)"
          ],
          [
           "Eric Clapton",
           "Layla [Unplugged Version]"
          ]
         ],
         "hovertemplate": "artist=%{customdata[0]}<br>t-SNE dimension 0=%{x}<br>t-SNE dimension 1=%{y}<br>title=%{customdata[1]}<extra></extra>",
         "legendgroup": "Eric Clapton",
         "marker": {
          "color": "#9467BD",
          "opacity": 0.8,
          "size": 15,
          "symbol": "circle"
         },
         "mode": "markers",
         "name": "Eric Clapton",
         "showlegend": true,
         "type": "scatter",
         "x": [
          -1.5523858070373535,
          -8.063435554504395,
          -9.32269287109375,
          0.09669798612594604,
          -5.131383419036865,
          -9.781827926635742,
          -3.6110308170318604,
          -7.606637954711914,
          8.271544456481934,
          -6.102609634399414,
          -8.932943344116211,
          -10.82382869720459,
          -11.69426441192627,
          -2.1595675945281982,
          0.593307375907898,
          -10.369701385498047,
          -10.822429656982422,
          -7.99759578704834,
          -5.0754876136779785,
          -0.05443531647324562,
          -0.4868912100791931,
          14.573663711547852,
          0.4762858748435974,
          -3.338926076889038,
          -9.725229263305664,
          6.6240153312683105,
          2.8443939685821533,
          -6.899340629577637,
          -12.408513069152832,
          11.554068565368652,
          -6.443103313446045,
          0.31965166330337524,
          5.738348484039307,
          4.6392083168029785,
          2.6068286895751953,
          -6.6604461669921875,
          -8.21389389038086,
          -3.1473190784454346,
          9.42561149597168,
          -5.582852840423584,
          -3.0196473598480225,
          -2.219277858734131,
          -2.8368582725524902,
          15.722675323486328,
          -8.186601638793945,
          -12.952171325683594,
          -3.260789394378662,
          -14.091765403747559,
          -3.0107693672180176,
          -10.538209915161133,
          -7.257682800292969,
          -4.33036994934082,
          0.16372789442539215,
          0.3916562795639038,
          -2.44162917137146,
          15.494229316711426,
          -2.541259288787842,
          -11.114126205444336,
          -7.598524570465088,
          10.019940376281738,
          -8.936363220214844,
          -7.381035804748535,
          1.9414715766906738,
          -10.377863883972168,
          -7.453835487365723,
          -10.536138534545898,
          -9.497152328491211,
          -1.591194987297058,
          -13.552042961120605,
          -1.3356132507324219,
          -7.793102264404297
         ],
         "xaxis": "x",
         "y": [
          5.069786548614502,
          -1.3632121086120605,
          7.02028751373291,
          6.004810333251953,
          11.938693046569824,
          5.332034587860107,
          0.2328057885169983,
          8.404007911682129,
          10.726472854614258,
          -2.377938985824585,
          -4.001409530639648,
          4.893976211547852,
          6.4319562911987305,
          -6.9072418212890625,
          14.72993278503418,
          -3.378662347793579,
          -2.211049795150757,
          6.03059196472168,
          -1.7348047494888306,
          -7.351652145385742,
          -13.488842964172363,
          7.3897271156311035,
          -13.582233428955078,
          9.98206901550293,
          -3.450460433959961,
          -4.7761759757995605,
          -5.791545867919922,
          4.946539402008057,
          1.7841777801513672,
          7.958902835845947,
          11.11111831665039,
          10.732918739318848,
          5.996995449066162,
          6.994242191314697,
          -6.57658052444458,
          10.405009269714355,
          7.804361343383789,
          12.02466869354248,
          6.807735919952393,
          9.324501037597656,
          6.189226150512695,
          0.013658489100635052,
          1.7903941869735718,
          -9.690577507019043,
          9.10428237915039,
          -0.37290212512016296,
          -13.200926780700684,
          -3.6753764152526855,
          6.071671962738037,
          9.536179542541504,
          9.177226066589355,
          11.900269508361816,
          -6.95274019241333,
          13.25179386138916,
          -8.817641258239746,
          2.2548463344573975,
          12.0037260055542,
          8.595084190368652,
          5.222080230712891,
          8.019453048706055,
          9.709742546081543,
          16.85883140563965,
          -14.136768341064453,
          -14.692259788513184,
          -11.167315483093262,
          9.521693229675293,
          -7.286015033721924,
          -0.9656514525413513,
          8.996601104736328,
          9.21016788482666,
          -2.884376287460327
         ],
         "yaxis": "y"
        },
        {
         "customdata": [
          [
           "Avenged Sevenfold",
           "Streets"
          ],
          [
           "Avenged Sevenfold",
           "Brompton Cocktail (Album Version)"
          ],
          [
           "Avenged Sevenfold",
           "I Won't See You Tonight Part 2"
          ],
          [
           "Avenged Sevenfold",
           "Remenissions"
          ],
          [
           "Avenged Sevenfold",
           "I Won't See You Tonight Part 1"
          ],
          [
           "Avenged Sevenfold",
           "Dear God (Album Version)"
          ],
          [
           "Avenged Sevenfold",
           "Breaking Their Hold"
          ],
          [
           "Avenged Sevenfold",
           "Waking the Fallen"
          ],
          [
           "Avenged Sevenfold",
           "And All Things Will End"
          ],
          [
           "Avenged Sevenfold",
           "Crossroads (Non-Album Track)"
          ],
          [
           "Avenged Sevenfold",
           "Eternal Rest"
          ],
          [
           "Avenged Sevenfold",
           "M.I.A. (Album Version)"
          ],
          [
           "Avenged Sevenfold",
           "Afterlife (Album Version)"
          ],
          [
           "Avenged Sevenfold",
           "Critical Acclaim (Amended Version)"
          ],
          [
           "Avenged Sevenfold",
           "Turn The Other Way"
          ],
          [
           "Avenged Sevenfold",
           "Radiant Eclipse"
          ],
          [
           "Avenged Sevenfold",
           "To End The Rapture"
          ],
          [
           "Avenged Sevenfold",
           "Warmness On The Soul"
          ],
          [
           "Avenged Sevenfold",
           "A Little Piece Of Heaven (Album Version)"
          ],
          [
           "Avenged Sevenfold",
           "Second Heartbeat"
          ],
          [
           "Avenged Sevenfold",
           "Shattered By Broken Dreams"
          ],
          [
           "Avenged Sevenfold",
           "Clairvoyant Disease"
          ],
          [
           "Avenged Sevenfold",
           "Darkness Surrounding"
          ],
          [
           "Avenged Sevenfold",
           "Unholy Confessions"
          ],
          [
           "Avenged Sevenfold",
           "The Wicked End (Album Version)"
          ],
          [
           "Avenged Sevenfold",
           "We Come Out At Night"
          ],
          [
           "Avenged Sevenfold",
           "The Art Of Subconscious Illusion"
          ],
          [
           "Avenged Sevenfold",
           "Forgotten Faces"
          ],
          [
           "Avenged Sevenfold",
           "An Epic Of Time Wasted"
          ],
          [
           "Avenged Sevenfold",
           "Burn It Down (Live In San Diego)"
          ],
          [
           "Avenged Sevenfold",
           "Desecrate Through Reverence"
          ],
          [
           "Avenged Sevenfold",
           "Chapter Four"
          ],
          [
           "Avenged Sevenfold",
           "Lips Of Deceit"
          ],
          [
           "Avenged Sevenfold",
           "Strength Of The World (Album Version)"
          ],
          [
           "Avenged Sevenfold",
           "Unbound [The Wild Ride] (Album Version)"
          ],
          [
           "Avenged Sevenfold",
           "Thick And Thin"
          ]
         ],
         "hovertemplate": "artist=%{customdata[0]}<br>t-SNE dimension 0=%{x}<br>t-SNE dimension 1=%{y}<br>title=%{customdata[1]}<extra></extra>",
         "legendgroup": "Avenged Sevenfold",
         "marker": {
          "color": "#8C564B",
          "opacity": 0.8,
          "size": 15,
          "symbol": "circle"
         },
         "mode": "markers",
         "name": "Avenged Sevenfold",
         "showlegend": true,
         "type": "scatter",
         "x": [
          5.971343040466309,
          4.109311580657959,
          2.1070070266723633,
          9.788952827453613,
          3.9614615440368652,
          -7.367602825164795,
          7.4999470710754395,
          0.7096267938613892,
          3.8785476684570312,
          2.6221320629119873,
          3.4809608459472656,
          9.213407516479492,
          -1.7693297863006592,
          7.2952961921691895,
          2.9853172302246094,
          6.073836803436279,
          6.204565048217773,
          -1.4494155645370483,
          5.616572856903076,
          -1.5987329483032227,
          2.0147740840911865,
          0.9779385328292847,
          7.33272647857666,
          2.833091974258423,
          13.538558959960938,
          0.5215267539024353,
          8.218152046203613,
          4.2680463790893555,
          -2.749696969985962,
          12.471538543701172,
          1.4372427463531494,
          12.196849822998047,
          8.295206069946289,
          9.843100547790527,
          1.453490138053894,
          8.634074211120605
         ],
         "xaxis": "x",
         "y": [
          13.376471519470215,
          -8.511052131652832,
          -9.142927169799805,
          -5.119451999664307,
          -12.569552421569824,
          -7.36473274230957,
          -8.204839706420898,
          -13.954330444335938,
          -6.238142013549805,
          -9.833647727966309,
          -14.79245376586914,
          -13.33375072479248,
          -11.635176658630371,
          -3.6895275115966797,
          -10.259374618530273,
          -8.421893119812012,
          -6.04276180267334,
          -10.27121353149414,
          5.062047004699707,
          -7.226163864135742,
          -9.864916801452637,
          -8.070182800292969,
          -7.757768154144287,
          -7.951414108276367,
          -7.545595645904541,
          -3.999237537384033,
          -0.5650714635848999,
          -7.80782413482666,
          -7.871849536895752,
          -4.032217502593994,
          -9.195272445678711,
          -9.213766098022461,
          -6.081501007080078,
          -3.9264016151428223,
          -8.320242881774902,
          -1.0297908782958984
         ],
         "yaxis": "y"
        },
        {
         "customdata": [
          [
           "Linkin Park",
           "Crawling (Album Version)"
          ],
          [
           "Linkin Park",
           "Given Up (Album Version)"
          ],
          [
           "Linkin Park",
           "One Step Closer [Live At Milton Keynes]"
          ],
          [
           "Linkin Park",
           "Wth>You (Album Version)"
          ],
          [
           "Linkin Park",
           "In Pieces [Live From Projekt Revolution_ Washington DC_ Aug. 19 '07]"
          ],
          [
           "Linkin Park",
           "Papercut [Recorded Live At BBC1]"
          ],
          [
           "Linkin Park",
           "Given Up [Third Encore Session]"
          ],
          [
           "Linkin Park",
           "Breaking The Habit (Album Version)"
          ],
          [
           "Linkin Park",
           "Valentine's Day [Live From Frankfurt Germany_ Jan 20 '08]"
          ],
          [
           "Linkin Park",
           "Points Of Authority (Live In Texas)"
          ],
          [
           "Linkin Park",
           "Faint [Live In Japan]"
          ],
          [
           "Linkin Park",
           "My<Dsmbr (Album Version)"
          ],
          [
           "Linkin Park",
           "Lying From You (Live In Texas)"
          ],
          [
           "Linkin Park",
           "By Myself (Album Version)"
          ],
          [
           "Linkin Park",
           "In Between [Live From London UK_ Jan 29 '08]"
          ],
          [
           "Linkin Park",
           "Runaway (Album Version)"
          ],
          [
           "Linkin Park",
           "High Voltage"
          ],
          [
           "Linkin Park",
           "Easier To Run [Live LP Underground Tour 2003]"
          ],
          [
           "Linkin Park",
           "Kyur4 Th Ich (Album Version)"
          ],
          [
           "Linkin Park",
           "Buy Myself [Manson Remix] (Non-Album Track)"
          ],
          [
           "Linkin Park",
           "Numb (Live In Texas)"
          ],
          [
           "Linkin Park",
           "Rnw@y (Album Version)"
          ],
          [
           "Linkin Park",
           "New Divide [A Cappella Version]"
          ],
          [
           "Linkin Park",
           "Plc.4 Mie Haed (Album Version)"
          ],
          [
           "Linkin Park",
           "In The End (Album Version)"
          ],
          [
           "Linkin Park",
           "Given Up [Live At Milton Keynes]"
          ],
          [
           "Linkin Park",
           "Cure For The Itch (Album Version)"
          ],
          [
           "Linkin Park",
           "Hands Held High (Album Version)"
          ],
          [
           "Linkin Park",
           "My December"
          ],
          [
           "Linkin Park",
           "From The Inside [Live LP Underground Tour 2003]"
          ],
          [
           "Linkin Park",
           "Leave Out All The Rest (Single Version)"
          ],
          [
           "Linkin Park",
           "1stp Klosr (Album Version)"
          ],
          [
           "Linkin Park",
           "In The End [Live At Milton Keynes]"
          ],
          [
           "Linkin Park",
           "Pushing Me Away [Live At Milton Keynes]"
          ],
          [
           "Linkin Park",
           "Runaway (Live In Texas)"
          ],
          [
           "Linkin Park",
           "What I've Done [Distorted Remix]"
          ],
          [
           "Linkin Park",
           "Breaking The Habit [Live At Milton Keynes]"
          ],
          [
           "Linkin Park",
           "One Step Closer (Album Version)"
          ],
          [
           "Linkin Park",
           "Shadow Of The Day [Live At Milton Keynes]"
          ],
          [
           "Linkin Park",
           "H! Vltg3 (Album Version)"
          ],
          [
           "Linkin Park",
           "In Pieces [Live From SoHo]"
          ],
          [
           "Linkin Park",
           "Leave Out All The Rest [Live] (Album Version Edit)"
          ],
          [
           "Linkin Park",
           "Enth E Nd (Album Version)"
          ],
          [
           "Linkin Park",
           "Nobody's Listening (Album Version)"
          ],
          [
           "Linkin Park",
           "A Place For My Head (Album Version)"
          ],
          [
           "Linkin Park",
           "Bleed It Out [Live From Live Earth]"
          ],
          [
           "Linkin Park",
           "From The Inside [Live In Japan]"
          ],
          [
           "Linkin Park",
           "The Little Things Give You Away [Live At Milton Keynes]"
          ],
          [
           "Linkin Park",
           "With You (Album Version)"
          ],
          [
           "Linkin Park",
           "Riff Raff (Album Version)"
          ],
          [
           "Linkin Park",
           "Frgt/10 (Album Version)"
          ],
          [
           "Linkin Park",
           "Crawling (Live In Texas)"
          ],
          [
           "Linkin Park",
           "Figure.09 (Album Version)"
          ],
          [
           "Linkin Park",
           "New Divide (Album Version)"
          ],
          [
           "Linkin Park",
           "X-Ecutioner Style (Album Version)"
          ],
          [
           "Linkin Park",
           "What I've Done (Album Version)"
          ],
          [
           "Linkin Park",
           "In The End (Live In Texas)"
          ],
          [
           "Linkin Park",
           "One Step Closer (Live In Texas)"
          ],
          [
           "Linkin Park",
           "Pushing Me Away (Album Version)"
          ],
          [
           "Linkin Park",
           "My December [Live Project Rev. 2002]"
          ],
          [
           "Linkin Park",
           "P5hng Me A*wy (Album Version)"
          ],
          [
           "Linkin Park",
           "Leave Out All The Rest [Live From Projekt Revolution_ Detroit MI_ Aug. 22 '07]"
          ],
          [
           "Linkin Park",
           "No More Sorrow [Live At Milton Keynes]"
          ],
          [
           "Linkin Park",
           "Points Of Authority (Album Version)"
          ],
          [
           "Linkin Park",
           "Lying From You [Live LP Underground Tour 2003]"
          ],
          [
           "Linkin Park",
           "Lying From You [Live At Milton Keynes]"
          ],
          [
           "Linkin Park",
           "From The Inside [Live At Milton Keynes]"
          ],
          [
           "Linkin Park",
           "Shadow Of The Day (Album Version)"
          ]
         ],
         "hovertemplate": "artist=%{customdata[0]}<br>t-SNE dimension 0=%{x}<br>t-SNE dimension 1=%{y}<br>title=%{customdata[1]}<extra></extra>",
         "legendgroup": "Linkin Park",
         "marker": {
          "color": "#E377C2",
          "opacity": 0.8,
          "size": 15,
          "symbol": "circle"
         },
         "mode": "markers",
         "name": "Linkin Park",
         "showlegend": true,
         "type": "scatter",
         "x": [
          6.213779926300049,
          2.7881598472595215,
          -0.29860836267471313,
          -0.7161712646484375,
          0.6514974236488342,
          -5.5968499183654785,
          2.800260066986084,
          6.787247657775879,
          -6.957334518432617,
          -8.782448768615723,
          -1.1722067594528198,
          -8.685652732849121,
          2.8128509521484375,
          1.5536189079284668,
          3.892531394958496,
          -0.05389022082090378,
          6.81907844543457,
          2.69486665725708,
          0.16024422645568848,
          1.4919583797454834,
          8.268165588378906,
          9.379013061523438,
          1.2142024040222168,
          14.082133293151855,
          -1.7004239559173584,
          2.819681406021118,
          0.2016151398420334,
          9.757932662963867,
          -9.155569076538086,
          -0.05411464348435402,
          -6.664090633392334,
          2.292496681213379,
          -1.700717806816101,
          -1.6002839803695679,
          -17.58905601501465,
          6.037403583526611,
          6.772360324859619,
          2.2919085025787354,
          -3.408437490463257,
          10.391443252563477,
          0.6513264179229736,
          -6.660976409912109,
          5.284708499908447,
          13.474431991577148,
          14.078402519226074,
          9.266311645507812,
          -0.05410939082503319,
          -3.781902313232422,
          -5.642116069793701,
          8.071070671081543,
          7.943558692932129,
          6.213888168334961,
          -4.684503555297852,
          1.214967131614685,
          7.349837779998779,
          6.047547817230225,
          -1.6983983516693115,
          2.2886548042297363,
          -1.6017708778381348,
          -6.439642429351807,
          -1.6053624153137207,
          -6.09413480758667,
          11.337347030639648,
          -8.782407760620117,
          2.813870668411255,
          2.812246084213257,
          -0.054170481860637665,
          -3.4119138717651367
         ],
         "xaxis": "x",
         "y": [
          -9.360217094421387,
          -7.679488182067871,
          1.6326814889907837,
          -8.933836936950684,
          -19.586408615112305,
          -7.638731002807617,
          -7.708306789398193,
          -6.051281452178955,
          -6.490767478942871,
          3.6564159393310547,
          -9.513059616088867,
          -5.480592250823975,
          -10.267054557800293,
          -7.801016330718994,
          -9.318572998046875,
          0.07736915349960327,
          12.346952438354492,
          -13.455001831054688,
          5.678053855895996,
          -7.7258992195129395,
          10.66065788269043,
          9.11711597442627,
          -16.031402587890625,
          -4.971770286560059,
          -19.3717098236084,
          -7.714649200439453,
          5.70629358291626,
          5.434504985809326,
          -5.849750518798828,
          0.07719937711954117,
          -10.018158912658691,
          -0.6263508200645447,
          -19.37187957763672,
          -19.281753540039062,
          1.902880311012268,
          -10.174727439880371,
          -6.0557684898376465,
          -0.6266224980354309,
          -15.168140411376953,
          7.68858003616333,
          -19.587617874145508,
          -10.026290893554688,
          4.2149152755737305,
          4.965535640716553,
          -4.974301338195801,
          1.3593404293060303,
          0.0773986428976059,
          -7.570970058441162,
          -7.203462600708008,
          7.664589881896973,
          5.661166191101074,
          -9.360862731933594,
          -7.58173131942749,
          -16.03416633605957,
          9.249147415161133,
          -10.150822639465332,
          -19.3686466217041,
          -0.6270689368247986,
          -19.288169860839844,
          -11.446002960205078,
          -19.293601989746094,
          -8.750373840332031,
          -3.640385389328003,
          3.656501293182373,
          -10.26728630065918,
          -10.268195152282715,
          0.07693382352590561,
          -15.171260833740234
         ],
         "yaxis": "y"
        },
        {
         "customdata": [
          [
           "The Who",
           "Slip Kid"
          ],
          [
           "The Who",
           "Daily Records"
          ],
          [
           "The Who",
           "Man With Money"
          ],
          [
           "The Who",
           "Disguises"
          ],
          [
           "The Who",
           "Tommy Can You Hear Me?"
          ],
          [
           "The Who",
           "The Quiet One"
          ],
          [
           "The Who",
           "Pure And Easy"
          ],
          [
           "The Who",
           "I Like Nightmares"
          ],
          [
           "The Who",
           "A Quick One While He's Away"
          ],
          [
           "The Who",
           "Don't Look Away"
          ],
          [
           "The Who",
           "Behind Blue Eyes"
          ],
          [
           "The Who",
           "Christmas"
          ],
          [
           "The Who",
           "Trilby's Piano"
          ],
          [
           "The Who",
           "Tattoo"
          ],
          [
           "The Who",
           "Success Story"
          ],
          [
           "The Who",
           "Relax"
          ],
          [
           "The Who",
           "Fiddle About"
          ],
          [
           "The Who",
           "A Man In A Purple Dress"
          ],
          [
           "The Who",
           "1921"
          ],
          [
           "The Who",
           "My Wife"
          ],
          [
           "The Who",
           "Eyesight To The Blind (The Hawker)"
          ],
          [
           "The Who",
           "Don't Let Go The Coat"
          ],
          [
           "The Who",
           "Boris The Spider"
          ],
          [
           "The Who",
           "Love Reign O'er Me"
          ],
          [
           "The Who",
           "Welcome"
          ],
          [
           "The Who",
           "Heat Wave"
          ],
          [
           "The Who",
           "Dr. Jimmy"
          ],
          [
           "The Who",
           "Sensation"
          ],
          [
           "The Who",
           "Sunrise"
          ],
          [
           "The Who",
           "Magic Bus"
          ],
          [
           "The Who",
           "Miracle Cure"
          ],
          [
           "The Who",
           "Mary Anne With The Shaky Hand"
          ],
          [
           "The Who",
           "You Stand By Me"
          ],
          [
           "The Who",
           "Summertime Blues"
          ],
          [
           "The Who",
           "Let's See Action"
          ],
          [
           "The Who",
           "Tea & Theatre"
          ],
          [
           "The Who",
           "Who Are You"
          ],
          [
           "The Who",
           "Young Man Blues"
          ],
          [
           "The Who",
           "Love Ain't For Keeping"
          ],
          [
           "The Who",
           "Cache Cache"
          ],
          [
           "The Who",
           "La La La Lies"
          ],
          [
           "The Who",
           "Squeeze Box"
          ],
          [
           "The Who",
           "Relay"
          ],
          [
           "The Who",
           "Too Much Of Anything"
          ],
          [
           "The Who",
           "The Kids Are Alright"
          ],
          [
           "The Who",
           "I Can See For Miles"
          ],
          [
           "The Who",
           "God Speaks_ of Marty Robbins"
          ],
          [
           "The Who",
           "Sparks"
          ],
          [
           "The Who",
           "I'm A Boy"
          ],
          [
           "The Who",
           "Sister Disco"
          ],
          [
           "The Who",
           "Eminence Front"
          ],
          [
           "The Who",
           "Substitute"
          ],
          [
           "The Who",
           "Doctor_ Doctor"
          ],
          [
           "The Who",
           "My Generation"
          ],
          [
           "The Who",
           "Long Live Rock"
          ],
          [
           "The Who",
           "Odorono"
          ],
          [
           "The Who",
           "It's Hard"
          ],
          [
           "The Who",
           "I'm Free"
          ],
          [
           "The Who",
           "Amazing Journey"
          ],
          [
           "The Who",
           "Happy Jack"
          ],
          [
           "The Who",
           "Endless Wire"
          ],
          [
           "The Who",
           "Shout And Shimmy"
          ],
          [
           "The Who",
           "Medac"
          ],
          [
           "The Who",
           "Water"
          ],
          [
           "The Who",
           "I Don't Even Know Myself"
          ],
          [
           "The Who",
           "Music Must Change"
          ],
          [
           "The Who",
           "Just You And Me_ Darling"
          ],
          [
           "The Who",
           "Empty Glass"
          ],
          [
           "The Who",
           "I Can't Explain"
          ],
          [
           "The Who",
           "Mike Post Theme"
          ],
          [
           "The Who",
           "You Better You Bet"
          ],
          [
           "The Who",
           "Pinball Wizard"
          ],
          [
           "The Who",
           "Sound Round"
          ],
          [
           "The Who",
           "Heinz Baked Beans"
          ],
          [
           "The Who",
           "See Me_ Feel Me"
          ]
         ],
         "hovertemplate": "artist=%{customdata[0]}<br>t-SNE dimension 0=%{x}<br>t-SNE dimension 1=%{y}<br>title=%{customdata[1]}<extra></extra>",
         "legendgroup": "The Who",
         "marker": {
          "color": "#7F7F7F",
          "opacity": 0.8,
          "size": 15,
          "symbol": "circle"
         },
         "mode": "markers",
         "name": "The Who",
         "showlegend": true,
         "type": "scatter",
         "x": [
          9.997482299804688,
          3.852031946182251,
          -7.094632148742676,
          -2.5139904022216797,
          -1.6193808317184448,
          4.4195122718811035,
          4.985694885253906,
          8.260504722595215,
          -13.248541831970215,
          -1.3813241720199585,
          4.217785835266113,
          13.440705299377441,
          5.610045909881592,
          -1.8571138381958008,
          5.966319561004639,
          -7.590492248535156,
          0.3632603883743286,
          8.437968254089355,
          -10.309565544128418,
          -0.7026738524436951,
          -3.146589517593384,
          -3.6521859169006348,
          2.056591510772705,
          2.1078248023986816,
          7.0660576820373535,
          -16.00482749938965,
          10.324721336364746,
          -0.01377097051590681,
          -3.109436511993408,
          1.7425440549850464,
          -0.9418911337852478,
          -1.3523036241531372,
          5.5427632331848145,
          -14.929055213928223,
          8.913168907165527,
          -3.304600715637207,
          -0.31073373556137085,
          5.533579349517822,
          -8.500407218933105,
          2.5596892833709717,
          0.467398077249527,
          -3.503748893737793,
          -11.589388847351074,
          15.319786071777344,
          8.367081642150879,
          -6.279861927032471,
          -5.814425945281982,
          3.240051507949829,
          -8.142179489135742,
          -4.2108564376831055,
          8.895532608032227,
          4.291561603546143,
          5.043083667755127,
          9.33930778503418,
          4.398205757141113,
          1.6402769088745117,
          7.037249565124512,
          4.035045623779297,
          3.24100399017334,
          -0.9544962048530579,
          4.983587741851807,
          -4.054086208343506,
          3.8417932987213135,
          7.977381706237793,
          0.12072635442018509,
          12.315995216369629,
          5.51542854309082,
          4.897365093231201,
          -2.3979551792144775,
          -0.6183369159698486,
          0.30010274052619934,
          17.67426109313965,
          -0.9974594116210938,
          -0.21826307475566864,
          3.782322406768799
         ],
         "xaxis": "x",
         "y": [
          1.8892967700958252,
          7.532039642333984,
          10.158783912658691,
          -2.4568302631378174,
          6.469234943389893,
          -3.557079553604126,
          -7.339496612548828,
          0.09020976722240448,
          1.978838562965393,
          -0.6233300566673279,
          -3.461188793182373,
          0.06399663537740707,
          -13.763381004333496,
          -8.984930038452148,
          6.744996070861816,
          6.535702705383301,
          12.78268051147461,
          -2.807380437850952,
          -6.898027420043945,
          14.049257278442383,
          2.5329701900482178,
          2.5149917602539062,
          0.3887932598590851,
          -0.0762450098991394,
          1.5536704063415527,
          1.2146447896957397,
          7.747051239013672,
          -12.151895523071289,
          -8.920949935913086,
          11.213412284851074,
          1.7445532083511353,
          8.068981170654297,
          9.414325714111328,
          -13.387297630310059,
          -6.883884906768799,
          0.14377659559249878,
          12.762785911560059,
          9.41288948059082,
          9.08295726776123,
          2.4861233234405518,
          -4.3461456298828125,
          16.932252883911133,
          4.477429389953613,
          5.963503360748291,
          5.184277057647705,
          -4.679196357727051,
          -3.535346508026123,
          -2.9368057250976562,
          0.29665806889533997,
          5.525440692901611,
          5.356845378875732,
          7.409402847290039,
          8.57171630859375,
          4.054006099700928,
          11.637322425842285,
          0.11931776255369186,
          0.3352520167827606,
          8.15597915649414,
          -2.9314825534820557,
          5.522611141204834,
          -9.43437385559082,
          13.774801254272461,
          3.4320521354675293,
          10.575043678283691,
          0.5004331469535828,
          5.929962635040283,
          9.40674114227295,
          5.744905471801758,
          0.38269495964050293,
          0.7658204436302185,
          10.66003704071045,
          -3.8906588554382324,
          -5.434414386749268,
          6.6542439460754395,
          1.994335412979126
         ],
         "yaxis": "y"
        },
        {
         "customdata": [
          [
           "The Strokes",
           "15 Minutes"
          ],
          [
           "The Strokes",
           "The Modern Age"
          ],
          [
           "The Strokes",
           "Razorblade"
          ],
          [
           "The Strokes",
           "Life's A Gas"
          ],
          [
           "The Strokes",
           "Clampdown"
          ],
          [
           "The Strokes",
           "I'll Try Anything Once"
          ],
          [
           "The Strokes",
           "Electricityscape"
          ],
          [
           "The Strokes",
           "Hard To Explain"
          ],
          [
           "The Strokes",
           "New York City Cops"
          ],
          [
           "The Strokes",
           "Heart In A Cage"
          ],
          [
           "The Strokes",
           "Juicebox"
          ],
          [
           "The Strokes",
           "You Only Live Once"
          ],
          [
           "The Strokes",
           "Red Light"
          ],
          [
           "The Strokes",
           "Trying Your Luck"
          ],
          [
           "The Strokes",
           "Take It Or Leave It"
          ],
          [
           "The Strokes",
           "Someday"
          ],
          [
           "The Strokes",
           "Fear Of Sleep"
          ],
          [
           "The Strokes",
           "Alone_ Together"
          ],
          [
           "The Strokes",
           "Reptilia"
          ],
          [
           "The Strokes",
           "Killing Lies"
          ],
          [
           "The Strokes",
           "Is This It"
          ],
          [
           "The Strokes",
           "Last Nite"
          ],
          [
           "The Strokes",
           "Modern Girls And Old Fashion Men"
          ],
          [
           "The Strokes",
           "Between Love & Hate"
          ]
         ],
         "hovertemplate": "artist=%{customdata[0]}<br>t-SNE dimension 0=%{x}<br>t-SNE dimension 1=%{y}<br>title=%{customdata[1]}<extra></extra>",
         "legendgroup": "The Strokes",
         "marker": {
          "color": "#BCBD22",
          "opacity": 0.8,
          "size": 15,
          "symbol": "circle"
         },
         "mode": "markers",
         "name": "The Strokes",
         "showlegend": true,
         "type": "scatter",
         "x": [
          2.5036356449127197,
          -6.447201251983643,
          -0.20637355744838715,
          0.8514477014541626,
          10.081853866577148,
          3.6209003925323486,
          -7.350274085998535,
          -0.5881516337394714,
          10.074528694152832,
          5.7966179847717285,
          -1.274964690208435,
          -4.102651596069336,
          1.3142837285995483,
          -3.5117392539978027,
          -10.59154224395752,
          -3.119318962097168,
          8.611084938049316,
          -14.015766143798828,
          -3.676180839538574,
          -1.5505001544952393,
          -3.0038928985595703,
          -8.93407154083252,
          3.3848330974578857,
          -9.754803657531738
         ],
         "xaxis": "x",
         "y": [
          6.011702060699463,
          -0.006711877416819334,
          -0.19676068425178528,
          -2.508495330810547,
          -0.5207023620605469,
          -0.155048206448555,
          -2.984743595123291,
          -2.8898861408233643,
          9.927690505981445,
          -2.467912197113037,
          7.306460380554199,
          0.7368917465209961,
          -1.534013271331787,
          0.03857513517141342,
          -1.2109036445617676,
          -3.6256024837493896,
          4.203364849090576,
          -12.466111183166504,
          -0.2568516433238983,
          -1.2820504903793335,
          -6.284375190734863,
          7.617892742156982,
          0.7154080867767334,
          -1.353023648262024
         ],
         "yaxis": "y"
        },
        {
         "customdata": [
          [
           "Tame Impala",
           "Wander"
          ],
          [
           "Tame Impala",
           "Slide Through My Fingers"
          ],
          [
           "Tame Impala",
           "41 Mosquitoes Flying In Formation"
          ],
          [
           "Tame Impala",
           "Desire Be Desire Go"
          ],
          [
           "Tame Impala",
           "Skeleton Tiger"
          ],
          [
           "Tame Impala",
           "Half Full Glass Of Wine"
          ]
         ],
         "hovertemplate": "artist=%{customdata[0]}<br>t-SNE dimension 0=%{x}<br>t-SNE dimension 1=%{y}<br>title=%{customdata[1]}<extra></extra>",
         "legendgroup": "Tame Impala",
         "marker": {
          "color": "#17BECF",
          "opacity": 0.8,
          "size": 15,
          "symbol": "circle"
         },
         "mode": "markers",
         "name": "Tame Impala",
         "showlegend": true,
         "type": "scatter",
         "x": [
          -16.546552658081055,
          -0.5216332674026489,
          -0.5483022332191467,
          2.448789596557617,
          -4.452838897705078,
          0.6372376680374146
         ],
         "xaxis": "x",
         "y": [
          6.557861804962158,
          -3.1882100105285645,
          1.6228554248809814,
          -7.343591690063477,
          9.07383918762207,
          0.21558907628059387
         ],
         "yaxis": "y"
        }
       ],
       "layout": {
        "legend": {
         "title": {
          "text": "artist"
         },
         "tracegroupgap": 0
        },
        "margin": {
         "t": 60
        },
        "template": {
         "data": {
          "bar": [
           {
            "error_x": {
             "color": "rgb(36,36,36)"
            },
            "error_y": {
             "color": "rgb(36,36,36)"
            },
            "marker": {
             "line": {
              "color": "white",
              "width": 0.5
             }
            },
            "type": "bar"
           }
          ],
          "barpolar": [
           {
            "marker": {
             "line": {
              "color": "white",
              "width": 0.5
             }
            },
            "type": "barpolar"
           }
          ],
          "carpet": [
           {
            "aaxis": {
             "endlinecolor": "rgb(36,36,36)",
             "gridcolor": "white",
             "linecolor": "white",
             "minorgridcolor": "white",
             "startlinecolor": "rgb(36,36,36)"
            },
            "baxis": {
             "endlinecolor": "rgb(36,36,36)",
             "gridcolor": "white",
             "linecolor": "white",
             "minorgridcolor": "white",
             "startlinecolor": "rgb(36,36,36)"
            },
            "type": "carpet"
           }
          ],
          "choropleth": [
           {
            "colorbar": {
             "outlinewidth": 1,
             "tickcolor": "rgb(36,36,36)",
             "ticks": "outside"
            },
            "type": "choropleth"
           }
          ],
          "contour": [
           {
            "colorbar": {
             "outlinewidth": 1,
             "tickcolor": "rgb(36,36,36)",
             "ticks": "outside"
            },
            "colorscale": [
             [
              0,
              "#440154"
             ],
             [
              0.1111111111111111,
              "#482878"
             ],
             [
              0.2222222222222222,
              "#3e4989"
             ],
             [
              0.3333333333333333,
              "#31688e"
             ],
             [
              0.4444444444444444,
              "#26828e"
             ],
             [
              0.5555555555555556,
              "#1f9e89"
             ],
             [
              0.6666666666666666,
              "#35b779"
             ],
             [
              0.7777777777777778,
              "#6ece58"
             ],
             [
              0.8888888888888888,
              "#b5de2b"
             ],
             [
              1,
              "#fde725"
             ]
            ],
            "type": "contour"
           }
          ],
          "contourcarpet": [
           {
            "colorbar": {
             "outlinewidth": 1,
             "tickcolor": "rgb(36,36,36)",
             "ticks": "outside"
            },
            "type": "contourcarpet"
           }
          ],
          "heatmap": [
           {
            "colorbar": {
             "outlinewidth": 1,
             "tickcolor": "rgb(36,36,36)",
             "ticks": "outside"
            },
            "colorscale": [
             [
              0,
              "#440154"
             ],
             [
              0.1111111111111111,
              "#482878"
             ],
             [
              0.2222222222222222,
              "#3e4989"
             ],
             [
              0.3333333333333333,
              "#31688e"
             ],
             [
              0.4444444444444444,
              "#26828e"
             ],
             [
              0.5555555555555556,
              "#1f9e89"
             ],
             [
              0.6666666666666666,
              "#35b779"
             ],
             [
              0.7777777777777778,
              "#6ece58"
             ],
             [
              0.8888888888888888,
              "#b5de2b"
             ],
             [
              1,
              "#fde725"
             ]
            ],
            "type": "heatmap"
           }
          ],
          "heatmapgl": [
           {
            "colorbar": {
             "outlinewidth": 1,
             "tickcolor": "rgb(36,36,36)",
             "ticks": "outside"
            },
            "colorscale": [
             [
              0,
              "#440154"
             ],
             [
              0.1111111111111111,
              "#482878"
             ],
             [
              0.2222222222222222,
              "#3e4989"
             ],
             [
              0.3333333333333333,
              "#31688e"
             ],
             [
              0.4444444444444444,
              "#26828e"
             ],
             [
              0.5555555555555556,
              "#1f9e89"
             ],
             [
              0.6666666666666666,
              "#35b779"
             ],
             [
              0.7777777777777778,
              "#6ece58"
             ],
             [
              0.8888888888888888,
              "#b5de2b"
             ],
             [
              1,
              "#fde725"
             ]
            ],
            "type": "heatmapgl"
           }
          ],
          "histogram": [
           {
            "marker": {
             "line": {
              "color": "white",
              "width": 0.6
             }
            },
            "type": "histogram"
           }
          ],
          "histogram2d": [
           {
            "colorbar": {
             "outlinewidth": 1,
             "tickcolor": "rgb(36,36,36)",
             "ticks": "outside"
            },
            "colorscale": [
             [
              0,
              "#440154"
             ],
             [
              0.1111111111111111,
              "#482878"
             ],
             [
              0.2222222222222222,
              "#3e4989"
             ],
             [
              0.3333333333333333,
              "#31688e"
             ],
             [
              0.4444444444444444,
              "#26828e"
             ],
             [
              0.5555555555555556,
              "#1f9e89"
             ],
             [
              0.6666666666666666,
              "#35b779"
             ],
             [
              0.7777777777777778,
              "#6ece58"
             ],
             [
              0.8888888888888888,
              "#b5de2b"
             ],
             [
              1,
              "#fde725"
             ]
            ],
            "type": "histogram2d"
           }
          ],
          "histogram2dcontour": [
           {
            "colorbar": {
             "outlinewidth": 1,
             "tickcolor": "rgb(36,36,36)",
             "ticks": "outside"
            },
            "colorscale": [
             [
              0,
              "#440154"
             ],
             [
              0.1111111111111111,
              "#482878"
             ],
             [
              0.2222222222222222,
              "#3e4989"
             ],
             [
              0.3333333333333333,
              "#31688e"
             ],
             [
              0.4444444444444444,
              "#26828e"
             ],
             [
              0.5555555555555556,
              "#1f9e89"
             ],
             [
              0.6666666666666666,
              "#35b779"
             ],
             [
              0.7777777777777778,
              "#6ece58"
             ],
             [
              0.8888888888888888,
              "#b5de2b"
             ],
             [
              1,
              "#fde725"
             ]
            ],
            "type": "histogram2dcontour"
           }
          ],
          "mesh3d": [
           {
            "colorbar": {
             "outlinewidth": 1,
             "tickcolor": "rgb(36,36,36)",
             "ticks": "outside"
            },
            "type": "mesh3d"
           }
          ],
          "parcoords": [
           {
            "line": {
             "colorbar": {
              "outlinewidth": 1,
              "tickcolor": "rgb(36,36,36)",
              "ticks": "outside"
             }
            },
            "type": "parcoords"
           }
          ],
          "pie": [
           {
            "automargin": true,
            "type": "pie"
           }
          ],
          "scatter": [
           {
            "marker": {
             "colorbar": {
              "outlinewidth": 1,
              "tickcolor": "rgb(36,36,36)",
              "ticks": "outside"
             }
            },
            "type": "scatter"
           }
          ],
          "scatter3d": [
           {
            "line": {
             "colorbar": {
              "outlinewidth": 1,
              "tickcolor": "rgb(36,36,36)",
              "ticks": "outside"
             }
            },
            "marker": {
             "colorbar": {
              "outlinewidth": 1,
              "tickcolor": "rgb(36,36,36)",
              "ticks": "outside"
             }
            },
            "type": "scatter3d"
           }
          ],
          "scattercarpet": [
           {
            "marker": {
             "colorbar": {
              "outlinewidth": 1,
              "tickcolor": "rgb(36,36,36)",
              "ticks": "outside"
             }
            },
            "type": "scattercarpet"
           }
          ],
          "scattergeo": [
           {
            "marker": {
             "colorbar": {
              "outlinewidth": 1,
              "tickcolor": "rgb(36,36,36)",
              "ticks": "outside"
             }
            },
            "type": "scattergeo"
           }
          ],
          "scattergl": [
           {
            "marker": {
             "colorbar": {
              "outlinewidth": 1,
              "tickcolor": "rgb(36,36,36)",
              "ticks": "outside"
             }
            },
            "type": "scattergl"
           }
          ],
          "scattermapbox": [
           {
            "marker": {
             "colorbar": {
              "outlinewidth": 1,
              "tickcolor": "rgb(36,36,36)",
              "ticks": "outside"
             }
            },
            "type": "scattermapbox"
           }
          ],
          "scatterpolar": [
           {
            "marker": {
             "colorbar": {
              "outlinewidth": 1,
              "tickcolor": "rgb(36,36,36)",
              "ticks": "outside"
             }
            },
            "type": "scatterpolar"
           }
          ],
          "scatterpolargl": [
           {
            "marker": {
             "colorbar": {
              "outlinewidth": 1,
              "tickcolor": "rgb(36,36,36)",
              "ticks": "outside"
             }
            },
            "type": "scatterpolargl"
           }
          ],
          "scatterternary": [
           {
            "marker": {
             "colorbar": {
              "outlinewidth": 1,
              "tickcolor": "rgb(36,36,36)",
              "ticks": "outside"
             }
            },
            "type": "scatterternary"
           }
          ],
          "surface": [
           {
            "colorbar": {
             "outlinewidth": 1,
             "tickcolor": "rgb(36,36,36)",
             "ticks": "outside"
            },
            "colorscale": [
             [
              0,
              "#440154"
             ],
             [
              0.1111111111111111,
              "#482878"
             ],
             [
              0.2222222222222222,
              "#3e4989"
             ],
             [
              0.3333333333333333,
              "#31688e"
             ],
             [
              0.4444444444444444,
              "#26828e"
             ],
             [
              0.5555555555555556,
              "#1f9e89"
             ],
             [
              0.6666666666666666,
              "#35b779"
             ],
             [
              0.7777777777777778,
              "#6ece58"
             ],
             [
              0.8888888888888888,
              "#b5de2b"
             ],
             [
              1,
              "#fde725"
             ]
            ],
            "type": "surface"
           }
          ],
          "table": [
           {
            "cells": {
             "fill": {
              "color": "rgb(237,237,237)"
             },
             "line": {
              "color": "white"
             }
            },
            "header": {
             "fill": {
              "color": "rgb(217,217,217)"
             },
             "line": {
              "color": "white"
             }
            },
            "type": "table"
           }
          ]
         },
         "layout": {
          "annotationdefaults": {
           "arrowhead": 0,
           "arrowwidth": 1
          },
          "coloraxis": {
           "colorbar": {
            "outlinewidth": 1,
            "tickcolor": "rgb(36,36,36)",
            "ticks": "outside"
           }
          },
          "colorscale": {
           "diverging": [
            [
             0,
             "rgb(103,0,31)"
            ],
            [
             0.1,
             "rgb(178,24,43)"
            ],
            [
             0.2,
             "rgb(214,96,77)"
            ],
            [
             0.3,
             "rgb(244,165,130)"
            ],
            [
             0.4,
             "rgb(253,219,199)"
            ],
            [
             0.5,
             "rgb(247,247,247)"
            ],
            [
             0.6,
             "rgb(209,229,240)"
            ],
            [
             0.7,
             "rgb(146,197,222)"
            ],
            [
             0.8,
             "rgb(67,147,195)"
            ],
            [
             0.9,
             "rgb(33,102,172)"
            ],
            [
             1,
             "rgb(5,48,97)"
            ]
           ],
           "sequential": [
            [
             0,
             "#440154"
            ],
            [
             0.1111111111111111,
             "#482878"
            ],
            [
             0.2222222222222222,
             "#3e4989"
            ],
            [
             0.3333333333333333,
             "#31688e"
            ],
            [
             0.4444444444444444,
             "#26828e"
            ],
            [
             0.5555555555555556,
             "#1f9e89"
            ],
            [
             0.6666666666666666,
             "#35b779"
            ],
            [
             0.7777777777777778,
             "#6ece58"
            ],
            [
             0.8888888888888888,
             "#b5de2b"
            ],
            [
             1,
             "#fde725"
            ]
           ],
           "sequentialminus": [
            [
             0,
             "#440154"
            ],
            [
             0.1111111111111111,
             "#482878"
            ],
            [
             0.2222222222222222,
             "#3e4989"
            ],
            [
             0.3333333333333333,
             "#31688e"
            ],
            [
             0.4444444444444444,
             "#26828e"
            ],
            [
             0.5555555555555556,
             "#1f9e89"
            ],
            [
             0.6666666666666666,
             "#35b779"
            ],
            [
             0.7777777777777778,
             "#6ece58"
            ],
            [
             0.8888888888888888,
             "#b5de2b"
            ],
            [
             1,
             "#fde725"
            ]
           ]
          },
          "colorway": [
           "#1F77B4",
           "#FF7F0E",
           "#2CA02C",
           "#D62728",
           "#9467BD",
           "#8C564B",
           "#E377C2",
           "#7F7F7F",
           "#BCBD22",
           "#17BECF"
          ],
          "font": {
           "color": "rgb(36,36,36)"
          },
          "geo": {
           "bgcolor": "white",
           "lakecolor": "white",
           "landcolor": "white",
           "showlakes": true,
           "showland": true,
           "subunitcolor": "white"
          },
          "hoverlabel": {
           "align": "left"
          },
          "hovermode": "closest",
          "mapbox": {
           "style": "light"
          },
          "paper_bgcolor": "white",
          "plot_bgcolor": "white",
          "polar": {
           "angularaxis": {
            "gridcolor": "rgb(232,232,232)",
            "linecolor": "rgb(36,36,36)",
            "showgrid": false,
            "showline": true,
            "ticks": "outside"
           },
           "bgcolor": "white",
           "radialaxis": {
            "gridcolor": "rgb(232,232,232)",
            "linecolor": "rgb(36,36,36)",
            "showgrid": false,
            "showline": true,
            "ticks": "outside"
           }
          },
          "scene": {
           "xaxis": {
            "backgroundcolor": "white",
            "gridcolor": "rgb(232,232,232)",
            "gridwidth": 2,
            "linecolor": "rgb(36,36,36)",
            "showbackground": true,
            "showgrid": false,
            "showline": true,
            "ticks": "outside",
            "zeroline": false,
            "zerolinecolor": "rgb(36,36,36)"
           },
           "yaxis": {
            "backgroundcolor": "white",
            "gridcolor": "rgb(232,232,232)",
            "gridwidth": 2,
            "linecolor": "rgb(36,36,36)",
            "showbackground": true,
            "showgrid": false,
            "showline": true,
            "ticks": "outside",
            "zeroline": false,
            "zerolinecolor": "rgb(36,36,36)"
           },
           "zaxis": {
            "backgroundcolor": "white",
            "gridcolor": "rgb(232,232,232)",
            "gridwidth": 2,
            "linecolor": "rgb(36,36,36)",
            "showbackground": true,
            "showgrid": false,
            "showline": true,
            "ticks": "outside",
            "zeroline": false,
            "zerolinecolor": "rgb(36,36,36)"
           }
          },
          "shapedefaults": {
           "fillcolor": "black",
           "line": {
            "width": 0
           },
           "opacity": 0.3
          },
          "ternary": {
           "aaxis": {
            "gridcolor": "rgb(232,232,232)",
            "linecolor": "rgb(36,36,36)",
            "showgrid": false,
            "showline": true,
            "ticks": "outside"
           },
           "baxis": {
            "gridcolor": "rgb(232,232,232)",
            "linecolor": "rgb(36,36,36)",
            "showgrid": false,
            "showline": true,
            "ticks": "outside"
           },
           "bgcolor": "white",
           "caxis": {
            "gridcolor": "rgb(232,232,232)",
            "linecolor": "rgb(36,36,36)",
            "showgrid": false,
            "showline": true,
            "ticks": "outside"
           }
          },
          "title": {
           "x": 0.05
          },
          "xaxis": {
           "automargin": true,
           "gridcolor": "rgb(232,232,232)",
           "linecolor": "rgb(36,36,36)",
           "showgrid": false,
           "showline": true,
           "ticks": "outside",
           "title": {
            "standoff": 15
           },
           "zeroline": false,
           "zerolinecolor": "rgb(36,36,36)"
          },
          "yaxis": {
           "automargin": true,
           "gridcolor": "rgb(232,232,232)",
           "linecolor": "rgb(36,36,36)",
           "showgrid": false,
           "showline": true,
           "ticks": "outside",
           "title": {
            "standoff": 15
           },
           "zeroline": false,
           "zerolinecolor": "rgb(36,36,36)"
          }
         }
        },
        "title": {
         "text": "Song Lyric Embeddings",
         "x": 0.19,
         "xanchor": "center",
         "y": 0.95,
         "yanchor": "top"
        },
        "xaxis": {
         "anchor": "y",
         "domain": [
          0,
          1
         ],
         "title": {
          "text": "t-SNE dimension 0"
         }
        },
        "yaxis": {
         "anchor": "x",
         "domain": [
          0,
          1
         ],
         "title": {
          "text": "t-SNE dimension 1"
         }
        }
       }
      },
      "text/html": [
       "<div>\n",
       "        \n",
       "        \n",
       "            <div id=\"a6186b31-60fe-43b7-b72e-4a92c0820690\" class=\"plotly-graph-div\" style=\"height:525px; width:100%;\"></div>\n",
       "            <script type=\"text/javascript\">\n",
       "                require([\"plotly\"], function(Plotly) {\n",
       "                    window.PLOTLYENV=window.PLOTLYENV || {};\n",
       "                    \n",
       "                if (document.getElementById(\"a6186b31-60fe-43b7-b72e-4a92c0820690\")) {\n",
       "                    Plotly.newPlot(\n",
       "                        'a6186b31-60fe-43b7-b72e-4a92c0820690',\n",
       "                        [{\"customdata\": [[\"Snoop Dogg\", \"The One And Only (Edited)\"], [\"Snoop Dogg\", \"Sexual Eruption\"], [\"Snoop Dogg\", \"Show Me Love (Explicit)\"], [\"Snoop Dogg\", \"Beat Up On Yo Pads\"], [\"Snoop Dogg\", \"Gin And Juice II (Explicit)\"], [\"Snoop Dogg\", \"2 Of Amereicaz Most Wanted\"], [\"Snoop Dogg\", \"Snoop D.O. Double G\"], [\"Snoop Dogg\", \"Look Out\"], [\"Snoop Dogg\", \"Bang Out\"], [\"Snoop Dogg\", \"Betta Days (Explicit)\"], [\"Snoop Dogg\", \"Pimp Slapp'd (Edited)\"], [\"Snoop Dogg\", \"Dolomite Intro (Explicit)\"], [\"Snoop Dogg\", \"A Message 2 Fat Cuzz (Edited)\"], [\"Snoop Dogg\", \"Why Did You Leave Me\"], [\"Snoop Dogg\", \"Snoopafella (Edited)\"], [\"Snoop Dogg\", \"10 Lil' Crips\"], [\"Snoop Dogg\", \"Straight Ballin'\"], [\"Snoop Dogg\", \"Hustle And Ball (Explicit)\"], [\"Snoop Dogg\", \"Dogghouse\"], [\"Snoop Dogg\", \"Fresh Pair of Panties On\"], [\"Snoop Dogg\", \"Those Gurlz\"], [\"Snoop Dogg\", \"Upside Down (Explicit)\"], [\"Snoop Dogg\", \"Sets Up\"], [\"Snoop Dogg\", \"Snoop Dogg Intro\"]], \"hovertemplate\": \"artist=%{customdata[0]}<br>t-SNE dimension 0=%{x}<br>t-SNE dimension 1=%{y}<br>title=%{customdata[1]}<extra></extra>\", \"legendgroup\": \"Snoop Dogg\", \"marker\": {\"color\": \"#1F77B4\", \"opacity\": 0.8, \"size\": 15, \"symbol\": \"circle\"}, \"mode\": \"markers\", \"name\": \"Snoop Dogg\", \"showlegend\": true, \"type\": \"scatter\", \"x\": [6.755438327789307, 4.453805446624756, 3.940727949142456, 6.084778785705566, 5.540463447570801, 7.082093238830566, 5.054286479949951, 6.808389186859131, 10.754349708557129, 10.486239433288574, 10.674015998840332, 2.2179152965545654, 8.906776428222656, 9.164970397949219, 9.05984878540039, 12.261672019958496, 9.117244720458984, 12.210005760192871, 10.806488037109375, 3.802687168121338, 3.8919951915740967, 9.53791618347168, 6.069442272186279, 6.362498760223389], \"xaxis\": \"x\", \"y\": [12.02261734008789, 12.611482620239258, 11.389323234558105, 12.465433120727539, 13.809954643249512, 13.365623474121094, 11.724719047546387, 14.0655517578125, 13.614028930664062, 12.236190795898438, 13.181790351867676, 8.54517936706543, 2.001079797744751, 14.051029205322266, 9.455069541931152, 11.23013687133789, 13.12591552734375, 11.532280921936035, 11.27861213684082, 11.629487991333008, 11.588382720947266, 12.810932159423828, 13.565901756286621, 8.898372650146484], \"yaxis\": \"y\"}, {\"customdata\": [[\"Blink-182\", \"Not Now\"], [\"Blink-182\", \"A New Hope\"], [\"Blink-182\", \"Man Overboard\"], [\"Blink-182\", \"Asthenia\"], [\"Blink-182\", \"All Of This\"], [\"Blink-182\", \"Carousel\"], [\"Blink-182\", \"Shut Up\"], [\"Blink-182\", \"Stay Together For The Kids\"], [\"Blink-182\", \"Every Time I Look For You\"], [\"Blink-182\", \"Does My Breath Smell?\"], [\"Blink-182\", \"Roller Coaster\"], [\"Blink-182\", \"21 Days\"], [\"Blink-182\", \"GO\"], [\"Blink-182\", \"Dumpweed\"], [\"Blink-182\", \"Toast and Bananas\"], [\"Blink-182\", \"Always\"], [\"Blink-182\", \"Reebok Commercial\"], [\"Blink-182\", \"I Won't Be Home For Christmas\"], [\"Blink-182\", \"Rich Lips\"], [\"Blink-182\", \"First Date\"], [\"Blink-182\", \"Depends\"], [\"Blink-182\", \"Anthem Part Two\"], [\"Blink-182\", \"Dysentery Gary\"], [\"Blink-182\", \"Wendy Clear\"], [\"Blink-182\", \"Reckless Abandon\"], [\"Blink-182\", \"Mutt\"], [\"Blink-182\", \"Touchdown Boy\"], [\"Blink-182\", \"Adam's Song\"], [\"Blink-182\", \"The Rock Show\"], [\"Blink-182\", \"Give Me One Good Reason\"], [\"Blink-182\", \"Skit 13 (Blink 182 / 008811237929)\"], [\"Blink-182\", \"My Pet Sally\"], [\"Blink-182\", \"I'm Sorry\"], [\"Blink-182\", \"Story Of A Lonely Guy\"], [\"Blink-182\", \"Aliens Exist\"], [\"Blink-182\", \"Another Girl Another Planet\"], [\"Blink-182\", \"M+M's\"], [\"Blink-182\", \"Ben Wah Balls\"], [\"Blink-182\", \"Happy Holidays_ You Bastard\"], [\"Blink-182\", \"Degenerate\"], [\"Blink-182\", \"The Girl Next Door\"], [\"Blink-182\", \"Strings\"], [\"Blink-182\", \"Pathetic\"], [\"Blink-182\", \"Point of View\"], [\"Blink-182\", \"Please Take Me Home\"], [\"Blink-182\", \"What's My Age Again?\"], [\"Blink-182\", \"All The Small Things\"], [\"Blink-182\", \"Untitled\"], [\"Blink-182\", \"Violence\"], [\"Blink-182\", \"Boring\"], [\"Blink-182\", \"Time\"], [\"Blink-182\", \"Romeo and Rebecca\"], [\"Blink-182\", \"Skit 4 (Blink 182 / 008811237929)\"], [\"Blink-182\", \"Toast & Bananas\"], [\"Blink-182\", \"Don't Leave Me\"], [\"Blink-182\", \"Blew Job\"], [\"Blink-182\", \"Feeling This\"], [\"Blink-182\", \"TV\"], [\"Blink-182\", \"Emo\"], [\"Blink-182\", \"Apple Shampoo\"], [\"Blink-182\", \"Romeo & Rebecca\"], [\"Blink-182\", \"The Party Song\"], [\"Blink-182\", \"Peggy Sue\"], [\"Blink-182\", \"The Fallen Interlude\"], [\"Blink-182\", \"Enthused\"], [\"Blink-182\", \"Online Songs\"], [\"Blink-182\", \"Voyeur\"], [\"Blink-182\", \"I Miss You\"], [\"Blink-182\", \"Going Away To College\"], [\"Blink-182\", \"Fentoozler\"], [\"Blink-182\", \"I'm Lost Without You\"], [\"Blink-182\", \"Lemmings\"], [\"Blink-182\", \"Skit 12 (Blink 182 / 008811237929)\"], [\"Blink-182\", \"Stockholm Syndrome\"]], \"hovertemplate\": \"artist=%{customdata[0]}<br>t-SNE dimension 0=%{x}<br>t-SNE dimension 1=%{y}<br>title=%{customdata[1]}<extra></extra>\", \"legendgroup\": \"Blink-182\", \"marker\": {\"color\": \"#FF7F0E\", \"opacity\": 0.8, \"size\": 15, \"symbol\": \"circle\"}, \"mode\": \"markers\", \"name\": \"Blink-182\", \"showlegend\": true, \"type\": \"scatter\", \"x\": [2.3566806316375732, 3.059398651123047, -0.30200111865997314, 1.1372278928756714, -13.233210563659668, 2.6938135623931885, 6.969316482543945, -3.565216064453125, -4.3484578132629395, 4.013646125793457, -5.109289169311523, -0.8019116520881653, 6.662245750427246, -1.4231576919555664, -3.846250057220459, -2.6405222415924072, 2.4519765377044678, 4.134634971618652, 6.433021545410156, -2.4352169036865234, 4.293147087097168, 10.493805885314941, 5.677994251251221, 4.38225793838501, 7.783583641052246, 4.7574591636657715, 0.4907520115375519, 0.9051226377487183, 3.1483473777770996, 5.429284572601318, 0.9603747725486755, -4.587449073791504, -6.4981818199157715, -1.0897197723388672, 4.452060222625732, 13.886101722717285, -2.7733519077301025, 1.4001896381378174, 4.638012886047363, 8.720237731933594, 5.17531156539917, -2.6626899242401123, 5.062623023986816, 0.9708960056304932, -3.2777442932128906, 5.526009559631348, -13.651350021362305, 2.6845524311065674, 0.9846048355102539, 3.0175931453704834, 9.622015953063965, -2.545830249786377, 6.437599182128906, -3.863867998123169, -0.128468856215477, 4.525346755981445, -5.27100133895874, 5.254818439483643, -2.0775837898254395, 0.8537702560424805, -2.5729117393493652, -3.640801429748535, 4.745861053466797, -2.0894477367401123, 3.145460367202759, -6.729828357696533, 4.549828052520752, -4.329050540924072, 2.1772632598876953, 4.0586981773376465, -7.211516857147217, -4.409763336181641, -13.700679779052734, 2.4081389904022217], \"xaxis\": \"x\", \"y\": [-11.78492259979248, -1.2417293787002563, -3.546501874923706, -4.4080095291137695, 1.7194944620132446, 7.73802375793457, 5.7558817863464355, -5.27542781829834, -6.36754846572876, 0.41183188557624817, -1.8885869979858398, -5.944765567779541, 2.4626734256744385, -0.10858072340488434, -1.2794642448425293, 2.0661721229553223, 2.572256326675415, 6.796043872833252, 4.629025936126709, 2.2654924392700195, 8.909446716308594, -1.9268556833267212, 7.818443775177002, 3.3902013301849365, 4.479219436645508, 0.16418896615505219, 8.9191255569458, 0.4313511252403259, 5.710592269897461, 2.8627607822418213, 6.708183765411377, 6.396519660949707, -6.285228252410889, -3.930428981781006, 3.3136441707611084, -0.13669778406620026, -0.32003358006477356, 6.1210856437683105, 5.237949848175049, 11.335197448730469, 5.9665727615356445, 1.5974323749542236, 3.0503597259521484, -7.172080993652344, -3.94511079788208, 2.705474853515625, 6.495556354522705, 2.820160150527954, -1.3375577926635742, -4.888912677764893, 4.554693698883057, -1.3833905458450317, 4.637691020965576, -1.3017733097076416, -0.01881919428706169, 8.315130233764648, -3.979839563369751, 3.4685795307159424, -1.5663241147994995, -3.4748144149780273, -1.328218698501587, 3.520172357559204, 0.7496342658996582, 4.488559246063232, -0.42356666922569275, -9.37824535369873, 8.302923202514648, -3.271491050720215, 5.324845790863037, 4.799044609069824, -8.23343276977539, -0.3833903670310974, 6.268874168395996, -9.295848846435547], \"yaxis\": \"y\"}, {\"customdata\": [[\"Red Hot Chili Peppers\", \"Get On Top (Album Version)\"], [\"Red Hot Chili Peppers\", \"Naked In The Rain (Album Version)\"], [\"Red Hot Chili Peppers\", \"Venice Queen (Album Version)\"], [\"Red Hot Chili Peppers\", \"Snow [Hey Oh] [Live Version]\"], [\"Red Hot Chili Peppers\", \"American Ghost Dance (2003 Digital Remastered)\"], [\"Red Hot Chili Peppers\", \"Emit Remmus (Album Version)\"], [\"Red Hot Chili Peppers\", \"The Greeting Song (Album Version)\"], [\"Red Hot Chili Peppers\", \"Hard To Concentrate (Album Version)\"], [\"Red Hot Chili Peppers\", \"I'll Be Your Domino (Non-Album Track)\"], [\"Red Hot Chili Peppers\", \"Buckle Down (2002 Digital Remaster)\"], [\"Red Hot Chili Peppers\", \"I Could Die For You (Album Version)\"], [\"Red Hot Chili Peppers\", \"Love Trilogy (2003 Digital Remaster) ()\"], [\"Red Hot Chili Peppers\", \"Knock Me Down (2003 Digital Remaster)\"], [\"Red Hot Chili Peppers\", \"She's Only 18 (Album Version)\"], [\"Red Hot Chili Peppers\", \"Behind The Sun (Instrumental Demo) (2002 Digital Remaster)\"], [\"Red Hot Chili Peppers\", \"Wet Sand (Album Version)\"], [\"Red Hot Chili Peppers\", \"Road Trippin' (Album Version)\"], [\"Red Hot Chili Peppers\", \"Mercy Mercy (Non-Album Track)\"], [\"Red Hot Chili Peppers\", \"Baby Appeal (2002 Digital Remastser) ()\"], [\"Red Hot Chili Peppers\", \"Lovin' And Touchin' (2003 Digitally Remastered)\"], [\"Red Hot Chili Peppers\", \"The Zephyr Song (Album Version)\"], [\"Red Hot Chili Peppers\", \"Universally Speaking (Album Version)\"], [\"Red Hot Chili Peppers\", \"Good Time Boys (2003 Digital Remaster)\"], [\"Red Hot Chili Peppers\", \"Minor Thing (Album Version)\"], [\"Red Hot Chili Peppers\", \"Hollywood (Africa) (2003 Digitally Remastered)\"], [\"Red Hot Chili Peppers\", \"You Always Sing The Same (2002 Digital Remaster)\"], [\"Red Hot Chili Peppers\", \"Turn It Again (Album Version)\"], [\"Red Hot Chili Peppers\", \"Funky Monks (Album Version)\"], [\"Red Hot Chili Peppers\", \"Lately (Non-Album Track)\"], [\"Red Hot Chili Peppers\", \"Apache Rose Peacock (Album Version)\"], [\"Red Hot Chili Peppers\", \"She Looks To Me (Album Version)\"], [\"Red Hot Chili Peppers\", \"Hollywood (Africa)\"], [\"Red Hot Chili Peppers\", \"Higher Ground (Album Version)\"], [\"Red Hot Chili Peppers\", \"Warm Tape (Album Version)\"], [\"Red Hot Chili Peppers\", \"Blues For Meister\"], [\"Red Hot Chili Peppers\", \"Castles Made Of Sand (Studio) (Bonus Track)\"], [\"Red Hot Chili Peppers\", \"Stadium Arcadium (Album Version)\"], [\"Red Hot Chili Peppers\", \"Around The World (Album Version)\"], [\"Red Hot Chili Peppers\", \"Millionaires Against Hunger (2002 Digital Remastser) (Explicit)\"], [\"Red Hot Chili Peppers\", \"Throw Away Your Television (Album Version)\"], [\"Red Hot Chili Peppers\", \"Especially In Michigan (Album Version)\"], [\"Red Hot Chili Peppers\", \"Police Helicopter (Demo Version) (2003 Digital Remaster)\"], [\"Red Hot Chili Peppers\", \"Mellowship Slinky In B Major (Album Version)\"], [\"Red Hot Chili Peppers\", \"Yertle The Turtle (2003 Digitally Remastered)\"], [\"Red Hot Chili Peppers\", \"Nobody Weird Like Me (2003 Digital Remaster)\"], [\"Red Hot Chili Peppers\", \"On Mercury (Album Version)\"], [\"Red Hot Chili Peppers\", \"Magic Johnson (2003 Digital Remaster)\"], [\"Red Hot Chili Peppers\", \"Parallel Universe (Album Version)\"], [\"Red Hot Chili Peppers\", \"C'mon Girl (Album Version)\"], [\"Red Hot Chili Peppers\", \"If You Want Me To Stay (Pink Mustang Mix)\"], [\"Red Hot Chili Peppers\", \"Thirty Dirty Birds (2003 Digitally Remastered)\"], [\"Red Hot Chili Peppers\", \"Let's Make Evil (Bonus Track)\"], [\"Red Hot Chili Peppers\", \"What It Is (AKA Nina's Song) (Demo) (Digitally Remastered 02) ()\"], [\"Red Hot Chili Peppers\", \"Green Heaven (Demo Version) (Digitally Remastered 02) ()\"], [\"Red Hot Chili Peppers\", \"Hollywood (Africa) (Extended Dance Mix)\"], [\"Red Hot Chili Peppers\", \"Shallow Be Thy Game (Album Version)\"], [\"Red Hot Chili Peppers\", \"Tell Me Baby (Album Version)\"], [\"Red Hot Chili Peppers\", \"My Lovely Man (Album Version)\"], [\"Red Hot Chili Peppers\", \"Blood Sugar Sex Magik (Album Version)\"], [\"Red Hot Chili Peppers\", \"Save This Lady (Non-Album Track)\"], [\"Red Hot Chili Peppers\", \"I Like Dirt (Album Version)\"], [\"Red Hot Chili Peppers\", \"Storm In A Teacup (Album Version)\"], [\"Red Hot Chili Peppers\", \"Breaking The Girl (Album Version)\"], [\"Red Hot Chili Peppers\", \"You Always Sing The Same (Demo)\"], [\"Red Hot Chili Peppers\", \"Deep Kick (Album Version)\"], [\"Red Hot Chili Peppers\", \"Blackeyed Blonde (2003 Digitally Remastered)\"], [\"Red Hot Chili Peppers\", \"Falling Into Grace (Album Version)\"], [\"Red Hot Chili Peppers\", \"Soul To Squeeze (Album Version)\"], [\"Red Hot Chili Peppers\", \"Right On Time (Album Version)\"], [\"Red Hot Chili Peppers\", \"Stranded (Demo)\"], [\"Red Hot Chili Peppers\", \"Me And My Friends (2003 Digital Remaster)\"], [\"Red Hot Chili Peppers\", \"Subterranean Homesick Blues (2003 Digital Remaster)\"], [\"Red Hot Chili Peppers\", \"Skinny Sweaty Man (2003 Digital Remaster)\"], [\"Red Hot Chili Peppers\", \"Behind The Sun\"], [\"Red Hot Chili Peppers\", \"Hump de Bump (Album Version)\"], [\"Red Hot Chili Peppers\", \"Under The Bridge (Album Version)\"], [\"Red Hot Chili Peppers\", \"Give It Away (Album Version)\"], [\"Red Hot Chili Peppers\", \"Salute To Kareem (Demo)\"], [\"Red Hot Chili Peppers\", \"Get Up and Jump (Demo Version) (Digitally Remastered 02) ()\"], [\"Red Hot Chili Peppers\", \"Desecration Smile (Album Version)\"], [\"Red Hot Chili Peppers\", \"Organic Anti-Beat Box Band (2003 Digital Remaster)\"], [\"Red Hot Chili Peppers\", \"The Righteous And The Wicked (Album Version)\"], [\"Red Hot Chili Peppers\", \"Freaky Styley (2003 Digitally Remastered)\"], [\"Red Hot Chili Peppers\", \"Strip My Mind (Album Version)\"], [\"Red Hot Chili Peppers\", \"Why Don't You Love Me (2002 Digital Remaster)\"], [\"Red Hot Chili Peppers\", \"Jungle Man\"], [\"Red Hot Chili Peppers\", \"Over Funk (Bonus Track)\"], [\"Red Hot Chili Peppers\", \"Taste The Pain\"], [\"Red Hot Chili Peppers\", \"Death Of A Martian (Album Version)\"], [\"Red Hot Chili Peppers\", \"Fire (2003 Digital Remaster)\"], [\"Red Hot Chili Peppers\", \"True Men Don't Kill Coyotes (24-Bit Digitally Remastered 02)\"], [\"Red Hot Chili Peppers\", \"Knock Me Down (Original Long Version)\"], [\"Red Hot Chili Peppers\", \"I Could Have Lied (Album Version)\"], [\"Red Hot Chili Peppers\", \"Californication (Album Version)\"], [\"Red Hot Chili Peppers\", \"Out In L.A. (2002 Digital Remastser) ()\"], [\"Red Hot Chili Peppers\", \"Slow Cheetah (Album Version)\"]], \"hovertemplate\": \"artist=%{customdata[0]}<br>t-SNE dimension 0=%{x}<br>t-SNE dimension 1=%{y}<br>title=%{customdata[1]}<extra></extra>\", \"legendgroup\": \"Red Hot Chili Peppers\", \"marker\": {\"color\": \"#2CA02C\", \"opacity\": 0.8, \"size\": 15, \"symbol\": \"circle\"}, \"mode\": \"markers\", \"name\": \"Red Hot Chili Peppers\", \"showlegend\": true, \"type\": \"scatter\", \"x\": [6.596621036529541, 7.413082599639893, 5.029504776000977, -0.9413048028945923, 6.349835395812988, 0.3598494231700897, 0.22980473935604095, 8.998594284057617, 1.637436032295227, 2.1116020679473877, -2.8660736083984375, 11.240880012512207, -1.7598199844360352, -3.697075128555298, 0.625644326210022, -0.11654376238584518, -6.352496147155762, 1.1656535863876343, -0.08214525878429413, -5.744508266448975, 3.913696765899658, 0.6831018328666687, 7.960481643676758, 8.860852241516113, 1.6454039812088013, -1.8471068143844604, 5.176307201385498, -0.11430303752422333, 1.3348630666732788, 7.500875949859619, -0.5979627370834351, 1.6571696996688843, 17.81173324584961, -1.287011742591858, 0.9808276891708374, 1.7200431823730469, -3.1471593379974365, 11.029253959655762, 12.98361587524414, 9.465018272399902, 7.358333110809326, 4.96921968460083, 6.726891040802002, 0.20661744475364685, 5.992878437042236, 1.1254839897155762, 9.14825439453125, 7.4089765548706055, 0.33095866441726685, -13.083494186401367, 2.5155534744262695, 7.4296674728393555, 7.832608222961426, 10.585566520690918, 9.508264541625977, 8.05686092376709, -7.713482856750488, -10.203474044799805, 9.203943252563477, 0.8874683380126953, 0.3453082740306854, 7.512555122375488, 2.748063325881958, -1.8475829362869263, 2.259547472000122, 9.338879585266113, -1.5927517414093018, 14.452829360961914, -3.7218146324157715, -7.606037616729736, 1.3912312984466553, 8.74587631225586, -0.7217297554016113, 0.6276878118515015, 1.0339146852493286, -5.151357173919678, 10.050107955932617, -4.367839336395264, 3.044234275817871, 4.625454425811768, 4.5240797996521, 14.132533073425293, 1.8006551265716553, 7.161806583404541, -10.099491119384766, 8.325454711914062, 1.660294532775879, -11.566741943359375, 2.8355302810668945, 1.051222562789917, 7.263175010681152, -1.675667643547058, 0.9782916903495789, 1.2562073469161987, 1.584025263786316, 2.936701774597168], \"xaxis\": \"x\", \"y\": [14.061867713928223, 4.659088134765625, 8.352967262268066, -7.984272480010986, 1.4558069705963135, 8.912236213684082, 13.189105987548828, 0.9674646258354187, 2.0653512477874756, 9.685155868530273, -10.253776550292969, 2.834866762161255, 1.7768241167068481, 7.689018249511719, -4.615082263946533, 5.550363063812256, 0.7594795823097229, -4.310291290283203, 12.223422050476074, 6.364253520965576, -0.752365231513977, -5.4384918212890625, 12.26838493347168, 9.659327507019043, 12.954582214355469, 5.785226821899414, 12.914953231811523, 5.41356897354126, -1.063736915588379, 10.27839183807373, 1.0571213960647583, 12.970852851867676, -1.4838571548461914, 3.595522880554199, 9.156765937805176, 1.3712300062179565, -3.1082189083099365, 14.689563751220703, 1.5752143859863281, -1.4366521835327148, 3.3093202114105225, 9.767828941345215, 10.415108680725098, 4.061183929443359, 11.176214218139648, 18.463836669921875, 10.32468318939209, 4.623378276824951, 4.0417561531066895, 0.8994793891906738, 8.662042617797852, -2.189042091369629, 4.502214431762695, 6.526679992675781, 11.197332382202148, -0.8221040964126587, 3.2297897338867188, 1.2659070491790771, -1.880133032798767, 8.34197998046875, 3.8252267837524414, 4.740922451019287, -6.887091159820557, 5.724881172180176, 5.570163726806641, 7.341282844543457, 5.483868598937988, 0.5138327479362488, -3.815709352493286, -1.6657603979110718, 12.771931648254395, 7.544348239898682, 7.449912071228027, -4.618947982788086, 11.433611869812012, 7.072324752807617, -3.0281331539154053, 4.773242473602295, 10.945828437805176, -1.1306294202804565, 11.692533493041992, -1.2477748394012451, 3.271885633468628, 9.183663368225098, 10.391741752624512, 7.836656093597412, 5.506453037261963, -8.12472152709961, -1.7066624164581299, 11.117745399475098, 1.4412968158721924, 1.828441858291626, -3.1094417572021484, 2.1239352226257324, 12.896331787109375, -3.857264757156372], \"yaxis\": \"y\"}, {\"customdata\": [[\"Eminem\", \"Ricky Ticky Toc\"], [\"Eminem\", \"The Way I Am\"], [\"Eminem\", \"Beautiful\"], [\"Eminem\", \"Paul\"], [\"Eminem\", \"Hailie's Song\"], [\"Eminem\", \"Without Me\"], [\"Eminem\", \"8 Mile\"], [\"Eminem\", \"Dr. West\"], [\"Eminem\", \"Curtains Up\"], [\"Eminem\", \"Yellow Brick Road\"], [\"Eminem\", \"If I Had\"], [\"Eminem\", \"Em Calls Paul (skit)\"], [\"Eminem\", \"When I'm Gone\"], [\"Eminem\", \"Bad Influence\"], [\"Eminem\", \"'97 Bonnie & Clyde\"], [\"Eminem\", \"Rock Bottom\"], [\"Eminem\", \"Careful What You Wish For\"], [\"Eminem\", \"Puke\"], [\"Eminem\", \"My Darling\"], [\"Eminem\", \"Public Service Announcement\"], [\"Eminem\", \"Just Don't Give\"], [\"Eminem\", \"We As Americans\"], [\"Eminem\", \"Ken Kaniff\"], [\"Eminem\", \"Shady Narcotics\"], [\"Eminem\", \"Love You More\"], [\"Eminem\", \"Square Dance\"], [\"Eminem\", \"Still Don't Give\"], [\"Eminem\", \"Hazardous Youth\"], [\"Eminem\", \"Tonya\"], [\"Eminem\", \"Criminal\"], [\"Eminem\", \"FACK\"], [\"Eminem\", \"Public Enemy #1\"], [\"Eminem\", \"My 1st Single\"], [\"Eminem\", \"**** You\"], [\"Eminem\", \"My Name Is\"], [\"Eminem\", \"Any Man\"], [\"Eminem\", \"Cleanin' Out My Closet\"], [\"Eminem\", \"Curtains Close\"], [\"Eminem\", \"The Kids\"], [\"Eminem\", \"The Kiss\"], [\"Eminem\", \"Cum On Everybody\"], [\"Eminem\", \"Rabbit Run\"], [\"Eminem\", \"Sing For The Moment\"], [\"Eminem\", \"Lose Yourself\"], [\"Eminem\", \"Paul (skit)\"], [\"Eminem\", \"The Conspiracy (Freestyle)\"], [\"Eminem\", \"Like Toy Soldiers\"], [\"Eminem\", \"Marshall Mathers\"], [\"Eminem\", \"Mockingbird\"], [\"Eminem\", \"Mr. Mathers\"], [\"Eminem\", \"No Apologies\"]], \"hovertemplate\": \"artist=%{customdata[0]}<br>t-SNE dimension 0=%{x}<br>t-SNE dimension 1=%{y}<br>title=%{customdata[1]}<extra></extra>\", \"legendgroup\": \"Eminem\", \"marker\": {\"color\": \"#D62728\", \"opacity\": 0.8, \"size\": 15, \"symbol\": \"circle\"}, \"mode\": \"markers\", \"name\": \"Eminem\", \"showlegend\": true, \"type\": \"scatter\", \"x\": [5.491713523864746, 5.641539573669434, 4.444303035736084, 0.5186765789985657, 5.750620365142822, 4.294959545135498, 5.4058613777160645, -1.0947879552841187, 0.5415023565292358, 5.183362007141113, 6.861126899719238, 6.080900192260742, -5.253662109375, 6.967147350311279, 6.293120384216309, 8.481157302856445, 9.243951797485352, 6.678559303283691, -1.4962033033370972, 9.307604789733887, 9.091588973999023, 10.532957077026367, 3.7625732421875, 7.329883575439453, 7.754630088806152, 8.210373878479004, 9.985544204711914, 10.408164978027344, 6.5775837898254395, 10.08006763458252, 9.396994590759277, 7.99508810043335, 9.616074562072754, 11.811978340148926, 8.831174850463867, 11.135032653808594, 7.24661111831665, 4.911929130554199, 4.165127277374268, 9.322354316711426, 10.051172256469727, 7.717445373535156, 7.26663875579834, 6.45710563659668, 8.163273811340332, 7.947653293609619, 8.331428527832031, 6.735136032104492, 4.992342472076416, 4.508730888366699, 4.788575172424316], \"xaxis\": \"x\", \"y\": [10.10013198852539, 10.507609367370605, 7.677149295806885, 4.284065246582031, 7.939253807067871, 7.4168572425842285, 8.456562995910645, 0.7147215008735657, 8.241268157958984, 12.533061027526855, 13.889168739318848, 14.726287841796875, 4.2861104011535645, 13.515549659729004, 14.23442554473877, 12.167669296264648, 11.72517204284668, 4.644543647766113, 2.927441358566284, 12.647127151489258, 12.654219627380371, 12.751165390014648, 10.074577331542969, 11.281131744384766, 10.43303108215332, 10.908573150634766, 12.297059059143066, 11.895851135253906, 7.539965629577637, 11.52688980102539, 12.355323791503906, 7.2442426681518555, 12.40493106842041, 11.852505683898926, 7.53232479095459, 9.938780784606934, 7.981229782104492, 11.286413192749023, 6.215920448303223, 12.708413124084473, 10.425337791442871, 6.683711051940918, 7.266102313995361, 7.90250301361084, 12.304891586303711, 9.321624755859375, 9.241303443908691, 11.103642463684082, 7.117836952209473, 8.816483497619629, 10.44813346862793], \"yaxis\": \"y\"}, {\"customdata\": [[\"Eric Clapton\", \"Hello Old Friend\"], [\"Eric Clapton\", \"When You Got A Good Friend (Album Version)\"], [\"Eric Clapton\", \"Tulsa Time\"], [\"Eric Clapton\", \"Floating Bridge\"], [\"Eric Clapton\", \"Blues Power\"], [\"Eric Clapton\", \"Further On Up The Road\"], [\"Eric Clapton\", \"Wonderful Tonight\"], [\"Eric Clapton\", \"I Want A Little Girl (Live)\"], [\"Eric Clapton\", \"Willie And The Hand Jive\"], [\"Eric Clapton\", \"Can't Find My Way Home\"], [\"Eric Clapton\", \"Love Don't Love Nobody (Album Version)\"], [\"Eric Clapton\", \"Alberta\"], [\"Eric Clapton\", \"Come Back Baby (Album Version)\"], [\"Eric Clapton\", \"We're All The Way\"], [\"Eric Clapton\", \"Lay Down Sally\"], [\"Eric Clapton\", \"Someday After A While (Live) (Album Version)\"], [\"Eric Clapton\", \"Bell Bottom Blues (Live)\"], [\"Eric Clapton\", \"Standin' Round Crying (Live) (Album Version)\"], [\"Eric Clapton\", \"Tangled In Love (Album Version)\"], [\"Eric Clapton\", \"Forever Man (Album Version)\"], [\"Eric Clapton\", \"Let It Grow\"], [\"Eric Clapton\", \"Cocaine\"], [\"Eric Clapton\", \"Holy Mother (Album Version)\"], [\"Eric Clapton\", \"Singin' The Blues\"], [\"Eric Clapton\", \"It's In The Way That You Use It (Album Version)\"], [\"Eric Clapton\", \"The Core\"], [\"Eric Clapton\", \"All Our Past Times\"], [\"Eric Clapton\", \"Bottle Of Red Wine\"], [\"Eric Clapton\", \"Little Wing\"], [\"Eric Clapton\", \"Hound Dog (Album Version)\"], [\"Eric Clapton\", \"Swing Low Sweet Chariot\"], [\"Eric Clapton\", \"Meet Me (Down At The Bottom)\"], [\"Eric Clapton\", \"Hoochie Coochie Man  (Live) (Album Version)\"], [\"Eric Clapton\", \"Rita Mae\"], [\"Eric Clapton\", \"Breaking Point  (Album Version)\"], [\"Eric Clapton\", \"Early In The Morning\"], [\"Eric Clapton\", \"Blues Leave Me Alone  (Live)  (Album Version)\"], [\"Eric Clapton\", \"After Midnight\"], [\"Eric Clapton\", \"I'm Tore Down  (Live) (Album Version)\"], [\"Eric Clapton\", \"How Long Blues  (Live)  (Album Version)\"], [\"Eric Clapton\", \"Kind Hearted Woman\"], [\"Eric Clapton\", \"It All Depends (Album Version)\"], [\"Eric Clapton\", \"Double Trouble\"], [\"Eric Clapton\", \"Beware Of Darkness (LP Version)\"], [\"Eric Clapton\", \"Key To The Highway (Live)\"], [\"Eric Clapton\", \"Driftin' (Live)  (Album Version)\"], [\"Eric Clapton\", \"Take A Chance (Album Version)\"], [\"Eric Clapton\", \"Smile\"], [\"Eric Clapton\", \"Kind Hearted Woman Blues (Album Version)\"], [\"Eric Clapton\", \"Before You Accuse Me (Unplugged CD Version)\"], [\"Eric Clapton\", \"Little Queen Of Spades (Album Version)\"], [\"Eric Clapton\", \"Roll It\"], [\"Eric Clapton\", \"I'm Going Left (Album Version)\"], [\"Eric Clapton\", \"Crosscut Saw (LP Version)\"], [\"Eric Clapton\", \"Pretending\"], [\"Eric Clapton\", \"I Shot The Sheriff\"], [\"Eric Clapton\", \"Little Rachel\"], [\"Eric Clapton\", \"Watch Yourself (Live) (Album Version)\"], [\"Eric Clapton\", \"Badge\"], [\"Eric Clapton\", \"Going Down Slow (Album Version)\"], [\"Eric Clapton\", \"Me And The Devil Blues (Album Version)\"], [\"Eric Clapton\", \"Knockin' On Heaven's Door\"], [\"Eric Clapton\", \"Let It Rain\"], [\"Eric Clapton\", \"Please Be With Me\"], [\"Eric Clapton\", \"Tears In Heaven\"], [\"Eric Clapton\", \"Before You Accuse Me (Take A Look At Yourself)\"], [\"Eric Clapton\", \"Have You Ever Loved A Woman\"], [\"Eric Clapton\", \"Behind The Mask (Album Version)\"], [\"Eric Clapton\", \"Don't Think Twice_ It's All Right\"], [\"Eric Clapton\", \"Knock On Wood  (Album Version)\"], [\"Eric Clapton\", \"Layla [Unplugged Version]\"]], \"hovertemplate\": \"artist=%{customdata[0]}<br>t-SNE dimension 0=%{x}<br>t-SNE dimension 1=%{y}<br>title=%{customdata[1]}<extra></extra>\", \"legendgroup\": \"Eric Clapton\", \"marker\": {\"color\": \"#9467BD\", \"opacity\": 0.8, \"size\": 15, \"symbol\": \"circle\"}, \"mode\": \"markers\", \"name\": \"Eric Clapton\", \"showlegend\": true, \"type\": \"scatter\", \"x\": [-1.5523858070373535, -8.063435554504395, -9.32269287109375, 0.09669798612594604, -5.131383419036865, -9.781827926635742, -3.6110308170318604, -7.606637954711914, 8.271544456481934, -6.102609634399414, -8.932943344116211, -10.82382869720459, -11.69426441192627, -2.1595675945281982, 0.593307375907898, -10.369701385498047, -10.822429656982422, -7.99759578704834, -5.0754876136779785, -0.05443531647324562, -0.4868912100791931, 14.573663711547852, 0.4762858748435974, -3.338926076889038, -9.725229263305664, 6.6240153312683105, 2.8443939685821533, -6.899340629577637, -12.408513069152832, 11.554068565368652, -6.443103313446045, 0.31965166330337524, 5.738348484039307, 4.6392083168029785, 2.6068286895751953, -6.6604461669921875, -8.21389389038086, -3.1473190784454346, 9.42561149597168, -5.582852840423584, -3.0196473598480225, -2.219277858734131, -2.8368582725524902, 15.722675323486328, -8.186601638793945, -12.952171325683594, -3.260789394378662, -14.091765403747559, -3.0107693672180176, -10.538209915161133, -7.257682800292969, -4.33036994934082, 0.16372789442539215, 0.3916562795639038, -2.44162917137146, 15.494229316711426, -2.541259288787842, -11.114126205444336, -7.598524570465088, 10.019940376281738, -8.936363220214844, -7.381035804748535, 1.9414715766906738, -10.377863883972168, -7.453835487365723, -10.536138534545898, -9.497152328491211, -1.591194987297058, -13.552042961120605, -1.3356132507324219, -7.793102264404297], \"xaxis\": \"x\", \"y\": [5.069786548614502, -1.3632121086120605, 7.02028751373291, 6.004810333251953, 11.938693046569824, 5.332034587860107, 0.2328057885169983, 8.404007911682129, 10.726472854614258, -2.377938985824585, -4.001409530639648, 4.893976211547852, 6.4319562911987305, -6.9072418212890625, 14.72993278503418, -3.378662347793579, -2.211049795150757, 6.03059196472168, -1.7348047494888306, -7.351652145385742, -13.488842964172363, 7.3897271156311035, -13.582233428955078, 9.98206901550293, -3.450460433959961, -4.7761759757995605, -5.791545867919922, 4.946539402008057, 1.7841777801513672, 7.958902835845947, 11.11111831665039, 10.732918739318848, 5.996995449066162, 6.994242191314697, -6.57658052444458, 10.405009269714355, 7.804361343383789, 12.02466869354248, 6.807735919952393, 9.324501037597656, 6.189226150512695, 0.013658489100635052, 1.7903941869735718, -9.690577507019043, 9.10428237915039, -0.37290212512016296, -13.200926780700684, -3.6753764152526855, 6.071671962738037, 9.536179542541504, 9.177226066589355, 11.900269508361816, -6.95274019241333, 13.25179386138916, -8.817641258239746, 2.2548463344573975, 12.0037260055542, 8.595084190368652, 5.222080230712891, 8.019453048706055, 9.709742546081543, 16.85883140563965, -14.136768341064453, -14.692259788513184, -11.167315483093262, 9.521693229675293, -7.286015033721924, -0.9656514525413513, 8.996601104736328, 9.21016788482666, -2.884376287460327], \"yaxis\": \"y\"}, {\"customdata\": [[\"Avenged Sevenfold\", \"Streets\"], [\"Avenged Sevenfold\", \"Brompton Cocktail (Album Version)\"], [\"Avenged Sevenfold\", \"I Won't See You Tonight Part 2\"], [\"Avenged Sevenfold\", \"Remenissions\"], [\"Avenged Sevenfold\", \"I Won't See You Tonight Part 1\"], [\"Avenged Sevenfold\", \"Dear God (Album Version)\"], [\"Avenged Sevenfold\", \"Breaking Their Hold\"], [\"Avenged Sevenfold\", \"Waking the Fallen\"], [\"Avenged Sevenfold\", \"And All Things Will End\"], [\"Avenged Sevenfold\", \"Crossroads (Non-Album Track)\"], [\"Avenged Sevenfold\", \"Eternal Rest\"], [\"Avenged Sevenfold\", \"M.I.A. (Album Version)\"], [\"Avenged Sevenfold\", \"Afterlife (Album Version)\"], [\"Avenged Sevenfold\", \"Critical Acclaim (Amended Version)\"], [\"Avenged Sevenfold\", \"Turn The Other Way\"], [\"Avenged Sevenfold\", \"Radiant Eclipse\"], [\"Avenged Sevenfold\", \"To End The Rapture\"], [\"Avenged Sevenfold\", \"Warmness On The Soul\"], [\"Avenged Sevenfold\", \"A Little Piece Of Heaven (Album Version)\"], [\"Avenged Sevenfold\", \"Second Heartbeat\"], [\"Avenged Sevenfold\", \"Shattered By Broken Dreams\"], [\"Avenged Sevenfold\", \"Clairvoyant Disease\"], [\"Avenged Sevenfold\", \"Darkness Surrounding\"], [\"Avenged Sevenfold\", \"Unholy Confessions\"], [\"Avenged Sevenfold\", \"The Wicked End (Album Version)\"], [\"Avenged Sevenfold\", \"We Come Out At Night\"], [\"Avenged Sevenfold\", \"The Art Of Subconscious Illusion\"], [\"Avenged Sevenfold\", \"Forgotten Faces\"], [\"Avenged Sevenfold\", \"An Epic Of Time Wasted\"], [\"Avenged Sevenfold\", \"Burn It Down (Live In San Diego)\"], [\"Avenged Sevenfold\", \"Desecrate Through Reverence\"], [\"Avenged Sevenfold\", \"Chapter Four\"], [\"Avenged Sevenfold\", \"Lips Of Deceit\"], [\"Avenged Sevenfold\", \"Strength Of The World (Album Version)\"], [\"Avenged Sevenfold\", \"Unbound [The Wild Ride] (Album Version)\"], [\"Avenged Sevenfold\", \"Thick And Thin\"]], \"hovertemplate\": \"artist=%{customdata[0]}<br>t-SNE dimension 0=%{x}<br>t-SNE dimension 1=%{y}<br>title=%{customdata[1]}<extra></extra>\", \"legendgroup\": \"Avenged Sevenfold\", \"marker\": {\"color\": \"#8C564B\", \"opacity\": 0.8, \"size\": 15, \"symbol\": \"circle\"}, \"mode\": \"markers\", \"name\": \"Avenged Sevenfold\", \"showlegend\": true, \"type\": \"scatter\", \"x\": [5.971343040466309, 4.109311580657959, 2.1070070266723633, 9.788952827453613, 3.9614615440368652, -7.367602825164795, 7.4999470710754395, 0.7096267938613892, 3.8785476684570312, 2.6221320629119873, 3.4809608459472656, 9.213407516479492, -1.7693297863006592, 7.2952961921691895, 2.9853172302246094, 6.073836803436279, 6.204565048217773, -1.4494155645370483, 5.616572856903076, -1.5987329483032227, 2.0147740840911865, 0.9779385328292847, 7.33272647857666, 2.833091974258423, 13.538558959960938, 0.5215267539024353, 8.218152046203613, 4.2680463790893555, -2.749696969985962, 12.471538543701172, 1.4372427463531494, 12.196849822998047, 8.295206069946289, 9.843100547790527, 1.453490138053894, 8.634074211120605], \"xaxis\": \"x\", \"y\": [13.376471519470215, -8.511052131652832, -9.142927169799805, -5.119451999664307, -12.569552421569824, -7.36473274230957, -8.204839706420898, -13.954330444335938, -6.238142013549805, -9.833647727966309, -14.79245376586914, -13.33375072479248, -11.635176658630371, -3.6895275115966797, -10.259374618530273, -8.421893119812012, -6.04276180267334, -10.27121353149414, 5.062047004699707, -7.226163864135742, -9.864916801452637, -8.070182800292969, -7.757768154144287, -7.951414108276367, -7.545595645904541, -3.999237537384033, -0.5650714635848999, -7.80782413482666, -7.871849536895752, -4.032217502593994, -9.195272445678711, -9.213766098022461, -6.081501007080078, -3.9264016151428223, -8.320242881774902, -1.0297908782958984], \"yaxis\": \"y\"}, {\"customdata\": [[\"Linkin Park\", \"Crawling (Album Version)\"], [\"Linkin Park\", \"Given Up (Album Version)\"], [\"Linkin Park\", \"One Step Closer [Live At Milton Keynes]\"], [\"Linkin Park\", \"Wth>You (Album Version)\"], [\"Linkin Park\", \"In Pieces [Live From Projekt Revolution_ Washington DC_ Aug. 19 '07]\"], [\"Linkin Park\", \"Papercut [Recorded Live At BBC1]\"], [\"Linkin Park\", \"Given Up [Third Encore Session]\"], [\"Linkin Park\", \"Breaking The Habit (Album Version)\"], [\"Linkin Park\", \"Valentine's Day [Live From Frankfurt Germany_ Jan 20 '08]\"], [\"Linkin Park\", \"Points Of Authority (Live In Texas)\"], [\"Linkin Park\", \"Faint [Live In Japan]\"], [\"Linkin Park\", \"My<Dsmbr (Album Version)\"], [\"Linkin Park\", \"Lying From You (Live In Texas)\"], [\"Linkin Park\", \"By Myself (Album Version)\"], [\"Linkin Park\", \"In Between [Live From London UK_ Jan 29 '08]\"], [\"Linkin Park\", \"Runaway (Album Version)\"], [\"Linkin Park\", \"High Voltage\"], [\"Linkin Park\", \"Easier To Run [Live LP Underground Tour 2003]\"], [\"Linkin Park\", \"Kyur4 Th Ich (Album Version)\"], [\"Linkin Park\", \"Buy Myself [Manson Remix] (Non-Album Track)\"], [\"Linkin Park\", \"Numb (Live In Texas)\"], [\"Linkin Park\", \"Rnw@y (Album Version)\"], [\"Linkin Park\", \"New Divide [A Cappella Version]\"], [\"Linkin Park\", \"Plc.4 Mie Haed (Album Version)\"], [\"Linkin Park\", \"In The End (Album Version)\"], [\"Linkin Park\", \"Given Up [Live At Milton Keynes]\"], [\"Linkin Park\", \"Cure For The Itch (Album Version)\"], [\"Linkin Park\", \"Hands Held High (Album Version)\"], [\"Linkin Park\", \"My December\"], [\"Linkin Park\", \"From The Inside [Live LP Underground Tour 2003]\"], [\"Linkin Park\", \"Leave Out All The Rest (Single Version)\"], [\"Linkin Park\", \"1stp Klosr (Album Version)\"], [\"Linkin Park\", \"In The End [Live At Milton Keynes]\"], [\"Linkin Park\", \"Pushing Me Away [Live At Milton Keynes]\"], [\"Linkin Park\", \"Runaway (Live In Texas)\"], [\"Linkin Park\", \"What I've Done [Distorted Remix]\"], [\"Linkin Park\", \"Breaking The Habit [Live At Milton Keynes]\"], [\"Linkin Park\", \"One Step Closer (Album Version)\"], [\"Linkin Park\", \"Shadow Of The Day [Live At Milton Keynes]\"], [\"Linkin Park\", \"H! Vltg3 (Album Version)\"], [\"Linkin Park\", \"In Pieces [Live From SoHo]\"], [\"Linkin Park\", \"Leave Out All The Rest [Live] (Album Version Edit)\"], [\"Linkin Park\", \"Enth E Nd (Album Version)\"], [\"Linkin Park\", \"Nobody's Listening (Album Version)\"], [\"Linkin Park\", \"A Place For My Head (Album Version)\"], [\"Linkin Park\", \"Bleed It Out [Live From Live Earth]\"], [\"Linkin Park\", \"From The Inside [Live In Japan]\"], [\"Linkin Park\", \"The Little Things Give You Away [Live At Milton Keynes]\"], [\"Linkin Park\", \"With You (Album Version)\"], [\"Linkin Park\", \"Riff Raff (Album Version)\"], [\"Linkin Park\", \"Frgt/10 (Album Version)\"], [\"Linkin Park\", \"Crawling (Live In Texas)\"], [\"Linkin Park\", \"Figure.09 (Album Version)\"], [\"Linkin Park\", \"New Divide (Album Version)\"], [\"Linkin Park\", \"X-Ecutioner Style (Album Version)\"], [\"Linkin Park\", \"What I've Done (Album Version)\"], [\"Linkin Park\", \"In The End (Live In Texas)\"], [\"Linkin Park\", \"One Step Closer (Live In Texas)\"], [\"Linkin Park\", \"Pushing Me Away (Album Version)\"], [\"Linkin Park\", \"My December [Live Project Rev. 2002]\"], [\"Linkin Park\", \"P5hng Me A*wy (Album Version)\"], [\"Linkin Park\", \"Leave Out All The Rest [Live From Projekt Revolution_ Detroit MI_ Aug. 22 '07]\"], [\"Linkin Park\", \"No More Sorrow [Live At Milton Keynes]\"], [\"Linkin Park\", \"Points Of Authority (Album Version)\"], [\"Linkin Park\", \"Lying From You [Live LP Underground Tour 2003]\"], [\"Linkin Park\", \"Lying From You [Live At Milton Keynes]\"], [\"Linkin Park\", \"From The Inside [Live At Milton Keynes]\"], [\"Linkin Park\", \"Shadow Of The Day (Album Version)\"]], \"hovertemplate\": \"artist=%{customdata[0]}<br>t-SNE dimension 0=%{x}<br>t-SNE dimension 1=%{y}<br>title=%{customdata[1]}<extra></extra>\", \"legendgroup\": \"Linkin Park\", \"marker\": {\"color\": \"#E377C2\", \"opacity\": 0.8, \"size\": 15, \"symbol\": \"circle\"}, \"mode\": \"markers\", \"name\": \"Linkin Park\", \"showlegend\": true, \"type\": \"scatter\", \"x\": [6.213779926300049, 2.7881598472595215, -0.29860836267471313, -0.7161712646484375, 0.6514974236488342, -5.5968499183654785, 2.800260066986084, 6.787247657775879, -6.957334518432617, -8.782448768615723, -1.1722067594528198, -8.685652732849121, 2.8128509521484375, 1.5536189079284668, 3.892531394958496, -0.05389022082090378, 6.81907844543457, 2.69486665725708, 0.16024422645568848, 1.4919583797454834, 8.268165588378906, 9.379013061523438, 1.2142024040222168, 14.082133293151855, -1.7004239559173584, 2.819681406021118, 0.2016151398420334, 9.757932662963867, -9.155569076538086, -0.05411464348435402, -6.664090633392334, 2.292496681213379, -1.700717806816101, -1.6002839803695679, -17.58905601501465, 6.037403583526611, 6.772360324859619, 2.2919085025787354, -3.408437490463257, 10.391443252563477, 0.6513264179229736, -6.660976409912109, 5.284708499908447, 13.474431991577148, 14.078402519226074, 9.266311645507812, -0.05410939082503319, -3.781902313232422, -5.642116069793701, 8.071070671081543, 7.943558692932129, 6.213888168334961, -4.684503555297852, 1.214967131614685, 7.349837779998779, 6.047547817230225, -1.6983983516693115, 2.2886548042297363, -1.6017708778381348, -6.439642429351807, -1.6053624153137207, -6.09413480758667, 11.337347030639648, -8.782407760620117, 2.813870668411255, 2.812246084213257, -0.054170481860637665, -3.4119138717651367], \"xaxis\": \"x\", \"y\": [-9.360217094421387, -7.679488182067871, 1.6326814889907837, -8.933836936950684, -19.586408615112305, -7.638731002807617, -7.708306789398193, -6.051281452178955, -6.490767478942871, 3.6564159393310547, -9.513059616088867, -5.480592250823975, -10.267054557800293, -7.801016330718994, -9.318572998046875, 0.07736915349960327, 12.346952438354492, -13.455001831054688, 5.678053855895996, -7.7258992195129395, 10.66065788269043, 9.11711597442627, -16.031402587890625, -4.971770286560059, -19.3717098236084, -7.714649200439453, 5.70629358291626, 5.434504985809326, -5.849750518798828, 0.07719937711954117, -10.018158912658691, -0.6263508200645447, -19.37187957763672, -19.281753540039062, 1.902880311012268, -10.174727439880371, -6.0557684898376465, -0.6266224980354309, -15.168140411376953, 7.68858003616333, -19.587617874145508, -10.026290893554688, 4.2149152755737305, 4.965535640716553, -4.974301338195801, 1.3593404293060303, 0.0773986428976059, -7.570970058441162, -7.203462600708008, 7.664589881896973, 5.661166191101074, -9.360862731933594, -7.58173131942749, -16.03416633605957, 9.249147415161133, -10.150822639465332, -19.3686466217041, -0.6270689368247986, -19.288169860839844, -11.446002960205078, -19.293601989746094, -8.750373840332031, -3.640385389328003, 3.656501293182373, -10.26728630065918, -10.268195152282715, 0.07693382352590561, -15.171260833740234], \"yaxis\": \"y\"}, {\"customdata\": [[\"The Who\", \"Slip Kid\"], [\"The Who\", \"Daily Records\"], [\"The Who\", \"Man With Money\"], [\"The Who\", \"Disguises\"], [\"The Who\", \"Tommy Can You Hear Me?\"], [\"The Who\", \"The Quiet One\"], [\"The Who\", \"Pure And Easy\"], [\"The Who\", \"I Like Nightmares\"], [\"The Who\", \"A Quick One While He's Away\"], [\"The Who\", \"Don't Look Away\"], [\"The Who\", \"Behind Blue Eyes\"], [\"The Who\", \"Christmas\"], [\"The Who\", \"Trilby's Piano\"], [\"The Who\", \"Tattoo\"], [\"The Who\", \"Success Story\"], [\"The Who\", \"Relax\"], [\"The Who\", \"Fiddle About\"], [\"The Who\", \"A Man In A Purple Dress\"], [\"The Who\", \"1921\"], [\"The Who\", \"My Wife\"], [\"The Who\", \"Eyesight To The Blind (The Hawker)\"], [\"The Who\", \"Don't Let Go The Coat\"], [\"The Who\", \"Boris The Spider\"], [\"The Who\", \"Love Reign O'er Me\"], [\"The Who\", \"Welcome\"], [\"The Who\", \"Heat Wave\"], [\"The Who\", \"Dr. Jimmy\"], [\"The Who\", \"Sensation\"], [\"The Who\", \"Sunrise\"], [\"The Who\", \"Magic Bus\"], [\"The Who\", \"Miracle Cure\"], [\"The Who\", \"Mary Anne With The Shaky Hand\"], [\"The Who\", \"You Stand By Me\"], [\"The Who\", \"Summertime Blues\"], [\"The Who\", \"Let's See Action\"], [\"The Who\", \"Tea & Theatre\"], [\"The Who\", \"Who Are You\"], [\"The Who\", \"Young Man Blues\"], [\"The Who\", \"Love Ain't For Keeping\"], [\"The Who\", \"Cache Cache\"], [\"The Who\", \"La La La Lies\"], [\"The Who\", \"Squeeze Box\"], [\"The Who\", \"Relay\"], [\"The Who\", \"Too Much Of Anything\"], [\"The Who\", \"The Kids Are Alright\"], [\"The Who\", \"I Can See For Miles\"], [\"The Who\", \"God Speaks_ of Marty Robbins\"], [\"The Who\", \"Sparks\"], [\"The Who\", \"I'm A Boy\"], [\"The Who\", \"Sister Disco\"], [\"The Who\", \"Eminence Front\"], [\"The Who\", \"Substitute\"], [\"The Who\", \"Doctor_ Doctor\"], [\"The Who\", \"My Generation\"], [\"The Who\", \"Long Live Rock\"], [\"The Who\", \"Odorono\"], [\"The Who\", \"It's Hard\"], [\"The Who\", \"I'm Free\"], [\"The Who\", \"Amazing Journey\"], [\"The Who\", \"Happy Jack\"], [\"The Who\", \"Endless Wire\"], [\"The Who\", \"Shout And Shimmy\"], [\"The Who\", \"Medac\"], [\"The Who\", \"Water\"], [\"The Who\", \"I Don't Even Know Myself\"], [\"The Who\", \"Music Must Change\"], [\"The Who\", \"Just You And Me_ Darling\"], [\"The Who\", \"Empty Glass\"], [\"The Who\", \"I Can't Explain\"], [\"The Who\", \"Mike Post Theme\"], [\"The Who\", \"You Better You Bet\"], [\"The Who\", \"Pinball Wizard\"], [\"The Who\", \"Sound Round\"], [\"The Who\", \"Heinz Baked Beans\"], [\"The Who\", \"See Me_ Feel Me\"]], \"hovertemplate\": \"artist=%{customdata[0]}<br>t-SNE dimension 0=%{x}<br>t-SNE dimension 1=%{y}<br>title=%{customdata[1]}<extra></extra>\", \"legendgroup\": \"The Who\", \"marker\": {\"color\": \"#7F7F7F\", \"opacity\": 0.8, \"size\": 15, \"symbol\": \"circle\"}, \"mode\": \"markers\", \"name\": \"The Who\", \"showlegend\": true, \"type\": \"scatter\", \"x\": [9.997482299804688, 3.852031946182251, -7.094632148742676, -2.5139904022216797, -1.6193808317184448, 4.4195122718811035, 4.985694885253906, 8.260504722595215, -13.248541831970215, -1.3813241720199585, 4.217785835266113, 13.440705299377441, 5.610045909881592, -1.8571138381958008, 5.966319561004639, -7.590492248535156, 0.3632603883743286, 8.437968254089355, -10.309565544128418, -0.7026738524436951, -3.146589517593384, -3.6521859169006348, 2.056591510772705, 2.1078248023986816, 7.0660576820373535, -16.00482749938965, 10.324721336364746, -0.01377097051590681, -3.109436511993408, 1.7425440549850464, -0.9418911337852478, -1.3523036241531372, 5.5427632331848145, -14.929055213928223, 8.913168907165527, -3.304600715637207, -0.31073373556137085, 5.533579349517822, -8.500407218933105, 2.5596892833709717, 0.467398077249527, -3.503748893737793, -11.589388847351074, 15.319786071777344, 8.367081642150879, -6.279861927032471, -5.814425945281982, 3.240051507949829, -8.142179489135742, -4.2108564376831055, 8.895532608032227, 4.291561603546143, 5.043083667755127, 9.33930778503418, 4.398205757141113, 1.6402769088745117, 7.037249565124512, 4.035045623779297, 3.24100399017334, -0.9544962048530579, 4.983587741851807, -4.054086208343506, 3.8417932987213135, 7.977381706237793, 0.12072635442018509, 12.315995216369629, 5.51542854309082, 4.897365093231201, -2.3979551792144775, -0.6183369159698486, 0.30010274052619934, 17.67426109313965, -0.9974594116210938, -0.21826307475566864, 3.782322406768799], \"xaxis\": \"x\", \"y\": [1.8892967700958252, 7.532039642333984, 10.158783912658691, -2.4568302631378174, 6.469234943389893, -3.557079553604126, -7.339496612548828, 0.09020976722240448, 1.978838562965393, -0.6233300566673279, -3.461188793182373, 0.06399663537740707, -13.763381004333496, -8.984930038452148, 6.744996070861816, 6.535702705383301, 12.78268051147461, -2.807380437850952, -6.898027420043945, 14.049257278442383, 2.5329701900482178, 2.5149917602539062, 0.3887932598590851, -0.0762450098991394, 1.5536704063415527, 1.2146447896957397, 7.747051239013672, -12.151895523071289, -8.920949935913086, 11.213412284851074, 1.7445532083511353, 8.068981170654297, 9.414325714111328, -13.387297630310059, -6.883884906768799, 0.14377659559249878, 12.762785911560059, 9.41288948059082, 9.08295726776123, 2.4861233234405518, -4.3461456298828125, 16.932252883911133, 4.477429389953613, 5.963503360748291, 5.184277057647705, -4.679196357727051, -3.535346508026123, -2.9368057250976562, 0.29665806889533997, 5.525440692901611, 5.356845378875732, 7.409402847290039, 8.57171630859375, 4.054006099700928, 11.637322425842285, 0.11931776255369186, 0.3352520167827606, 8.15597915649414, -2.9314825534820557, 5.522611141204834, -9.43437385559082, 13.774801254272461, 3.4320521354675293, 10.575043678283691, 0.5004331469535828, 5.929962635040283, 9.40674114227295, 5.744905471801758, 0.38269495964050293, 0.7658204436302185, 10.66003704071045, -3.8906588554382324, -5.434414386749268, 6.6542439460754395, 1.994335412979126], \"yaxis\": \"y\"}, {\"customdata\": [[\"The Strokes\", \"15 Minutes\"], [\"The Strokes\", \"The Modern Age\"], [\"The Strokes\", \"Razorblade\"], [\"The Strokes\", \"Life's A Gas\"], [\"The Strokes\", \"Clampdown\"], [\"The Strokes\", \"I'll Try Anything Once\"], [\"The Strokes\", \"Electricityscape\"], [\"The Strokes\", \"Hard To Explain\"], [\"The Strokes\", \"New York City Cops\"], [\"The Strokes\", \"Heart In A Cage\"], [\"The Strokes\", \"Juicebox\"], [\"The Strokes\", \"You Only Live Once\"], [\"The Strokes\", \"Red Light\"], [\"The Strokes\", \"Trying Your Luck\"], [\"The Strokes\", \"Take It Or Leave It\"], [\"The Strokes\", \"Someday\"], [\"The Strokes\", \"Fear Of Sleep\"], [\"The Strokes\", \"Alone_ Together\"], [\"The Strokes\", \"Reptilia\"], [\"The Strokes\", \"Killing Lies\"], [\"The Strokes\", \"Is This It\"], [\"The Strokes\", \"Last Nite\"], [\"The Strokes\", \"Modern Girls And Old Fashion Men\"], [\"The Strokes\", \"Between Love & Hate\"]], \"hovertemplate\": \"artist=%{customdata[0]}<br>t-SNE dimension 0=%{x}<br>t-SNE dimension 1=%{y}<br>title=%{customdata[1]}<extra></extra>\", \"legendgroup\": \"The Strokes\", \"marker\": {\"color\": \"#BCBD22\", \"opacity\": 0.8, \"size\": 15, \"symbol\": \"circle\"}, \"mode\": \"markers\", \"name\": \"The Strokes\", \"showlegend\": true, \"type\": \"scatter\", \"x\": [2.5036356449127197, -6.447201251983643, -0.20637355744838715, 0.8514477014541626, 10.081853866577148, 3.6209003925323486, -7.350274085998535, -0.5881516337394714, 10.074528694152832, 5.7966179847717285, -1.274964690208435, -4.102651596069336, 1.3142837285995483, -3.5117392539978027, -10.59154224395752, -3.119318962097168, 8.611084938049316, -14.015766143798828, -3.676180839538574, -1.5505001544952393, -3.0038928985595703, -8.93407154083252, 3.3848330974578857, -9.754803657531738], \"xaxis\": \"x\", \"y\": [6.011702060699463, -0.006711877416819334, -0.19676068425178528, -2.508495330810547, -0.5207023620605469, -0.155048206448555, -2.984743595123291, -2.8898861408233643, 9.927690505981445, -2.467912197113037, 7.306460380554199, 0.7368917465209961, -1.534013271331787, 0.03857513517141342, -1.2109036445617676, -3.6256024837493896, 4.203364849090576, -12.466111183166504, -0.2568516433238983, -1.2820504903793335, -6.284375190734863, 7.617892742156982, 0.7154080867767334, -1.353023648262024], \"yaxis\": \"y\"}, {\"customdata\": [[\"Tame Impala\", \"Wander\"], [\"Tame Impala\", \"Slide Through My Fingers\"], [\"Tame Impala\", \"41 Mosquitoes Flying In Formation\"], [\"Tame Impala\", \"Desire Be Desire Go\"], [\"Tame Impala\", \"Skeleton Tiger\"], [\"Tame Impala\", \"Half Full Glass Of Wine\"]], \"hovertemplate\": \"artist=%{customdata[0]}<br>t-SNE dimension 0=%{x}<br>t-SNE dimension 1=%{y}<br>title=%{customdata[1]}<extra></extra>\", \"legendgroup\": \"Tame Impala\", \"marker\": {\"color\": \"#17BECF\", \"opacity\": 0.8, \"size\": 15, \"symbol\": \"circle\"}, \"mode\": \"markers\", \"name\": \"Tame Impala\", \"showlegend\": true, \"type\": \"scatter\", \"x\": [-16.546552658081055, -0.5216332674026489, -0.5483022332191467, 2.448789596557617, -4.452838897705078, 0.6372376680374146], \"xaxis\": \"x\", \"y\": [6.557861804962158, -3.1882100105285645, 1.6228554248809814, -7.343591690063477, 9.07383918762207, 0.21558907628059387], \"yaxis\": \"y\"}],\n",
       "                        {\"legend\": {\"title\": {\"text\": \"artist\"}, \"tracegroupgap\": 0}, \"margin\": {\"t\": 60}, \"template\": {\"data\": {\"bar\": [{\"error_x\": {\"color\": \"rgb(36,36,36)\"}, \"error_y\": {\"color\": \"rgb(36,36,36)\"}, \"marker\": {\"line\": {\"color\": \"white\", \"width\": 0.5}}, \"type\": \"bar\"}], \"barpolar\": [{\"marker\": {\"line\": {\"color\": \"white\", \"width\": 0.5}}, \"type\": \"barpolar\"}], \"carpet\": [{\"aaxis\": {\"endlinecolor\": \"rgb(36,36,36)\", \"gridcolor\": \"white\", \"linecolor\": \"white\", \"minorgridcolor\": \"white\", \"startlinecolor\": \"rgb(36,36,36)\"}, \"baxis\": {\"endlinecolor\": \"rgb(36,36,36)\", \"gridcolor\": \"white\", \"linecolor\": \"white\", \"minorgridcolor\": \"white\", \"startlinecolor\": \"rgb(36,36,36)\"}, \"type\": \"carpet\"}], \"choropleth\": [{\"colorbar\": {\"outlinewidth\": 1, \"tickcolor\": \"rgb(36,36,36)\", \"ticks\": \"outside\"}, \"type\": \"choropleth\"}], \"contour\": [{\"colorbar\": {\"outlinewidth\": 1, \"tickcolor\": \"rgb(36,36,36)\", \"ticks\": \"outside\"}, \"colorscale\": [[0.0, \"#440154\"], [0.1111111111111111, \"#482878\"], [0.2222222222222222, \"#3e4989\"], [0.3333333333333333, \"#31688e\"], [0.4444444444444444, \"#26828e\"], [0.5555555555555556, \"#1f9e89\"], [0.6666666666666666, \"#35b779\"], [0.7777777777777778, \"#6ece58\"], [0.8888888888888888, \"#b5de2b\"], [1.0, \"#fde725\"]], \"type\": \"contour\"}], \"contourcarpet\": [{\"colorbar\": {\"outlinewidth\": 1, \"tickcolor\": \"rgb(36,36,36)\", \"ticks\": \"outside\"}, \"type\": \"contourcarpet\"}], \"heatmap\": [{\"colorbar\": {\"outlinewidth\": 1, \"tickcolor\": \"rgb(36,36,36)\", \"ticks\": \"outside\"}, \"colorscale\": [[0.0, \"#440154\"], [0.1111111111111111, \"#482878\"], [0.2222222222222222, \"#3e4989\"], [0.3333333333333333, \"#31688e\"], [0.4444444444444444, \"#26828e\"], [0.5555555555555556, \"#1f9e89\"], [0.6666666666666666, \"#35b779\"], [0.7777777777777778, \"#6ece58\"], [0.8888888888888888, \"#b5de2b\"], [1.0, \"#fde725\"]], \"type\": \"heatmap\"}], \"heatmapgl\": [{\"colorbar\": {\"outlinewidth\": 1, \"tickcolor\": \"rgb(36,36,36)\", \"ticks\": \"outside\"}, \"colorscale\": [[0.0, \"#440154\"], [0.1111111111111111, \"#482878\"], [0.2222222222222222, \"#3e4989\"], [0.3333333333333333, \"#31688e\"], [0.4444444444444444, \"#26828e\"], [0.5555555555555556, \"#1f9e89\"], [0.6666666666666666, \"#35b779\"], [0.7777777777777778, \"#6ece58\"], [0.8888888888888888, \"#b5de2b\"], [1.0, \"#fde725\"]], \"type\": \"heatmapgl\"}], \"histogram\": [{\"marker\": {\"line\": {\"color\": \"white\", \"width\": 0.6}}, \"type\": \"histogram\"}], \"histogram2d\": [{\"colorbar\": {\"outlinewidth\": 1, \"tickcolor\": \"rgb(36,36,36)\", \"ticks\": \"outside\"}, \"colorscale\": [[0.0, \"#440154\"], [0.1111111111111111, \"#482878\"], [0.2222222222222222, \"#3e4989\"], [0.3333333333333333, \"#31688e\"], [0.4444444444444444, \"#26828e\"], [0.5555555555555556, \"#1f9e89\"], [0.6666666666666666, \"#35b779\"], [0.7777777777777778, \"#6ece58\"], [0.8888888888888888, \"#b5de2b\"], [1.0, \"#fde725\"]], \"type\": \"histogram2d\"}], \"histogram2dcontour\": [{\"colorbar\": {\"outlinewidth\": 1, \"tickcolor\": \"rgb(36,36,36)\", \"ticks\": \"outside\"}, \"colorscale\": [[0.0, \"#440154\"], [0.1111111111111111, \"#482878\"], [0.2222222222222222, \"#3e4989\"], [0.3333333333333333, \"#31688e\"], [0.4444444444444444, \"#26828e\"], [0.5555555555555556, \"#1f9e89\"], [0.6666666666666666, \"#35b779\"], [0.7777777777777778, \"#6ece58\"], [0.8888888888888888, \"#b5de2b\"], [1.0, \"#fde725\"]], \"type\": \"histogram2dcontour\"}], \"mesh3d\": [{\"colorbar\": {\"outlinewidth\": 1, \"tickcolor\": \"rgb(36,36,36)\", \"ticks\": \"outside\"}, \"type\": \"mesh3d\"}], \"parcoords\": [{\"line\": {\"colorbar\": {\"outlinewidth\": 1, \"tickcolor\": \"rgb(36,36,36)\", \"ticks\": \"outside\"}}, \"type\": \"parcoords\"}], \"pie\": [{\"automargin\": true, \"type\": \"pie\"}], \"scatter\": [{\"marker\": {\"colorbar\": {\"outlinewidth\": 1, \"tickcolor\": \"rgb(36,36,36)\", \"ticks\": \"outside\"}}, \"type\": \"scatter\"}], \"scatter3d\": [{\"line\": {\"colorbar\": {\"outlinewidth\": 1, \"tickcolor\": \"rgb(36,36,36)\", \"ticks\": \"outside\"}}, \"marker\": {\"colorbar\": {\"outlinewidth\": 1, \"tickcolor\": \"rgb(36,36,36)\", \"ticks\": \"outside\"}}, \"type\": \"scatter3d\"}], \"scattercarpet\": [{\"marker\": {\"colorbar\": {\"outlinewidth\": 1, \"tickcolor\": \"rgb(36,36,36)\", \"ticks\": \"outside\"}}, \"type\": \"scattercarpet\"}], \"scattergeo\": [{\"marker\": {\"colorbar\": {\"outlinewidth\": 1, \"tickcolor\": \"rgb(36,36,36)\", \"ticks\": \"outside\"}}, \"type\": \"scattergeo\"}], \"scattergl\": [{\"marker\": {\"colorbar\": {\"outlinewidth\": 1, \"tickcolor\": \"rgb(36,36,36)\", \"ticks\": \"outside\"}}, \"type\": \"scattergl\"}], \"scattermapbox\": [{\"marker\": {\"colorbar\": {\"outlinewidth\": 1, \"tickcolor\": \"rgb(36,36,36)\", \"ticks\": \"outside\"}}, \"type\": \"scattermapbox\"}], \"scatterpolar\": [{\"marker\": {\"colorbar\": {\"outlinewidth\": 1, \"tickcolor\": \"rgb(36,36,36)\", \"ticks\": \"outside\"}}, \"type\": \"scatterpolar\"}], \"scatterpolargl\": [{\"marker\": {\"colorbar\": {\"outlinewidth\": 1, \"tickcolor\": \"rgb(36,36,36)\", \"ticks\": \"outside\"}}, \"type\": \"scatterpolargl\"}], \"scatterternary\": [{\"marker\": {\"colorbar\": {\"outlinewidth\": 1, \"tickcolor\": \"rgb(36,36,36)\", \"ticks\": \"outside\"}}, \"type\": \"scatterternary\"}], \"surface\": [{\"colorbar\": {\"outlinewidth\": 1, \"tickcolor\": \"rgb(36,36,36)\", \"ticks\": \"outside\"}, \"colorscale\": [[0.0, \"#440154\"], [0.1111111111111111, \"#482878\"], [0.2222222222222222, \"#3e4989\"], [0.3333333333333333, \"#31688e\"], [0.4444444444444444, \"#26828e\"], [0.5555555555555556, \"#1f9e89\"], [0.6666666666666666, \"#35b779\"], [0.7777777777777778, \"#6ece58\"], [0.8888888888888888, \"#b5de2b\"], [1.0, \"#fde725\"]], \"type\": \"surface\"}], \"table\": [{\"cells\": {\"fill\": {\"color\": \"rgb(237,237,237)\"}, \"line\": {\"color\": \"white\"}}, \"header\": {\"fill\": {\"color\": \"rgb(217,217,217)\"}, \"line\": {\"color\": \"white\"}}, \"type\": \"table\"}]}, \"layout\": {\"annotationdefaults\": {\"arrowhead\": 0, \"arrowwidth\": 1}, \"coloraxis\": {\"colorbar\": {\"outlinewidth\": 1, \"tickcolor\": \"rgb(36,36,36)\", \"ticks\": \"outside\"}}, \"colorscale\": {\"diverging\": [[0.0, \"rgb(103,0,31)\"], [0.1, \"rgb(178,24,43)\"], [0.2, \"rgb(214,96,77)\"], [0.3, \"rgb(244,165,130)\"], [0.4, \"rgb(253,219,199)\"], [0.5, \"rgb(247,247,247)\"], [0.6, \"rgb(209,229,240)\"], [0.7, \"rgb(146,197,222)\"], [0.8, \"rgb(67,147,195)\"], [0.9, \"rgb(33,102,172)\"], [1.0, \"rgb(5,48,97)\"]], \"sequential\": [[0.0, \"#440154\"], [0.1111111111111111, \"#482878\"], [0.2222222222222222, \"#3e4989\"], [0.3333333333333333, \"#31688e\"], [0.4444444444444444, \"#26828e\"], [0.5555555555555556, \"#1f9e89\"], [0.6666666666666666, \"#35b779\"], [0.7777777777777778, \"#6ece58\"], [0.8888888888888888, \"#b5de2b\"], [1.0, \"#fde725\"]], \"sequentialminus\": [[0.0, \"#440154\"], [0.1111111111111111, \"#482878\"], [0.2222222222222222, \"#3e4989\"], [0.3333333333333333, \"#31688e\"], [0.4444444444444444, \"#26828e\"], [0.5555555555555556, \"#1f9e89\"], [0.6666666666666666, \"#35b779\"], [0.7777777777777778, \"#6ece58\"], [0.8888888888888888, \"#b5de2b\"], [1.0, \"#fde725\"]]}, \"colorway\": [\"#1F77B4\", \"#FF7F0E\", \"#2CA02C\", \"#D62728\", \"#9467BD\", \"#8C564B\", \"#E377C2\", \"#7F7F7F\", \"#BCBD22\", \"#17BECF\"], \"font\": {\"color\": \"rgb(36,36,36)\"}, \"geo\": {\"bgcolor\": \"white\", \"lakecolor\": \"white\", \"landcolor\": \"white\", \"showlakes\": true, \"showland\": true, \"subunitcolor\": \"white\"}, \"hoverlabel\": {\"align\": \"left\"}, \"hovermode\": \"closest\", \"mapbox\": {\"style\": \"light\"}, \"paper_bgcolor\": \"white\", \"plot_bgcolor\": \"white\", \"polar\": {\"angularaxis\": {\"gridcolor\": \"rgb(232,232,232)\", \"linecolor\": \"rgb(36,36,36)\", \"showgrid\": false, \"showline\": true, \"ticks\": \"outside\"}, \"bgcolor\": \"white\", \"radialaxis\": {\"gridcolor\": \"rgb(232,232,232)\", \"linecolor\": \"rgb(36,36,36)\", \"showgrid\": false, \"showline\": true, \"ticks\": \"outside\"}}, \"scene\": {\"xaxis\": {\"backgroundcolor\": \"white\", \"gridcolor\": \"rgb(232,232,232)\", \"gridwidth\": 2, \"linecolor\": \"rgb(36,36,36)\", \"showbackground\": true, \"showgrid\": false, \"showline\": true, \"ticks\": \"outside\", \"zeroline\": false, \"zerolinecolor\": \"rgb(36,36,36)\"}, \"yaxis\": {\"backgroundcolor\": \"white\", \"gridcolor\": \"rgb(232,232,232)\", \"gridwidth\": 2, \"linecolor\": \"rgb(36,36,36)\", \"showbackground\": true, \"showgrid\": false, \"showline\": true, \"ticks\": \"outside\", \"zeroline\": false, \"zerolinecolor\": \"rgb(36,36,36)\"}, \"zaxis\": {\"backgroundcolor\": \"white\", \"gridcolor\": \"rgb(232,232,232)\", \"gridwidth\": 2, \"linecolor\": \"rgb(36,36,36)\", \"showbackground\": true, \"showgrid\": false, \"showline\": true, \"ticks\": \"outside\", \"zeroline\": false, \"zerolinecolor\": \"rgb(36,36,36)\"}}, \"shapedefaults\": {\"fillcolor\": \"black\", \"line\": {\"width\": 0}, \"opacity\": 0.3}, \"ternary\": {\"aaxis\": {\"gridcolor\": \"rgb(232,232,232)\", \"linecolor\": \"rgb(36,36,36)\", \"showgrid\": false, \"showline\": true, \"ticks\": \"outside\"}, \"baxis\": {\"gridcolor\": \"rgb(232,232,232)\", \"linecolor\": \"rgb(36,36,36)\", \"showgrid\": false, \"showline\": true, \"ticks\": \"outside\"}, \"bgcolor\": \"white\", \"caxis\": {\"gridcolor\": \"rgb(232,232,232)\", \"linecolor\": \"rgb(36,36,36)\", \"showgrid\": false, \"showline\": true, \"ticks\": \"outside\"}}, \"title\": {\"x\": 0.05}, \"xaxis\": {\"automargin\": true, \"gridcolor\": \"rgb(232,232,232)\", \"linecolor\": \"rgb(36,36,36)\", \"showgrid\": false, \"showline\": true, \"ticks\": \"outside\", \"title\": {\"standoff\": 15}, \"zeroline\": false, \"zerolinecolor\": \"rgb(36,36,36)\"}, \"yaxis\": {\"automargin\": true, \"gridcolor\": \"rgb(232,232,232)\", \"linecolor\": \"rgb(36,36,36)\", \"showgrid\": false, \"showline\": true, \"ticks\": \"outside\", \"title\": {\"standoff\": 15}, \"zeroline\": false, \"zerolinecolor\": \"rgb(36,36,36)\"}}}, \"title\": {\"text\": \"Song Lyric Embeddings\", \"x\": 0.19, \"xanchor\": \"center\", \"y\": 0.95, \"yanchor\": \"top\"}, \"xaxis\": {\"anchor\": \"y\", \"domain\": [0.0, 1.0], \"title\": {\"text\": \"t-SNE dimension 0\"}}, \"yaxis\": {\"anchor\": \"x\", \"domain\": [0.0, 1.0], \"title\": {\"text\": \"t-SNE dimension 1\"}}},\n",
       "                        {\"responsive\": true}\n",
       "                    ).then(function(){\n",
       "                            \n",
       "var gd = document.getElementById('a6186b31-60fe-43b7-b72e-4a92c0820690');\n",
       "var x = new MutationObserver(function (mutations, observer) {{\n",
       "        var display = window.getComputedStyle(gd).display;\n",
       "        if (!display || display === 'none') {{\n",
       "            console.log([gd, 'removed!']);\n",
       "            Plotly.purge(gd);\n",
       "            observer.disconnect();\n",
       "        }}\n",
       "}});\n",
       "\n",
       "// Listen for the removal of the full notebook cells\n",
       "var notebookContainer = gd.closest('#notebook-container');\n",
       "if (notebookContainer) {{\n",
       "    x.observe(notebookContainer, {childList: true});\n",
       "}}\n",
       "\n",
       "// Listen for the clearing of the current output cell\n",
       "var outputEl = gd.closest('.output');\n",
       "if (outputEl) {{\n",
       "    x.observe(outputEl, {childList: true});\n",
       "}}\n",
       "\n",
       "                        })\n",
       "                };\n",
       "                });\n",
       "            </script>\n",
       "        </div>"
      ]
     },
     "metadata": {},
     "output_type": "display_data"
    },
    {
     "data": {
      "application/vnd.plotly.v1+json": {
       "config": {
        "plotlyServerURL": "https://plot.ly"
       },
       "data": [
        {
         "customdata": [
          [
           "Snoop Dogg",
           "The One And Only (Edited)"
          ],
          [
           "Snoop Dogg",
           "Sexual Eruption"
          ],
          [
           "Snoop Dogg",
           "Show Me Love (Explicit)"
          ],
          [
           "Snoop Dogg",
           "Beat Up On Yo Pads"
          ],
          [
           "Snoop Dogg",
           "Gin And Juice II (Explicit)"
          ],
          [
           "Snoop Dogg",
           "2 Of Amereicaz Most Wanted"
          ],
          [
           "Snoop Dogg",
           "Snoop D.O. Double G"
          ],
          [
           "Snoop Dogg",
           "Look Out"
          ],
          [
           "Snoop Dogg",
           "Bang Out"
          ],
          [
           "Snoop Dogg",
           "Betta Days (Explicit)"
          ],
          [
           "Snoop Dogg",
           "Pimp Slapp'd (Edited)"
          ],
          [
           "Snoop Dogg",
           "Dolomite Intro (Explicit)"
          ],
          [
           "Snoop Dogg",
           "A Message 2 Fat Cuzz (Edited)"
          ],
          [
           "Snoop Dogg",
           "Why Did You Leave Me"
          ],
          [
           "Snoop Dogg",
           "Snoopafella (Edited)"
          ],
          [
           "Snoop Dogg",
           "10 Lil' Crips"
          ],
          [
           "Snoop Dogg",
           "Straight Ballin'"
          ],
          [
           "Snoop Dogg",
           "Hustle And Ball (Explicit)"
          ],
          [
           "Snoop Dogg",
           "Dogghouse"
          ],
          [
           "Snoop Dogg",
           "Fresh Pair of Panties On"
          ],
          [
           "Snoop Dogg",
           "Those Gurlz"
          ],
          [
           "Snoop Dogg",
           "Upside Down (Explicit)"
          ],
          [
           "Snoop Dogg",
           "Sets Up"
          ],
          [
           "Snoop Dogg",
           "Snoop Dogg Intro"
          ]
         ],
         "hovertemplate": "artist=%{customdata[0]}<br>t-SNE dimension 0=%{x}<br>t-SNE dimension 2=%{y}<br>title=%{customdata[1]}<extra></extra>",
         "legendgroup": "Snoop Dogg",
         "marker": {
          "color": "#1F77B4",
          "opacity": 0.8,
          "size": 15,
          "symbol": "circle"
         },
         "mode": "markers",
         "name": "Snoop Dogg",
         "showlegend": true,
         "type": "scatter",
         "x": [
          6.755438327789307,
          4.453805446624756,
          3.940727949142456,
          6.084778785705566,
          5.540463447570801,
          7.082093238830566,
          5.054286479949951,
          6.808389186859131,
          10.754349708557129,
          10.486239433288574,
          10.674015998840332,
          2.2179152965545654,
          8.906776428222656,
          9.164970397949219,
          9.05984878540039,
          12.261672019958496,
          9.117244720458984,
          12.210005760192871,
          10.806488037109375,
          3.802687168121338,
          3.8919951915740967,
          9.53791618347168,
          6.069442272186279,
          6.362498760223389
         ],
         "xaxis": "x",
         "y": [
          -4.888263702392578,
          -5.270711421966553,
          -4.925568580627441,
          -5.800121307373047,
          -3.3271265029907227,
          2.6905922889709473,
          -0.928300142288208,
          3.3482704162597656,
          3.370138645172119,
          2.3101918697357178,
          3.28458833694458,
          -4.102611064910889,
          -7.499300479888916,
          -2.308967351913452,
          0.3514349162578583,
          -2.870929479598999,
          -3.323723316192627,
          -3.182996988296509,
          -4.188971996307373,
          -1.6433727741241455,
          -6.399422645568848,
          -4.364020347595215,
          -5.472446441650391,
          -4.7158355712890625
         ],
         "yaxis": "y"
        },
        {
         "customdata": [
          [
           "Blink-182",
           "Not Now"
          ],
          [
           "Blink-182",
           "A New Hope"
          ],
          [
           "Blink-182",
           "Man Overboard"
          ],
          [
           "Blink-182",
           "Asthenia"
          ],
          [
           "Blink-182",
           "All Of This"
          ],
          [
           "Blink-182",
           "Carousel"
          ],
          [
           "Blink-182",
           "Shut Up"
          ],
          [
           "Blink-182",
           "Stay Together For The Kids"
          ],
          [
           "Blink-182",
           "Every Time I Look For You"
          ],
          [
           "Blink-182",
           "Does My Breath Smell?"
          ],
          [
           "Blink-182",
           "Roller Coaster"
          ],
          [
           "Blink-182",
           "21 Days"
          ],
          [
           "Blink-182",
           "GO"
          ],
          [
           "Blink-182",
           "Dumpweed"
          ],
          [
           "Blink-182",
           "Toast and Bananas"
          ],
          [
           "Blink-182",
           "Always"
          ],
          [
           "Blink-182",
           "Reebok Commercial"
          ],
          [
           "Blink-182",
           "I Won't Be Home For Christmas"
          ],
          [
           "Blink-182",
           "Rich Lips"
          ],
          [
           "Blink-182",
           "First Date"
          ],
          [
           "Blink-182",
           "Depends"
          ],
          [
           "Blink-182",
           "Anthem Part Two"
          ],
          [
           "Blink-182",
           "Dysentery Gary"
          ],
          [
           "Blink-182",
           "Wendy Clear"
          ],
          [
           "Blink-182",
           "Reckless Abandon"
          ],
          [
           "Blink-182",
           "Mutt"
          ],
          [
           "Blink-182",
           "Touchdown Boy"
          ],
          [
           "Blink-182",
           "Adam's Song"
          ],
          [
           "Blink-182",
           "The Rock Show"
          ],
          [
           "Blink-182",
           "Give Me One Good Reason"
          ],
          [
           "Blink-182",
           "Skit 13 (Blink 182 / 008811237929)"
          ],
          [
           "Blink-182",
           "My Pet Sally"
          ],
          [
           "Blink-182",
           "I'm Sorry"
          ],
          [
           "Blink-182",
           "Story Of A Lonely Guy"
          ],
          [
           "Blink-182",
           "Aliens Exist"
          ],
          [
           "Blink-182",
           "Another Girl Another Planet"
          ],
          [
           "Blink-182",
           "M+M's"
          ],
          [
           "Blink-182",
           "Ben Wah Balls"
          ],
          [
           "Blink-182",
           "Happy Holidays_ You Bastard"
          ],
          [
           "Blink-182",
           "Degenerate"
          ],
          [
           "Blink-182",
           "The Girl Next Door"
          ],
          [
           "Blink-182",
           "Strings"
          ],
          [
           "Blink-182",
           "Pathetic"
          ],
          [
           "Blink-182",
           "Point of View"
          ],
          [
           "Blink-182",
           "Please Take Me Home"
          ],
          [
           "Blink-182",
           "What's My Age Again?"
          ],
          [
           "Blink-182",
           "All The Small Things"
          ],
          [
           "Blink-182",
           "Untitled"
          ],
          [
           "Blink-182",
           "Violence"
          ],
          [
           "Blink-182",
           "Boring"
          ],
          [
           "Blink-182",
           "Time"
          ],
          [
           "Blink-182",
           "Romeo and Rebecca"
          ],
          [
           "Blink-182",
           "Skit 4 (Blink 182 / 008811237929)"
          ],
          [
           "Blink-182",
           "Toast & Bananas"
          ],
          [
           "Blink-182",
           "Don't Leave Me"
          ],
          [
           "Blink-182",
           "Blew Job"
          ],
          [
           "Blink-182",
           "Feeling This"
          ],
          [
           "Blink-182",
           "TV"
          ],
          [
           "Blink-182",
           "Emo"
          ],
          [
           "Blink-182",
           "Apple Shampoo"
          ],
          [
           "Blink-182",
           "Romeo & Rebecca"
          ],
          [
           "Blink-182",
           "The Party Song"
          ],
          [
           "Blink-182",
           "Peggy Sue"
          ],
          [
           "Blink-182",
           "The Fallen Interlude"
          ],
          [
           "Blink-182",
           "Enthused"
          ],
          [
           "Blink-182",
           "Online Songs"
          ],
          [
           "Blink-182",
           "Voyeur"
          ],
          [
           "Blink-182",
           "I Miss You"
          ],
          [
           "Blink-182",
           "Going Away To College"
          ],
          [
           "Blink-182",
           "Fentoozler"
          ],
          [
           "Blink-182",
           "I'm Lost Without You"
          ],
          [
           "Blink-182",
           "Lemmings"
          ],
          [
           "Blink-182",
           "Skit 12 (Blink 182 / 008811237929)"
          ],
          [
           "Blink-182",
           "Stockholm Syndrome"
          ]
         ],
         "hovertemplate": "artist=%{customdata[0]}<br>t-SNE dimension 0=%{x}<br>t-SNE dimension 2=%{y}<br>title=%{customdata[1]}<extra></extra>",
         "legendgroup": "Blink-182",
         "marker": {
          "color": "#FF7F0E",
          "opacity": 0.8,
          "size": 15,
          "symbol": "circle"
         },
         "mode": "markers",
         "name": "Blink-182",
         "showlegend": true,
         "type": "scatter",
         "x": [
          2.3566806316375732,
          3.059398651123047,
          -0.30200111865997314,
          1.1372278928756714,
          -13.233210563659668,
          2.6938135623931885,
          6.969316482543945,
          -3.565216064453125,
          -4.3484578132629395,
          4.013646125793457,
          -5.109289169311523,
          -0.8019116520881653,
          6.662245750427246,
          -1.4231576919555664,
          -3.846250057220459,
          -2.6405222415924072,
          2.4519765377044678,
          4.134634971618652,
          6.433021545410156,
          -2.4352169036865234,
          4.293147087097168,
          10.493805885314941,
          5.677994251251221,
          4.38225793838501,
          7.783583641052246,
          4.7574591636657715,
          0.4907520115375519,
          0.9051226377487183,
          3.1483473777770996,
          5.429284572601318,
          0.9603747725486755,
          -4.587449073791504,
          -6.4981818199157715,
          -1.0897197723388672,
          4.452060222625732,
          13.886101722717285,
          -2.7733519077301025,
          1.4001896381378174,
          4.638012886047363,
          8.720237731933594,
          5.17531156539917,
          -2.6626899242401123,
          5.062623023986816,
          0.9708960056304932,
          -3.2777442932128906,
          5.526009559631348,
          -13.651350021362305,
          2.6845524311065674,
          0.9846048355102539,
          3.0175931453704834,
          9.622015953063965,
          -2.545830249786377,
          6.437599182128906,
          -3.863867998123169,
          -0.128468856215477,
          4.525346755981445,
          -5.27100133895874,
          5.254818439483643,
          -2.0775837898254395,
          0.8537702560424805,
          -2.5729117393493652,
          -3.640801429748535,
          4.745861053466797,
          -2.0894477367401123,
          3.145460367202759,
          -6.729828357696533,
          4.549828052520752,
          -4.329050540924072,
          2.1772632598876953,
          4.0586981773376465,
          -7.211516857147217,
          -4.409763336181641,
          -13.700679779052734,
          2.4081389904022217
         ],
         "xaxis": "x",
         "y": [
          -2.789674758911133,
          6.2864556312561035,
          -1.5793137550354004,
          -4.195541858673096,
          -4.216484069824219,
          -3.1708922386169434,
          -3.7867424488067627,
          -0.22527004778385162,
          2.534503936767578,
          -7.0169219970703125,
          7.241648197174072,
          -7.714694499969482,
          -4.901425838470459,
          -4.76538610458374,
          1.3397331237792969,
          -5.866238117218018,
          5.6336750984191895,
          6.79520845413208,
          -8.91672134399414,
          -5.622602939605713,
          1.9888620376586914,
          -1.4544960260391235,
          -8.542462348937988,
          -4.054641246795654,
          -4.728710651397705,
          -1.8629487752914429,
          4.460070610046387,
          7.477996349334717,
          -0.6880394220352173,
          -3.9944701194763184,
          3.971557140350342,
          2.9121763706207275,
          -0.487824946641922,
          2.972714424133301,
          -4.038497447967529,
          -3.7491888999938965,
          5.51812744140625,
          -3.372488260269165,
          -3.6866793632507324,
          -1.113336205482483,
          4.787675857543945,
          -0.40496182441711426,
          -3.416682481765747,
          15.172258377075195,
          -3.801314115524292,
          -5.565762519836426,
          1.0233685970306396,
          0.8445154428482056,
          0.4723304212093353,
          -6.981070041656494,
          2.1849427223205566,
          2.7563540935516357,
          -8.911032676696777,
          1.3299132585525513,
          -1.0919040441513062,
          -4.46617317199707,
          5.653302192687988,
          -1.1064832210540771,
          -5.204317569732666,
          -3.1717216968536377,
          2.763437032699585,
          2.3257322311401367,
          -1.3035725355148315,
          2.520500421524048,
          -4.4706902503967285,
          -1.4980459213256836,
          0.01679796725511551,
          -0.46554964780807495,
          -2.7341251373291016,
          -4.979868412017822,
          -5.460628986358643,
          -2.3776204586029053,
          0.6613256335258484,
          -0.839393138885498
         ],
         "yaxis": "y"
        },
        {
         "customdata": [
          [
           "Red Hot Chili Peppers",
           "Get On Top (Album Version)"
          ],
          [
           "Red Hot Chili Peppers",
           "Naked In The Rain (Album Version)"
          ],
          [
           "Red Hot Chili Peppers",
           "Venice Queen (Album Version)"
          ],
          [
           "Red Hot Chili Peppers",
           "Snow [Hey Oh] [Live Version]"
          ],
          [
           "Red Hot Chili Peppers",
           "American Ghost Dance (2003 Digital Remastered)"
          ],
          [
           "Red Hot Chili Peppers",
           "Emit Remmus (Album Version)"
          ],
          [
           "Red Hot Chili Peppers",
           "The Greeting Song (Album Version)"
          ],
          [
           "Red Hot Chili Peppers",
           "Hard To Concentrate (Album Version)"
          ],
          [
           "Red Hot Chili Peppers",
           "I'll Be Your Domino (Non-Album Track)"
          ],
          [
           "Red Hot Chili Peppers",
           "Buckle Down (2002 Digital Remaster)"
          ],
          [
           "Red Hot Chili Peppers",
           "I Could Die For You (Album Version)"
          ],
          [
           "Red Hot Chili Peppers",
           "Love Trilogy (2003 Digital Remaster) ()"
          ],
          [
           "Red Hot Chili Peppers",
           "Knock Me Down (2003 Digital Remaster)"
          ],
          [
           "Red Hot Chili Peppers",
           "She's Only 18 (Album Version)"
          ],
          [
           "Red Hot Chili Peppers",
           "Behind The Sun (Instrumental Demo) (2002 Digital Remaster)"
          ],
          [
           "Red Hot Chili Peppers",
           "Wet Sand (Album Version)"
          ],
          [
           "Red Hot Chili Peppers",
           "Road Trippin' (Album Version)"
          ],
          [
           "Red Hot Chili Peppers",
           "Mercy Mercy (Non-Album Track)"
          ],
          [
           "Red Hot Chili Peppers",
           "Baby Appeal (2002 Digital Remastser) ()"
          ],
          [
           "Red Hot Chili Peppers",
           "Lovin' And Touchin' (2003 Digitally Remastered)"
          ],
          [
           "Red Hot Chili Peppers",
           "The Zephyr Song (Album Version)"
          ],
          [
           "Red Hot Chili Peppers",
           "Universally Speaking (Album Version)"
          ],
          [
           "Red Hot Chili Peppers",
           "Good Time Boys (2003 Digital Remaster)"
          ],
          [
           "Red Hot Chili Peppers",
           "Minor Thing (Album Version)"
          ],
          [
           "Red Hot Chili Peppers",
           "Hollywood (Africa) (2003 Digitally Remastered)"
          ],
          [
           "Red Hot Chili Peppers",
           "You Always Sing The Same (2002 Digital Remaster)"
          ],
          [
           "Red Hot Chili Peppers",
           "Turn It Again (Album Version)"
          ],
          [
           "Red Hot Chili Peppers",
           "Funky Monks (Album Version)"
          ],
          [
           "Red Hot Chili Peppers",
           "Lately (Non-Album Track)"
          ],
          [
           "Red Hot Chili Peppers",
           "Apache Rose Peacock (Album Version)"
          ],
          [
           "Red Hot Chili Peppers",
           "She Looks To Me (Album Version)"
          ],
          [
           "Red Hot Chili Peppers",
           "Hollywood (Africa)"
          ],
          [
           "Red Hot Chili Peppers",
           "Higher Ground (Album Version)"
          ],
          [
           "Red Hot Chili Peppers",
           "Warm Tape (Album Version)"
          ],
          [
           "Red Hot Chili Peppers",
           "Blues For Meister"
          ],
          [
           "Red Hot Chili Peppers",
           "Castles Made Of Sand (Studio) (Bonus Track)"
          ],
          [
           "Red Hot Chili Peppers",
           "Stadium Arcadium (Album Version)"
          ],
          [
           "Red Hot Chili Peppers",
           "Around The World (Album Version)"
          ],
          [
           "Red Hot Chili Peppers",
           "Millionaires Against Hunger (2002 Digital Remastser) (Explicit)"
          ],
          [
           "Red Hot Chili Peppers",
           "Throw Away Your Television (Album Version)"
          ],
          [
           "Red Hot Chili Peppers",
           "Especially In Michigan (Album Version)"
          ],
          [
           "Red Hot Chili Peppers",
           "Police Helicopter (Demo Version) (2003 Digital Remaster)"
          ],
          [
           "Red Hot Chili Peppers",
           "Mellowship Slinky In B Major (Album Version)"
          ],
          [
           "Red Hot Chili Peppers",
           "Yertle The Turtle (2003 Digitally Remastered)"
          ],
          [
           "Red Hot Chili Peppers",
           "Nobody Weird Like Me (2003 Digital Remaster)"
          ],
          [
           "Red Hot Chili Peppers",
           "On Mercury (Album Version)"
          ],
          [
           "Red Hot Chili Peppers",
           "Magic Johnson (2003 Digital Remaster)"
          ],
          [
           "Red Hot Chili Peppers",
           "Parallel Universe (Album Version)"
          ],
          [
           "Red Hot Chili Peppers",
           "C'mon Girl (Album Version)"
          ],
          [
           "Red Hot Chili Peppers",
           "If You Want Me To Stay (Pink Mustang Mix)"
          ],
          [
           "Red Hot Chili Peppers",
           "Thirty Dirty Birds (2003 Digitally Remastered)"
          ],
          [
           "Red Hot Chili Peppers",
           "Let's Make Evil (Bonus Track)"
          ],
          [
           "Red Hot Chili Peppers",
           "What It Is (AKA Nina's Song) (Demo) (Digitally Remastered 02) ()"
          ],
          [
           "Red Hot Chili Peppers",
           "Green Heaven (Demo Version) (Digitally Remastered 02) ()"
          ],
          [
           "Red Hot Chili Peppers",
           "Hollywood (Africa) (Extended Dance Mix)"
          ],
          [
           "Red Hot Chili Peppers",
           "Shallow Be Thy Game (Album Version)"
          ],
          [
           "Red Hot Chili Peppers",
           "Tell Me Baby (Album Version)"
          ],
          [
           "Red Hot Chili Peppers",
           "My Lovely Man (Album Version)"
          ],
          [
           "Red Hot Chili Peppers",
           "Blood Sugar Sex Magik (Album Version)"
          ],
          [
           "Red Hot Chili Peppers",
           "Save This Lady (Non-Album Track)"
          ],
          [
           "Red Hot Chili Peppers",
           "I Like Dirt (Album Version)"
          ],
          [
           "Red Hot Chili Peppers",
           "Storm In A Teacup (Album Version)"
          ],
          [
           "Red Hot Chili Peppers",
           "Breaking The Girl (Album Version)"
          ],
          [
           "Red Hot Chili Peppers",
           "You Always Sing The Same (Demo)"
          ],
          [
           "Red Hot Chili Peppers",
           "Deep Kick (Album Version)"
          ],
          [
           "Red Hot Chili Peppers",
           "Blackeyed Blonde (2003 Digitally Remastered)"
          ],
          [
           "Red Hot Chili Peppers",
           "Falling Into Grace (Album Version)"
          ],
          [
           "Red Hot Chili Peppers",
           "Soul To Squeeze (Album Version)"
          ],
          [
           "Red Hot Chili Peppers",
           "Right On Time (Album Version)"
          ],
          [
           "Red Hot Chili Peppers",
           "Stranded (Demo)"
          ],
          [
           "Red Hot Chili Peppers",
           "Me And My Friends (2003 Digital Remaster)"
          ],
          [
           "Red Hot Chili Peppers",
           "Subterranean Homesick Blues (2003 Digital Remaster)"
          ],
          [
           "Red Hot Chili Peppers",
           "Skinny Sweaty Man (2003 Digital Remaster)"
          ],
          [
           "Red Hot Chili Peppers",
           "Behind The Sun"
          ],
          [
           "Red Hot Chili Peppers",
           "Hump de Bump (Album Version)"
          ],
          [
           "Red Hot Chili Peppers",
           "Under The Bridge (Album Version)"
          ],
          [
           "Red Hot Chili Peppers",
           "Give It Away (Album Version)"
          ],
          [
           "Red Hot Chili Peppers",
           "Salute To Kareem (Demo)"
          ],
          [
           "Red Hot Chili Peppers",
           "Get Up and Jump (Demo Version) (Digitally Remastered 02) ()"
          ],
          [
           "Red Hot Chili Peppers",
           "Desecration Smile (Album Version)"
          ],
          [
           "Red Hot Chili Peppers",
           "Organic Anti-Beat Box Band (2003 Digital Remaster)"
          ],
          [
           "Red Hot Chili Peppers",
           "The Righteous And The Wicked (Album Version)"
          ],
          [
           "Red Hot Chili Peppers",
           "Freaky Styley (2003 Digitally Remastered)"
          ],
          [
           "Red Hot Chili Peppers",
           "Strip My Mind (Album Version)"
          ],
          [
           "Red Hot Chili Peppers",
           "Why Don't You Love Me (2002 Digital Remaster)"
          ],
          [
           "Red Hot Chili Peppers",
           "Jungle Man"
          ],
          [
           "Red Hot Chili Peppers",
           "Over Funk (Bonus Track)"
          ],
          [
           "Red Hot Chili Peppers",
           "Taste The Pain"
          ],
          [
           "Red Hot Chili Peppers",
           "Death Of A Martian (Album Version)"
          ],
          [
           "Red Hot Chili Peppers",
           "Fire (2003 Digital Remaster)"
          ],
          [
           "Red Hot Chili Peppers",
           "True Men Don't Kill Coyotes (24-Bit Digitally Remastered 02)"
          ],
          [
           "Red Hot Chili Peppers",
           "Knock Me Down (Original Long Version)"
          ],
          [
           "Red Hot Chili Peppers",
           "I Could Have Lied (Album Version)"
          ],
          [
           "Red Hot Chili Peppers",
           "Californication (Album Version)"
          ],
          [
           "Red Hot Chili Peppers",
           "Out In L.A. (2002 Digital Remastser) ()"
          ],
          [
           "Red Hot Chili Peppers",
           "Slow Cheetah (Album Version)"
          ]
         ],
         "hovertemplate": "artist=%{customdata[0]}<br>t-SNE dimension 0=%{x}<br>t-SNE dimension 2=%{y}<br>title=%{customdata[1]}<extra></extra>",
         "legendgroup": "Red Hot Chili Peppers",
         "marker": {
          "color": "#2CA02C",
          "opacity": 0.8,
          "size": 15,
          "symbol": "circle"
         },
         "mode": "markers",
         "name": "Red Hot Chili Peppers",
         "showlegend": true,
         "type": "scatter",
         "x": [
          6.596621036529541,
          7.413082599639893,
          5.029504776000977,
          -0.9413048028945923,
          6.349835395812988,
          0.3598494231700897,
          0.22980473935604095,
          8.998594284057617,
          1.637436032295227,
          2.1116020679473877,
          -2.8660736083984375,
          11.240880012512207,
          -1.7598199844360352,
          -3.697075128555298,
          0.625644326210022,
          -0.11654376238584518,
          -6.352496147155762,
          1.1656535863876343,
          -0.08214525878429413,
          -5.744508266448975,
          3.913696765899658,
          0.6831018328666687,
          7.960481643676758,
          8.860852241516113,
          1.6454039812088013,
          -1.8471068143844604,
          5.176307201385498,
          -0.11430303752422333,
          1.3348630666732788,
          7.500875949859619,
          -0.5979627370834351,
          1.6571696996688843,
          17.81173324584961,
          -1.287011742591858,
          0.9808276891708374,
          1.7200431823730469,
          -3.1471593379974365,
          11.029253959655762,
          12.98361587524414,
          9.465018272399902,
          7.358333110809326,
          4.96921968460083,
          6.726891040802002,
          0.20661744475364685,
          5.992878437042236,
          1.1254839897155762,
          9.14825439453125,
          7.4089765548706055,
          0.33095866441726685,
          -13.083494186401367,
          2.5155534744262695,
          7.4296674728393555,
          7.832608222961426,
          10.585566520690918,
          9.508264541625977,
          8.05686092376709,
          -7.713482856750488,
          -10.203474044799805,
          9.203943252563477,
          0.8874683380126953,
          0.3453082740306854,
          7.512555122375488,
          2.748063325881958,
          -1.8475829362869263,
          2.259547472000122,
          9.338879585266113,
          -1.5927517414093018,
          14.452829360961914,
          -3.7218146324157715,
          -7.606037616729736,
          1.3912312984466553,
          8.74587631225586,
          -0.7217297554016113,
          0.6276878118515015,
          1.0339146852493286,
          -5.151357173919678,
          10.050107955932617,
          -4.367839336395264,
          3.044234275817871,
          4.625454425811768,
          4.5240797996521,
          14.132533073425293,
          1.8006551265716553,
          7.161806583404541,
          -10.099491119384766,
          8.325454711914062,
          1.660294532775879,
          -11.566741943359375,
          2.8355302810668945,
          1.051222562789917,
          7.263175010681152,
          -1.675667643547058,
          0.9782916903495789,
          1.2562073469161987,
          1.584025263786316,
          2.936701774597168
         ],
         "xaxis": "x",
         "y": [
          -5.131838321685791,
          9.66370964050293,
          -5.980813026428223,
          4.646581649780273,
          10.488996505737305,
          16.946916580200195,
          -0.1381044238805771,
          -1.392970085144043,
          1.935937762260437,
          -3.9363739490509033,
          -4.957669734954834,
          -2.1130130290985107,
          -1.5240195989608765,
          3.581284999847412,
          14.508176803588867,
          5.9260430335998535,
          10.756651878356934,
          -2.03887939453125,
          0.7048510313034058,
          -2.6550545692443848,
          7.483595371246338,
          10.599616050720215,
          8.339540481567383,
          2.1755757331848145,
          3.1547811031341553,
          -2.2957918643951416,
          9.224017143249512,
          -8.419224739074707,
          11.026874542236328,
          4.589389324188232,
          7.200088977813721,
          3.164628744125366,
          7.841353893280029,
          12.891844749450684,
          4.755887985229492,
          13.613728523254395,
          6.055115222930908,
          5.9523024559021,
          -2.869319438934326,
          -1.4179774522781372,
          5.062621116638184,
          6.566263675689697,
          4.366134166717529,
          9.85103988647461,
          3.2925655841827393,
          3.3641810417175293,
          3.0425570011138916,
          7.531513214111328,
          0.7222991585731506,
          -5.193417072296143,
          7.091658592224121,
          8.67750358581543,
          -1.9182538986206055,
          1.6613203287124634,
          -1.2572648525238037,
          -4.226165771484375,
          -0.8345798850059509,
          -2.3405487537384033,
          5.693445682525635,
          5.271571159362793,
          16.912973403930664,
          9.770829200744629,
          2.401132106781006,
          -2.284245014190674,
          3.9689390659332275,
          9.420400619506836,
          -8.283919334411621,
          5.087445259094238,
          -8.063338279724121,
          8.544317245483398,
          -0.33745574951171875,
          -3.844928741455078,
          4.397663593292236,
          14.512601852416992,
          6.844235897064209,
          1.436604380607605,
          9.049458503723145,
          7.533775329589844,
          -1.3115352392196655,
          6.775632381439209,
          -1.9495428800582886,
          -0.5769855380058289,
          -0.9799582362174988,
          9.837895393371582,
          8.600696563720703,
          8.542510032653809,
          -2.0774636268615723,
          5.015120506286621,
          8.834210395812988,
          -1.9876800775527954,
          5.3975443840026855,
          -1.4099042415618896,
          -8.335225105285645,
          0.5889196991920471,
          -0.2713681757450104,
          -4.544517517089844
         ],
         "yaxis": "y"
        },
        {
         "customdata": [
          [
           "Eminem",
           "Ricky Ticky Toc"
          ],
          [
           "Eminem",
           "The Way I Am"
          ],
          [
           "Eminem",
           "Beautiful"
          ],
          [
           "Eminem",
           "Paul"
          ],
          [
           "Eminem",
           "Hailie's Song"
          ],
          [
           "Eminem",
           "Without Me"
          ],
          [
           "Eminem",
           "8 Mile"
          ],
          [
           "Eminem",
           "Dr. West"
          ],
          [
           "Eminem",
           "Curtains Up"
          ],
          [
           "Eminem",
           "Yellow Brick Road"
          ],
          [
           "Eminem",
           "If I Had"
          ],
          [
           "Eminem",
           "Em Calls Paul (skit)"
          ],
          [
           "Eminem",
           "When I'm Gone"
          ],
          [
           "Eminem",
           "Bad Influence"
          ],
          [
           "Eminem",
           "'97 Bonnie & Clyde"
          ],
          [
           "Eminem",
           "Rock Bottom"
          ],
          [
           "Eminem",
           "Careful What You Wish For"
          ],
          [
           "Eminem",
           "Puke"
          ],
          [
           "Eminem",
           "My Darling"
          ],
          [
           "Eminem",
           "Public Service Announcement"
          ],
          [
           "Eminem",
           "Just Don't Give"
          ],
          [
           "Eminem",
           "We As Americans"
          ],
          [
           "Eminem",
           "Ken Kaniff"
          ],
          [
           "Eminem",
           "Shady Narcotics"
          ],
          [
           "Eminem",
           "Love You More"
          ],
          [
           "Eminem",
           "Square Dance"
          ],
          [
           "Eminem",
           "Still Don't Give"
          ],
          [
           "Eminem",
           "Hazardous Youth"
          ],
          [
           "Eminem",
           "Tonya"
          ],
          [
           "Eminem",
           "Criminal"
          ],
          [
           "Eminem",
           "FACK"
          ],
          [
           "Eminem",
           "Public Enemy #1"
          ],
          [
           "Eminem",
           "My 1st Single"
          ],
          [
           "Eminem",
           "**** You"
          ],
          [
           "Eminem",
           "My Name Is"
          ],
          [
           "Eminem",
           "Any Man"
          ],
          [
           "Eminem",
           "Cleanin' Out My Closet"
          ],
          [
           "Eminem",
           "Curtains Close"
          ],
          [
           "Eminem",
           "The Kids"
          ],
          [
           "Eminem",
           "The Kiss"
          ],
          [
           "Eminem",
           "Cum On Everybody"
          ],
          [
           "Eminem",
           "Rabbit Run"
          ],
          [
           "Eminem",
           "Sing For The Moment"
          ],
          [
           "Eminem",
           "Lose Yourself"
          ],
          [
           "Eminem",
           "Paul (skit)"
          ],
          [
           "Eminem",
           "The Conspiracy (Freestyle)"
          ],
          [
           "Eminem",
           "Like Toy Soldiers"
          ],
          [
           "Eminem",
           "Marshall Mathers"
          ],
          [
           "Eminem",
           "Mockingbird"
          ],
          [
           "Eminem",
           "Mr. Mathers"
          ],
          [
           "Eminem",
           "No Apologies"
          ]
         ],
         "hovertemplate": "artist=%{customdata[0]}<br>t-SNE dimension 0=%{x}<br>t-SNE dimension 2=%{y}<br>title=%{customdata[1]}<extra></extra>",
         "legendgroup": "Eminem",
         "marker": {
          "color": "#D62728",
          "opacity": 0.8,
          "size": 15,
          "symbol": "circle"
         },
         "mode": "markers",
         "name": "Eminem",
         "showlegend": true,
         "type": "scatter",
         "x": [
          5.491713523864746,
          5.641539573669434,
          4.444303035736084,
          0.5186765789985657,
          5.750620365142822,
          4.294959545135498,
          5.4058613777160645,
          -1.0947879552841187,
          0.5415023565292358,
          5.183362007141113,
          6.861126899719238,
          6.080900192260742,
          -5.253662109375,
          6.967147350311279,
          6.293120384216309,
          8.481157302856445,
          9.243951797485352,
          6.678559303283691,
          -1.4962033033370972,
          9.307604789733887,
          9.091588973999023,
          10.532957077026367,
          3.7625732421875,
          7.329883575439453,
          7.754630088806152,
          8.210373878479004,
          9.985544204711914,
          10.408164978027344,
          6.5775837898254395,
          10.08006763458252,
          9.396994590759277,
          7.99508810043335,
          9.616074562072754,
          11.811978340148926,
          8.831174850463867,
          11.135032653808594,
          7.24661111831665,
          4.911929130554199,
          4.165127277374268,
          9.322354316711426,
          10.051172256469727,
          7.717445373535156,
          7.26663875579834,
          6.45710563659668,
          8.163273811340332,
          7.947653293609619,
          8.331428527832031,
          6.735136032104492,
          4.992342472076416,
          4.508730888366699,
          4.788575172424316
         ],
         "xaxis": "x",
         "y": [
          -4.588938236236572,
          -4.446570873260498,
          -4.790039539337158,
          -6.8855109214782715,
          -5.950784206390381,
          -1.1425470113754272,
          -3.295243263244629,
          -3.0866613388061523,
          -3.77243709564209,
          -1.137142539024353,
          2.5856242179870605,
          1.9480187892913818,
          1.1174076795578003,
          4.585975170135498,
          1.35407555103302,
          4.387701511383057,
          3.4934442043304443,
          -5.187798500061035,
          -0.6288962960243225,
          0.2471655011177063,
          3.8491621017456055,
          3.628032684326172,
          6.737092018127441,
          0.6369204521179199,
          0.5170817375183105,
          2.2594962120056152,
          3.762022018432617,
          3.386791467666626,
          0.41419872641563416,
          2.3337371349334717,
          -1.06540846824646,
          7.23461389541626,
          0.015633463859558105,
          0.7584638595581055,
          1.21885347366333,
          -0.9343067407608032,
          0.10616649687290192,
          -5.76754093170166,
          -1.4611845016479492,
          -5.572490215301514,
          -3.5386829376220703,
          -2.598170042037964,
          -5.166894435882568,
          -3.6917011737823486,
          -7.911141395568848,
          -4.241081714630127,
          -4.563266277313232,
          -5.466136455535889,
          -5.472283840179443,
          -1.3644275665283203,
          -4.43751859664917
         ],
         "yaxis": "y"
        },
        {
         "customdata": [
          [
           "Eric Clapton",
           "Hello Old Friend"
          ],
          [
           "Eric Clapton",
           "When You Got A Good Friend (Album Version)"
          ],
          [
           "Eric Clapton",
           "Tulsa Time"
          ],
          [
           "Eric Clapton",
           "Floating Bridge"
          ],
          [
           "Eric Clapton",
           "Blues Power"
          ],
          [
           "Eric Clapton",
           "Further On Up The Road"
          ],
          [
           "Eric Clapton",
           "Wonderful Tonight"
          ],
          [
           "Eric Clapton",
           "I Want A Little Girl (Live)"
          ],
          [
           "Eric Clapton",
           "Willie And The Hand Jive"
          ],
          [
           "Eric Clapton",
           "Can't Find My Way Home"
          ],
          [
           "Eric Clapton",
           "Love Don't Love Nobody (Album Version)"
          ],
          [
           "Eric Clapton",
           "Alberta"
          ],
          [
           "Eric Clapton",
           "Come Back Baby (Album Version)"
          ],
          [
           "Eric Clapton",
           "We're All The Way"
          ],
          [
           "Eric Clapton",
           "Lay Down Sally"
          ],
          [
           "Eric Clapton",
           "Someday After A While (Live) (Album Version)"
          ],
          [
           "Eric Clapton",
           "Bell Bottom Blues (Live)"
          ],
          [
           "Eric Clapton",
           "Standin' Round Crying (Live) (Album Version)"
          ],
          [
           "Eric Clapton",
           "Tangled In Love (Album Version)"
          ],
          [
           "Eric Clapton",
           "Forever Man (Album Version)"
          ],
          [
           "Eric Clapton",
           "Let It Grow"
          ],
          [
           "Eric Clapton",
           "Cocaine"
          ],
          [
           "Eric Clapton",
           "Holy Mother (Album Version)"
          ],
          [
           "Eric Clapton",
           "Singin' The Blues"
          ],
          [
           "Eric Clapton",
           "It's In The Way That You Use It (Album Version)"
          ],
          [
           "Eric Clapton",
           "The Core"
          ],
          [
           "Eric Clapton",
           "All Our Past Times"
          ],
          [
           "Eric Clapton",
           "Bottle Of Red Wine"
          ],
          [
           "Eric Clapton",
           "Little Wing"
          ],
          [
           "Eric Clapton",
           "Hound Dog (Album Version)"
          ],
          [
           "Eric Clapton",
           "Swing Low Sweet Chariot"
          ],
          [
           "Eric Clapton",
           "Meet Me (Down At The Bottom)"
          ],
          [
           "Eric Clapton",
           "Hoochie Coochie Man  (Live) (Album Version)"
          ],
          [
           "Eric Clapton",
           "Rita Mae"
          ],
          [
           "Eric Clapton",
           "Breaking Point  (Album Version)"
          ],
          [
           "Eric Clapton",
           "Early In The Morning"
          ],
          [
           "Eric Clapton",
           "Blues Leave Me Alone  (Live)  (Album Version)"
          ],
          [
           "Eric Clapton",
           "After Midnight"
          ],
          [
           "Eric Clapton",
           "I'm Tore Down  (Live) (Album Version)"
          ],
          [
           "Eric Clapton",
           "How Long Blues  (Live)  (Album Version)"
          ],
          [
           "Eric Clapton",
           "Kind Hearted Woman"
          ],
          [
           "Eric Clapton",
           "It All Depends (Album Version)"
          ],
          [
           "Eric Clapton",
           "Double Trouble"
          ],
          [
           "Eric Clapton",
           "Beware Of Darkness (LP Version)"
          ],
          [
           "Eric Clapton",
           "Key To The Highway (Live)"
          ],
          [
           "Eric Clapton",
           "Driftin' (Live)  (Album Version)"
          ],
          [
           "Eric Clapton",
           "Take A Chance (Album Version)"
          ],
          [
           "Eric Clapton",
           "Smile"
          ],
          [
           "Eric Clapton",
           "Kind Hearted Woman Blues (Album Version)"
          ],
          [
           "Eric Clapton",
           "Before You Accuse Me (Unplugged CD Version)"
          ],
          [
           "Eric Clapton",
           "Little Queen Of Spades (Album Version)"
          ],
          [
           "Eric Clapton",
           "Roll It"
          ],
          [
           "Eric Clapton",
           "I'm Going Left (Album Version)"
          ],
          [
           "Eric Clapton",
           "Crosscut Saw (LP Version)"
          ],
          [
           "Eric Clapton",
           "Pretending"
          ],
          [
           "Eric Clapton",
           "I Shot The Sheriff"
          ],
          [
           "Eric Clapton",
           "Little Rachel"
          ],
          [
           "Eric Clapton",
           "Watch Yourself (Live) (Album Version)"
          ],
          [
           "Eric Clapton",
           "Badge"
          ],
          [
           "Eric Clapton",
           "Going Down Slow (Album Version)"
          ],
          [
           "Eric Clapton",
           "Me And The Devil Blues (Album Version)"
          ],
          [
           "Eric Clapton",
           "Knockin' On Heaven's Door"
          ],
          [
           "Eric Clapton",
           "Let It Rain"
          ],
          [
           "Eric Clapton",
           "Please Be With Me"
          ],
          [
           "Eric Clapton",
           "Tears In Heaven"
          ],
          [
           "Eric Clapton",
           "Before You Accuse Me (Take A Look At Yourself)"
          ],
          [
           "Eric Clapton",
           "Have You Ever Loved A Woman"
          ],
          [
           "Eric Clapton",
           "Behind The Mask (Album Version)"
          ],
          [
           "Eric Clapton",
           "Don't Think Twice_ It's All Right"
          ],
          [
           "Eric Clapton",
           "Knock On Wood  (Album Version)"
          ],
          [
           "Eric Clapton",
           "Layla [Unplugged Version]"
          ]
         ],
         "hovertemplate": "artist=%{customdata[0]}<br>t-SNE dimension 0=%{x}<br>t-SNE dimension 2=%{y}<br>title=%{customdata[1]}<extra></extra>",
         "legendgroup": "Eric Clapton",
         "marker": {
          "color": "#9467BD",
          "opacity": 0.8,
          "size": 15,
          "symbol": "circle"
         },
         "mode": "markers",
         "name": "Eric Clapton",
         "showlegend": true,
         "type": "scatter",
         "x": [
          -1.5523858070373535,
          -8.063435554504395,
          -9.32269287109375,
          0.09669798612594604,
          -5.131383419036865,
          -9.781827926635742,
          -3.6110308170318604,
          -7.606637954711914,
          8.271544456481934,
          -6.102609634399414,
          -8.932943344116211,
          -10.82382869720459,
          -11.69426441192627,
          -2.1595675945281982,
          0.593307375907898,
          -10.369701385498047,
          -10.822429656982422,
          -7.99759578704834,
          -5.0754876136779785,
          -0.05443531647324562,
          -0.4868912100791931,
          14.573663711547852,
          0.4762858748435974,
          -3.338926076889038,
          -9.725229263305664,
          6.6240153312683105,
          2.8443939685821533,
          -6.899340629577637,
          -12.408513069152832,
          11.554068565368652,
          -6.443103313446045,
          0.31965166330337524,
          5.738348484039307,
          4.6392083168029785,
          2.6068286895751953,
          -6.6604461669921875,
          -8.21389389038086,
          -3.1473190784454346,
          9.42561149597168,
          -5.582852840423584,
          -3.0196473598480225,
          -2.219277858734131,
          -2.8368582725524902,
          15.722675323486328,
          -8.186601638793945,
          -12.952171325683594,
          -3.260789394378662,
          -14.091765403747559,
          -3.0107693672180176,
          -10.538209915161133,
          -7.257682800292969,
          -4.33036994934082,
          0.16372789442539215,
          0.3916562795639038,
          -2.44162917137146,
          15.494229316711426,
          -2.541259288787842,
          -11.114126205444336,
          -7.598524570465088,
          10.019940376281738,
          -8.936363220214844,
          -7.381035804748535,
          1.9414715766906738,
          -10.377863883972168,
          -7.453835487365723,
          -10.536138534545898,
          -9.497152328491211,
          -1.591194987297058,
          -13.552042961120605,
          -1.3356132507324219,
          -7.793102264404297
         ],
         "xaxis": "x",
         "y": [
          7.947685241699219,
          -6.781122207641602,
          2.7899248600006104,
          10.411942481994629,
          -1.0915260314941406,
          4.2627034187316895,
          4.686317443847656,
          -1.063056468963623,
          -11.777000427246094,
          1.6163561344146729,
          -4.935298442840576,
          2.1112961769104004,
          -1.2955317497253418,
          -2.600173234939575,
          9.890174865722656,
          -1.685497760772705,
          3.4399044513702393,
          4.286462306976318,
          -6.161023139953613,
          -10.350546836853027,
          9.345900535583496,
          4.969021797180176,
          4.046173572540283,
          3.955716371536255,
          -3.273214101791382,
          3.769843101501465,
          -6.979308128356934,
          0.6469096541404724,
          9.711463928222656,
          -11.534335136413574,
          8.615927696228027,
          6.703629016876221,
          -10.712065696716309,
          4.420802593231201,
          -2.962808609008789,
          0.48662009835243225,
          8.17654037475586,
          -1.7736841440200806,
          -13.279633522033691,
          7.813505172729492,
          -9.160896301269531,
          -6.4789533615112305,
          -7.788507461547852,
          -2.405747652053833,
          8.595307350158691,
          -2.693514108657837,
          2.052067756652832,
          5.873908042907715,
          -9.046764373779297,
          2.7122561931610107,
          -0.9281343817710876,
          -0.8293145895004272,
          -0.8467663526535034,
          1.180815577507019,
          -2.5573370456695557,
          -0.08817549794912338,
          0.7667392492294312,
          5.0514960289001465,
          6.930232048034668,
          -12.46596622467041,
          7.738162994384766,
          4.365380764007568,
          1.0794904232025146,
          -6.448050498962402,
          -3.8313395977020264,
          2.7265655994415283,
          -10.550372123718262,
          2.1197187900543213,
          7.367912769317627,
          -9.592360496520996,
          -6.576274394989014
         ],
         "yaxis": "y"
        },
        {
         "customdata": [
          [
           "Avenged Sevenfold",
           "Streets"
          ],
          [
           "Avenged Sevenfold",
           "Brompton Cocktail (Album Version)"
          ],
          [
           "Avenged Sevenfold",
           "I Won't See You Tonight Part 2"
          ],
          [
           "Avenged Sevenfold",
           "Remenissions"
          ],
          [
           "Avenged Sevenfold",
           "I Won't See You Tonight Part 1"
          ],
          [
           "Avenged Sevenfold",
           "Dear God (Album Version)"
          ],
          [
           "Avenged Sevenfold",
           "Breaking Their Hold"
          ],
          [
           "Avenged Sevenfold",
           "Waking the Fallen"
          ],
          [
           "Avenged Sevenfold",
           "And All Things Will End"
          ],
          [
           "Avenged Sevenfold",
           "Crossroads (Non-Album Track)"
          ],
          [
           "Avenged Sevenfold",
           "Eternal Rest"
          ],
          [
           "Avenged Sevenfold",
           "M.I.A. (Album Version)"
          ],
          [
           "Avenged Sevenfold",
           "Afterlife (Album Version)"
          ],
          [
           "Avenged Sevenfold",
           "Critical Acclaim (Amended Version)"
          ],
          [
           "Avenged Sevenfold",
           "Turn The Other Way"
          ],
          [
           "Avenged Sevenfold",
           "Radiant Eclipse"
          ],
          [
           "Avenged Sevenfold",
           "To End The Rapture"
          ],
          [
           "Avenged Sevenfold",
           "Warmness On The Soul"
          ],
          [
           "Avenged Sevenfold",
           "A Little Piece Of Heaven (Album Version)"
          ],
          [
           "Avenged Sevenfold",
           "Second Heartbeat"
          ],
          [
           "Avenged Sevenfold",
           "Shattered By Broken Dreams"
          ],
          [
           "Avenged Sevenfold",
           "Clairvoyant Disease"
          ],
          [
           "Avenged Sevenfold",
           "Darkness Surrounding"
          ],
          [
           "Avenged Sevenfold",
           "Unholy Confessions"
          ],
          [
           "Avenged Sevenfold",
           "The Wicked End (Album Version)"
          ],
          [
           "Avenged Sevenfold",
           "We Come Out At Night"
          ],
          [
           "Avenged Sevenfold",
           "The Art Of Subconscious Illusion"
          ],
          [
           "Avenged Sevenfold",
           "Forgotten Faces"
          ],
          [
           "Avenged Sevenfold",
           "An Epic Of Time Wasted"
          ],
          [
           "Avenged Sevenfold",
           "Burn It Down (Live In San Diego)"
          ],
          [
           "Avenged Sevenfold",
           "Desecrate Through Reverence"
          ],
          [
           "Avenged Sevenfold",
           "Chapter Four"
          ],
          [
           "Avenged Sevenfold",
           "Lips Of Deceit"
          ],
          [
           "Avenged Sevenfold",
           "Strength Of The World (Album Version)"
          ],
          [
           "Avenged Sevenfold",
           "Unbound [The Wild Ride] (Album Version)"
          ],
          [
           "Avenged Sevenfold",
           "Thick And Thin"
          ]
         ],
         "hovertemplate": "artist=%{customdata[0]}<br>t-SNE dimension 0=%{x}<br>t-SNE dimension 2=%{y}<br>title=%{customdata[1]}<extra></extra>",
         "legendgroup": "Avenged Sevenfold",
         "marker": {
          "color": "#8C564B",
          "opacity": 0.8,
          "size": 15,
          "symbol": "circle"
         },
         "mode": "markers",
         "name": "Avenged Sevenfold",
         "showlegend": true,
         "type": "scatter",
         "x": [
          5.971343040466309,
          4.109311580657959,
          2.1070070266723633,
          9.788952827453613,
          3.9614615440368652,
          -7.367602825164795,
          7.4999470710754395,
          0.7096267938613892,
          3.8785476684570312,
          2.6221320629119873,
          3.4809608459472656,
          9.213407516479492,
          -1.7693297863006592,
          7.2952961921691895,
          2.9853172302246094,
          6.073836803436279,
          6.204565048217773,
          -1.4494155645370483,
          5.616572856903076,
          -1.5987329483032227,
          2.0147740840911865,
          0.9779385328292847,
          7.33272647857666,
          2.833091974258423,
          13.538558959960938,
          0.5215267539024353,
          8.218152046203613,
          4.2680463790893555,
          -2.749696969985962,
          12.471538543701172,
          1.4372427463531494,
          12.196849822998047,
          8.295206069946289,
          9.843100547790527,
          1.453490138053894,
          8.634074211120605
         ],
         "xaxis": "x",
         "y": [
          -4.663560390472412,
          -2.015446186065674,
          1.8268951177597046,
          1.2028779983520508,
          4.311548709869385,
          -0.11696665734052658,
          -1.8624470233917236,
          6.649916172027588,
          1.8624882698059082,
          -1.7723426818847656,
          8.024206161499023,
          2.6889593601226807,
          2.467512369155884,
          -3.7514290809631348,
          7.715253829956055,
          7.00413179397583,
          6.915741443634033,
          -4.824760437011719,
          -7.514050006866455,
          -1.3154475688934326,
          -4.646460056304932,
          3.1984267234802246,
          6.236360549926758,
          0.6346442103385925,
          5.907671928405762,
          8.356925010681152,
          2.5462422370910645,
          3.2024383544921875,
          -0.9593510031700134,
          -0.41904011368751526,
          -1.877408504486084,
          7.057756423950195,
          2.439793825149536,
          9.057361602783203,
          -0.3902430832386017,
          -2.8876562118530273
         ],
         "yaxis": "y"
        },
        {
         "customdata": [
          [
           "Linkin Park",
           "Crawling (Album Version)"
          ],
          [
           "Linkin Park",
           "Given Up (Album Version)"
          ],
          [
           "Linkin Park",
           "One Step Closer [Live At Milton Keynes]"
          ],
          [
           "Linkin Park",
           "Wth>You (Album Version)"
          ],
          [
           "Linkin Park",
           "In Pieces [Live From Projekt Revolution_ Washington DC_ Aug. 19 '07]"
          ],
          [
           "Linkin Park",
           "Papercut [Recorded Live At BBC1]"
          ],
          [
           "Linkin Park",
           "Given Up [Third Encore Session]"
          ],
          [
           "Linkin Park",
           "Breaking The Habit (Album Version)"
          ],
          [
           "Linkin Park",
           "Valentine's Day [Live From Frankfurt Germany_ Jan 20 '08]"
          ],
          [
           "Linkin Park",
           "Points Of Authority (Live In Texas)"
          ],
          [
           "Linkin Park",
           "Faint [Live In Japan]"
          ],
          [
           "Linkin Park",
           "My<Dsmbr (Album Version)"
          ],
          [
           "Linkin Park",
           "Lying From You (Live In Texas)"
          ],
          [
           "Linkin Park",
           "By Myself (Album Version)"
          ],
          [
           "Linkin Park",
           "In Between [Live From London UK_ Jan 29 '08]"
          ],
          [
           "Linkin Park",
           "Runaway (Album Version)"
          ],
          [
           "Linkin Park",
           "High Voltage"
          ],
          [
           "Linkin Park",
           "Easier To Run [Live LP Underground Tour 2003]"
          ],
          [
           "Linkin Park",
           "Kyur4 Th Ich (Album Version)"
          ],
          [
           "Linkin Park",
           "Buy Myself [Manson Remix] (Non-Album Track)"
          ],
          [
           "Linkin Park",
           "Numb (Live In Texas)"
          ],
          [
           "Linkin Park",
           "Rnw@y (Album Version)"
          ],
          [
           "Linkin Park",
           "New Divide [A Cappella Version]"
          ],
          [
           "Linkin Park",
           "Plc.4 Mie Haed (Album Version)"
          ],
          [
           "Linkin Park",
           "In The End (Album Version)"
          ],
          [
           "Linkin Park",
           "Given Up [Live At Milton Keynes]"
          ],
          [
           "Linkin Park",
           "Cure For The Itch (Album Version)"
          ],
          [
           "Linkin Park",
           "Hands Held High (Album Version)"
          ],
          [
           "Linkin Park",
           "My December"
          ],
          [
           "Linkin Park",
           "From The Inside [Live LP Underground Tour 2003]"
          ],
          [
           "Linkin Park",
           "Leave Out All The Rest (Single Version)"
          ],
          [
           "Linkin Park",
           "1stp Klosr (Album Version)"
          ],
          [
           "Linkin Park",
           "In The End [Live At Milton Keynes]"
          ],
          [
           "Linkin Park",
           "Pushing Me Away [Live At Milton Keynes]"
          ],
          [
           "Linkin Park",
           "Runaway (Live In Texas)"
          ],
          [
           "Linkin Park",
           "What I've Done [Distorted Remix]"
          ],
          [
           "Linkin Park",
           "Breaking The Habit [Live At Milton Keynes]"
          ],
          [
           "Linkin Park",
           "One Step Closer (Album Version)"
          ],
          [
           "Linkin Park",
           "Shadow Of The Day [Live At Milton Keynes]"
          ],
          [
           "Linkin Park",
           "H! Vltg3 (Album Version)"
          ],
          [
           "Linkin Park",
           "In Pieces [Live From SoHo]"
          ],
          [
           "Linkin Park",
           "Leave Out All The Rest [Live] (Album Version Edit)"
          ],
          [
           "Linkin Park",
           "Enth E Nd (Album Version)"
          ],
          [
           "Linkin Park",
           "Nobody's Listening (Album Version)"
          ],
          [
           "Linkin Park",
           "A Place For My Head (Album Version)"
          ],
          [
           "Linkin Park",
           "Bleed It Out [Live From Live Earth]"
          ],
          [
           "Linkin Park",
           "From The Inside [Live In Japan]"
          ],
          [
           "Linkin Park",
           "The Little Things Give You Away [Live At Milton Keynes]"
          ],
          [
           "Linkin Park",
           "With You (Album Version)"
          ],
          [
           "Linkin Park",
           "Riff Raff (Album Version)"
          ],
          [
           "Linkin Park",
           "Frgt/10 (Album Version)"
          ],
          [
           "Linkin Park",
           "Crawling (Live In Texas)"
          ],
          [
           "Linkin Park",
           "Figure.09 (Album Version)"
          ],
          [
           "Linkin Park",
           "New Divide (Album Version)"
          ],
          [
           "Linkin Park",
           "X-Ecutioner Style (Album Version)"
          ],
          [
           "Linkin Park",
           "What I've Done (Album Version)"
          ],
          [
           "Linkin Park",
           "In The End (Live In Texas)"
          ],
          [
           "Linkin Park",
           "One Step Closer (Live In Texas)"
          ],
          [
           "Linkin Park",
           "Pushing Me Away (Album Version)"
          ],
          [
           "Linkin Park",
           "My December [Live Project Rev. 2002]"
          ],
          [
           "Linkin Park",
           "P5hng Me A*wy (Album Version)"
          ],
          [
           "Linkin Park",
           "Leave Out All The Rest [Live From Projekt Revolution_ Detroit MI_ Aug. 22 '07]"
          ],
          [
           "Linkin Park",
           "No More Sorrow [Live At Milton Keynes]"
          ],
          [
           "Linkin Park",
           "Points Of Authority (Album Version)"
          ],
          [
           "Linkin Park",
           "Lying From You [Live LP Underground Tour 2003]"
          ],
          [
           "Linkin Park",
           "Lying From You [Live At Milton Keynes]"
          ],
          [
           "Linkin Park",
           "From The Inside [Live At Milton Keynes]"
          ],
          [
           "Linkin Park",
           "Shadow Of The Day (Album Version)"
          ]
         ],
         "hovertemplate": "artist=%{customdata[0]}<br>t-SNE dimension 0=%{x}<br>t-SNE dimension 2=%{y}<br>title=%{customdata[1]}<extra></extra>",
         "legendgroup": "Linkin Park",
         "marker": {
          "color": "#E377C2",
          "opacity": 0.8,
          "size": 15,
          "symbol": "circle"
         },
         "mode": "markers",
         "name": "Linkin Park",
         "showlegend": true,
         "type": "scatter",
         "x": [
          6.213779926300049,
          2.7881598472595215,
          -0.29860836267471313,
          -0.7161712646484375,
          0.6514974236488342,
          -5.5968499183654785,
          2.800260066986084,
          6.787247657775879,
          -6.957334518432617,
          -8.782448768615723,
          -1.1722067594528198,
          -8.685652732849121,
          2.8128509521484375,
          1.5536189079284668,
          3.892531394958496,
          -0.05389022082090378,
          6.81907844543457,
          2.69486665725708,
          0.16024422645568848,
          1.4919583797454834,
          8.268165588378906,
          9.379013061523438,
          1.2142024040222168,
          14.082133293151855,
          -1.7004239559173584,
          2.819681406021118,
          0.2016151398420334,
          9.757932662963867,
          -9.155569076538086,
          -0.05411464348435402,
          -6.664090633392334,
          2.292496681213379,
          -1.700717806816101,
          -1.6002839803695679,
          -17.58905601501465,
          6.037403583526611,
          6.772360324859619,
          2.2919085025787354,
          -3.408437490463257,
          10.391443252563477,
          0.6513264179229736,
          -6.660976409912109,
          5.284708499908447,
          13.474431991577148,
          14.078402519226074,
          9.266311645507812,
          -0.05410939082503319,
          -3.781902313232422,
          -5.642116069793701,
          8.071070671081543,
          7.943558692932129,
          6.213888168334961,
          -4.684503555297852,
          1.214967131614685,
          7.349837779998779,
          6.047547817230225,
          -1.6983983516693115,
          2.2886548042297363,
          -1.6017708778381348,
          -6.439642429351807,
          -1.6053624153137207,
          -6.09413480758667,
          11.337347030639648,
          -8.782407760620117,
          2.813870668411255,
          2.812246084213257,
          -0.054170481860637665,
          -3.4119138717651367
         ],
         "xaxis": "x",
         "y": [
          -12.232644081115723,
          -5.191827774047852,
          0.29382598400115967,
          -0.08397117257118225,
          4.966444969177246,
          4.653897285461426,
          -5.208326816558838,
          -6.710436820983887,
          8.0548095703125,
          18.02216148376465,
          -8.70313549041748,
          1.0197391510009766,
          -11.548173904418945,
          -0.9853988885879517,
          -6.263731956481934,
          21.085830688476562,
          5.141534328460693,
          4.695083141326904,
          -2.1831579208374023,
          -1.0052791833877563,
          3.4839894771575928,
          2.468299388885498,
          11.129783630371094,
          -7.884224891662598,
          -4.774550437927246,
          -5.175114631652832,
          -2.141663074493408,
          4.27106237411499,
          4.018632888793945,
          21.085969924926758,
          1.6549270153045654,
          20.468250274658203,
          -4.774908065795898,
          -4.728456020355225,
          1.7712361812591553,
          -1.6989456415176392,
          -6.68143892288208,
          20.468130111694336,
          10.284412384033203,
          -1.5670397281646729,
          4.967113018035889,
          1.6373294591903687,
          -5.607240200042725,
          -2.2298343181610107,
          -7.879903793334961,
          5.747204303741455,
          21.085721969604492,
          6.1639299392700195,
          4.988685607910156,
          -4.428351879119873,
          8.550704956054688,
          -12.233586311340332,
          -0.35395389795303345,
          11.13212776184082,
          -2.0168063640594482,
          -1.6808876991271973,
          -4.774003505706787,
          20.4695987701416,
          -4.732312202453613,
          -1.6114444732666016,
          -4.735212326049805,
          -6.833014011383057,
          -2.503915309906006,
          18.022523880004883,
          -11.5476655960083,
          -11.547670364379883,
          21.082477569580078,
          10.287208557128906
         ],
         "yaxis": "y"
        },
        {
         "customdata": [
          [
           "The Who",
           "Slip Kid"
          ],
          [
           "The Who",
           "Daily Records"
          ],
          [
           "The Who",
           "Man With Money"
          ],
          [
           "The Who",
           "Disguises"
          ],
          [
           "The Who",
           "Tommy Can You Hear Me?"
          ],
          [
           "The Who",
           "The Quiet One"
          ],
          [
           "The Who",
           "Pure And Easy"
          ],
          [
           "The Who",
           "I Like Nightmares"
          ],
          [
           "The Who",
           "A Quick One While He's Away"
          ],
          [
           "The Who",
           "Don't Look Away"
          ],
          [
           "The Who",
           "Behind Blue Eyes"
          ],
          [
           "The Who",
           "Christmas"
          ],
          [
           "The Who",
           "Trilby's Piano"
          ],
          [
           "The Who",
           "Tattoo"
          ],
          [
           "The Who",
           "Success Story"
          ],
          [
           "The Who",
           "Relax"
          ],
          [
           "The Who",
           "Fiddle About"
          ],
          [
           "The Who",
           "A Man In A Purple Dress"
          ],
          [
           "The Who",
           "1921"
          ],
          [
           "The Who",
           "My Wife"
          ],
          [
           "The Who",
           "Eyesight To The Blind (The Hawker)"
          ],
          [
           "The Who",
           "Don't Let Go The Coat"
          ],
          [
           "The Who",
           "Boris The Spider"
          ],
          [
           "The Who",
           "Love Reign O'er Me"
          ],
          [
           "The Who",
           "Welcome"
          ],
          [
           "The Who",
           "Heat Wave"
          ],
          [
           "The Who",
           "Dr. Jimmy"
          ],
          [
           "The Who",
           "Sensation"
          ],
          [
           "The Who",
           "Sunrise"
          ],
          [
           "The Who",
           "Magic Bus"
          ],
          [
           "The Who",
           "Miracle Cure"
          ],
          [
           "The Who",
           "Mary Anne With The Shaky Hand"
          ],
          [
           "The Who",
           "You Stand By Me"
          ],
          [
           "The Who",
           "Summertime Blues"
          ],
          [
           "The Who",
           "Let's See Action"
          ],
          [
           "The Who",
           "Tea & Theatre"
          ],
          [
           "The Who",
           "Who Are You"
          ],
          [
           "The Who",
           "Young Man Blues"
          ],
          [
           "The Who",
           "Love Ain't For Keeping"
          ],
          [
           "The Who",
           "Cache Cache"
          ],
          [
           "The Who",
           "La La La Lies"
          ],
          [
           "The Who",
           "Squeeze Box"
          ],
          [
           "The Who",
           "Relay"
          ],
          [
           "The Who",
           "Too Much Of Anything"
          ],
          [
           "The Who",
           "The Kids Are Alright"
          ],
          [
           "The Who",
           "I Can See For Miles"
          ],
          [
           "The Who",
           "God Speaks_ of Marty Robbins"
          ],
          [
           "The Who",
           "Sparks"
          ],
          [
           "The Who",
           "I'm A Boy"
          ],
          [
           "The Who",
           "Sister Disco"
          ],
          [
           "The Who",
           "Eminence Front"
          ],
          [
           "The Who",
           "Substitute"
          ],
          [
           "The Who",
           "Doctor_ Doctor"
          ],
          [
           "The Who",
           "My Generation"
          ],
          [
           "The Who",
           "Long Live Rock"
          ],
          [
           "The Who",
           "Odorono"
          ],
          [
           "The Who",
           "It's Hard"
          ],
          [
           "The Who",
           "I'm Free"
          ],
          [
           "The Who",
           "Amazing Journey"
          ],
          [
           "The Who",
           "Happy Jack"
          ],
          [
           "The Who",
           "Endless Wire"
          ],
          [
           "The Who",
           "Shout And Shimmy"
          ],
          [
           "The Who",
           "Medac"
          ],
          [
           "The Who",
           "Water"
          ],
          [
           "The Who",
           "I Don't Even Know Myself"
          ],
          [
           "The Who",
           "Music Must Change"
          ],
          [
           "The Who",
           "Just You And Me_ Darling"
          ],
          [
           "The Who",
           "Empty Glass"
          ],
          [
           "The Who",
           "I Can't Explain"
          ],
          [
           "The Who",
           "Mike Post Theme"
          ],
          [
           "The Who",
           "You Better You Bet"
          ],
          [
           "The Who",
           "Pinball Wizard"
          ],
          [
           "The Who",
           "Sound Round"
          ],
          [
           "The Who",
           "Heinz Baked Beans"
          ],
          [
           "The Who",
           "See Me_ Feel Me"
          ]
         ],
         "hovertemplate": "artist=%{customdata[0]}<br>t-SNE dimension 0=%{x}<br>t-SNE dimension 2=%{y}<br>title=%{customdata[1]}<extra></extra>",
         "legendgroup": "The Who",
         "marker": {
          "color": "#7F7F7F",
          "opacity": 0.8,
          "size": 15,
          "symbol": "circle"
         },
         "mode": "markers",
         "name": "The Who",
         "showlegend": true,
         "type": "scatter",
         "x": [
          9.997482299804688,
          3.852031946182251,
          -7.094632148742676,
          -2.5139904022216797,
          -1.6193808317184448,
          4.4195122718811035,
          4.985694885253906,
          8.260504722595215,
          -13.248541831970215,
          -1.3813241720199585,
          4.217785835266113,
          13.440705299377441,
          5.610045909881592,
          -1.8571138381958008,
          5.966319561004639,
          -7.590492248535156,
          0.3632603883743286,
          8.437968254089355,
          -10.309565544128418,
          -0.7026738524436951,
          -3.146589517593384,
          -3.6521859169006348,
          2.056591510772705,
          2.1078248023986816,
          7.0660576820373535,
          -16.00482749938965,
          10.324721336364746,
          -0.01377097051590681,
          -3.109436511993408,
          1.7425440549850464,
          -0.9418911337852478,
          -1.3523036241531372,
          5.5427632331848145,
          -14.929055213928223,
          8.913168907165527,
          -3.304600715637207,
          -0.31073373556137085,
          5.533579349517822,
          -8.500407218933105,
          2.5596892833709717,
          0.467398077249527,
          -3.503748893737793,
          -11.589388847351074,
          15.319786071777344,
          8.367081642150879,
          -6.279861927032471,
          -5.814425945281982,
          3.240051507949829,
          -8.142179489135742,
          -4.2108564376831055,
          8.895532608032227,
          4.291561603546143,
          5.043083667755127,
          9.33930778503418,
          4.398205757141113,
          1.6402769088745117,
          7.037249565124512,
          4.035045623779297,
          3.24100399017334,
          -0.9544962048530579,
          4.983587741851807,
          -4.054086208343506,
          3.8417932987213135,
          7.977381706237793,
          0.12072635442018509,
          12.315995216369629,
          5.51542854309082,
          4.897365093231201,
          -2.3979551792144775,
          -0.6183369159698486,
          0.30010274052619934,
          17.67426109313965,
          -0.9974594116210938,
          -0.21826307475566864,
          3.782322406768799
         ],
         "xaxis": "x",
         "y": [
          3.948932409286499,
          -5.431718826293945,
          -7.432536602020264,
          2.533377170562744,
          -2.1250481605529785,
          7.8783345222473145,
          14.41681957244873,
          -0.7914757132530212,
          4.172771453857422,
          4.528317928314209,
          5.537554740905762,
          4.80624532699585,
          -6.393390655517578,
          -5.213712692260742,
          11.504942893981934,
          9.507926940917969,
          4.194568157196045,
          11.449804306030273,
          -3.2036077976226807,
          8.450591087341309,
          -7.471557140350342,
          2.5849804878234863,
          8.741418838500977,
          19.43280601501465,
          10.43075942993164,
          1.805568814277649,
          3.8578262329101562,
          10.800007820129395,
          7.372751235961914,
          -11.539046287536621,
          -4.7139201164245605,
          2.7979986667633057,
          11.887323379516602,
          1.8569716215133667,
          -9.69300365447998,
          7.921072959899902,
          2.0994350910186768,
          11.88581657409668,
          6.718783855438232,
          6.215565204620361,
          -9.645824432373047,
          2.6588618755340576,
          5.270328998565674,
          8.216950416564941,
          -14.00976848602295,
          8.466394424438477,
          10.158337593078613,
          -3.6004722118377686,
          2.7529830932617188,
          3.2988545894622803,
          11.97896671295166,
          5.945769786834717,
          2.1372053623199463,
          -6.614981651306152,
          8.721248626708984,
          -4.7382330894470215,
          -1.7260632514953613,
          -12.315580368041992,
          -3.5892434120178223,
          12.316397666931152,
          12.813776969909668,
          -1.9300082921981812,
          5.352071762084961,
          -4.6607794761657715,
          -6.644058704376221,
          9.860912322998047,
          11.878266334533691,
          5.833855628967285,
          -4.307157039642334,
          1.6331998109817505,
          5.643601417541504,
          -4.518579483032227,
          6.289469242095947,
          5.279279708862305,
          -5.670537948608398
         ],
         "yaxis": "y"
        },
        {
         "customdata": [
          [
           "The Strokes",
           "15 Minutes"
          ],
          [
           "The Strokes",
           "The Modern Age"
          ],
          [
           "The Strokes",
           "Razorblade"
          ],
          [
           "The Strokes",
           "Life's A Gas"
          ],
          [
           "The Strokes",
           "Clampdown"
          ],
          [
           "The Strokes",
           "I'll Try Anything Once"
          ],
          [
           "The Strokes",
           "Electricityscape"
          ],
          [
           "The Strokes",
           "Hard To Explain"
          ],
          [
           "The Strokes",
           "New York City Cops"
          ],
          [
           "The Strokes",
           "Heart In A Cage"
          ],
          [
           "The Strokes",
           "Juicebox"
          ],
          [
           "The Strokes",
           "You Only Live Once"
          ],
          [
           "The Strokes",
           "Red Light"
          ],
          [
           "The Strokes",
           "Trying Your Luck"
          ],
          [
           "The Strokes",
           "Take It Or Leave It"
          ],
          [
           "The Strokes",
           "Someday"
          ],
          [
           "The Strokes",
           "Fear Of Sleep"
          ],
          [
           "The Strokes",
           "Alone_ Together"
          ],
          [
           "The Strokes",
           "Reptilia"
          ],
          [
           "The Strokes",
           "Killing Lies"
          ],
          [
           "The Strokes",
           "Is This It"
          ],
          [
           "The Strokes",
           "Last Nite"
          ],
          [
           "The Strokes",
           "Modern Girls And Old Fashion Men"
          ],
          [
           "The Strokes",
           "Between Love & Hate"
          ]
         ],
         "hovertemplate": "artist=%{customdata[0]}<br>t-SNE dimension 0=%{x}<br>t-SNE dimension 2=%{y}<br>title=%{customdata[1]}<extra></extra>",
         "legendgroup": "The Strokes",
         "marker": {
          "color": "#BCBD22",
          "opacity": 0.8,
          "size": 15,
          "symbol": "circle"
         },
         "mode": "markers",
         "name": "The Strokes",
         "showlegend": true,
         "type": "scatter",
         "x": [
          2.5036356449127197,
          -6.447201251983643,
          -0.20637355744838715,
          0.8514477014541626,
          10.081853866577148,
          3.6209003925323486,
          -7.350274085998535,
          -0.5881516337394714,
          10.074528694152832,
          5.7966179847717285,
          -1.274964690208435,
          -4.102651596069336,
          1.3142837285995483,
          -3.5117392539978027,
          -10.59154224395752,
          -3.119318962097168,
          8.611084938049316,
          -14.015766143798828,
          -3.676180839538574,
          -1.5505001544952393,
          -3.0038928985595703,
          -8.93407154083252,
          3.3848330974578857,
          -9.754803657531738
         ],
         "xaxis": "x",
         "y": [
          3.882606029510498,
          11.30734920501709,
          -5.96728515625,
          -5.470501899719238,
          -7.322607517242432,
          -7.569400310516357,
          5.563385963439941,
          -4.130876541137695,
          7.357606410980225,
          7.1054840087890625,
          14.78487491607666,
          -0.04431268572807312,
          6.239023208618164,
          3.0979626178741455,
          -4.285966396331787,
          -2.6334116458892822,
          -0.27829211950302124,
          2.791513204574585,
          7.358675956726074,
          -5.097805500030518,
          -2.2970428466796875,
          0.7269651889801025,
          -5.032769680023193,
          -4.15562629699707
         ],
         "yaxis": "y"
        },
        {
         "customdata": [
          [
           "Tame Impala",
           "Wander"
          ],
          [
           "Tame Impala",
           "Slide Through My Fingers"
          ],
          [
           "Tame Impala",
           "41 Mosquitoes Flying In Formation"
          ],
          [
           "Tame Impala",
           "Desire Be Desire Go"
          ],
          [
           "Tame Impala",
           "Skeleton Tiger"
          ],
          [
           "Tame Impala",
           "Half Full Glass Of Wine"
          ]
         ],
         "hovertemplate": "artist=%{customdata[0]}<br>t-SNE dimension 0=%{x}<br>t-SNE dimension 2=%{y}<br>title=%{customdata[1]}<extra></extra>",
         "legendgroup": "Tame Impala",
         "marker": {
          "color": "#17BECF",
          "opacity": 0.8,
          "size": 15,
          "symbol": "circle"
         },
         "mode": "markers",
         "name": "Tame Impala",
         "showlegend": true,
         "type": "scatter",
         "x": [
          -16.546552658081055,
          -0.5216332674026489,
          -0.5483022332191467,
          2.448789596557617,
          -4.452838897705078,
          0.6372376680374146
         ],
         "xaxis": "x",
         "y": [
          4.463770866394043,
          1.5566346645355225,
          -1.4205923080444336,
          -1.3958979845046997,
          8.025744438171387,
          3.1323485374450684
         ],
         "yaxis": "y"
        }
       ],
       "layout": {
        "legend": {
         "title": {
          "text": "artist"
         },
         "tracegroupgap": 0
        },
        "margin": {
         "t": 60
        },
        "template": {
         "data": {
          "bar": [
           {
            "error_x": {
             "color": "rgb(36,36,36)"
            },
            "error_y": {
             "color": "rgb(36,36,36)"
            },
            "marker": {
             "line": {
              "color": "white",
              "width": 0.5
             }
            },
            "type": "bar"
           }
          ],
          "barpolar": [
           {
            "marker": {
             "line": {
              "color": "white",
              "width": 0.5
             }
            },
            "type": "barpolar"
           }
          ],
          "carpet": [
           {
            "aaxis": {
             "endlinecolor": "rgb(36,36,36)",
             "gridcolor": "white",
             "linecolor": "white",
             "minorgridcolor": "white",
             "startlinecolor": "rgb(36,36,36)"
            },
            "baxis": {
             "endlinecolor": "rgb(36,36,36)",
             "gridcolor": "white",
             "linecolor": "white",
             "minorgridcolor": "white",
             "startlinecolor": "rgb(36,36,36)"
            },
            "type": "carpet"
           }
          ],
          "choropleth": [
           {
            "colorbar": {
             "outlinewidth": 1,
             "tickcolor": "rgb(36,36,36)",
             "ticks": "outside"
            },
            "type": "choropleth"
           }
          ],
          "contour": [
           {
            "colorbar": {
             "outlinewidth": 1,
             "tickcolor": "rgb(36,36,36)",
             "ticks": "outside"
            },
            "colorscale": [
             [
              0,
              "#440154"
             ],
             [
              0.1111111111111111,
              "#482878"
             ],
             [
              0.2222222222222222,
              "#3e4989"
             ],
             [
              0.3333333333333333,
              "#31688e"
             ],
             [
              0.4444444444444444,
              "#26828e"
             ],
             [
              0.5555555555555556,
              "#1f9e89"
             ],
             [
              0.6666666666666666,
              "#35b779"
             ],
             [
              0.7777777777777778,
              "#6ece58"
             ],
             [
              0.8888888888888888,
              "#b5de2b"
             ],
             [
              1,
              "#fde725"
             ]
            ],
            "type": "contour"
           }
          ],
          "contourcarpet": [
           {
            "colorbar": {
             "outlinewidth": 1,
             "tickcolor": "rgb(36,36,36)",
             "ticks": "outside"
            },
            "type": "contourcarpet"
           }
          ],
          "heatmap": [
           {
            "colorbar": {
             "outlinewidth": 1,
             "tickcolor": "rgb(36,36,36)",
             "ticks": "outside"
            },
            "colorscale": [
             [
              0,
              "#440154"
             ],
             [
              0.1111111111111111,
              "#482878"
             ],
             [
              0.2222222222222222,
              "#3e4989"
             ],
             [
              0.3333333333333333,
              "#31688e"
             ],
             [
              0.4444444444444444,
              "#26828e"
             ],
             [
              0.5555555555555556,
              "#1f9e89"
             ],
             [
              0.6666666666666666,
              "#35b779"
             ],
             [
              0.7777777777777778,
              "#6ece58"
             ],
             [
              0.8888888888888888,
              "#b5de2b"
             ],
             [
              1,
              "#fde725"
             ]
            ],
            "type": "heatmap"
           }
          ],
          "heatmapgl": [
           {
            "colorbar": {
             "outlinewidth": 1,
             "tickcolor": "rgb(36,36,36)",
             "ticks": "outside"
            },
            "colorscale": [
             [
              0,
              "#440154"
             ],
             [
              0.1111111111111111,
              "#482878"
             ],
             [
              0.2222222222222222,
              "#3e4989"
             ],
             [
              0.3333333333333333,
              "#31688e"
             ],
             [
              0.4444444444444444,
              "#26828e"
             ],
             [
              0.5555555555555556,
              "#1f9e89"
             ],
             [
              0.6666666666666666,
              "#35b779"
             ],
             [
              0.7777777777777778,
              "#6ece58"
             ],
             [
              0.8888888888888888,
              "#b5de2b"
             ],
             [
              1,
              "#fde725"
             ]
            ],
            "type": "heatmapgl"
           }
          ],
          "histogram": [
           {
            "marker": {
             "line": {
              "color": "white",
              "width": 0.6
             }
            },
            "type": "histogram"
           }
          ],
          "histogram2d": [
           {
            "colorbar": {
             "outlinewidth": 1,
             "tickcolor": "rgb(36,36,36)",
             "ticks": "outside"
            },
            "colorscale": [
             [
              0,
              "#440154"
             ],
             [
              0.1111111111111111,
              "#482878"
             ],
             [
              0.2222222222222222,
              "#3e4989"
             ],
             [
              0.3333333333333333,
              "#31688e"
             ],
             [
              0.4444444444444444,
              "#26828e"
             ],
             [
              0.5555555555555556,
              "#1f9e89"
             ],
             [
              0.6666666666666666,
              "#35b779"
             ],
             [
              0.7777777777777778,
              "#6ece58"
             ],
             [
              0.8888888888888888,
              "#b5de2b"
             ],
             [
              1,
              "#fde725"
             ]
            ],
            "type": "histogram2d"
           }
          ],
          "histogram2dcontour": [
           {
            "colorbar": {
             "outlinewidth": 1,
             "tickcolor": "rgb(36,36,36)",
             "ticks": "outside"
            },
            "colorscale": [
             [
              0,
              "#440154"
             ],
             [
              0.1111111111111111,
              "#482878"
             ],
             [
              0.2222222222222222,
              "#3e4989"
             ],
             [
              0.3333333333333333,
              "#31688e"
             ],
             [
              0.4444444444444444,
              "#26828e"
             ],
             [
              0.5555555555555556,
              "#1f9e89"
             ],
             [
              0.6666666666666666,
              "#35b779"
             ],
             [
              0.7777777777777778,
              "#6ece58"
             ],
             [
              0.8888888888888888,
              "#b5de2b"
             ],
             [
              1,
              "#fde725"
             ]
            ],
            "type": "histogram2dcontour"
           }
          ],
          "mesh3d": [
           {
            "colorbar": {
             "outlinewidth": 1,
             "tickcolor": "rgb(36,36,36)",
             "ticks": "outside"
            },
            "type": "mesh3d"
           }
          ],
          "parcoords": [
           {
            "line": {
             "colorbar": {
              "outlinewidth": 1,
              "tickcolor": "rgb(36,36,36)",
              "ticks": "outside"
             }
            },
            "type": "parcoords"
           }
          ],
          "pie": [
           {
            "automargin": true,
            "type": "pie"
           }
          ],
          "scatter": [
           {
            "marker": {
             "colorbar": {
              "outlinewidth": 1,
              "tickcolor": "rgb(36,36,36)",
              "ticks": "outside"
             }
            },
            "type": "scatter"
           }
          ],
          "scatter3d": [
           {
            "line": {
             "colorbar": {
              "outlinewidth": 1,
              "tickcolor": "rgb(36,36,36)",
              "ticks": "outside"
             }
            },
            "marker": {
             "colorbar": {
              "outlinewidth": 1,
              "tickcolor": "rgb(36,36,36)",
              "ticks": "outside"
             }
            },
            "type": "scatter3d"
           }
          ],
          "scattercarpet": [
           {
            "marker": {
             "colorbar": {
              "outlinewidth": 1,
              "tickcolor": "rgb(36,36,36)",
              "ticks": "outside"
             }
            },
            "type": "scattercarpet"
           }
          ],
          "scattergeo": [
           {
            "marker": {
             "colorbar": {
              "outlinewidth": 1,
              "tickcolor": "rgb(36,36,36)",
              "ticks": "outside"
             }
            },
            "type": "scattergeo"
           }
          ],
          "scattergl": [
           {
            "marker": {
             "colorbar": {
              "outlinewidth": 1,
              "tickcolor": "rgb(36,36,36)",
              "ticks": "outside"
             }
            },
            "type": "scattergl"
           }
          ],
          "scattermapbox": [
           {
            "marker": {
             "colorbar": {
              "outlinewidth": 1,
              "tickcolor": "rgb(36,36,36)",
              "ticks": "outside"
             }
            },
            "type": "scattermapbox"
           }
          ],
          "scatterpolar": [
           {
            "marker": {
             "colorbar": {
              "outlinewidth": 1,
              "tickcolor": "rgb(36,36,36)",
              "ticks": "outside"
             }
            },
            "type": "scatterpolar"
           }
          ],
          "scatterpolargl": [
           {
            "marker": {
             "colorbar": {
              "outlinewidth": 1,
              "tickcolor": "rgb(36,36,36)",
              "ticks": "outside"
             }
            },
            "type": "scatterpolargl"
           }
          ],
          "scatterternary": [
           {
            "marker": {
             "colorbar": {
              "outlinewidth": 1,
              "tickcolor": "rgb(36,36,36)",
              "ticks": "outside"
             }
            },
            "type": "scatterternary"
           }
          ],
          "surface": [
           {
            "colorbar": {
             "outlinewidth": 1,
             "tickcolor": "rgb(36,36,36)",
             "ticks": "outside"
            },
            "colorscale": [
             [
              0,
              "#440154"
             ],
             [
              0.1111111111111111,
              "#482878"
             ],
             [
              0.2222222222222222,
              "#3e4989"
             ],
             [
              0.3333333333333333,
              "#31688e"
             ],
             [
              0.4444444444444444,
              "#26828e"
             ],
             [
              0.5555555555555556,
              "#1f9e89"
             ],
             [
              0.6666666666666666,
              "#35b779"
             ],
             [
              0.7777777777777778,
              "#6ece58"
             ],
             [
              0.8888888888888888,
              "#b5de2b"
             ],
             [
              1,
              "#fde725"
             ]
            ],
            "type": "surface"
           }
          ],
          "table": [
           {
            "cells": {
             "fill": {
              "color": "rgb(237,237,237)"
             },
             "line": {
              "color": "white"
             }
            },
            "header": {
             "fill": {
              "color": "rgb(217,217,217)"
             },
             "line": {
              "color": "white"
             }
            },
            "type": "table"
           }
          ]
         },
         "layout": {
          "annotationdefaults": {
           "arrowhead": 0,
           "arrowwidth": 1
          },
          "coloraxis": {
           "colorbar": {
            "outlinewidth": 1,
            "tickcolor": "rgb(36,36,36)",
            "ticks": "outside"
           }
          },
          "colorscale": {
           "diverging": [
            [
             0,
             "rgb(103,0,31)"
            ],
            [
             0.1,
             "rgb(178,24,43)"
            ],
            [
             0.2,
             "rgb(214,96,77)"
            ],
            [
             0.3,
             "rgb(244,165,130)"
            ],
            [
             0.4,
             "rgb(253,219,199)"
            ],
            [
             0.5,
             "rgb(247,247,247)"
            ],
            [
             0.6,
             "rgb(209,229,240)"
            ],
            [
             0.7,
             "rgb(146,197,222)"
            ],
            [
             0.8,
             "rgb(67,147,195)"
            ],
            [
             0.9,
             "rgb(33,102,172)"
            ],
            [
             1,
             "rgb(5,48,97)"
            ]
           ],
           "sequential": [
            [
             0,
             "#440154"
            ],
            [
             0.1111111111111111,
             "#482878"
            ],
            [
             0.2222222222222222,
             "#3e4989"
            ],
            [
             0.3333333333333333,
             "#31688e"
            ],
            [
             0.4444444444444444,
             "#26828e"
            ],
            [
             0.5555555555555556,
             "#1f9e89"
            ],
            [
             0.6666666666666666,
             "#35b779"
            ],
            [
             0.7777777777777778,
             "#6ece58"
            ],
            [
             0.8888888888888888,
             "#b5de2b"
            ],
            [
             1,
             "#fde725"
            ]
           ],
           "sequentialminus": [
            [
             0,
             "#440154"
            ],
            [
             0.1111111111111111,
             "#482878"
            ],
            [
             0.2222222222222222,
             "#3e4989"
            ],
            [
             0.3333333333333333,
             "#31688e"
            ],
            [
             0.4444444444444444,
             "#26828e"
            ],
            [
             0.5555555555555556,
             "#1f9e89"
            ],
            [
             0.6666666666666666,
             "#35b779"
            ],
            [
             0.7777777777777778,
             "#6ece58"
            ],
            [
             0.8888888888888888,
             "#b5de2b"
            ],
            [
             1,
             "#fde725"
            ]
           ]
          },
          "colorway": [
           "#1F77B4",
           "#FF7F0E",
           "#2CA02C",
           "#D62728",
           "#9467BD",
           "#8C564B",
           "#E377C2",
           "#7F7F7F",
           "#BCBD22",
           "#17BECF"
          ],
          "font": {
           "color": "rgb(36,36,36)"
          },
          "geo": {
           "bgcolor": "white",
           "lakecolor": "white",
           "landcolor": "white",
           "showlakes": true,
           "showland": true,
           "subunitcolor": "white"
          },
          "hoverlabel": {
           "align": "left"
          },
          "hovermode": "closest",
          "mapbox": {
           "style": "light"
          },
          "paper_bgcolor": "white",
          "plot_bgcolor": "white",
          "polar": {
           "angularaxis": {
            "gridcolor": "rgb(232,232,232)",
            "linecolor": "rgb(36,36,36)",
            "showgrid": false,
            "showline": true,
            "ticks": "outside"
           },
           "bgcolor": "white",
           "radialaxis": {
            "gridcolor": "rgb(232,232,232)",
            "linecolor": "rgb(36,36,36)",
            "showgrid": false,
            "showline": true,
            "ticks": "outside"
           }
          },
          "scene": {
           "xaxis": {
            "backgroundcolor": "white",
            "gridcolor": "rgb(232,232,232)",
            "gridwidth": 2,
            "linecolor": "rgb(36,36,36)",
            "showbackground": true,
            "showgrid": false,
            "showline": true,
            "ticks": "outside",
            "zeroline": false,
            "zerolinecolor": "rgb(36,36,36)"
           },
           "yaxis": {
            "backgroundcolor": "white",
            "gridcolor": "rgb(232,232,232)",
            "gridwidth": 2,
            "linecolor": "rgb(36,36,36)",
            "showbackground": true,
            "showgrid": false,
            "showline": true,
            "ticks": "outside",
            "zeroline": false,
            "zerolinecolor": "rgb(36,36,36)"
           },
           "zaxis": {
            "backgroundcolor": "white",
            "gridcolor": "rgb(232,232,232)",
            "gridwidth": 2,
            "linecolor": "rgb(36,36,36)",
            "showbackground": true,
            "showgrid": false,
            "showline": true,
            "ticks": "outside",
            "zeroline": false,
            "zerolinecolor": "rgb(36,36,36)"
           }
          },
          "shapedefaults": {
           "fillcolor": "black",
           "line": {
            "width": 0
           },
           "opacity": 0.3
          },
          "ternary": {
           "aaxis": {
            "gridcolor": "rgb(232,232,232)",
            "linecolor": "rgb(36,36,36)",
            "showgrid": false,
            "showline": true,
            "ticks": "outside"
           },
           "baxis": {
            "gridcolor": "rgb(232,232,232)",
            "linecolor": "rgb(36,36,36)",
            "showgrid": false,
            "showline": true,
            "ticks": "outside"
           },
           "bgcolor": "white",
           "caxis": {
            "gridcolor": "rgb(232,232,232)",
            "linecolor": "rgb(36,36,36)",
            "showgrid": false,
            "showline": true,
            "ticks": "outside"
           }
          },
          "title": {
           "x": 0.05
          },
          "xaxis": {
           "automargin": true,
           "gridcolor": "rgb(232,232,232)",
           "linecolor": "rgb(36,36,36)",
           "showgrid": false,
           "showline": true,
           "ticks": "outside",
           "title": {
            "standoff": 15
           },
           "zeroline": false,
           "zerolinecolor": "rgb(36,36,36)"
          },
          "yaxis": {
           "automargin": true,
           "gridcolor": "rgb(232,232,232)",
           "linecolor": "rgb(36,36,36)",
           "showgrid": false,
           "showline": true,
           "ticks": "outside",
           "title": {
            "standoff": 15
           },
           "zeroline": false,
           "zerolinecolor": "rgb(36,36,36)"
          }
         }
        },
        "title": {
         "text": "Song Lyric Embeddings",
         "x": 0.19,
         "xanchor": "center",
         "y": 0.95,
         "yanchor": "top"
        },
        "xaxis": {
         "anchor": "y",
         "domain": [
          0,
          1
         ],
         "title": {
          "text": "t-SNE dimension 0"
         }
        },
        "yaxis": {
         "anchor": "x",
         "domain": [
          0,
          1
         ],
         "title": {
          "text": "t-SNE dimension 2"
         }
        }
       }
      },
      "text/html": [
       "<div>\n",
       "        \n",
       "        \n",
       "            <div id=\"861d0065-c5f1-492d-9d3e-ad5d7e3d3ce3\" class=\"plotly-graph-div\" style=\"height:525px; width:100%;\"></div>\n",
       "            <script type=\"text/javascript\">\n",
       "                require([\"plotly\"], function(Plotly) {\n",
       "                    window.PLOTLYENV=window.PLOTLYENV || {};\n",
       "                    \n",
       "                if (document.getElementById(\"861d0065-c5f1-492d-9d3e-ad5d7e3d3ce3\")) {\n",
       "                    Plotly.newPlot(\n",
       "                        '861d0065-c5f1-492d-9d3e-ad5d7e3d3ce3',\n",
       "                        [{\"customdata\": [[\"Snoop Dogg\", \"The One And Only (Edited)\"], [\"Snoop Dogg\", \"Sexual Eruption\"], [\"Snoop Dogg\", \"Show Me Love (Explicit)\"], [\"Snoop Dogg\", \"Beat Up On Yo Pads\"], [\"Snoop Dogg\", \"Gin And Juice II (Explicit)\"], [\"Snoop Dogg\", \"2 Of Amereicaz Most Wanted\"], [\"Snoop Dogg\", \"Snoop D.O. Double G\"], [\"Snoop Dogg\", \"Look Out\"], [\"Snoop Dogg\", \"Bang Out\"], [\"Snoop Dogg\", \"Betta Days (Explicit)\"], [\"Snoop Dogg\", \"Pimp Slapp'd (Edited)\"], [\"Snoop Dogg\", \"Dolomite Intro (Explicit)\"], [\"Snoop Dogg\", \"A Message 2 Fat Cuzz (Edited)\"], [\"Snoop Dogg\", \"Why Did You Leave Me\"], [\"Snoop Dogg\", \"Snoopafella (Edited)\"], [\"Snoop Dogg\", \"10 Lil' Crips\"], [\"Snoop Dogg\", \"Straight Ballin'\"], [\"Snoop Dogg\", \"Hustle And Ball (Explicit)\"], [\"Snoop Dogg\", \"Dogghouse\"], [\"Snoop Dogg\", \"Fresh Pair of Panties On\"], [\"Snoop Dogg\", \"Those Gurlz\"], [\"Snoop Dogg\", \"Upside Down (Explicit)\"], [\"Snoop Dogg\", \"Sets Up\"], [\"Snoop Dogg\", \"Snoop Dogg Intro\"]], \"hovertemplate\": \"artist=%{customdata[0]}<br>t-SNE dimension 0=%{x}<br>t-SNE dimension 2=%{y}<br>title=%{customdata[1]}<extra></extra>\", \"legendgroup\": \"Snoop Dogg\", \"marker\": {\"color\": \"#1F77B4\", \"opacity\": 0.8, \"size\": 15, \"symbol\": \"circle\"}, \"mode\": \"markers\", \"name\": \"Snoop Dogg\", \"showlegend\": true, \"type\": \"scatter\", \"x\": [6.755438327789307, 4.453805446624756, 3.940727949142456, 6.084778785705566, 5.540463447570801, 7.082093238830566, 5.054286479949951, 6.808389186859131, 10.754349708557129, 10.486239433288574, 10.674015998840332, 2.2179152965545654, 8.906776428222656, 9.164970397949219, 9.05984878540039, 12.261672019958496, 9.117244720458984, 12.210005760192871, 10.806488037109375, 3.802687168121338, 3.8919951915740967, 9.53791618347168, 6.069442272186279, 6.362498760223389], \"xaxis\": \"x\", \"y\": [-4.888263702392578, -5.270711421966553, -4.925568580627441, -5.800121307373047, -3.3271265029907227, 2.6905922889709473, -0.928300142288208, 3.3482704162597656, 3.370138645172119, 2.3101918697357178, 3.28458833694458, -4.102611064910889, -7.499300479888916, -2.308967351913452, 0.3514349162578583, -2.870929479598999, -3.323723316192627, -3.182996988296509, -4.188971996307373, -1.6433727741241455, -6.399422645568848, -4.364020347595215, -5.472446441650391, -4.7158355712890625], \"yaxis\": \"y\"}, {\"customdata\": [[\"Blink-182\", \"Not Now\"], [\"Blink-182\", \"A New Hope\"], [\"Blink-182\", \"Man Overboard\"], [\"Blink-182\", \"Asthenia\"], [\"Blink-182\", \"All Of This\"], [\"Blink-182\", \"Carousel\"], [\"Blink-182\", \"Shut Up\"], [\"Blink-182\", \"Stay Together For The Kids\"], [\"Blink-182\", \"Every Time I Look For You\"], [\"Blink-182\", \"Does My Breath Smell?\"], [\"Blink-182\", \"Roller Coaster\"], [\"Blink-182\", \"21 Days\"], [\"Blink-182\", \"GO\"], [\"Blink-182\", \"Dumpweed\"], [\"Blink-182\", \"Toast and Bananas\"], [\"Blink-182\", \"Always\"], [\"Blink-182\", \"Reebok Commercial\"], [\"Blink-182\", \"I Won't Be Home For Christmas\"], [\"Blink-182\", \"Rich Lips\"], [\"Blink-182\", \"First Date\"], [\"Blink-182\", \"Depends\"], [\"Blink-182\", \"Anthem Part Two\"], [\"Blink-182\", \"Dysentery Gary\"], [\"Blink-182\", \"Wendy Clear\"], [\"Blink-182\", \"Reckless Abandon\"], [\"Blink-182\", \"Mutt\"], [\"Blink-182\", \"Touchdown Boy\"], [\"Blink-182\", \"Adam's Song\"], [\"Blink-182\", \"The Rock Show\"], [\"Blink-182\", \"Give Me One Good Reason\"], [\"Blink-182\", \"Skit 13 (Blink 182 / 008811237929)\"], [\"Blink-182\", \"My Pet Sally\"], [\"Blink-182\", \"I'm Sorry\"], [\"Blink-182\", \"Story Of A Lonely Guy\"], [\"Blink-182\", \"Aliens Exist\"], [\"Blink-182\", \"Another Girl Another Planet\"], [\"Blink-182\", \"M+M's\"], [\"Blink-182\", \"Ben Wah Balls\"], [\"Blink-182\", \"Happy Holidays_ You Bastard\"], [\"Blink-182\", \"Degenerate\"], [\"Blink-182\", \"The Girl Next Door\"], [\"Blink-182\", \"Strings\"], [\"Blink-182\", \"Pathetic\"], [\"Blink-182\", \"Point of View\"], [\"Blink-182\", \"Please Take Me Home\"], [\"Blink-182\", \"What's My Age Again?\"], [\"Blink-182\", \"All The Small Things\"], [\"Blink-182\", \"Untitled\"], [\"Blink-182\", \"Violence\"], [\"Blink-182\", \"Boring\"], [\"Blink-182\", \"Time\"], [\"Blink-182\", \"Romeo and Rebecca\"], [\"Blink-182\", \"Skit 4 (Blink 182 / 008811237929)\"], [\"Blink-182\", \"Toast & Bananas\"], [\"Blink-182\", \"Don't Leave Me\"], [\"Blink-182\", \"Blew Job\"], [\"Blink-182\", \"Feeling This\"], [\"Blink-182\", \"TV\"], [\"Blink-182\", \"Emo\"], [\"Blink-182\", \"Apple Shampoo\"], [\"Blink-182\", \"Romeo & Rebecca\"], [\"Blink-182\", \"The Party Song\"], [\"Blink-182\", \"Peggy Sue\"], [\"Blink-182\", \"The Fallen Interlude\"], [\"Blink-182\", \"Enthused\"], [\"Blink-182\", \"Online Songs\"], [\"Blink-182\", \"Voyeur\"], [\"Blink-182\", \"I Miss You\"], [\"Blink-182\", \"Going Away To College\"], [\"Blink-182\", \"Fentoozler\"], [\"Blink-182\", \"I'm Lost Without You\"], [\"Blink-182\", \"Lemmings\"], [\"Blink-182\", \"Skit 12 (Blink 182 / 008811237929)\"], [\"Blink-182\", \"Stockholm Syndrome\"]], \"hovertemplate\": \"artist=%{customdata[0]}<br>t-SNE dimension 0=%{x}<br>t-SNE dimension 2=%{y}<br>title=%{customdata[1]}<extra></extra>\", \"legendgroup\": \"Blink-182\", \"marker\": {\"color\": \"#FF7F0E\", \"opacity\": 0.8, \"size\": 15, \"symbol\": \"circle\"}, \"mode\": \"markers\", \"name\": \"Blink-182\", \"showlegend\": true, \"type\": \"scatter\", \"x\": [2.3566806316375732, 3.059398651123047, -0.30200111865997314, 1.1372278928756714, -13.233210563659668, 2.6938135623931885, 6.969316482543945, -3.565216064453125, -4.3484578132629395, 4.013646125793457, -5.109289169311523, -0.8019116520881653, 6.662245750427246, -1.4231576919555664, -3.846250057220459, -2.6405222415924072, 2.4519765377044678, 4.134634971618652, 6.433021545410156, -2.4352169036865234, 4.293147087097168, 10.493805885314941, 5.677994251251221, 4.38225793838501, 7.783583641052246, 4.7574591636657715, 0.4907520115375519, 0.9051226377487183, 3.1483473777770996, 5.429284572601318, 0.9603747725486755, -4.587449073791504, -6.4981818199157715, -1.0897197723388672, 4.452060222625732, 13.886101722717285, -2.7733519077301025, 1.4001896381378174, 4.638012886047363, 8.720237731933594, 5.17531156539917, -2.6626899242401123, 5.062623023986816, 0.9708960056304932, -3.2777442932128906, 5.526009559631348, -13.651350021362305, 2.6845524311065674, 0.9846048355102539, 3.0175931453704834, 9.622015953063965, -2.545830249786377, 6.437599182128906, -3.863867998123169, -0.128468856215477, 4.525346755981445, -5.27100133895874, 5.254818439483643, -2.0775837898254395, 0.8537702560424805, -2.5729117393493652, -3.640801429748535, 4.745861053466797, -2.0894477367401123, 3.145460367202759, -6.729828357696533, 4.549828052520752, -4.329050540924072, 2.1772632598876953, 4.0586981773376465, -7.211516857147217, -4.409763336181641, -13.700679779052734, 2.4081389904022217], \"xaxis\": \"x\", \"y\": [-2.789674758911133, 6.2864556312561035, -1.5793137550354004, -4.195541858673096, -4.216484069824219, -3.1708922386169434, -3.7867424488067627, -0.22527004778385162, 2.534503936767578, -7.0169219970703125, 7.241648197174072, -7.714694499969482, -4.901425838470459, -4.76538610458374, 1.3397331237792969, -5.866238117218018, 5.6336750984191895, 6.79520845413208, -8.91672134399414, -5.622602939605713, 1.9888620376586914, -1.4544960260391235, -8.542462348937988, -4.054641246795654, -4.728710651397705, -1.8629487752914429, 4.460070610046387, 7.477996349334717, -0.6880394220352173, -3.9944701194763184, 3.971557140350342, 2.9121763706207275, -0.487824946641922, 2.972714424133301, -4.038497447967529, -3.7491888999938965, 5.51812744140625, -3.372488260269165, -3.6866793632507324, -1.113336205482483, 4.787675857543945, -0.40496182441711426, -3.416682481765747, 15.172258377075195, -3.801314115524292, -5.565762519836426, 1.0233685970306396, 0.8445154428482056, 0.4723304212093353, -6.981070041656494, 2.1849427223205566, 2.7563540935516357, -8.911032676696777, 1.3299132585525513, -1.0919040441513062, -4.46617317199707, 5.653302192687988, -1.1064832210540771, -5.204317569732666, -3.1717216968536377, 2.763437032699585, 2.3257322311401367, -1.3035725355148315, 2.520500421524048, -4.4706902503967285, -1.4980459213256836, 0.01679796725511551, -0.46554964780807495, -2.7341251373291016, -4.979868412017822, -5.460628986358643, -2.3776204586029053, 0.6613256335258484, -0.839393138885498], \"yaxis\": \"y\"}, {\"customdata\": [[\"Red Hot Chili Peppers\", \"Get On Top (Album Version)\"], [\"Red Hot Chili Peppers\", \"Naked In The Rain (Album Version)\"], [\"Red Hot Chili Peppers\", \"Venice Queen (Album Version)\"], [\"Red Hot Chili Peppers\", \"Snow [Hey Oh] [Live Version]\"], [\"Red Hot Chili Peppers\", \"American Ghost Dance (2003 Digital Remastered)\"], [\"Red Hot Chili Peppers\", \"Emit Remmus (Album Version)\"], [\"Red Hot Chili Peppers\", \"The Greeting Song (Album Version)\"], [\"Red Hot Chili Peppers\", \"Hard To Concentrate (Album Version)\"], [\"Red Hot Chili Peppers\", \"I'll Be Your Domino (Non-Album Track)\"], [\"Red Hot Chili Peppers\", \"Buckle Down (2002 Digital Remaster)\"], [\"Red Hot Chili Peppers\", \"I Could Die For You (Album Version)\"], [\"Red Hot Chili Peppers\", \"Love Trilogy (2003 Digital Remaster) ()\"], [\"Red Hot Chili Peppers\", \"Knock Me Down (2003 Digital Remaster)\"], [\"Red Hot Chili Peppers\", \"She's Only 18 (Album Version)\"], [\"Red Hot Chili Peppers\", \"Behind The Sun (Instrumental Demo) (2002 Digital Remaster)\"], [\"Red Hot Chili Peppers\", \"Wet Sand (Album Version)\"], [\"Red Hot Chili Peppers\", \"Road Trippin' (Album Version)\"], [\"Red Hot Chili Peppers\", \"Mercy Mercy (Non-Album Track)\"], [\"Red Hot Chili Peppers\", \"Baby Appeal (2002 Digital Remastser) ()\"], [\"Red Hot Chili Peppers\", \"Lovin' And Touchin' (2003 Digitally Remastered)\"], [\"Red Hot Chili Peppers\", \"The Zephyr Song (Album Version)\"], [\"Red Hot Chili Peppers\", \"Universally Speaking (Album Version)\"], [\"Red Hot Chili Peppers\", \"Good Time Boys (2003 Digital Remaster)\"], [\"Red Hot Chili Peppers\", \"Minor Thing (Album Version)\"], [\"Red Hot Chili Peppers\", \"Hollywood (Africa) (2003 Digitally Remastered)\"], [\"Red Hot Chili Peppers\", \"You Always Sing The Same (2002 Digital Remaster)\"], [\"Red Hot Chili Peppers\", \"Turn It Again (Album Version)\"], [\"Red Hot Chili Peppers\", \"Funky Monks (Album Version)\"], [\"Red Hot Chili Peppers\", \"Lately (Non-Album Track)\"], [\"Red Hot Chili Peppers\", \"Apache Rose Peacock (Album Version)\"], [\"Red Hot Chili Peppers\", \"She Looks To Me (Album Version)\"], [\"Red Hot Chili Peppers\", \"Hollywood (Africa)\"], [\"Red Hot Chili Peppers\", \"Higher Ground (Album Version)\"], [\"Red Hot Chili Peppers\", \"Warm Tape (Album Version)\"], [\"Red Hot Chili Peppers\", \"Blues For Meister\"], [\"Red Hot Chili Peppers\", \"Castles Made Of Sand (Studio) (Bonus Track)\"], [\"Red Hot Chili Peppers\", \"Stadium Arcadium (Album Version)\"], [\"Red Hot Chili Peppers\", \"Around The World (Album Version)\"], [\"Red Hot Chili Peppers\", \"Millionaires Against Hunger (2002 Digital Remastser) (Explicit)\"], [\"Red Hot Chili Peppers\", \"Throw Away Your Television (Album Version)\"], [\"Red Hot Chili Peppers\", \"Especially In Michigan (Album Version)\"], [\"Red Hot Chili Peppers\", \"Police Helicopter (Demo Version) (2003 Digital Remaster)\"], [\"Red Hot Chili Peppers\", \"Mellowship Slinky In B Major (Album Version)\"], [\"Red Hot Chili Peppers\", \"Yertle The Turtle (2003 Digitally Remastered)\"], [\"Red Hot Chili Peppers\", \"Nobody Weird Like Me (2003 Digital Remaster)\"], [\"Red Hot Chili Peppers\", \"On Mercury (Album Version)\"], [\"Red Hot Chili Peppers\", \"Magic Johnson (2003 Digital Remaster)\"], [\"Red Hot Chili Peppers\", \"Parallel Universe (Album Version)\"], [\"Red Hot Chili Peppers\", \"C'mon Girl (Album Version)\"], [\"Red Hot Chili Peppers\", \"If You Want Me To Stay (Pink Mustang Mix)\"], [\"Red Hot Chili Peppers\", \"Thirty Dirty Birds (2003 Digitally Remastered)\"], [\"Red Hot Chili Peppers\", \"Let's Make Evil (Bonus Track)\"], [\"Red Hot Chili Peppers\", \"What It Is (AKA Nina's Song) (Demo) (Digitally Remastered 02) ()\"], [\"Red Hot Chili Peppers\", \"Green Heaven (Demo Version) (Digitally Remastered 02) ()\"], [\"Red Hot Chili Peppers\", \"Hollywood (Africa) (Extended Dance Mix)\"], [\"Red Hot Chili Peppers\", \"Shallow Be Thy Game (Album Version)\"], [\"Red Hot Chili Peppers\", \"Tell Me Baby (Album Version)\"], [\"Red Hot Chili Peppers\", \"My Lovely Man (Album Version)\"], [\"Red Hot Chili Peppers\", \"Blood Sugar Sex Magik (Album Version)\"], [\"Red Hot Chili Peppers\", \"Save This Lady (Non-Album Track)\"], [\"Red Hot Chili Peppers\", \"I Like Dirt (Album Version)\"], [\"Red Hot Chili Peppers\", \"Storm In A Teacup (Album Version)\"], [\"Red Hot Chili Peppers\", \"Breaking The Girl (Album Version)\"], [\"Red Hot Chili Peppers\", \"You Always Sing The Same (Demo)\"], [\"Red Hot Chili Peppers\", \"Deep Kick (Album Version)\"], [\"Red Hot Chili Peppers\", \"Blackeyed Blonde (2003 Digitally Remastered)\"], [\"Red Hot Chili Peppers\", \"Falling Into Grace (Album Version)\"], [\"Red Hot Chili Peppers\", \"Soul To Squeeze (Album Version)\"], [\"Red Hot Chili Peppers\", \"Right On Time (Album Version)\"], [\"Red Hot Chili Peppers\", \"Stranded (Demo)\"], [\"Red Hot Chili Peppers\", \"Me And My Friends (2003 Digital Remaster)\"], [\"Red Hot Chili Peppers\", \"Subterranean Homesick Blues (2003 Digital Remaster)\"], [\"Red Hot Chili Peppers\", \"Skinny Sweaty Man (2003 Digital Remaster)\"], [\"Red Hot Chili Peppers\", \"Behind The Sun\"], [\"Red Hot Chili Peppers\", \"Hump de Bump (Album Version)\"], [\"Red Hot Chili Peppers\", \"Under The Bridge (Album Version)\"], [\"Red Hot Chili Peppers\", \"Give It Away (Album Version)\"], [\"Red Hot Chili Peppers\", \"Salute To Kareem (Demo)\"], [\"Red Hot Chili Peppers\", \"Get Up and Jump (Demo Version) (Digitally Remastered 02) ()\"], [\"Red Hot Chili Peppers\", \"Desecration Smile (Album Version)\"], [\"Red Hot Chili Peppers\", \"Organic Anti-Beat Box Band (2003 Digital Remaster)\"], [\"Red Hot Chili Peppers\", \"The Righteous And The Wicked (Album Version)\"], [\"Red Hot Chili Peppers\", \"Freaky Styley (2003 Digitally Remastered)\"], [\"Red Hot Chili Peppers\", \"Strip My Mind (Album Version)\"], [\"Red Hot Chili Peppers\", \"Why Don't You Love Me (2002 Digital Remaster)\"], [\"Red Hot Chili Peppers\", \"Jungle Man\"], [\"Red Hot Chili Peppers\", \"Over Funk (Bonus Track)\"], [\"Red Hot Chili Peppers\", \"Taste The Pain\"], [\"Red Hot Chili Peppers\", \"Death Of A Martian (Album Version)\"], [\"Red Hot Chili Peppers\", \"Fire (2003 Digital Remaster)\"], [\"Red Hot Chili Peppers\", \"True Men Don't Kill Coyotes (24-Bit Digitally Remastered 02)\"], [\"Red Hot Chili Peppers\", \"Knock Me Down (Original Long Version)\"], [\"Red Hot Chili Peppers\", \"I Could Have Lied (Album Version)\"], [\"Red Hot Chili Peppers\", \"Californication (Album Version)\"], [\"Red Hot Chili Peppers\", \"Out In L.A. (2002 Digital Remastser) ()\"], [\"Red Hot Chili Peppers\", \"Slow Cheetah (Album Version)\"]], \"hovertemplate\": \"artist=%{customdata[0]}<br>t-SNE dimension 0=%{x}<br>t-SNE dimension 2=%{y}<br>title=%{customdata[1]}<extra></extra>\", \"legendgroup\": \"Red Hot Chili Peppers\", \"marker\": {\"color\": \"#2CA02C\", \"opacity\": 0.8, \"size\": 15, \"symbol\": \"circle\"}, \"mode\": \"markers\", \"name\": \"Red Hot Chili Peppers\", \"showlegend\": true, \"type\": \"scatter\", \"x\": [6.596621036529541, 7.413082599639893, 5.029504776000977, -0.9413048028945923, 6.349835395812988, 0.3598494231700897, 0.22980473935604095, 8.998594284057617, 1.637436032295227, 2.1116020679473877, -2.8660736083984375, 11.240880012512207, -1.7598199844360352, -3.697075128555298, 0.625644326210022, -0.11654376238584518, -6.352496147155762, 1.1656535863876343, -0.08214525878429413, -5.744508266448975, 3.913696765899658, 0.6831018328666687, 7.960481643676758, 8.860852241516113, 1.6454039812088013, -1.8471068143844604, 5.176307201385498, -0.11430303752422333, 1.3348630666732788, 7.500875949859619, -0.5979627370834351, 1.6571696996688843, 17.81173324584961, -1.287011742591858, 0.9808276891708374, 1.7200431823730469, -3.1471593379974365, 11.029253959655762, 12.98361587524414, 9.465018272399902, 7.358333110809326, 4.96921968460083, 6.726891040802002, 0.20661744475364685, 5.992878437042236, 1.1254839897155762, 9.14825439453125, 7.4089765548706055, 0.33095866441726685, -13.083494186401367, 2.5155534744262695, 7.4296674728393555, 7.832608222961426, 10.585566520690918, 9.508264541625977, 8.05686092376709, -7.713482856750488, -10.203474044799805, 9.203943252563477, 0.8874683380126953, 0.3453082740306854, 7.512555122375488, 2.748063325881958, -1.8475829362869263, 2.259547472000122, 9.338879585266113, -1.5927517414093018, 14.452829360961914, -3.7218146324157715, -7.606037616729736, 1.3912312984466553, 8.74587631225586, -0.7217297554016113, 0.6276878118515015, 1.0339146852493286, -5.151357173919678, 10.050107955932617, -4.367839336395264, 3.044234275817871, 4.625454425811768, 4.5240797996521, 14.132533073425293, 1.8006551265716553, 7.161806583404541, -10.099491119384766, 8.325454711914062, 1.660294532775879, -11.566741943359375, 2.8355302810668945, 1.051222562789917, 7.263175010681152, -1.675667643547058, 0.9782916903495789, 1.2562073469161987, 1.584025263786316, 2.936701774597168], \"xaxis\": \"x\", \"y\": [-5.131838321685791, 9.66370964050293, -5.980813026428223, 4.646581649780273, 10.488996505737305, 16.946916580200195, -0.1381044238805771, -1.392970085144043, 1.935937762260437, -3.9363739490509033, -4.957669734954834, -2.1130130290985107, -1.5240195989608765, 3.581284999847412, 14.508176803588867, 5.9260430335998535, 10.756651878356934, -2.03887939453125, 0.7048510313034058, -2.6550545692443848, 7.483595371246338, 10.599616050720215, 8.339540481567383, 2.1755757331848145, 3.1547811031341553, -2.2957918643951416, 9.224017143249512, -8.419224739074707, 11.026874542236328, 4.589389324188232, 7.200088977813721, 3.164628744125366, 7.841353893280029, 12.891844749450684, 4.755887985229492, 13.613728523254395, 6.055115222930908, 5.9523024559021, -2.869319438934326, -1.4179774522781372, 5.062621116638184, 6.566263675689697, 4.366134166717529, 9.85103988647461, 3.2925655841827393, 3.3641810417175293, 3.0425570011138916, 7.531513214111328, 0.7222991585731506, -5.193417072296143, 7.091658592224121, 8.67750358581543, -1.9182538986206055, 1.6613203287124634, -1.2572648525238037, -4.226165771484375, -0.8345798850059509, -2.3405487537384033, 5.693445682525635, 5.271571159362793, 16.912973403930664, 9.770829200744629, 2.401132106781006, -2.284245014190674, 3.9689390659332275, 9.420400619506836, -8.283919334411621, 5.087445259094238, -8.063338279724121, 8.544317245483398, -0.33745574951171875, -3.844928741455078, 4.397663593292236, 14.512601852416992, 6.844235897064209, 1.436604380607605, 9.049458503723145, 7.533775329589844, -1.3115352392196655, 6.775632381439209, -1.9495428800582886, -0.5769855380058289, -0.9799582362174988, 9.837895393371582, 8.600696563720703, 8.542510032653809, -2.0774636268615723, 5.015120506286621, 8.834210395812988, -1.9876800775527954, 5.3975443840026855, -1.4099042415618896, -8.335225105285645, 0.5889196991920471, -0.2713681757450104, -4.544517517089844], \"yaxis\": \"y\"}, {\"customdata\": [[\"Eminem\", \"Ricky Ticky Toc\"], [\"Eminem\", \"The Way I Am\"], [\"Eminem\", \"Beautiful\"], [\"Eminem\", \"Paul\"], [\"Eminem\", \"Hailie's Song\"], [\"Eminem\", \"Without Me\"], [\"Eminem\", \"8 Mile\"], [\"Eminem\", \"Dr. West\"], [\"Eminem\", \"Curtains Up\"], [\"Eminem\", \"Yellow Brick Road\"], [\"Eminem\", \"If I Had\"], [\"Eminem\", \"Em Calls Paul (skit)\"], [\"Eminem\", \"When I'm Gone\"], [\"Eminem\", \"Bad Influence\"], [\"Eminem\", \"'97 Bonnie & Clyde\"], [\"Eminem\", \"Rock Bottom\"], [\"Eminem\", \"Careful What You Wish For\"], [\"Eminem\", \"Puke\"], [\"Eminem\", \"My Darling\"], [\"Eminem\", \"Public Service Announcement\"], [\"Eminem\", \"Just Don't Give\"], [\"Eminem\", \"We As Americans\"], [\"Eminem\", \"Ken Kaniff\"], [\"Eminem\", \"Shady Narcotics\"], [\"Eminem\", \"Love You More\"], [\"Eminem\", \"Square Dance\"], [\"Eminem\", \"Still Don't Give\"], [\"Eminem\", \"Hazardous Youth\"], [\"Eminem\", \"Tonya\"], [\"Eminem\", \"Criminal\"], [\"Eminem\", \"FACK\"], [\"Eminem\", \"Public Enemy #1\"], [\"Eminem\", \"My 1st Single\"], [\"Eminem\", \"**** You\"], [\"Eminem\", \"My Name Is\"], [\"Eminem\", \"Any Man\"], [\"Eminem\", \"Cleanin' Out My Closet\"], [\"Eminem\", \"Curtains Close\"], [\"Eminem\", \"The Kids\"], [\"Eminem\", \"The Kiss\"], [\"Eminem\", \"Cum On Everybody\"], [\"Eminem\", \"Rabbit Run\"], [\"Eminem\", \"Sing For The Moment\"], [\"Eminem\", \"Lose Yourself\"], [\"Eminem\", \"Paul (skit)\"], [\"Eminem\", \"The Conspiracy (Freestyle)\"], [\"Eminem\", \"Like Toy Soldiers\"], [\"Eminem\", \"Marshall Mathers\"], [\"Eminem\", \"Mockingbird\"], [\"Eminem\", \"Mr. Mathers\"], [\"Eminem\", \"No Apologies\"]], \"hovertemplate\": \"artist=%{customdata[0]}<br>t-SNE dimension 0=%{x}<br>t-SNE dimension 2=%{y}<br>title=%{customdata[1]}<extra></extra>\", \"legendgroup\": \"Eminem\", \"marker\": {\"color\": \"#D62728\", \"opacity\": 0.8, \"size\": 15, \"symbol\": \"circle\"}, \"mode\": \"markers\", \"name\": \"Eminem\", \"showlegend\": true, \"type\": \"scatter\", \"x\": [5.491713523864746, 5.641539573669434, 4.444303035736084, 0.5186765789985657, 5.750620365142822, 4.294959545135498, 5.4058613777160645, -1.0947879552841187, 0.5415023565292358, 5.183362007141113, 6.861126899719238, 6.080900192260742, -5.253662109375, 6.967147350311279, 6.293120384216309, 8.481157302856445, 9.243951797485352, 6.678559303283691, -1.4962033033370972, 9.307604789733887, 9.091588973999023, 10.532957077026367, 3.7625732421875, 7.329883575439453, 7.754630088806152, 8.210373878479004, 9.985544204711914, 10.408164978027344, 6.5775837898254395, 10.08006763458252, 9.396994590759277, 7.99508810043335, 9.616074562072754, 11.811978340148926, 8.831174850463867, 11.135032653808594, 7.24661111831665, 4.911929130554199, 4.165127277374268, 9.322354316711426, 10.051172256469727, 7.717445373535156, 7.26663875579834, 6.45710563659668, 8.163273811340332, 7.947653293609619, 8.331428527832031, 6.735136032104492, 4.992342472076416, 4.508730888366699, 4.788575172424316], \"xaxis\": \"x\", \"y\": [-4.588938236236572, -4.446570873260498, -4.790039539337158, -6.8855109214782715, -5.950784206390381, -1.1425470113754272, -3.295243263244629, -3.0866613388061523, -3.77243709564209, -1.137142539024353, 2.5856242179870605, 1.9480187892913818, 1.1174076795578003, 4.585975170135498, 1.35407555103302, 4.387701511383057, 3.4934442043304443, -5.187798500061035, -0.6288962960243225, 0.2471655011177063, 3.8491621017456055, 3.628032684326172, 6.737092018127441, 0.6369204521179199, 0.5170817375183105, 2.2594962120056152, 3.762022018432617, 3.386791467666626, 0.41419872641563416, 2.3337371349334717, -1.06540846824646, 7.23461389541626, 0.015633463859558105, 0.7584638595581055, 1.21885347366333, -0.9343067407608032, 0.10616649687290192, -5.76754093170166, -1.4611845016479492, -5.572490215301514, -3.5386829376220703, -2.598170042037964, -5.166894435882568, -3.6917011737823486, -7.911141395568848, -4.241081714630127, -4.563266277313232, -5.466136455535889, -5.472283840179443, -1.3644275665283203, -4.43751859664917], \"yaxis\": \"y\"}, {\"customdata\": [[\"Eric Clapton\", \"Hello Old Friend\"], [\"Eric Clapton\", \"When You Got A Good Friend (Album Version)\"], [\"Eric Clapton\", \"Tulsa Time\"], [\"Eric Clapton\", \"Floating Bridge\"], [\"Eric Clapton\", \"Blues Power\"], [\"Eric Clapton\", \"Further On Up The Road\"], [\"Eric Clapton\", \"Wonderful Tonight\"], [\"Eric Clapton\", \"I Want A Little Girl (Live)\"], [\"Eric Clapton\", \"Willie And The Hand Jive\"], [\"Eric Clapton\", \"Can't Find My Way Home\"], [\"Eric Clapton\", \"Love Don't Love Nobody (Album Version)\"], [\"Eric Clapton\", \"Alberta\"], [\"Eric Clapton\", \"Come Back Baby (Album Version)\"], [\"Eric Clapton\", \"We're All The Way\"], [\"Eric Clapton\", \"Lay Down Sally\"], [\"Eric Clapton\", \"Someday After A While (Live) (Album Version)\"], [\"Eric Clapton\", \"Bell Bottom Blues (Live)\"], [\"Eric Clapton\", \"Standin' Round Crying (Live) (Album Version)\"], [\"Eric Clapton\", \"Tangled In Love (Album Version)\"], [\"Eric Clapton\", \"Forever Man (Album Version)\"], [\"Eric Clapton\", \"Let It Grow\"], [\"Eric Clapton\", \"Cocaine\"], [\"Eric Clapton\", \"Holy Mother (Album Version)\"], [\"Eric Clapton\", \"Singin' The Blues\"], [\"Eric Clapton\", \"It's In The Way That You Use It (Album Version)\"], [\"Eric Clapton\", \"The Core\"], [\"Eric Clapton\", \"All Our Past Times\"], [\"Eric Clapton\", \"Bottle Of Red Wine\"], [\"Eric Clapton\", \"Little Wing\"], [\"Eric Clapton\", \"Hound Dog (Album Version)\"], [\"Eric Clapton\", \"Swing Low Sweet Chariot\"], [\"Eric Clapton\", \"Meet Me (Down At The Bottom)\"], [\"Eric Clapton\", \"Hoochie Coochie Man  (Live) (Album Version)\"], [\"Eric Clapton\", \"Rita Mae\"], [\"Eric Clapton\", \"Breaking Point  (Album Version)\"], [\"Eric Clapton\", \"Early In The Morning\"], [\"Eric Clapton\", \"Blues Leave Me Alone  (Live)  (Album Version)\"], [\"Eric Clapton\", \"After Midnight\"], [\"Eric Clapton\", \"I'm Tore Down  (Live) (Album Version)\"], [\"Eric Clapton\", \"How Long Blues  (Live)  (Album Version)\"], [\"Eric Clapton\", \"Kind Hearted Woman\"], [\"Eric Clapton\", \"It All Depends (Album Version)\"], [\"Eric Clapton\", \"Double Trouble\"], [\"Eric Clapton\", \"Beware Of Darkness (LP Version)\"], [\"Eric Clapton\", \"Key To The Highway (Live)\"], [\"Eric Clapton\", \"Driftin' (Live)  (Album Version)\"], [\"Eric Clapton\", \"Take A Chance (Album Version)\"], [\"Eric Clapton\", \"Smile\"], [\"Eric Clapton\", \"Kind Hearted Woman Blues (Album Version)\"], [\"Eric Clapton\", \"Before You Accuse Me (Unplugged CD Version)\"], [\"Eric Clapton\", \"Little Queen Of Spades (Album Version)\"], [\"Eric Clapton\", \"Roll It\"], [\"Eric Clapton\", \"I'm Going Left (Album Version)\"], [\"Eric Clapton\", \"Crosscut Saw (LP Version)\"], [\"Eric Clapton\", \"Pretending\"], [\"Eric Clapton\", \"I Shot The Sheriff\"], [\"Eric Clapton\", \"Little Rachel\"], [\"Eric Clapton\", \"Watch Yourself (Live) (Album Version)\"], [\"Eric Clapton\", \"Badge\"], [\"Eric Clapton\", \"Going Down Slow (Album Version)\"], [\"Eric Clapton\", \"Me And The Devil Blues (Album Version)\"], [\"Eric Clapton\", \"Knockin' On Heaven's Door\"], [\"Eric Clapton\", \"Let It Rain\"], [\"Eric Clapton\", \"Please Be With Me\"], [\"Eric Clapton\", \"Tears In Heaven\"], [\"Eric Clapton\", \"Before You Accuse Me (Take A Look At Yourself)\"], [\"Eric Clapton\", \"Have You Ever Loved A Woman\"], [\"Eric Clapton\", \"Behind The Mask (Album Version)\"], [\"Eric Clapton\", \"Don't Think Twice_ It's All Right\"], [\"Eric Clapton\", \"Knock On Wood  (Album Version)\"], [\"Eric Clapton\", \"Layla [Unplugged Version]\"]], \"hovertemplate\": \"artist=%{customdata[0]}<br>t-SNE dimension 0=%{x}<br>t-SNE dimension 2=%{y}<br>title=%{customdata[1]}<extra></extra>\", \"legendgroup\": \"Eric Clapton\", \"marker\": {\"color\": \"#9467BD\", \"opacity\": 0.8, \"size\": 15, \"symbol\": \"circle\"}, \"mode\": \"markers\", \"name\": \"Eric Clapton\", \"showlegend\": true, \"type\": \"scatter\", \"x\": [-1.5523858070373535, -8.063435554504395, -9.32269287109375, 0.09669798612594604, -5.131383419036865, -9.781827926635742, -3.6110308170318604, -7.606637954711914, 8.271544456481934, -6.102609634399414, -8.932943344116211, -10.82382869720459, -11.69426441192627, -2.1595675945281982, 0.593307375907898, -10.369701385498047, -10.822429656982422, -7.99759578704834, -5.0754876136779785, -0.05443531647324562, -0.4868912100791931, 14.573663711547852, 0.4762858748435974, -3.338926076889038, -9.725229263305664, 6.6240153312683105, 2.8443939685821533, -6.899340629577637, -12.408513069152832, 11.554068565368652, -6.443103313446045, 0.31965166330337524, 5.738348484039307, 4.6392083168029785, 2.6068286895751953, -6.6604461669921875, -8.21389389038086, -3.1473190784454346, 9.42561149597168, -5.582852840423584, -3.0196473598480225, -2.219277858734131, -2.8368582725524902, 15.722675323486328, -8.186601638793945, -12.952171325683594, -3.260789394378662, -14.091765403747559, -3.0107693672180176, -10.538209915161133, -7.257682800292969, -4.33036994934082, 0.16372789442539215, 0.3916562795639038, -2.44162917137146, 15.494229316711426, -2.541259288787842, -11.114126205444336, -7.598524570465088, 10.019940376281738, -8.936363220214844, -7.381035804748535, 1.9414715766906738, -10.377863883972168, -7.453835487365723, -10.536138534545898, -9.497152328491211, -1.591194987297058, -13.552042961120605, -1.3356132507324219, -7.793102264404297], \"xaxis\": \"x\", \"y\": [7.947685241699219, -6.781122207641602, 2.7899248600006104, 10.411942481994629, -1.0915260314941406, 4.2627034187316895, 4.686317443847656, -1.063056468963623, -11.777000427246094, 1.6163561344146729, -4.935298442840576, 2.1112961769104004, -1.2955317497253418, -2.600173234939575, 9.890174865722656, -1.685497760772705, 3.4399044513702393, 4.286462306976318, -6.161023139953613, -10.350546836853027, 9.345900535583496, 4.969021797180176, 4.046173572540283, 3.955716371536255, -3.273214101791382, 3.769843101501465, -6.979308128356934, 0.6469096541404724, 9.711463928222656, -11.534335136413574, 8.615927696228027, 6.703629016876221, -10.712065696716309, 4.420802593231201, -2.962808609008789, 0.48662009835243225, 8.17654037475586, -1.7736841440200806, -13.279633522033691, 7.813505172729492, -9.160896301269531, -6.4789533615112305, -7.788507461547852, -2.405747652053833, 8.595307350158691, -2.693514108657837, 2.052067756652832, 5.873908042907715, -9.046764373779297, 2.7122561931610107, -0.9281343817710876, -0.8293145895004272, -0.8467663526535034, 1.180815577507019, -2.5573370456695557, -0.08817549794912338, 0.7667392492294312, 5.0514960289001465, 6.930232048034668, -12.46596622467041, 7.738162994384766, 4.365380764007568, 1.0794904232025146, -6.448050498962402, -3.8313395977020264, 2.7265655994415283, -10.550372123718262, 2.1197187900543213, 7.367912769317627, -9.592360496520996, -6.576274394989014], \"yaxis\": \"y\"}, {\"customdata\": [[\"Avenged Sevenfold\", \"Streets\"], [\"Avenged Sevenfold\", \"Brompton Cocktail (Album Version)\"], [\"Avenged Sevenfold\", \"I Won't See You Tonight Part 2\"], [\"Avenged Sevenfold\", \"Remenissions\"], [\"Avenged Sevenfold\", \"I Won't See You Tonight Part 1\"], [\"Avenged Sevenfold\", \"Dear God (Album Version)\"], [\"Avenged Sevenfold\", \"Breaking Their Hold\"], [\"Avenged Sevenfold\", \"Waking the Fallen\"], [\"Avenged Sevenfold\", \"And All Things Will End\"], [\"Avenged Sevenfold\", \"Crossroads (Non-Album Track)\"], [\"Avenged Sevenfold\", \"Eternal Rest\"], [\"Avenged Sevenfold\", \"M.I.A. (Album Version)\"], [\"Avenged Sevenfold\", \"Afterlife (Album Version)\"], [\"Avenged Sevenfold\", \"Critical Acclaim (Amended Version)\"], [\"Avenged Sevenfold\", \"Turn The Other Way\"], [\"Avenged Sevenfold\", \"Radiant Eclipse\"], [\"Avenged Sevenfold\", \"To End The Rapture\"], [\"Avenged Sevenfold\", \"Warmness On The Soul\"], [\"Avenged Sevenfold\", \"A Little Piece Of Heaven (Album Version)\"], [\"Avenged Sevenfold\", \"Second Heartbeat\"], [\"Avenged Sevenfold\", \"Shattered By Broken Dreams\"], [\"Avenged Sevenfold\", \"Clairvoyant Disease\"], [\"Avenged Sevenfold\", \"Darkness Surrounding\"], [\"Avenged Sevenfold\", \"Unholy Confessions\"], [\"Avenged Sevenfold\", \"The Wicked End (Album Version)\"], [\"Avenged Sevenfold\", \"We Come Out At Night\"], [\"Avenged Sevenfold\", \"The Art Of Subconscious Illusion\"], [\"Avenged Sevenfold\", \"Forgotten Faces\"], [\"Avenged Sevenfold\", \"An Epic Of Time Wasted\"], [\"Avenged Sevenfold\", \"Burn It Down (Live In San Diego)\"], [\"Avenged Sevenfold\", \"Desecrate Through Reverence\"], [\"Avenged Sevenfold\", \"Chapter Four\"], [\"Avenged Sevenfold\", \"Lips Of Deceit\"], [\"Avenged Sevenfold\", \"Strength Of The World (Album Version)\"], [\"Avenged Sevenfold\", \"Unbound [The Wild Ride] (Album Version)\"], [\"Avenged Sevenfold\", \"Thick And Thin\"]], \"hovertemplate\": \"artist=%{customdata[0]}<br>t-SNE dimension 0=%{x}<br>t-SNE dimension 2=%{y}<br>title=%{customdata[1]}<extra></extra>\", \"legendgroup\": \"Avenged Sevenfold\", \"marker\": {\"color\": \"#8C564B\", \"opacity\": 0.8, \"size\": 15, \"symbol\": \"circle\"}, \"mode\": \"markers\", \"name\": \"Avenged Sevenfold\", \"showlegend\": true, \"type\": \"scatter\", \"x\": [5.971343040466309, 4.109311580657959, 2.1070070266723633, 9.788952827453613, 3.9614615440368652, -7.367602825164795, 7.4999470710754395, 0.7096267938613892, 3.8785476684570312, 2.6221320629119873, 3.4809608459472656, 9.213407516479492, -1.7693297863006592, 7.2952961921691895, 2.9853172302246094, 6.073836803436279, 6.204565048217773, -1.4494155645370483, 5.616572856903076, -1.5987329483032227, 2.0147740840911865, 0.9779385328292847, 7.33272647857666, 2.833091974258423, 13.538558959960938, 0.5215267539024353, 8.218152046203613, 4.2680463790893555, -2.749696969985962, 12.471538543701172, 1.4372427463531494, 12.196849822998047, 8.295206069946289, 9.843100547790527, 1.453490138053894, 8.634074211120605], \"xaxis\": \"x\", \"y\": [-4.663560390472412, -2.015446186065674, 1.8268951177597046, 1.2028779983520508, 4.311548709869385, -0.11696665734052658, -1.8624470233917236, 6.649916172027588, 1.8624882698059082, -1.7723426818847656, 8.024206161499023, 2.6889593601226807, 2.467512369155884, -3.7514290809631348, 7.715253829956055, 7.00413179397583, 6.915741443634033, -4.824760437011719, -7.514050006866455, -1.3154475688934326, -4.646460056304932, 3.1984267234802246, 6.236360549926758, 0.6346442103385925, 5.907671928405762, 8.356925010681152, 2.5462422370910645, 3.2024383544921875, -0.9593510031700134, -0.41904011368751526, -1.877408504486084, 7.057756423950195, 2.439793825149536, 9.057361602783203, -0.3902430832386017, -2.8876562118530273], \"yaxis\": \"y\"}, {\"customdata\": [[\"Linkin Park\", \"Crawling (Album Version)\"], [\"Linkin Park\", \"Given Up (Album Version)\"], [\"Linkin Park\", \"One Step Closer [Live At Milton Keynes]\"], [\"Linkin Park\", \"Wth>You (Album Version)\"], [\"Linkin Park\", \"In Pieces [Live From Projekt Revolution_ Washington DC_ Aug. 19 '07]\"], [\"Linkin Park\", \"Papercut [Recorded Live At BBC1]\"], [\"Linkin Park\", \"Given Up [Third Encore Session]\"], [\"Linkin Park\", \"Breaking The Habit (Album Version)\"], [\"Linkin Park\", \"Valentine's Day [Live From Frankfurt Germany_ Jan 20 '08]\"], [\"Linkin Park\", \"Points Of Authority (Live In Texas)\"], [\"Linkin Park\", \"Faint [Live In Japan]\"], [\"Linkin Park\", \"My<Dsmbr (Album Version)\"], [\"Linkin Park\", \"Lying From You (Live In Texas)\"], [\"Linkin Park\", \"By Myself (Album Version)\"], [\"Linkin Park\", \"In Between [Live From London UK_ Jan 29 '08]\"], [\"Linkin Park\", \"Runaway (Album Version)\"], [\"Linkin Park\", \"High Voltage\"], [\"Linkin Park\", \"Easier To Run [Live LP Underground Tour 2003]\"], [\"Linkin Park\", \"Kyur4 Th Ich (Album Version)\"], [\"Linkin Park\", \"Buy Myself [Manson Remix] (Non-Album Track)\"], [\"Linkin Park\", \"Numb (Live In Texas)\"], [\"Linkin Park\", \"Rnw@y (Album Version)\"], [\"Linkin Park\", \"New Divide [A Cappella Version]\"], [\"Linkin Park\", \"Plc.4 Mie Haed (Album Version)\"], [\"Linkin Park\", \"In The End (Album Version)\"], [\"Linkin Park\", \"Given Up [Live At Milton Keynes]\"], [\"Linkin Park\", \"Cure For The Itch (Album Version)\"], [\"Linkin Park\", \"Hands Held High (Album Version)\"], [\"Linkin Park\", \"My December\"], [\"Linkin Park\", \"From The Inside [Live LP Underground Tour 2003]\"], [\"Linkin Park\", \"Leave Out All The Rest (Single Version)\"], [\"Linkin Park\", \"1stp Klosr (Album Version)\"], [\"Linkin Park\", \"In The End [Live At Milton Keynes]\"], [\"Linkin Park\", \"Pushing Me Away [Live At Milton Keynes]\"], [\"Linkin Park\", \"Runaway (Live In Texas)\"], [\"Linkin Park\", \"What I've Done [Distorted Remix]\"], [\"Linkin Park\", \"Breaking The Habit [Live At Milton Keynes]\"], [\"Linkin Park\", \"One Step Closer (Album Version)\"], [\"Linkin Park\", \"Shadow Of The Day [Live At Milton Keynes]\"], [\"Linkin Park\", \"H! Vltg3 (Album Version)\"], [\"Linkin Park\", \"In Pieces [Live From SoHo]\"], [\"Linkin Park\", \"Leave Out All The Rest [Live] (Album Version Edit)\"], [\"Linkin Park\", \"Enth E Nd (Album Version)\"], [\"Linkin Park\", \"Nobody's Listening (Album Version)\"], [\"Linkin Park\", \"A Place For My Head (Album Version)\"], [\"Linkin Park\", \"Bleed It Out [Live From Live Earth]\"], [\"Linkin Park\", \"From The Inside [Live In Japan]\"], [\"Linkin Park\", \"The Little Things Give You Away [Live At Milton Keynes]\"], [\"Linkin Park\", \"With You (Album Version)\"], [\"Linkin Park\", \"Riff Raff (Album Version)\"], [\"Linkin Park\", \"Frgt/10 (Album Version)\"], [\"Linkin Park\", \"Crawling (Live In Texas)\"], [\"Linkin Park\", \"Figure.09 (Album Version)\"], [\"Linkin Park\", \"New Divide (Album Version)\"], [\"Linkin Park\", \"X-Ecutioner Style (Album Version)\"], [\"Linkin Park\", \"What I've Done (Album Version)\"], [\"Linkin Park\", \"In The End (Live In Texas)\"], [\"Linkin Park\", \"One Step Closer (Live In Texas)\"], [\"Linkin Park\", \"Pushing Me Away (Album Version)\"], [\"Linkin Park\", \"My December [Live Project Rev. 2002]\"], [\"Linkin Park\", \"P5hng Me A*wy (Album Version)\"], [\"Linkin Park\", \"Leave Out All The Rest [Live From Projekt Revolution_ Detroit MI_ Aug. 22 '07]\"], [\"Linkin Park\", \"No More Sorrow [Live At Milton Keynes]\"], [\"Linkin Park\", \"Points Of Authority (Album Version)\"], [\"Linkin Park\", \"Lying From You [Live LP Underground Tour 2003]\"], [\"Linkin Park\", \"Lying From You [Live At Milton Keynes]\"], [\"Linkin Park\", \"From The Inside [Live At Milton Keynes]\"], [\"Linkin Park\", \"Shadow Of The Day (Album Version)\"]], \"hovertemplate\": \"artist=%{customdata[0]}<br>t-SNE dimension 0=%{x}<br>t-SNE dimension 2=%{y}<br>title=%{customdata[1]}<extra></extra>\", \"legendgroup\": \"Linkin Park\", \"marker\": {\"color\": \"#E377C2\", \"opacity\": 0.8, \"size\": 15, \"symbol\": \"circle\"}, \"mode\": \"markers\", \"name\": \"Linkin Park\", \"showlegend\": true, \"type\": \"scatter\", \"x\": [6.213779926300049, 2.7881598472595215, -0.29860836267471313, -0.7161712646484375, 0.6514974236488342, -5.5968499183654785, 2.800260066986084, 6.787247657775879, -6.957334518432617, -8.782448768615723, -1.1722067594528198, -8.685652732849121, 2.8128509521484375, 1.5536189079284668, 3.892531394958496, -0.05389022082090378, 6.81907844543457, 2.69486665725708, 0.16024422645568848, 1.4919583797454834, 8.268165588378906, 9.379013061523438, 1.2142024040222168, 14.082133293151855, -1.7004239559173584, 2.819681406021118, 0.2016151398420334, 9.757932662963867, -9.155569076538086, -0.05411464348435402, -6.664090633392334, 2.292496681213379, -1.700717806816101, -1.6002839803695679, -17.58905601501465, 6.037403583526611, 6.772360324859619, 2.2919085025787354, -3.408437490463257, 10.391443252563477, 0.6513264179229736, -6.660976409912109, 5.284708499908447, 13.474431991577148, 14.078402519226074, 9.266311645507812, -0.05410939082503319, -3.781902313232422, -5.642116069793701, 8.071070671081543, 7.943558692932129, 6.213888168334961, -4.684503555297852, 1.214967131614685, 7.349837779998779, 6.047547817230225, -1.6983983516693115, 2.2886548042297363, -1.6017708778381348, -6.439642429351807, -1.6053624153137207, -6.09413480758667, 11.337347030639648, -8.782407760620117, 2.813870668411255, 2.812246084213257, -0.054170481860637665, -3.4119138717651367], \"xaxis\": \"x\", \"y\": [-12.232644081115723, -5.191827774047852, 0.29382598400115967, -0.08397117257118225, 4.966444969177246, 4.653897285461426, -5.208326816558838, -6.710436820983887, 8.0548095703125, 18.02216148376465, -8.70313549041748, 1.0197391510009766, -11.548173904418945, -0.9853988885879517, -6.263731956481934, 21.085830688476562, 5.141534328460693, 4.695083141326904, -2.1831579208374023, -1.0052791833877563, 3.4839894771575928, 2.468299388885498, 11.129783630371094, -7.884224891662598, -4.774550437927246, -5.175114631652832, -2.141663074493408, 4.27106237411499, 4.018632888793945, 21.085969924926758, 1.6549270153045654, 20.468250274658203, -4.774908065795898, -4.728456020355225, 1.7712361812591553, -1.6989456415176392, -6.68143892288208, 20.468130111694336, 10.284412384033203, -1.5670397281646729, 4.967113018035889, 1.6373294591903687, -5.607240200042725, -2.2298343181610107, -7.879903793334961, 5.747204303741455, 21.085721969604492, 6.1639299392700195, 4.988685607910156, -4.428351879119873, 8.550704956054688, -12.233586311340332, -0.35395389795303345, 11.13212776184082, -2.0168063640594482, -1.6808876991271973, -4.774003505706787, 20.4695987701416, -4.732312202453613, -1.6114444732666016, -4.735212326049805, -6.833014011383057, -2.503915309906006, 18.022523880004883, -11.5476655960083, -11.547670364379883, 21.082477569580078, 10.287208557128906], \"yaxis\": \"y\"}, {\"customdata\": [[\"The Who\", \"Slip Kid\"], [\"The Who\", \"Daily Records\"], [\"The Who\", \"Man With Money\"], [\"The Who\", \"Disguises\"], [\"The Who\", \"Tommy Can You Hear Me?\"], [\"The Who\", \"The Quiet One\"], [\"The Who\", \"Pure And Easy\"], [\"The Who\", \"I Like Nightmares\"], [\"The Who\", \"A Quick One While He's Away\"], [\"The Who\", \"Don't Look Away\"], [\"The Who\", \"Behind Blue Eyes\"], [\"The Who\", \"Christmas\"], [\"The Who\", \"Trilby's Piano\"], [\"The Who\", \"Tattoo\"], [\"The Who\", \"Success Story\"], [\"The Who\", \"Relax\"], [\"The Who\", \"Fiddle About\"], [\"The Who\", \"A Man In A Purple Dress\"], [\"The Who\", \"1921\"], [\"The Who\", \"My Wife\"], [\"The Who\", \"Eyesight To The Blind (The Hawker)\"], [\"The Who\", \"Don't Let Go The Coat\"], [\"The Who\", \"Boris The Spider\"], [\"The Who\", \"Love Reign O'er Me\"], [\"The Who\", \"Welcome\"], [\"The Who\", \"Heat Wave\"], [\"The Who\", \"Dr. Jimmy\"], [\"The Who\", \"Sensation\"], [\"The Who\", \"Sunrise\"], [\"The Who\", \"Magic Bus\"], [\"The Who\", \"Miracle Cure\"], [\"The Who\", \"Mary Anne With The Shaky Hand\"], [\"The Who\", \"You Stand By Me\"], [\"The Who\", \"Summertime Blues\"], [\"The Who\", \"Let's See Action\"], [\"The Who\", \"Tea & Theatre\"], [\"The Who\", \"Who Are You\"], [\"The Who\", \"Young Man Blues\"], [\"The Who\", \"Love Ain't For Keeping\"], [\"The Who\", \"Cache Cache\"], [\"The Who\", \"La La La Lies\"], [\"The Who\", \"Squeeze Box\"], [\"The Who\", \"Relay\"], [\"The Who\", \"Too Much Of Anything\"], [\"The Who\", \"The Kids Are Alright\"], [\"The Who\", \"I Can See For Miles\"], [\"The Who\", \"God Speaks_ of Marty Robbins\"], [\"The Who\", \"Sparks\"], [\"The Who\", \"I'm A Boy\"], [\"The Who\", \"Sister Disco\"], [\"The Who\", \"Eminence Front\"], [\"The Who\", \"Substitute\"], [\"The Who\", \"Doctor_ Doctor\"], [\"The Who\", \"My Generation\"], [\"The Who\", \"Long Live Rock\"], [\"The Who\", \"Odorono\"], [\"The Who\", \"It's Hard\"], [\"The Who\", \"I'm Free\"], [\"The Who\", \"Amazing Journey\"], [\"The Who\", \"Happy Jack\"], [\"The Who\", \"Endless Wire\"], [\"The Who\", \"Shout And Shimmy\"], [\"The Who\", \"Medac\"], [\"The Who\", \"Water\"], [\"The Who\", \"I Don't Even Know Myself\"], [\"The Who\", \"Music Must Change\"], [\"The Who\", \"Just You And Me_ Darling\"], [\"The Who\", \"Empty Glass\"], [\"The Who\", \"I Can't Explain\"], [\"The Who\", \"Mike Post Theme\"], [\"The Who\", \"You Better You Bet\"], [\"The Who\", \"Pinball Wizard\"], [\"The Who\", \"Sound Round\"], [\"The Who\", \"Heinz Baked Beans\"], [\"The Who\", \"See Me_ Feel Me\"]], \"hovertemplate\": \"artist=%{customdata[0]}<br>t-SNE dimension 0=%{x}<br>t-SNE dimension 2=%{y}<br>title=%{customdata[1]}<extra></extra>\", \"legendgroup\": \"The Who\", \"marker\": {\"color\": \"#7F7F7F\", \"opacity\": 0.8, \"size\": 15, \"symbol\": \"circle\"}, \"mode\": \"markers\", \"name\": \"The Who\", \"showlegend\": true, \"type\": \"scatter\", \"x\": [9.997482299804688, 3.852031946182251, -7.094632148742676, -2.5139904022216797, -1.6193808317184448, 4.4195122718811035, 4.985694885253906, 8.260504722595215, -13.248541831970215, -1.3813241720199585, 4.217785835266113, 13.440705299377441, 5.610045909881592, -1.8571138381958008, 5.966319561004639, -7.590492248535156, 0.3632603883743286, 8.437968254089355, -10.309565544128418, -0.7026738524436951, -3.146589517593384, -3.6521859169006348, 2.056591510772705, 2.1078248023986816, 7.0660576820373535, -16.00482749938965, 10.324721336364746, -0.01377097051590681, -3.109436511993408, 1.7425440549850464, -0.9418911337852478, -1.3523036241531372, 5.5427632331848145, -14.929055213928223, 8.913168907165527, -3.304600715637207, -0.31073373556137085, 5.533579349517822, -8.500407218933105, 2.5596892833709717, 0.467398077249527, -3.503748893737793, -11.589388847351074, 15.319786071777344, 8.367081642150879, -6.279861927032471, -5.814425945281982, 3.240051507949829, -8.142179489135742, -4.2108564376831055, 8.895532608032227, 4.291561603546143, 5.043083667755127, 9.33930778503418, 4.398205757141113, 1.6402769088745117, 7.037249565124512, 4.035045623779297, 3.24100399017334, -0.9544962048530579, 4.983587741851807, -4.054086208343506, 3.8417932987213135, 7.977381706237793, 0.12072635442018509, 12.315995216369629, 5.51542854309082, 4.897365093231201, -2.3979551792144775, -0.6183369159698486, 0.30010274052619934, 17.67426109313965, -0.9974594116210938, -0.21826307475566864, 3.782322406768799], \"xaxis\": \"x\", \"y\": [3.948932409286499, -5.431718826293945, -7.432536602020264, 2.533377170562744, -2.1250481605529785, 7.8783345222473145, 14.41681957244873, -0.7914757132530212, 4.172771453857422, 4.528317928314209, 5.537554740905762, 4.80624532699585, -6.393390655517578, -5.213712692260742, 11.504942893981934, 9.507926940917969, 4.194568157196045, 11.449804306030273, -3.2036077976226807, 8.450591087341309, -7.471557140350342, 2.5849804878234863, 8.741418838500977, 19.43280601501465, 10.43075942993164, 1.805568814277649, 3.8578262329101562, 10.800007820129395, 7.372751235961914, -11.539046287536621, -4.7139201164245605, 2.7979986667633057, 11.887323379516602, 1.8569716215133667, -9.69300365447998, 7.921072959899902, 2.0994350910186768, 11.88581657409668, 6.718783855438232, 6.215565204620361, -9.645824432373047, 2.6588618755340576, 5.270328998565674, 8.216950416564941, -14.00976848602295, 8.466394424438477, 10.158337593078613, -3.6004722118377686, 2.7529830932617188, 3.2988545894622803, 11.97896671295166, 5.945769786834717, 2.1372053623199463, -6.614981651306152, 8.721248626708984, -4.7382330894470215, -1.7260632514953613, -12.315580368041992, -3.5892434120178223, 12.316397666931152, 12.813776969909668, -1.9300082921981812, 5.352071762084961, -4.6607794761657715, -6.644058704376221, 9.860912322998047, 11.878266334533691, 5.833855628967285, -4.307157039642334, 1.6331998109817505, 5.643601417541504, -4.518579483032227, 6.289469242095947, 5.279279708862305, -5.670537948608398], \"yaxis\": \"y\"}, {\"customdata\": [[\"The Strokes\", \"15 Minutes\"], [\"The Strokes\", \"The Modern Age\"], [\"The Strokes\", \"Razorblade\"], [\"The Strokes\", \"Life's A Gas\"], [\"The Strokes\", \"Clampdown\"], [\"The Strokes\", \"I'll Try Anything Once\"], [\"The Strokes\", \"Electricityscape\"], [\"The Strokes\", \"Hard To Explain\"], [\"The Strokes\", \"New York City Cops\"], [\"The Strokes\", \"Heart In A Cage\"], [\"The Strokes\", \"Juicebox\"], [\"The Strokes\", \"You Only Live Once\"], [\"The Strokes\", \"Red Light\"], [\"The Strokes\", \"Trying Your Luck\"], [\"The Strokes\", \"Take It Or Leave It\"], [\"The Strokes\", \"Someday\"], [\"The Strokes\", \"Fear Of Sleep\"], [\"The Strokes\", \"Alone_ Together\"], [\"The Strokes\", \"Reptilia\"], [\"The Strokes\", \"Killing Lies\"], [\"The Strokes\", \"Is This It\"], [\"The Strokes\", \"Last Nite\"], [\"The Strokes\", \"Modern Girls And Old Fashion Men\"], [\"The Strokes\", \"Between Love & Hate\"]], \"hovertemplate\": \"artist=%{customdata[0]}<br>t-SNE dimension 0=%{x}<br>t-SNE dimension 2=%{y}<br>title=%{customdata[1]}<extra></extra>\", \"legendgroup\": \"The Strokes\", \"marker\": {\"color\": \"#BCBD22\", \"opacity\": 0.8, \"size\": 15, \"symbol\": \"circle\"}, \"mode\": \"markers\", \"name\": \"The Strokes\", \"showlegend\": true, \"type\": \"scatter\", \"x\": [2.5036356449127197, -6.447201251983643, -0.20637355744838715, 0.8514477014541626, 10.081853866577148, 3.6209003925323486, -7.350274085998535, -0.5881516337394714, 10.074528694152832, 5.7966179847717285, -1.274964690208435, -4.102651596069336, 1.3142837285995483, -3.5117392539978027, -10.59154224395752, -3.119318962097168, 8.611084938049316, -14.015766143798828, -3.676180839538574, -1.5505001544952393, -3.0038928985595703, -8.93407154083252, 3.3848330974578857, -9.754803657531738], \"xaxis\": \"x\", \"y\": [3.882606029510498, 11.30734920501709, -5.96728515625, -5.470501899719238, -7.322607517242432, -7.569400310516357, 5.563385963439941, -4.130876541137695, 7.357606410980225, 7.1054840087890625, 14.78487491607666, -0.04431268572807312, 6.239023208618164, 3.0979626178741455, -4.285966396331787, -2.6334116458892822, -0.27829211950302124, 2.791513204574585, 7.358675956726074, -5.097805500030518, -2.2970428466796875, 0.7269651889801025, -5.032769680023193, -4.15562629699707], \"yaxis\": \"y\"}, {\"customdata\": [[\"Tame Impala\", \"Wander\"], [\"Tame Impala\", \"Slide Through My Fingers\"], [\"Tame Impala\", \"41 Mosquitoes Flying In Formation\"], [\"Tame Impala\", \"Desire Be Desire Go\"], [\"Tame Impala\", \"Skeleton Tiger\"], [\"Tame Impala\", \"Half Full Glass Of Wine\"]], \"hovertemplate\": \"artist=%{customdata[0]}<br>t-SNE dimension 0=%{x}<br>t-SNE dimension 2=%{y}<br>title=%{customdata[1]}<extra></extra>\", \"legendgroup\": \"Tame Impala\", \"marker\": {\"color\": \"#17BECF\", \"opacity\": 0.8, \"size\": 15, \"symbol\": \"circle\"}, \"mode\": \"markers\", \"name\": \"Tame Impala\", \"showlegend\": true, \"type\": \"scatter\", \"x\": [-16.546552658081055, -0.5216332674026489, -0.5483022332191467, 2.448789596557617, -4.452838897705078, 0.6372376680374146], \"xaxis\": \"x\", \"y\": [4.463770866394043, 1.5566346645355225, -1.4205923080444336, -1.3958979845046997, 8.025744438171387, 3.1323485374450684], \"yaxis\": \"y\"}],\n",
       "                        {\"legend\": {\"title\": {\"text\": \"artist\"}, \"tracegroupgap\": 0}, \"margin\": {\"t\": 60}, \"template\": {\"data\": {\"bar\": [{\"error_x\": {\"color\": \"rgb(36,36,36)\"}, \"error_y\": {\"color\": \"rgb(36,36,36)\"}, \"marker\": {\"line\": {\"color\": \"white\", \"width\": 0.5}}, \"type\": \"bar\"}], \"barpolar\": [{\"marker\": {\"line\": {\"color\": \"white\", \"width\": 0.5}}, \"type\": \"barpolar\"}], \"carpet\": [{\"aaxis\": {\"endlinecolor\": \"rgb(36,36,36)\", \"gridcolor\": \"white\", \"linecolor\": \"white\", \"minorgridcolor\": \"white\", \"startlinecolor\": \"rgb(36,36,36)\"}, \"baxis\": {\"endlinecolor\": \"rgb(36,36,36)\", \"gridcolor\": \"white\", \"linecolor\": \"white\", \"minorgridcolor\": \"white\", \"startlinecolor\": \"rgb(36,36,36)\"}, \"type\": \"carpet\"}], \"choropleth\": [{\"colorbar\": {\"outlinewidth\": 1, \"tickcolor\": \"rgb(36,36,36)\", \"ticks\": \"outside\"}, \"type\": \"choropleth\"}], \"contour\": [{\"colorbar\": {\"outlinewidth\": 1, \"tickcolor\": \"rgb(36,36,36)\", \"ticks\": \"outside\"}, \"colorscale\": [[0.0, \"#440154\"], [0.1111111111111111, \"#482878\"], [0.2222222222222222, \"#3e4989\"], [0.3333333333333333, \"#31688e\"], [0.4444444444444444, \"#26828e\"], [0.5555555555555556, \"#1f9e89\"], [0.6666666666666666, \"#35b779\"], [0.7777777777777778, \"#6ece58\"], [0.8888888888888888, \"#b5de2b\"], [1.0, \"#fde725\"]], \"type\": \"contour\"}], \"contourcarpet\": [{\"colorbar\": {\"outlinewidth\": 1, \"tickcolor\": \"rgb(36,36,36)\", \"ticks\": \"outside\"}, \"type\": \"contourcarpet\"}], \"heatmap\": [{\"colorbar\": {\"outlinewidth\": 1, \"tickcolor\": \"rgb(36,36,36)\", \"ticks\": \"outside\"}, \"colorscale\": [[0.0, \"#440154\"], [0.1111111111111111, \"#482878\"], [0.2222222222222222, \"#3e4989\"], [0.3333333333333333, \"#31688e\"], [0.4444444444444444, \"#26828e\"], [0.5555555555555556, \"#1f9e89\"], [0.6666666666666666, \"#35b779\"], [0.7777777777777778, \"#6ece58\"], [0.8888888888888888, \"#b5de2b\"], [1.0, \"#fde725\"]], \"type\": \"heatmap\"}], \"heatmapgl\": [{\"colorbar\": {\"outlinewidth\": 1, \"tickcolor\": \"rgb(36,36,36)\", \"ticks\": \"outside\"}, \"colorscale\": [[0.0, \"#440154\"], [0.1111111111111111, \"#482878\"], [0.2222222222222222, \"#3e4989\"], [0.3333333333333333, \"#31688e\"], [0.4444444444444444, \"#26828e\"], [0.5555555555555556, \"#1f9e89\"], [0.6666666666666666, \"#35b779\"], [0.7777777777777778, \"#6ece58\"], [0.8888888888888888, \"#b5de2b\"], [1.0, \"#fde725\"]], \"type\": \"heatmapgl\"}], \"histogram\": [{\"marker\": {\"line\": {\"color\": \"white\", \"width\": 0.6}}, \"type\": \"histogram\"}], \"histogram2d\": [{\"colorbar\": {\"outlinewidth\": 1, \"tickcolor\": \"rgb(36,36,36)\", \"ticks\": \"outside\"}, \"colorscale\": [[0.0, \"#440154\"], [0.1111111111111111, \"#482878\"], [0.2222222222222222, \"#3e4989\"], [0.3333333333333333, \"#31688e\"], [0.4444444444444444, \"#26828e\"], [0.5555555555555556, \"#1f9e89\"], [0.6666666666666666, \"#35b779\"], [0.7777777777777778, \"#6ece58\"], [0.8888888888888888, \"#b5de2b\"], [1.0, \"#fde725\"]], \"type\": \"histogram2d\"}], \"histogram2dcontour\": [{\"colorbar\": {\"outlinewidth\": 1, \"tickcolor\": \"rgb(36,36,36)\", \"ticks\": \"outside\"}, \"colorscale\": [[0.0, \"#440154\"], [0.1111111111111111, \"#482878\"], [0.2222222222222222, \"#3e4989\"], [0.3333333333333333, \"#31688e\"], [0.4444444444444444, \"#26828e\"], [0.5555555555555556, \"#1f9e89\"], [0.6666666666666666, \"#35b779\"], [0.7777777777777778, \"#6ece58\"], [0.8888888888888888, \"#b5de2b\"], [1.0, \"#fde725\"]], \"type\": \"histogram2dcontour\"}], \"mesh3d\": [{\"colorbar\": {\"outlinewidth\": 1, \"tickcolor\": \"rgb(36,36,36)\", \"ticks\": \"outside\"}, \"type\": \"mesh3d\"}], \"parcoords\": [{\"line\": {\"colorbar\": {\"outlinewidth\": 1, \"tickcolor\": \"rgb(36,36,36)\", \"ticks\": \"outside\"}}, \"type\": \"parcoords\"}], \"pie\": [{\"automargin\": true, \"type\": \"pie\"}], \"scatter\": [{\"marker\": {\"colorbar\": {\"outlinewidth\": 1, \"tickcolor\": \"rgb(36,36,36)\", \"ticks\": \"outside\"}}, \"type\": \"scatter\"}], \"scatter3d\": [{\"line\": {\"colorbar\": {\"outlinewidth\": 1, \"tickcolor\": \"rgb(36,36,36)\", \"ticks\": \"outside\"}}, \"marker\": {\"colorbar\": {\"outlinewidth\": 1, \"tickcolor\": \"rgb(36,36,36)\", \"ticks\": \"outside\"}}, \"type\": \"scatter3d\"}], \"scattercarpet\": [{\"marker\": {\"colorbar\": {\"outlinewidth\": 1, \"tickcolor\": \"rgb(36,36,36)\", \"ticks\": \"outside\"}}, \"type\": \"scattercarpet\"}], \"scattergeo\": [{\"marker\": {\"colorbar\": {\"outlinewidth\": 1, \"tickcolor\": \"rgb(36,36,36)\", \"ticks\": \"outside\"}}, \"type\": \"scattergeo\"}], \"scattergl\": [{\"marker\": {\"colorbar\": {\"outlinewidth\": 1, \"tickcolor\": \"rgb(36,36,36)\", \"ticks\": \"outside\"}}, \"type\": \"scattergl\"}], \"scattermapbox\": [{\"marker\": {\"colorbar\": {\"outlinewidth\": 1, \"tickcolor\": \"rgb(36,36,36)\", \"ticks\": \"outside\"}}, \"type\": \"scattermapbox\"}], \"scatterpolar\": [{\"marker\": {\"colorbar\": {\"outlinewidth\": 1, \"tickcolor\": \"rgb(36,36,36)\", \"ticks\": \"outside\"}}, \"type\": \"scatterpolar\"}], \"scatterpolargl\": [{\"marker\": {\"colorbar\": {\"outlinewidth\": 1, \"tickcolor\": \"rgb(36,36,36)\", \"ticks\": \"outside\"}}, \"type\": \"scatterpolargl\"}], \"scatterternary\": [{\"marker\": {\"colorbar\": {\"outlinewidth\": 1, \"tickcolor\": \"rgb(36,36,36)\", \"ticks\": \"outside\"}}, \"type\": \"scatterternary\"}], \"surface\": [{\"colorbar\": {\"outlinewidth\": 1, \"tickcolor\": \"rgb(36,36,36)\", \"ticks\": \"outside\"}, \"colorscale\": [[0.0, \"#440154\"], [0.1111111111111111, \"#482878\"], [0.2222222222222222, \"#3e4989\"], [0.3333333333333333, \"#31688e\"], [0.4444444444444444, \"#26828e\"], [0.5555555555555556, \"#1f9e89\"], [0.6666666666666666, \"#35b779\"], [0.7777777777777778, \"#6ece58\"], [0.8888888888888888, \"#b5de2b\"], [1.0, \"#fde725\"]], \"type\": \"surface\"}], \"table\": [{\"cells\": {\"fill\": {\"color\": \"rgb(237,237,237)\"}, \"line\": {\"color\": \"white\"}}, \"header\": {\"fill\": {\"color\": \"rgb(217,217,217)\"}, \"line\": {\"color\": \"white\"}}, \"type\": \"table\"}]}, \"layout\": {\"annotationdefaults\": {\"arrowhead\": 0, \"arrowwidth\": 1}, \"coloraxis\": {\"colorbar\": {\"outlinewidth\": 1, \"tickcolor\": \"rgb(36,36,36)\", \"ticks\": \"outside\"}}, \"colorscale\": {\"diverging\": [[0.0, \"rgb(103,0,31)\"], [0.1, \"rgb(178,24,43)\"], [0.2, \"rgb(214,96,77)\"], [0.3, \"rgb(244,165,130)\"], [0.4, \"rgb(253,219,199)\"], [0.5, \"rgb(247,247,247)\"], [0.6, \"rgb(209,229,240)\"], [0.7, \"rgb(146,197,222)\"], [0.8, \"rgb(67,147,195)\"], [0.9, \"rgb(33,102,172)\"], [1.0, \"rgb(5,48,97)\"]], \"sequential\": [[0.0, \"#440154\"], [0.1111111111111111, \"#482878\"], [0.2222222222222222, \"#3e4989\"], [0.3333333333333333, \"#31688e\"], [0.4444444444444444, \"#26828e\"], [0.5555555555555556, \"#1f9e89\"], [0.6666666666666666, \"#35b779\"], [0.7777777777777778, \"#6ece58\"], [0.8888888888888888, \"#b5de2b\"], [1.0, \"#fde725\"]], \"sequentialminus\": [[0.0, \"#440154\"], [0.1111111111111111, \"#482878\"], [0.2222222222222222, \"#3e4989\"], [0.3333333333333333, \"#31688e\"], [0.4444444444444444, \"#26828e\"], [0.5555555555555556, \"#1f9e89\"], [0.6666666666666666, \"#35b779\"], [0.7777777777777778, \"#6ece58\"], [0.8888888888888888, \"#b5de2b\"], [1.0, \"#fde725\"]]}, \"colorway\": [\"#1F77B4\", \"#FF7F0E\", \"#2CA02C\", \"#D62728\", \"#9467BD\", \"#8C564B\", \"#E377C2\", \"#7F7F7F\", \"#BCBD22\", \"#17BECF\"], \"font\": {\"color\": \"rgb(36,36,36)\"}, \"geo\": {\"bgcolor\": \"white\", \"lakecolor\": \"white\", \"landcolor\": \"white\", \"showlakes\": true, \"showland\": true, \"subunitcolor\": \"white\"}, \"hoverlabel\": {\"align\": \"left\"}, \"hovermode\": \"closest\", \"mapbox\": {\"style\": \"light\"}, \"paper_bgcolor\": \"white\", \"plot_bgcolor\": \"white\", \"polar\": {\"angularaxis\": {\"gridcolor\": \"rgb(232,232,232)\", \"linecolor\": \"rgb(36,36,36)\", \"showgrid\": false, \"showline\": true, \"ticks\": \"outside\"}, \"bgcolor\": \"white\", \"radialaxis\": {\"gridcolor\": \"rgb(232,232,232)\", \"linecolor\": \"rgb(36,36,36)\", \"showgrid\": false, \"showline\": true, \"ticks\": \"outside\"}}, \"scene\": {\"xaxis\": {\"backgroundcolor\": \"white\", \"gridcolor\": \"rgb(232,232,232)\", \"gridwidth\": 2, \"linecolor\": \"rgb(36,36,36)\", \"showbackground\": true, \"showgrid\": false, \"showline\": true, \"ticks\": \"outside\", \"zeroline\": false, \"zerolinecolor\": \"rgb(36,36,36)\"}, \"yaxis\": {\"backgroundcolor\": \"white\", \"gridcolor\": \"rgb(232,232,232)\", \"gridwidth\": 2, \"linecolor\": \"rgb(36,36,36)\", \"showbackground\": true, \"showgrid\": false, \"showline\": true, \"ticks\": \"outside\", \"zeroline\": false, \"zerolinecolor\": \"rgb(36,36,36)\"}, \"zaxis\": {\"backgroundcolor\": \"white\", \"gridcolor\": \"rgb(232,232,232)\", \"gridwidth\": 2, \"linecolor\": \"rgb(36,36,36)\", \"showbackground\": true, \"showgrid\": false, \"showline\": true, \"ticks\": \"outside\", \"zeroline\": false, \"zerolinecolor\": \"rgb(36,36,36)\"}}, \"shapedefaults\": {\"fillcolor\": \"black\", \"line\": {\"width\": 0}, \"opacity\": 0.3}, \"ternary\": {\"aaxis\": {\"gridcolor\": \"rgb(232,232,232)\", \"linecolor\": \"rgb(36,36,36)\", \"showgrid\": false, \"showline\": true, \"ticks\": \"outside\"}, \"baxis\": {\"gridcolor\": \"rgb(232,232,232)\", \"linecolor\": \"rgb(36,36,36)\", \"showgrid\": false, \"showline\": true, \"ticks\": \"outside\"}, \"bgcolor\": \"white\", \"caxis\": {\"gridcolor\": \"rgb(232,232,232)\", \"linecolor\": \"rgb(36,36,36)\", \"showgrid\": false, \"showline\": true, \"ticks\": \"outside\"}}, \"title\": {\"x\": 0.05}, \"xaxis\": {\"automargin\": true, \"gridcolor\": \"rgb(232,232,232)\", \"linecolor\": \"rgb(36,36,36)\", \"showgrid\": false, \"showline\": true, \"ticks\": \"outside\", \"title\": {\"standoff\": 15}, \"zeroline\": false, \"zerolinecolor\": \"rgb(36,36,36)\"}, \"yaxis\": {\"automargin\": true, \"gridcolor\": \"rgb(232,232,232)\", \"linecolor\": \"rgb(36,36,36)\", \"showgrid\": false, \"showline\": true, \"ticks\": \"outside\", \"title\": {\"standoff\": 15}, \"zeroline\": false, \"zerolinecolor\": \"rgb(36,36,36)\"}}}, \"title\": {\"text\": \"Song Lyric Embeddings\", \"x\": 0.19, \"xanchor\": \"center\", \"y\": 0.95, \"yanchor\": \"top\"}, \"xaxis\": {\"anchor\": \"y\", \"domain\": [0.0, 1.0], \"title\": {\"text\": \"t-SNE dimension 0\"}}, \"yaxis\": {\"anchor\": \"x\", \"domain\": [0.0, 1.0], \"title\": {\"text\": \"t-SNE dimension 2\"}}},\n",
       "                        {\"responsive\": true}\n",
       "                    ).then(function(){\n",
       "                            \n",
       "var gd = document.getElementById('861d0065-c5f1-492d-9d3e-ad5d7e3d3ce3');\n",
       "var x = new MutationObserver(function (mutations, observer) {{\n",
       "        var display = window.getComputedStyle(gd).display;\n",
       "        if (!display || display === 'none') {{\n",
       "            console.log([gd, 'removed!']);\n",
       "            Plotly.purge(gd);\n",
       "            observer.disconnect();\n",
       "        }}\n",
       "}});\n",
       "\n",
       "// Listen for the removal of the full notebook cells\n",
       "var notebookContainer = gd.closest('#notebook-container');\n",
       "if (notebookContainer) {{\n",
       "    x.observe(notebookContainer, {childList: true});\n",
       "}}\n",
       "\n",
       "// Listen for the clearing of the current output cell\n",
       "var outputEl = gd.closest('.output');\n",
       "if (outputEl) {{\n",
       "    x.observe(outputEl, {childList: true});\n",
       "}}\n",
       "\n",
       "                        })\n",
       "                };\n",
       "                });\n",
       "            </script>\n",
       "        </div>"
      ]
     },
     "metadata": {},
     "output_type": "display_data"
    },
    {
     "data": {
      "application/vnd.plotly.v1+json": {
       "config": {
        "plotlyServerURL": "https://plot.ly"
       },
       "data": [
        {
         "customdata": [
          [
           "Snoop Dogg",
           "The One And Only (Edited)"
          ],
          [
           "Snoop Dogg",
           "Sexual Eruption"
          ],
          [
           "Snoop Dogg",
           "Show Me Love (Explicit)"
          ],
          [
           "Snoop Dogg",
           "Beat Up On Yo Pads"
          ],
          [
           "Snoop Dogg",
           "Gin And Juice II (Explicit)"
          ],
          [
           "Snoop Dogg",
           "2 Of Amereicaz Most Wanted"
          ],
          [
           "Snoop Dogg",
           "Snoop D.O. Double G"
          ],
          [
           "Snoop Dogg",
           "Look Out"
          ],
          [
           "Snoop Dogg",
           "Bang Out"
          ],
          [
           "Snoop Dogg",
           "Betta Days (Explicit)"
          ],
          [
           "Snoop Dogg",
           "Pimp Slapp'd (Edited)"
          ],
          [
           "Snoop Dogg",
           "Dolomite Intro (Explicit)"
          ],
          [
           "Snoop Dogg",
           "A Message 2 Fat Cuzz (Edited)"
          ],
          [
           "Snoop Dogg",
           "Why Did You Leave Me"
          ],
          [
           "Snoop Dogg",
           "Snoopafella (Edited)"
          ],
          [
           "Snoop Dogg",
           "10 Lil' Crips"
          ],
          [
           "Snoop Dogg",
           "Straight Ballin'"
          ],
          [
           "Snoop Dogg",
           "Hustle And Ball (Explicit)"
          ],
          [
           "Snoop Dogg",
           "Dogghouse"
          ],
          [
           "Snoop Dogg",
           "Fresh Pair of Panties On"
          ],
          [
           "Snoop Dogg",
           "Those Gurlz"
          ],
          [
           "Snoop Dogg",
           "Upside Down (Explicit)"
          ],
          [
           "Snoop Dogg",
           "Sets Up"
          ],
          [
           "Snoop Dogg",
           "Snoop Dogg Intro"
          ]
         ],
         "hovertemplate": "artist=%{customdata[0]}<br>t-SNE dimension 1=%{x}<br>t-SNE dimension 2=%{y}<br>title=%{customdata[1]}<extra></extra>",
         "legendgroup": "Snoop Dogg",
         "marker": {
          "color": "#1F77B4",
          "opacity": 0.8,
          "size": 15,
          "symbol": "circle"
         },
         "mode": "markers",
         "name": "Snoop Dogg",
         "showlegend": true,
         "type": "scatter",
         "x": [
          12.02261734008789,
          12.611482620239258,
          11.389323234558105,
          12.465433120727539,
          13.809954643249512,
          13.365623474121094,
          11.724719047546387,
          14.0655517578125,
          13.614028930664062,
          12.236190795898438,
          13.181790351867676,
          8.54517936706543,
          2.001079797744751,
          14.051029205322266,
          9.455069541931152,
          11.23013687133789,
          13.12591552734375,
          11.532280921936035,
          11.27861213684082,
          11.629487991333008,
          11.588382720947266,
          12.810932159423828,
          13.565901756286621,
          8.898372650146484
         ],
         "xaxis": "x",
         "y": [
          -4.888263702392578,
          -5.270711421966553,
          -4.925568580627441,
          -5.800121307373047,
          -3.3271265029907227,
          2.6905922889709473,
          -0.928300142288208,
          3.3482704162597656,
          3.370138645172119,
          2.3101918697357178,
          3.28458833694458,
          -4.102611064910889,
          -7.499300479888916,
          -2.308967351913452,
          0.3514349162578583,
          -2.870929479598999,
          -3.323723316192627,
          -3.182996988296509,
          -4.188971996307373,
          -1.6433727741241455,
          -6.399422645568848,
          -4.364020347595215,
          -5.472446441650391,
          -4.7158355712890625
         ],
         "yaxis": "y"
        },
        {
         "customdata": [
          [
           "Blink-182",
           "Not Now"
          ],
          [
           "Blink-182",
           "A New Hope"
          ],
          [
           "Blink-182",
           "Man Overboard"
          ],
          [
           "Blink-182",
           "Asthenia"
          ],
          [
           "Blink-182",
           "All Of This"
          ],
          [
           "Blink-182",
           "Carousel"
          ],
          [
           "Blink-182",
           "Shut Up"
          ],
          [
           "Blink-182",
           "Stay Together For The Kids"
          ],
          [
           "Blink-182",
           "Every Time I Look For You"
          ],
          [
           "Blink-182",
           "Does My Breath Smell?"
          ],
          [
           "Blink-182",
           "Roller Coaster"
          ],
          [
           "Blink-182",
           "21 Days"
          ],
          [
           "Blink-182",
           "GO"
          ],
          [
           "Blink-182",
           "Dumpweed"
          ],
          [
           "Blink-182",
           "Toast and Bananas"
          ],
          [
           "Blink-182",
           "Always"
          ],
          [
           "Blink-182",
           "Reebok Commercial"
          ],
          [
           "Blink-182",
           "I Won't Be Home For Christmas"
          ],
          [
           "Blink-182",
           "Rich Lips"
          ],
          [
           "Blink-182",
           "First Date"
          ],
          [
           "Blink-182",
           "Depends"
          ],
          [
           "Blink-182",
           "Anthem Part Two"
          ],
          [
           "Blink-182",
           "Dysentery Gary"
          ],
          [
           "Blink-182",
           "Wendy Clear"
          ],
          [
           "Blink-182",
           "Reckless Abandon"
          ],
          [
           "Blink-182",
           "Mutt"
          ],
          [
           "Blink-182",
           "Touchdown Boy"
          ],
          [
           "Blink-182",
           "Adam's Song"
          ],
          [
           "Blink-182",
           "The Rock Show"
          ],
          [
           "Blink-182",
           "Give Me One Good Reason"
          ],
          [
           "Blink-182",
           "Skit 13 (Blink 182 / 008811237929)"
          ],
          [
           "Blink-182",
           "My Pet Sally"
          ],
          [
           "Blink-182",
           "I'm Sorry"
          ],
          [
           "Blink-182",
           "Story Of A Lonely Guy"
          ],
          [
           "Blink-182",
           "Aliens Exist"
          ],
          [
           "Blink-182",
           "Another Girl Another Planet"
          ],
          [
           "Blink-182",
           "M+M's"
          ],
          [
           "Blink-182",
           "Ben Wah Balls"
          ],
          [
           "Blink-182",
           "Happy Holidays_ You Bastard"
          ],
          [
           "Blink-182",
           "Degenerate"
          ],
          [
           "Blink-182",
           "The Girl Next Door"
          ],
          [
           "Blink-182",
           "Strings"
          ],
          [
           "Blink-182",
           "Pathetic"
          ],
          [
           "Blink-182",
           "Point of View"
          ],
          [
           "Blink-182",
           "Please Take Me Home"
          ],
          [
           "Blink-182",
           "What's My Age Again?"
          ],
          [
           "Blink-182",
           "All The Small Things"
          ],
          [
           "Blink-182",
           "Untitled"
          ],
          [
           "Blink-182",
           "Violence"
          ],
          [
           "Blink-182",
           "Boring"
          ],
          [
           "Blink-182",
           "Time"
          ],
          [
           "Blink-182",
           "Romeo and Rebecca"
          ],
          [
           "Blink-182",
           "Skit 4 (Blink 182 / 008811237929)"
          ],
          [
           "Blink-182",
           "Toast & Bananas"
          ],
          [
           "Blink-182",
           "Don't Leave Me"
          ],
          [
           "Blink-182",
           "Blew Job"
          ],
          [
           "Blink-182",
           "Feeling This"
          ],
          [
           "Blink-182",
           "TV"
          ],
          [
           "Blink-182",
           "Emo"
          ],
          [
           "Blink-182",
           "Apple Shampoo"
          ],
          [
           "Blink-182",
           "Romeo & Rebecca"
          ],
          [
           "Blink-182",
           "The Party Song"
          ],
          [
           "Blink-182",
           "Peggy Sue"
          ],
          [
           "Blink-182",
           "The Fallen Interlude"
          ],
          [
           "Blink-182",
           "Enthused"
          ],
          [
           "Blink-182",
           "Online Songs"
          ],
          [
           "Blink-182",
           "Voyeur"
          ],
          [
           "Blink-182",
           "I Miss You"
          ],
          [
           "Blink-182",
           "Going Away To College"
          ],
          [
           "Blink-182",
           "Fentoozler"
          ],
          [
           "Blink-182",
           "I'm Lost Without You"
          ],
          [
           "Blink-182",
           "Lemmings"
          ],
          [
           "Blink-182",
           "Skit 12 (Blink 182 / 008811237929)"
          ],
          [
           "Blink-182",
           "Stockholm Syndrome"
          ]
         ],
         "hovertemplate": "artist=%{customdata[0]}<br>t-SNE dimension 1=%{x}<br>t-SNE dimension 2=%{y}<br>title=%{customdata[1]}<extra></extra>",
         "legendgroup": "Blink-182",
         "marker": {
          "color": "#FF7F0E",
          "opacity": 0.8,
          "size": 15,
          "symbol": "circle"
         },
         "mode": "markers",
         "name": "Blink-182",
         "showlegend": true,
         "type": "scatter",
         "x": [
          -11.78492259979248,
          -1.2417293787002563,
          -3.546501874923706,
          -4.4080095291137695,
          1.7194944620132446,
          7.73802375793457,
          5.7558817863464355,
          -5.27542781829834,
          -6.36754846572876,
          0.41183188557624817,
          -1.8885869979858398,
          -5.944765567779541,
          2.4626734256744385,
          -0.10858072340488434,
          -1.2794642448425293,
          2.0661721229553223,
          2.572256326675415,
          6.796043872833252,
          4.629025936126709,
          2.2654924392700195,
          8.909446716308594,
          -1.9268556833267212,
          7.818443775177002,
          3.3902013301849365,
          4.479219436645508,
          0.16418896615505219,
          8.9191255569458,
          0.4313511252403259,
          5.710592269897461,
          2.8627607822418213,
          6.708183765411377,
          6.396519660949707,
          -6.285228252410889,
          -3.930428981781006,
          3.3136441707611084,
          -0.13669778406620026,
          -0.32003358006477356,
          6.1210856437683105,
          5.237949848175049,
          11.335197448730469,
          5.9665727615356445,
          1.5974323749542236,
          3.0503597259521484,
          -7.172080993652344,
          -3.94511079788208,
          2.705474853515625,
          6.495556354522705,
          2.820160150527954,
          -1.3375577926635742,
          -4.888912677764893,
          4.554693698883057,
          -1.3833905458450317,
          4.637691020965576,
          -1.3017733097076416,
          -0.01881919428706169,
          8.315130233764648,
          -3.979839563369751,
          3.4685795307159424,
          -1.5663241147994995,
          -3.4748144149780273,
          -1.328218698501587,
          3.520172357559204,
          0.7496342658996582,
          4.488559246063232,
          -0.42356666922569275,
          -9.37824535369873,
          8.302923202514648,
          -3.271491050720215,
          5.324845790863037,
          4.799044609069824,
          -8.23343276977539,
          -0.3833903670310974,
          6.268874168395996,
          -9.295848846435547
         ],
         "xaxis": "x",
         "y": [
          -2.789674758911133,
          6.2864556312561035,
          -1.5793137550354004,
          -4.195541858673096,
          -4.216484069824219,
          -3.1708922386169434,
          -3.7867424488067627,
          -0.22527004778385162,
          2.534503936767578,
          -7.0169219970703125,
          7.241648197174072,
          -7.714694499969482,
          -4.901425838470459,
          -4.76538610458374,
          1.3397331237792969,
          -5.866238117218018,
          5.6336750984191895,
          6.79520845413208,
          -8.91672134399414,
          -5.622602939605713,
          1.9888620376586914,
          -1.4544960260391235,
          -8.542462348937988,
          -4.054641246795654,
          -4.728710651397705,
          -1.8629487752914429,
          4.460070610046387,
          7.477996349334717,
          -0.6880394220352173,
          -3.9944701194763184,
          3.971557140350342,
          2.9121763706207275,
          -0.487824946641922,
          2.972714424133301,
          -4.038497447967529,
          -3.7491888999938965,
          5.51812744140625,
          -3.372488260269165,
          -3.6866793632507324,
          -1.113336205482483,
          4.787675857543945,
          -0.40496182441711426,
          -3.416682481765747,
          15.172258377075195,
          -3.801314115524292,
          -5.565762519836426,
          1.0233685970306396,
          0.8445154428482056,
          0.4723304212093353,
          -6.981070041656494,
          2.1849427223205566,
          2.7563540935516357,
          -8.911032676696777,
          1.3299132585525513,
          -1.0919040441513062,
          -4.46617317199707,
          5.653302192687988,
          -1.1064832210540771,
          -5.204317569732666,
          -3.1717216968536377,
          2.763437032699585,
          2.3257322311401367,
          -1.3035725355148315,
          2.520500421524048,
          -4.4706902503967285,
          -1.4980459213256836,
          0.01679796725511551,
          -0.46554964780807495,
          -2.7341251373291016,
          -4.979868412017822,
          -5.460628986358643,
          -2.3776204586029053,
          0.6613256335258484,
          -0.839393138885498
         ],
         "yaxis": "y"
        },
        {
         "customdata": [
          [
           "Red Hot Chili Peppers",
           "Get On Top (Album Version)"
          ],
          [
           "Red Hot Chili Peppers",
           "Naked In The Rain (Album Version)"
          ],
          [
           "Red Hot Chili Peppers",
           "Venice Queen (Album Version)"
          ],
          [
           "Red Hot Chili Peppers",
           "Snow [Hey Oh] [Live Version]"
          ],
          [
           "Red Hot Chili Peppers",
           "American Ghost Dance (2003 Digital Remastered)"
          ],
          [
           "Red Hot Chili Peppers",
           "Emit Remmus (Album Version)"
          ],
          [
           "Red Hot Chili Peppers",
           "The Greeting Song (Album Version)"
          ],
          [
           "Red Hot Chili Peppers",
           "Hard To Concentrate (Album Version)"
          ],
          [
           "Red Hot Chili Peppers",
           "I'll Be Your Domino (Non-Album Track)"
          ],
          [
           "Red Hot Chili Peppers",
           "Buckle Down (2002 Digital Remaster)"
          ],
          [
           "Red Hot Chili Peppers",
           "I Could Die For You (Album Version)"
          ],
          [
           "Red Hot Chili Peppers",
           "Love Trilogy (2003 Digital Remaster) ()"
          ],
          [
           "Red Hot Chili Peppers",
           "Knock Me Down (2003 Digital Remaster)"
          ],
          [
           "Red Hot Chili Peppers",
           "She's Only 18 (Album Version)"
          ],
          [
           "Red Hot Chili Peppers",
           "Behind The Sun (Instrumental Demo) (2002 Digital Remaster)"
          ],
          [
           "Red Hot Chili Peppers",
           "Wet Sand (Album Version)"
          ],
          [
           "Red Hot Chili Peppers",
           "Road Trippin' (Album Version)"
          ],
          [
           "Red Hot Chili Peppers",
           "Mercy Mercy (Non-Album Track)"
          ],
          [
           "Red Hot Chili Peppers",
           "Baby Appeal (2002 Digital Remastser) ()"
          ],
          [
           "Red Hot Chili Peppers",
           "Lovin' And Touchin' (2003 Digitally Remastered)"
          ],
          [
           "Red Hot Chili Peppers",
           "The Zephyr Song (Album Version)"
          ],
          [
           "Red Hot Chili Peppers",
           "Universally Speaking (Album Version)"
          ],
          [
           "Red Hot Chili Peppers",
           "Good Time Boys (2003 Digital Remaster)"
          ],
          [
           "Red Hot Chili Peppers",
           "Minor Thing (Album Version)"
          ],
          [
           "Red Hot Chili Peppers",
           "Hollywood (Africa) (2003 Digitally Remastered)"
          ],
          [
           "Red Hot Chili Peppers",
           "You Always Sing The Same (2002 Digital Remaster)"
          ],
          [
           "Red Hot Chili Peppers",
           "Turn It Again (Album Version)"
          ],
          [
           "Red Hot Chili Peppers",
           "Funky Monks (Album Version)"
          ],
          [
           "Red Hot Chili Peppers",
           "Lately (Non-Album Track)"
          ],
          [
           "Red Hot Chili Peppers",
           "Apache Rose Peacock (Album Version)"
          ],
          [
           "Red Hot Chili Peppers",
           "She Looks To Me (Album Version)"
          ],
          [
           "Red Hot Chili Peppers",
           "Hollywood (Africa)"
          ],
          [
           "Red Hot Chili Peppers",
           "Higher Ground (Album Version)"
          ],
          [
           "Red Hot Chili Peppers",
           "Warm Tape (Album Version)"
          ],
          [
           "Red Hot Chili Peppers",
           "Blues For Meister"
          ],
          [
           "Red Hot Chili Peppers",
           "Castles Made Of Sand (Studio) (Bonus Track)"
          ],
          [
           "Red Hot Chili Peppers",
           "Stadium Arcadium (Album Version)"
          ],
          [
           "Red Hot Chili Peppers",
           "Around The World (Album Version)"
          ],
          [
           "Red Hot Chili Peppers",
           "Millionaires Against Hunger (2002 Digital Remastser) (Explicit)"
          ],
          [
           "Red Hot Chili Peppers",
           "Throw Away Your Television (Album Version)"
          ],
          [
           "Red Hot Chili Peppers",
           "Especially In Michigan (Album Version)"
          ],
          [
           "Red Hot Chili Peppers",
           "Police Helicopter (Demo Version) (2003 Digital Remaster)"
          ],
          [
           "Red Hot Chili Peppers",
           "Mellowship Slinky In B Major (Album Version)"
          ],
          [
           "Red Hot Chili Peppers",
           "Yertle The Turtle (2003 Digitally Remastered)"
          ],
          [
           "Red Hot Chili Peppers",
           "Nobody Weird Like Me (2003 Digital Remaster)"
          ],
          [
           "Red Hot Chili Peppers",
           "On Mercury (Album Version)"
          ],
          [
           "Red Hot Chili Peppers",
           "Magic Johnson (2003 Digital Remaster)"
          ],
          [
           "Red Hot Chili Peppers",
           "Parallel Universe (Album Version)"
          ],
          [
           "Red Hot Chili Peppers",
           "C'mon Girl (Album Version)"
          ],
          [
           "Red Hot Chili Peppers",
           "If You Want Me To Stay (Pink Mustang Mix)"
          ],
          [
           "Red Hot Chili Peppers",
           "Thirty Dirty Birds (2003 Digitally Remastered)"
          ],
          [
           "Red Hot Chili Peppers",
           "Let's Make Evil (Bonus Track)"
          ],
          [
           "Red Hot Chili Peppers",
           "What It Is (AKA Nina's Song) (Demo) (Digitally Remastered 02) ()"
          ],
          [
           "Red Hot Chili Peppers",
           "Green Heaven (Demo Version) (Digitally Remastered 02) ()"
          ],
          [
           "Red Hot Chili Peppers",
           "Hollywood (Africa) (Extended Dance Mix)"
          ],
          [
           "Red Hot Chili Peppers",
           "Shallow Be Thy Game (Album Version)"
          ],
          [
           "Red Hot Chili Peppers",
           "Tell Me Baby (Album Version)"
          ],
          [
           "Red Hot Chili Peppers",
           "My Lovely Man (Album Version)"
          ],
          [
           "Red Hot Chili Peppers",
           "Blood Sugar Sex Magik (Album Version)"
          ],
          [
           "Red Hot Chili Peppers",
           "Save This Lady (Non-Album Track)"
          ],
          [
           "Red Hot Chili Peppers",
           "I Like Dirt (Album Version)"
          ],
          [
           "Red Hot Chili Peppers",
           "Storm In A Teacup (Album Version)"
          ],
          [
           "Red Hot Chili Peppers",
           "Breaking The Girl (Album Version)"
          ],
          [
           "Red Hot Chili Peppers",
           "You Always Sing The Same (Demo)"
          ],
          [
           "Red Hot Chili Peppers",
           "Deep Kick (Album Version)"
          ],
          [
           "Red Hot Chili Peppers",
           "Blackeyed Blonde (2003 Digitally Remastered)"
          ],
          [
           "Red Hot Chili Peppers",
           "Falling Into Grace (Album Version)"
          ],
          [
           "Red Hot Chili Peppers",
           "Soul To Squeeze (Album Version)"
          ],
          [
           "Red Hot Chili Peppers",
           "Right On Time (Album Version)"
          ],
          [
           "Red Hot Chili Peppers",
           "Stranded (Demo)"
          ],
          [
           "Red Hot Chili Peppers",
           "Me And My Friends (2003 Digital Remaster)"
          ],
          [
           "Red Hot Chili Peppers",
           "Subterranean Homesick Blues (2003 Digital Remaster)"
          ],
          [
           "Red Hot Chili Peppers",
           "Skinny Sweaty Man (2003 Digital Remaster)"
          ],
          [
           "Red Hot Chili Peppers",
           "Behind The Sun"
          ],
          [
           "Red Hot Chili Peppers",
           "Hump de Bump (Album Version)"
          ],
          [
           "Red Hot Chili Peppers",
           "Under The Bridge (Album Version)"
          ],
          [
           "Red Hot Chili Peppers",
           "Give It Away (Album Version)"
          ],
          [
           "Red Hot Chili Peppers",
           "Salute To Kareem (Demo)"
          ],
          [
           "Red Hot Chili Peppers",
           "Get Up and Jump (Demo Version) (Digitally Remastered 02) ()"
          ],
          [
           "Red Hot Chili Peppers",
           "Desecration Smile (Album Version)"
          ],
          [
           "Red Hot Chili Peppers",
           "Organic Anti-Beat Box Band (2003 Digital Remaster)"
          ],
          [
           "Red Hot Chili Peppers",
           "The Righteous And The Wicked (Album Version)"
          ],
          [
           "Red Hot Chili Peppers",
           "Freaky Styley (2003 Digitally Remastered)"
          ],
          [
           "Red Hot Chili Peppers",
           "Strip My Mind (Album Version)"
          ],
          [
           "Red Hot Chili Peppers",
           "Why Don't You Love Me (2002 Digital Remaster)"
          ],
          [
           "Red Hot Chili Peppers",
           "Jungle Man"
          ],
          [
           "Red Hot Chili Peppers",
           "Over Funk (Bonus Track)"
          ],
          [
           "Red Hot Chili Peppers",
           "Taste The Pain"
          ],
          [
           "Red Hot Chili Peppers",
           "Death Of A Martian (Album Version)"
          ],
          [
           "Red Hot Chili Peppers",
           "Fire (2003 Digital Remaster)"
          ],
          [
           "Red Hot Chili Peppers",
           "True Men Don't Kill Coyotes (24-Bit Digitally Remastered 02)"
          ],
          [
           "Red Hot Chili Peppers",
           "Knock Me Down (Original Long Version)"
          ],
          [
           "Red Hot Chili Peppers",
           "I Could Have Lied (Album Version)"
          ],
          [
           "Red Hot Chili Peppers",
           "Californication (Album Version)"
          ],
          [
           "Red Hot Chili Peppers",
           "Out In L.A. (2002 Digital Remastser) ()"
          ],
          [
           "Red Hot Chili Peppers",
           "Slow Cheetah (Album Version)"
          ]
         ],
         "hovertemplate": "artist=%{customdata[0]}<br>t-SNE dimension 1=%{x}<br>t-SNE dimension 2=%{y}<br>title=%{customdata[1]}<extra></extra>",
         "legendgroup": "Red Hot Chili Peppers",
         "marker": {
          "color": "#2CA02C",
          "opacity": 0.8,
          "size": 15,
          "symbol": "circle"
         },
         "mode": "markers",
         "name": "Red Hot Chili Peppers",
         "showlegend": true,
         "type": "scatter",
         "x": [
          14.061867713928223,
          4.659088134765625,
          8.352967262268066,
          -7.984272480010986,
          1.4558069705963135,
          8.912236213684082,
          13.189105987548828,
          0.9674646258354187,
          2.0653512477874756,
          9.685155868530273,
          -10.253776550292969,
          2.834866762161255,
          1.7768241167068481,
          7.689018249511719,
          -4.615082263946533,
          5.550363063812256,
          0.7594795823097229,
          -4.310291290283203,
          12.223422050476074,
          6.364253520965576,
          -0.752365231513977,
          -5.4384918212890625,
          12.26838493347168,
          9.659327507019043,
          12.954582214355469,
          5.785226821899414,
          12.914953231811523,
          5.41356897354126,
          -1.063736915588379,
          10.27839183807373,
          1.0571213960647583,
          12.970852851867676,
          -1.4838571548461914,
          3.595522880554199,
          9.156765937805176,
          1.3712300062179565,
          -3.1082189083099365,
          14.689563751220703,
          1.5752143859863281,
          -1.4366521835327148,
          3.3093202114105225,
          9.767828941345215,
          10.415108680725098,
          4.061183929443359,
          11.176214218139648,
          18.463836669921875,
          10.32468318939209,
          4.623378276824951,
          4.0417561531066895,
          0.8994793891906738,
          8.662042617797852,
          -2.189042091369629,
          4.502214431762695,
          6.526679992675781,
          11.197332382202148,
          -0.8221040964126587,
          3.2297897338867188,
          1.2659070491790771,
          -1.880133032798767,
          8.34197998046875,
          3.8252267837524414,
          4.740922451019287,
          -6.887091159820557,
          5.724881172180176,
          5.570163726806641,
          7.341282844543457,
          5.483868598937988,
          0.5138327479362488,
          -3.815709352493286,
          -1.6657603979110718,
          12.771931648254395,
          7.544348239898682,
          7.449912071228027,
          -4.618947982788086,
          11.433611869812012,
          7.072324752807617,
          -3.0281331539154053,
          4.773242473602295,
          10.945828437805176,
          -1.1306294202804565,
          11.692533493041992,
          -1.2477748394012451,
          3.271885633468628,
          9.183663368225098,
          10.391741752624512,
          7.836656093597412,
          5.506453037261963,
          -8.12472152709961,
          -1.7066624164581299,
          11.117745399475098,
          1.4412968158721924,
          1.828441858291626,
          -3.1094417572021484,
          2.1239352226257324,
          12.896331787109375,
          -3.857264757156372
         ],
         "xaxis": "x",
         "y": [
          -5.131838321685791,
          9.66370964050293,
          -5.980813026428223,
          4.646581649780273,
          10.488996505737305,
          16.946916580200195,
          -0.1381044238805771,
          -1.392970085144043,
          1.935937762260437,
          -3.9363739490509033,
          -4.957669734954834,
          -2.1130130290985107,
          -1.5240195989608765,
          3.581284999847412,
          14.508176803588867,
          5.9260430335998535,
          10.756651878356934,
          -2.03887939453125,
          0.7048510313034058,
          -2.6550545692443848,
          7.483595371246338,
          10.599616050720215,
          8.339540481567383,
          2.1755757331848145,
          3.1547811031341553,
          -2.2957918643951416,
          9.224017143249512,
          -8.419224739074707,
          11.026874542236328,
          4.589389324188232,
          7.200088977813721,
          3.164628744125366,
          7.841353893280029,
          12.891844749450684,
          4.755887985229492,
          13.613728523254395,
          6.055115222930908,
          5.9523024559021,
          -2.869319438934326,
          -1.4179774522781372,
          5.062621116638184,
          6.566263675689697,
          4.366134166717529,
          9.85103988647461,
          3.2925655841827393,
          3.3641810417175293,
          3.0425570011138916,
          7.531513214111328,
          0.7222991585731506,
          -5.193417072296143,
          7.091658592224121,
          8.67750358581543,
          -1.9182538986206055,
          1.6613203287124634,
          -1.2572648525238037,
          -4.226165771484375,
          -0.8345798850059509,
          -2.3405487537384033,
          5.693445682525635,
          5.271571159362793,
          16.912973403930664,
          9.770829200744629,
          2.401132106781006,
          -2.284245014190674,
          3.9689390659332275,
          9.420400619506836,
          -8.283919334411621,
          5.087445259094238,
          -8.063338279724121,
          8.544317245483398,
          -0.33745574951171875,
          -3.844928741455078,
          4.397663593292236,
          14.512601852416992,
          6.844235897064209,
          1.436604380607605,
          9.049458503723145,
          7.533775329589844,
          -1.3115352392196655,
          6.775632381439209,
          -1.9495428800582886,
          -0.5769855380058289,
          -0.9799582362174988,
          9.837895393371582,
          8.600696563720703,
          8.542510032653809,
          -2.0774636268615723,
          5.015120506286621,
          8.834210395812988,
          -1.9876800775527954,
          5.3975443840026855,
          -1.4099042415618896,
          -8.335225105285645,
          0.5889196991920471,
          -0.2713681757450104,
          -4.544517517089844
         ],
         "yaxis": "y"
        },
        {
         "customdata": [
          [
           "Eminem",
           "Ricky Ticky Toc"
          ],
          [
           "Eminem",
           "The Way I Am"
          ],
          [
           "Eminem",
           "Beautiful"
          ],
          [
           "Eminem",
           "Paul"
          ],
          [
           "Eminem",
           "Hailie's Song"
          ],
          [
           "Eminem",
           "Without Me"
          ],
          [
           "Eminem",
           "8 Mile"
          ],
          [
           "Eminem",
           "Dr. West"
          ],
          [
           "Eminem",
           "Curtains Up"
          ],
          [
           "Eminem",
           "Yellow Brick Road"
          ],
          [
           "Eminem",
           "If I Had"
          ],
          [
           "Eminem",
           "Em Calls Paul (skit)"
          ],
          [
           "Eminem",
           "When I'm Gone"
          ],
          [
           "Eminem",
           "Bad Influence"
          ],
          [
           "Eminem",
           "'97 Bonnie & Clyde"
          ],
          [
           "Eminem",
           "Rock Bottom"
          ],
          [
           "Eminem",
           "Careful What You Wish For"
          ],
          [
           "Eminem",
           "Puke"
          ],
          [
           "Eminem",
           "My Darling"
          ],
          [
           "Eminem",
           "Public Service Announcement"
          ],
          [
           "Eminem",
           "Just Don't Give"
          ],
          [
           "Eminem",
           "We As Americans"
          ],
          [
           "Eminem",
           "Ken Kaniff"
          ],
          [
           "Eminem",
           "Shady Narcotics"
          ],
          [
           "Eminem",
           "Love You More"
          ],
          [
           "Eminem",
           "Square Dance"
          ],
          [
           "Eminem",
           "Still Don't Give"
          ],
          [
           "Eminem",
           "Hazardous Youth"
          ],
          [
           "Eminem",
           "Tonya"
          ],
          [
           "Eminem",
           "Criminal"
          ],
          [
           "Eminem",
           "FACK"
          ],
          [
           "Eminem",
           "Public Enemy #1"
          ],
          [
           "Eminem",
           "My 1st Single"
          ],
          [
           "Eminem",
           "**** You"
          ],
          [
           "Eminem",
           "My Name Is"
          ],
          [
           "Eminem",
           "Any Man"
          ],
          [
           "Eminem",
           "Cleanin' Out My Closet"
          ],
          [
           "Eminem",
           "Curtains Close"
          ],
          [
           "Eminem",
           "The Kids"
          ],
          [
           "Eminem",
           "The Kiss"
          ],
          [
           "Eminem",
           "Cum On Everybody"
          ],
          [
           "Eminem",
           "Rabbit Run"
          ],
          [
           "Eminem",
           "Sing For The Moment"
          ],
          [
           "Eminem",
           "Lose Yourself"
          ],
          [
           "Eminem",
           "Paul (skit)"
          ],
          [
           "Eminem",
           "The Conspiracy (Freestyle)"
          ],
          [
           "Eminem",
           "Like Toy Soldiers"
          ],
          [
           "Eminem",
           "Marshall Mathers"
          ],
          [
           "Eminem",
           "Mockingbird"
          ],
          [
           "Eminem",
           "Mr. Mathers"
          ],
          [
           "Eminem",
           "No Apologies"
          ]
         ],
         "hovertemplate": "artist=%{customdata[0]}<br>t-SNE dimension 1=%{x}<br>t-SNE dimension 2=%{y}<br>title=%{customdata[1]}<extra></extra>",
         "legendgroup": "Eminem",
         "marker": {
          "color": "#D62728",
          "opacity": 0.8,
          "size": 15,
          "symbol": "circle"
         },
         "mode": "markers",
         "name": "Eminem",
         "showlegend": true,
         "type": "scatter",
         "x": [
          10.10013198852539,
          10.507609367370605,
          7.677149295806885,
          4.284065246582031,
          7.939253807067871,
          7.4168572425842285,
          8.456562995910645,
          0.7147215008735657,
          8.241268157958984,
          12.533061027526855,
          13.889168739318848,
          14.726287841796875,
          4.2861104011535645,
          13.515549659729004,
          14.23442554473877,
          12.167669296264648,
          11.72517204284668,
          4.644543647766113,
          2.927441358566284,
          12.647127151489258,
          12.654219627380371,
          12.751165390014648,
          10.074577331542969,
          11.281131744384766,
          10.43303108215332,
          10.908573150634766,
          12.297059059143066,
          11.895851135253906,
          7.539965629577637,
          11.52688980102539,
          12.355323791503906,
          7.2442426681518555,
          12.40493106842041,
          11.852505683898926,
          7.53232479095459,
          9.938780784606934,
          7.981229782104492,
          11.286413192749023,
          6.215920448303223,
          12.708413124084473,
          10.425337791442871,
          6.683711051940918,
          7.266102313995361,
          7.90250301361084,
          12.304891586303711,
          9.321624755859375,
          9.241303443908691,
          11.103642463684082,
          7.117836952209473,
          8.816483497619629,
          10.44813346862793
         ],
         "xaxis": "x",
         "y": [
          -4.588938236236572,
          -4.446570873260498,
          -4.790039539337158,
          -6.8855109214782715,
          -5.950784206390381,
          -1.1425470113754272,
          -3.295243263244629,
          -3.0866613388061523,
          -3.77243709564209,
          -1.137142539024353,
          2.5856242179870605,
          1.9480187892913818,
          1.1174076795578003,
          4.585975170135498,
          1.35407555103302,
          4.387701511383057,
          3.4934442043304443,
          -5.187798500061035,
          -0.6288962960243225,
          0.2471655011177063,
          3.8491621017456055,
          3.628032684326172,
          6.737092018127441,
          0.6369204521179199,
          0.5170817375183105,
          2.2594962120056152,
          3.762022018432617,
          3.386791467666626,
          0.41419872641563416,
          2.3337371349334717,
          -1.06540846824646,
          7.23461389541626,
          0.015633463859558105,
          0.7584638595581055,
          1.21885347366333,
          -0.9343067407608032,
          0.10616649687290192,
          -5.76754093170166,
          -1.4611845016479492,
          -5.572490215301514,
          -3.5386829376220703,
          -2.598170042037964,
          -5.166894435882568,
          -3.6917011737823486,
          -7.911141395568848,
          -4.241081714630127,
          -4.563266277313232,
          -5.466136455535889,
          -5.472283840179443,
          -1.3644275665283203,
          -4.43751859664917
         ],
         "yaxis": "y"
        },
        {
         "customdata": [
          [
           "Eric Clapton",
           "Hello Old Friend"
          ],
          [
           "Eric Clapton",
           "When You Got A Good Friend (Album Version)"
          ],
          [
           "Eric Clapton",
           "Tulsa Time"
          ],
          [
           "Eric Clapton",
           "Floating Bridge"
          ],
          [
           "Eric Clapton",
           "Blues Power"
          ],
          [
           "Eric Clapton",
           "Further On Up The Road"
          ],
          [
           "Eric Clapton",
           "Wonderful Tonight"
          ],
          [
           "Eric Clapton",
           "I Want A Little Girl (Live)"
          ],
          [
           "Eric Clapton",
           "Willie And The Hand Jive"
          ],
          [
           "Eric Clapton",
           "Can't Find My Way Home"
          ],
          [
           "Eric Clapton",
           "Love Don't Love Nobody (Album Version)"
          ],
          [
           "Eric Clapton",
           "Alberta"
          ],
          [
           "Eric Clapton",
           "Come Back Baby (Album Version)"
          ],
          [
           "Eric Clapton",
           "We're All The Way"
          ],
          [
           "Eric Clapton",
           "Lay Down Sally"
          ],
          [
           "Eric Clapton",
           "Someday After A While (Live) (Album Version)"
          ],
          [
           "Eric Clapton",
           "Bell Bottom Blues (Live)"
          ],
          [
           "Eric Clapton",
           "Standin' Round Crying (Live) (Album Version)"
          ],
          [
           "Eric Clapton",
           "Tangled In Love (Album Version)"
          ],
          [
           "Eric Clapton",
           "Forever Man (Album Version)"
          ],
          [
           "Eric Clapton",
           "Let It Grow"
          ],
          [
           "Eric Clapton",
           "Cocaine"
          ],
          [
           "Eric Clapton",
           "Holy Mother (Album Version)"
          ],
          [
           "Eric Clapton",
           "Singin' The Blues"
          ],
          [
           "Eric Clapton",
           "It's In The Way That You Use It (Album Version)"
          ],
          [
           "Eric Clapton",
           "The Core"
          ],
          [
           "Eric Clapton",
           "All Our Past Times"
          ],
          [
           "Eric Clapton",
           "Bottle Of Red Wine"
          ],
          [
           "Eric Clapton",
           "Little Wing"
          ],
          [
           "Eric Clapton",
           "Hound Dog (Album Version)"
          ],
          [
           "Eric Clapton",
           "Swing Low Sweet Chariot"
          ],
          [
           "Eric Clapton",
           "Meet Me (Down At The Bottom)"
          ],
          [
           "Eric Clapton",
           "Hoochie Coochie Man  (Live) (Album Version)"
          ],
          [
           "Eric Clapton",
           "Rita Mae"
          ],
          [
           "Eric Clapton",
           "Breaking Point  (Album Version)"
          ],
          [
           "Eric Clapton",
           "Early In The Morning"
          ],
          [
           "Eric Clapton",
           "Blues Leave Me Alone  (Live)  (Album Version)"
          ],
          [
           "Eric Clapton",
           "After Midnight"
          ],
          [
           "Eric Clapton",
           "I'm Tore Down  (Live) (Album Version)"
          ],
          [
           "Eric Clapton",
           "How Long Blues  (Live)  (Album Version)"
          ],
          [
           "Eric Clapton",
           "Kind Hearted Woman"
          ],
          [
           "Eric Clapton",
           "It All Depends (Album Version)"
          ],
          [
           "Eric Clapton",
           "Double Trouble"
          ],
          [
           "Eric Clapton",
           "Beware Of Darkness (LP Version)"
          ],
          [
           "Eric Clapton",
           "Key To The Highway (Live)"
          ],
          [
           "Eric Clapton",
           "Driftin' (Live)  (Album Version)"
          ],
          [
           "Eric Clapton",
           "Take A Chance (Album Version)"
          ],
          [
           "Eric Clapton",
           "Smile"
          ],
          [
           "Eric Clapton",
           "Kind Hearted Woman Blues (Album Version)"
          ],
          [
           "Eric Clapton",
           "Before You Accuse Me (Unplugged CD Version)"
          ],
          [
           "Eric Clapton",
           "Little Queen Of Spades (Album Version)"
          ],
          [
           "Eric Clapton",
           "Roll It"
          ],
          [
           "Eric Clapton",
           "I'm Going Left (Album Version)"
          ],
          [
           "Eric Clapton",
           "Crosscut Saw (LP Version)"
          ],
          [
           "Eric Clapton",
           "Pretending"
          ],
          [
           "Eric Clapton",
           "I Shot The Sheriff"
          ],
          [
           "Eric Clapton",
           "Little Rachel"
          ],
          [
           "Eric Clapton",
           "Watch Yourself (Live) (Album Version)"
          ],
          [
           "Eric Clapton",
           "Badge"
          ],
          [
           "Eric Clapton",
           "Going Down Slow (Album Version)"
          ],
          [
           "Eric Clapton",
           "Me And The Devil Blues (Album Version)"
          ],
          [
           "Eric Clapton",
           "Knockin' On Heaven's Door"
          ],
          [
           "Eric Clapton",
           "Let It Rain"
          ],
          [
           "Eric Clapton",
           "Please Be With Me"
          ],
          [
           "Eric Clapton",
           "Tears In Heaven"
          ],
          [
           "Eric Clapton",
           "Before You Accuse Me (Take A Look At Yourself)"
          ],
          [
           "Eric Clapton",
           "Have You Ever Loved A Woman"
          ],
          [
           "Eric Clapton",
           "Behind The Mask (Album Version)"
          ],
          [
           "Eric Clapton",
           "Don't Think Twice_ It's All Right"
          ],
          [
           "Eric Clapton",
           "Knock On Wood  (Album Version)"
          ],
          [
           "Eric Clapton",
           "Layla [Unplugged Version]"
          ]
         ],
         "hovertemplate": "artist=%{customdata[0]}<br>t-SNE dimension 1=%{x}<br>t-SNE dimension 2=%{y}<br>title=%{customdata[1]}<extra></extra>",
         "legendgroup": "Eric Clapton",
         "marker": {
          "color": "#9467BD",
          "opacity": 0.8,
          "size": 15,
          "symbol": "circle"
         },
         "mode": "markers",
         "name": "Eric Clapton",
         "showlegend": true,
         "type": "scatter",
         "x": [
          5.069786548614502,
          -1.3632121086120605,
          7.02028751373291,
          6.004810333251953,
          11.938693046569824,
          5.332034587860107,
          0.2328057885169983,
          8.404007911682129,
          10.726472854614258,
          -2.377938985824585,
          -4.001409530639648,
          4.893976211547852,
          6.4319562911987305,
          -6.9072418212890625,
          14.72993278503418,
          -3.378662347793579,
          -2.211049795150757,
          6.03059196472168,
          -1.7348047494888306,
          -7.351652145385742,
          -13.488842964172363,
          7.3897271156311035,
          -13.582233428955078,
          9.98206901550293,
          -3.450460433959961,
          -4.7761759757995605,
          -5.791545867919922,
          4.946539402008057,
          1.7841777801513672,
          7.958902835845947,
          11.11111831665039,
          10.732918739318848,
          5.996995449066162,
          6.994242191314697,
          -6.57658052444458,
          10.405009269714355,
          7.804361343383789,
          12.02466869354248,
          6.807735919952393,
          9.324501037597656,
          6.189226150512695,
          0.013658489100635052,
          1.7903941869735718,
          -9.690577507019043,
          9.10428237915039,
          -0.37290212512016296,
          -13.200926780700684,
          -3.6753764152526855,
          6.071671962738037,
          9.536179542541504,
          9.177226066589355,
          11.900269508361816,
          -6.95274019241333,
          13.25179386138916,
          -8.817641258239746,
          2.2548463344573975,
          12.0037260055542,
          8.595084190368652,
          5.222080230712891,
          8.019453048706055,
          9.709742546081543,
          16.85883140563965,
          -14.136768341064453,
          -14.692259788513184,
          -11.167315483093262,
          9.521693229675293,
          -7.286015033721924,
          -0.9656514525413513,
          8.996601104736328,
          9.21016788482666,
          -2.884376287460327
         ],
         "xaxis": "x",
         "y": [
          7.947685241699219,
          -6.781122207641602,
          2.7899248600006104,
          10.411942481994629,
          -1.0915260314941406,
          4.2627034187316895,
          4.686317443847656,
          -1.063056468963623,
          -11.777000427246094,
          1.6163561344146729,
          -4.935298442840576,
          2.1112961769104004,
          -1.2955317497253418,
          -2.600173234939575,
          9.890174865722656,
          -1.685497760772705,
          3.4399044513702393,
          4.286462306976318,
          -6.161023139953613,
          -10.350546836853027,
          9.345900535583496,
          4.969021797180176,
          4.046173572540283,
          3.955716371536255,
          -3.273214101791382,
          3.769843101501465,
          -6.979308128356934,
          0.6469096541404724,
          9.711463928222656,
          -11.534335136413574,
          8.615927696228027,
          6.703629016876221,
          -10.712065696716309,
          4.420802593231201,
          -2.962808609008789,
          0.48662009835243225,
          8.17654037475586,
          -1.7736841440200806,
          -13.279633522033691,
          7.813505172729492,
          -9.160896301269531,
          -6.4789533615112305,
          -7.788507461547852,
          -2.405747652053833,
          8.595307350158691,
          -2.693514108657837,
          2.052067756652832,
          5.873908042907715,
          -9.046764373779297,
          2.7122561931610107,
          -0.9281343817710876,
          -0.8293145895004272,
          -0.8467663526535034,
          1.180815577507019,
          -2.5573370456695557,
          -0.08817549794912338,
          0.7667392492294312,
          5.0514960289001465,
          6.930232048034668,
          -12.46596622467041,
          7.738162994384766,
          4.365380764007568,
          1.0794904232025146,
          -6.448050498962402,
          -3.8313395977020264,
          2.7265655994415283,
          -10.550372123718262,
          2.1197187900543213,
          7.367912769317627,
          -9.592360496520996,
          -6.576274394989014
         ],
         "yaxis": "y"
        },
        {
         "customdata": [
          [
           "Avenged Sevenfold",
           "Streets"
          ],
          [
           "Avenged Sevenfold",
           "Brompton Cocktail (Album Version)"
          ],
          [
           "Avenged Sevenfold",
           "I Won't See You Tonight Part 2"
          ],
          [
           "Avenged Sevenfold",
           "Remenissions"
          ],
          [
           "Avenged Sevenfold",
           "I Won't See You Tonight Part 1"
          ],
          [
           "Avenged Sevenfold",
           "Dear God (Album Version)"
          ],
          [
           "Avenged Sevenfold",
           "Breaking Their Hold"
          ],
          [
           "Avenged Sevenfold",
           "Waking the Fallen"
          ],
          [
           "Avenged Sevenfold",
           "And All Things Will End"
          ],
          [
           "Avenged Sevenfold",
           "Crossroads (Non-Album Track)"
          ],
          [
           "Avenged Sevenfold",
           "Eternal Rest"
          ],
          [
           "Avenged Sevenfold",
           "M.I.A. (Album Version)"
          ],
          [
           "Avenged Sevenfold",
           "Afterlife (Album Version)"
          ],
          [
           "Avenged Sevenfold",
           "Critical Acclaim (Amended Version)"
          ],
          [
           "Avenged Sevenfold",
           "Turn The Other Way"
          ],
          [
           "Avenged Sevenfold",
           "Radiant Eclipse"
          ],
          [
           "Avenged Sevenfold",
           "To End The Rapture"
          ],
          [
           "Avenged Sevenfold",
           "Warmness On The Soul"
          ],
          [
           "Avenged Sevenfold",
           "A Little Piece Of Heaven (Album Version)"
          ],
          [
           "Avenged Sevenfold",
           "Second Heartbeat"
          ],
          [
           "Avenged Sevenfold",
           "Shattered By Broken Dreams"
          ],
          [
           "Avenged Sevenfold",
           "Clairvoyant Disease"
          ],
          [
           "Avenged Sevenfold",
           "Darkness Surrounding"
          ],
          [
           "Avenged Sevenfold",
           "Unholy Confessions"
          ],
          [
           "Avenged Sevenfold",
           "The Wicked End (Album Version)"
          ],
          [
           "Avenged Sevenfold",
           "We Come Out At Night"
          ],
          [
           "Avenged Sevenfold",
           "The Art Of Subconscious Illusion"
          ],
          [
           "Avenged Sevenfold",
           "Forgotten Faces"
          ],
          [
           "Avenged Sevenfold",
           "An Epic Of Time Wasted"
          ],
          [
           "Avenged Sevenfold",
           "Burn It Down (Live In San Diego)"
          ],
          [
           "Avenged Sevenfold",
           "Desecrate Through Reverence"
          ],
          [
           "Avenged Sevenfold",
           "Chapter Four"
          ],
          [
           "Avenged Sevenfold",
           "Lips Of Deceit"
          ],
          [
           "Avenged Sevenfold",
           "Strength Of The World (Album Version)"
          ],
          [
           "Avenged Sevenfold",
           "Unbound [The Wild Ride] (Album Version)"
          ],
          [
           "Avenged Sevenfold",
           "Thick And Thin"
          ]
         ],
         "hovertemplate": "artist=%{customdata[0]}<br>t-SNE dimension 1=%{x}<br>t-SNE dimension 2=%{y}<br>title=%{customdata[1]}<extra></extra>",
         "legendgroup": "Avenged Sevenfold",
         "marker": {
          "color": "#8C564B",
          "opacity": 0.8,
          "size": 15,
          "symbol": "circle"
         },
         "mode": "markers",
         "name": "Avenged Sevenfold",
         "showlegend": true,
         "type": "scatter",
         "x": [
          13.376471519470215,
          -8.511052131652832,
          -9.142927169799805,
          -5.119451999664307,
          -12.569552421569824,
          -7.36473274230957,
          -8.204839706420898,
          -13.954330444335938,
          -6.238142013549805,
          -9.833647727966309,
          -14.79245376586914,
          -13.33375072479248,
          -11.635176658630371,
          -3.6895275115966797,
          -10.259374618530273,
          -8.421893119812012,
          -6.04276180267334,
          -10.27121353149414,
          5.062047004699707,
          -7.226163864135742,
          -9.864916801452637,
          -8.070182800292969,
          -7.757768154144287,
          -7.951414108276367,
          -7.545595645904541,
          -3.999237537384033,
          -0.5650714635848999,
          -7.80782413482666,
          -7.871849536895752,
          -4.032217502593994,
          -9.195272445678711,
          -9.213766098022461,
          -6.081501007080078,
          -3.9264016151428223,
          -8.320242881774902,
          -1.0297908782958984
         ],
         "xaxis": "x",
         "y": [
          -4.663560390472412,
          -2.015446186065674,
          1.8268951177597046,
          1.2028779983520508,
          4.311548709869385,
          -0.11696665734052658,
          -1.8624470233917236,
          6.649916172027588,
          1.8624882698059082,
          -1.7723426818847656,
          8.024206161499023,
          2.6889593601226807,
          2.467512369155884,
          -3.7514290809631348,
          7.715253829956055,
          7.00413179397583,
          6.915741443634033,
          -4.824760437011719,
          -7.514050006866455,
          -1.3154475688934326,
          -4.646460056304932,
          3.1984267234802246,
          6.236360549926758,
          0.6346442103385925,
          5.907671928405762,
          8.356925010681152,
          2.5462422370910645,
          3.2024383544921875,
          -0.9593510031700134,
          -0.41904011368751526,
          -1.877408504486084,
          7.057756423950195,
          2.439793825149536,
          9.057361602783203,
          -0.3902430832386017,
          -2.8876562118530273
         ],
         "yaxis": "y"
        },
        {
         "customdata": [
          [
           "Linkin Park",
           "Crawling (Album Version)"
          ],
          [
           "Linkin Park",
           "Given Up (Album Version)"
          ],
          [
           "Linkin Park",
           "One Step Closer [Live At Milton Keynes]"
          ],
          [
           "Linkin Park",
           "Wth>You (Album Version)"
          ],
          [
           "Linkin Park",
           "In Pieces [Live From Projekt Revolution_ Washington DC_ Aug. 19 '07]"
          ],
          [
           "Linkin Park",
           "Papercut [Recorded Live At BBC1]"
          ],
          [
           "Linkin Park",
           "Given Up [Third Encore Session]"
          ],
          [
           "Linkin Park",
           "Breaking The Habit (Album Version)"
          ],
          [
           "Linkin Park",
           "Valentine's Day [Live From Frankfurt Germany_ Jan 20 '08]"
          ],
          [
           "Linkin Park",
           "Points Of Authority (Live In Texas)"
          ],
          [
           "Linkin Park",
           "Faint [Live In Japan]"
          ],
          [
           "Linkin Park",
           "My<Dsmbr (Album Version)"
          ],
          [
           "Linkin Park",
           "Lying From You (Live In Texas)"
          ],
          [
           "Linkin Park",
           "By Myself (Album Version)"
          ],
          [
           "Linkin Park",
           "In Between [Live From London UK_ Jan 29 '08]"
          ],
          [
           "Linkin Park",
           "Runaway (Album Version)"
          ],
          [
           "Linkin Park",
           "High Voltage"
          ],
          [
           "Linkin Park",
           "Easier To Run [Live LP Underground Tour 2003]"
          ],
          [
           "Linkin Park",
           "Kyur4 Th Ich (Album Version)"
          ],
          [
           "Linkin Park",
           "Buy Myself [Manson Remix] (Non-Album Track)"
          ],
          [
           "Linkin Park",
           "Numb (Live In Texas)"
          ],
          [
           "Linkin Park",
           "Rnw@y (Album Version)"
          ],
          [
           "Linkin Park",
           "New Divide [A Cappella Version]"
          ],
          [
           "Linkin Park",
           "Plc.4 Mie Haed (Album Version)"
          ],
          [
           "Linkin Park",
           "In The End (Album Version)"
          ],
          [
           "Linkin Park",
           "Given Up [Live At Milton Keynes]"
          ],
          [
           "Linkin Park",
           "Cure For The Itch (Album Version)"
          ],
          [
           "Linkin Park",
           "Hands Held High (Album Version)"
          ],
          [
           "Linkin Park",
           "My December"
          ],
          [
           "Linkin Park",
           "From The Inside [Live LP Underground Tour 2003]"
          ],
          [
           "Linkin Park",
           "Leave Out All The Rest (Single Version)"
          ],
          [
           "Linkin Park",
           "1stp Klosr (Album Version)"
          ],
          [
           "Linkin Park",
           "In The End [Live At Milton Keynes]"
          ],
          [
           "Linkin Park",
           "Pushing Me Away [Live At Milton Keynes]"
          ],
          [
           "Linkin Park",
           "Runaway (Live In Texas)"
          ],
          [
           "Linkin Park",
           "What I've Done [Distorted Remix]"
          ],
          [
           "Linkin Park",
           "Breaking The Habit [Live At Milton Keynes]"
          ],
          [
           "Linkin Park",
           "One Step Closer (Album Version)"
          ],
          [
           "Linkin Park",
           "Shadow Of The Day [Live At Milton Keynes]"
          ],
          [
           "Linkin Park",
           "H! Vltg3 (Album Version)"
          ],
          [
           "Linkin Park",
           "In Pieces [Live From SoHo]"
          ],
          [
           "Linkin Park",
           "Leave Out All The Rest [Live] (Album Version Edit)"
          ],
          [
           "Linkin Park",
           "Enth E Nd (Album Version)"
          ],
          [
           "Linkin Park",
           "Nobody's Listening (Album Version)"
          ],
          [
           "Linkin Park",
           "A Place For My Head (Album Version)"
          ],
          [
           "Linkin Park",
           "Bleed It Out [Live From Live Earth]"
          ],
          [
           "Linkin Park",
           "From The Inside [Live In Japan]"
          ],
          [
           "Linkin Park",
           "The Little Things Give You Away [Live At Milton Keynes]"
          ],
          [
           "Linkin Park",
           "With You (Album Version)"
          ],
          [
           "Linkin Park",
           "Riff Raff (Album Version)"
          ],
          [
           "Linkin Park",
           "Frgt/10 (Album Version)"
          ],
          [
           "Linkin Park",
           "Crawling (Live In Texas)"
          ],
          [
           "Linkin Park",
           "Figure.09 (Album Version)"
          ],
          [
           "Linkin Park",
           "New Divide (Album Version)"
          ],
          [
           "Linkin Park",
           "X-Ecutioner Style (Album Version)"
          ],
          [
           "Linkin Park",
           "What I've Done (Album Version)"
          ],
          [
           "Linkin Park",
           "In The End (Live In Texas)"
          ],
          [
           "Linkin Park",
           "One Step Closer (Live In Texas)"
          ],
          [
           "Linkin Park",
           "Pushing Me Away (Album Version)"
          ],
          [
           "Linkin Park",
           "My December [Live Project Rev. 2002]"
          ],
          [
           "Linkin Park",
           "P5hng Me A*wy (Album Version)"
          ],
          [
           "Linkin Park",
           "Leave Out All The Rest [Live From Projekt Revolution_ Detroit MI_ Aug. 22 '07]"
          ],
          [
           "Linkin Park",
           "No More Sorrow [Live At Milton Keynes]"
          ],
          [
           "Linkin Park",
           "Points Of Authority (Album Version)"
          ],
          [
           "Linkin Park",
           "Lying From You [Live LP Underground Tour 2003]"
          ],
          [
           "Linkin Park",
           "Lying From You [Live At Milton Keynes]"
          ],
          [
           "Linkin Park",
           "From The Inside [Live At Milton Keynes]"
          ],
          [
           "Linkin Park",
           "Shadow Of The Day (Album Version)"
          ]
         ],
         "hovertemplate": "artist=%{customdata[0]}<br>t-SNE dimension 1=%{x}<br>t-SNE dimension 2=%{y}<br>title=%{customdata[1]}<extra></extra>",
         "legendgroup": "Linkin Park",
         "marker": {
          "color": "#E377C2",
          "opacity": 0.8,
          "size": 15,
          "symbol": "circle"
         },
         "mode": "markers",
         "name": "Linkin Park",
         "showlegend": true,
         "type": "scatter",
         "x": [
          -9.360217094421387,
          -7.679488182067871,
          1.6326814889907837,
          -8.933836936950684,
          -19.586408615112305,
          -7.638731002807617,
          -7.708306789398193,
          -6.051281452178955,
          -6.490767478942871,
          3.6564159393310547,
          -9.513059616088867,
          -5.480592250823975,
          -10.267054557800293,
          -7.801016330718994,
          -9.318572998046875,
          0.07736915349960327,
          12.346952438354492,
          -13.455001831054688,
          5.678053855895996,
          -7.7258992195129395,
          10.66065788269043,
          9.11711597442627,
          -16.031402587890625,
          -4.971770286560059,
          -19.3717098236084,
          -7.714649200439453,
          5.70629358291626,
          5.434504985809326,
          -5.849750518798828,
          0.07719937711954117,
          -10.018158912658691,
          -0.6263508200645447,
          -19.37187957763672,
          -19.281753540039062,
          1.902880311012268,
          -10.174727439880371,
          -6.0557684898376465,
          -0.6266224980354309,
          -15.168140411376953,
          7.68858003616333,
          -19.587617874145508,
          -10.026290893554688,
          4.2149152755737305,
          4.965535640716553,
          -4.974301338195801,
          1.3593404293060303,
          0.0773986428976059,
          -7.570970058441162,
          -7.203462600708008,
          7.664589881896973,
          5.661166191101074,
          -9.360862731933594,
          -7.58173131942749,
          -16.03416633605957,
          9.249147415161133,
          -10.150822639465332,
          -19.3686466217041,
          -0.6270689368247986,
          -19.288169860839844,
          -11.446002960205078,
          -19.293601989746094,
          -8.750373840332031,
          -3.640385389328003,
          3.656501293182373,
          -10.26728630065918,
          -10.268195152282715,
          0.07693382352590561,
          -15.171260833740234
         ],
         "xaxis": "x",
         "y": [
          -12.232644081115723,
          -5.191827774047852,
          0.29382598400115967,
          -0.08397117257118225,
          4.966444969177246,
          4.653897285461426,
          -5.208326816558838,
          -6.710436820983887,
          8.0548095703125,
          18.02216148376465,
          -8.70313549041748,
          1.0197391510009766,
          -11.548173904418945,
          -0.9853988885879517,
          -6.263731956481934,
          21.085830688476562,
          5.141534328460693,
          4.695083141326904,
          -2.1831579208374023,
          -1.0052791833877563,
          3.4839894771575928,
          2.468299388885498,
          11.129783630371094,
          -7.884224891662598,
          -4.774550437927246,
          -5.175114631652832,
          -2.141663074493408,
          4.27106237411499,
          4.018632888793945,
          21.085969924926758,
          1.6549270153045654,
          20.468250274658203,
          -4.774908065795898,
          -4.728456020355225,
          1.7712361812591553,
          -1.6989456415176392,
          -6.68143892288208,
          20.468130111694336,
          10.284412384033203,
          -1.5670397281646729,
          4.967113018035889,
          1.6373294591903687,
          -5.607240200042725,
          -2.2298343181610107,
          -7.879903793334961,
          5.747204303741455,
          21.085721969604492,
          6.1639299392700195,
          4.988685607910156,
          -4.428351879119873,
          8.550704956054688,
          -12.233586311340332,
          -0.35395389795303345,
          11.13212776184082,
          -2.0168063640594482,
          -1.6808876991271973,
          -4.774003505706787,
          20.4695987701416,
          -4.732312202453613,
          -1.6114444732666016,
          -4.735212326049805,
          -6.833014011383057,
          -2.503915309906006,
          18.022523880004883,
          -11.5476655960083,
          -11.547670364379883,
          21.082477569580078,
          10.287208557128906
         ],
         "yaxis": "y"
        },
        {
         "customdata": [
          [
           "The Who",
           "Slip Kid"
          ],
          [
           "The Who",
           "Daily Records"
          ],
          [
           "The Who",
           "Man With Money"
          ],
          [
           "The Who",
           "Disguises"
          ],
          [
           "The Who",
           "Tommy Can You Hear Me?"
          ],
          [
           "The Who",
           "The Quiet One"
          ],
          [
           "The Who",
           "Pure And Easy"
          ],
          [
           "The Who",
           "I Like Nightmares"
          ],
          [
           "The Who",
           "A Quick One While He's Away"
          ],
          [
           "The Who",
           "Don't Look Away"
          ],
          [
           "The Who",
           "Behind Blue Eyes"
          ],
          [
           "The Who",
           "Christmas"
          ],
          [
           "The Who",
           "Trilby's Piano"
          ],
          [
           "The Who",
           "Tattoo"
          ],
          [
           "The Who",
           "Success Story"
          ],
          [
           "The Who",
           "Relax"
          ],
          [
           "The Who",
           "Fiddle About"
          ],
          [
           "The Who",
           "A Man In A Purple Dress"
          ],
          [
           "The Who",
           "1921"
          ],
          [
           "The Who",
           "My Wife"
          ],
          [
           "The Who",
           "Eyesight To The Blind (The Hawker)"
          ],
          [
           "The Who",
           "Don't Let Go The Coat"
          ],
          [
           "The Who",
           "Boris The Spider"
          ],
          [
           "The Who",
           "Love Reign O'er Me"
          ],
          [
           "The Who",
           "Welcome"
          ],
          [
           "The Who",
           "Heat Wave"
          ],
          [
           "The Who",
           "Dr. Jimmy"
          ],
          [
           "The Who",
           "Sensation"
          ],
          [
           "The Who",
           "Sunrise"
          ],
          [
           "The Who",
           "Magic Bus"
          ],
          [
           "The Who",
           "Miracle Cure"
          ],
          [
           "The Who",
           "Mary Anne With The Shaky Hand"
          ],
          [
           "The Who",
           "You Stand By Me"
          ],
          [
           "The Who",
           "Summertime Blues"
          ],
          [
           "The Who",
           "Let's See Action"
          ],
          [
           "The Who",
           "Tea & Theatre"
          ],
          [
           "The Who",
           "Who Are You"
          ],
          [
           "The Who",
           "Young Man Blues"
          ],
          [
           "The Who",
           "Love Ain't For Keeping"
          ],
          [
           "The Who",
           "Cache Cache"
          ],
          [
           "The Who",
           "La La La Lies"
          ],
          [
           "The Who",
           "Squeeze Box"
          ],
          [
           "The Who",
           "Relay"
          ],
          [
           "The Who",
           "Too Much Of Anything"
          ],
          [
           "The Who",
           "The Kids Are Alright"
          ],
          [
           "The Who",
           "I Can See For Miles"
          ],
          [
           "The Who",
           "God Speaks_ of Marty Robbins"
          ],
          [
           "The Who",
           "Sparks"
          ],
          [
           "The Who",
           "I'm A Boy"
          ],
          [
           "The Who",
           "Sister Disco"
          ],
          [
           "The Who",
           "Eminence Front"
          ],
          [
           "The Who",
           "Substitute"
          ],
          [
           "The Who",
           "Doctor_ Doctor"
          ],
          [
           "The Who",
           "My Generation"
          ],
          [
           "The Who",
           "Long Live Rock"
          ],
          [
           "The Who",
           "Odorono"
          ],
          [
           "The Who",
           "It's Hard"
          ],
          [
           "The Who",
           "I'm Free"
          ],
          [
           "The Who",
           "Amazing Journey"
          ],
          [
           "The Who",
           "Happy Jack"
          ],
          [
           "The Who",
           "Endless Wire"
          ],
          [
           "The Who",
           "Shout And Shimmy"
          ],
          [
           "The Who",
           "Medac"
          ],
          [
           "The Who",
           "Water"
          ],
          [
           "The Who",
           "I Don't Even Know Myself"
          ],
          [
           "The Who",
           "Music Must Change"
          ],
          [
           "The Who",
           "Just You And Me_ Darling"
          ],
          [
           "The Who",
           "Empty Glass"
          ],
          [
           "The Who",
           "I Can't Explain"
          ],
          [
           "The Who",
           "Mike Post Theme"
          ],
          [
           "The Who",
           "You Better You Bet"
          ],
          [
           "The Who",
           "Pinball Wizard"
          ],
          [
           "The Who",
           "Sound Round"
          ],
          [
           "The Who",
           "Heinz Baked Beans"
          ],
          [
           "The Who",
           "See Me_ Feel Me"
          ]
         ],
         "hovertemplate": "artist=%{customdata[0]}<br>t-SNE dimension 1=%{x}<br>t-SNE dimension 2=%{y}<br>title=%{customdata[1]}<extra></extra>",
         "legendgroup": "The Who",
         "marker": {
          "color": "#7F7F7F",
          "opacity": 0.8,
          "size": 15,
          "symbol": "circle"
         },
         "mode": "markers",
         "name": "The Who",
         "showlegend": true,
         "type": "scatter",
         "x": [
          1.8892967700958252,
          7.532039642333984,
          10.158783912658691,
          -2.4568302631378174,
          6.469234943389893,
          -3.557079553604126,
          -7.339496612548828,
          0.09020976722240448,
          1.978838562965393,
          -0.6233300566673279,
          -3.461188793182373,
          0.06399663537740707,
          -13.763381004333496,
          -8.984930038452148,
          6.744996070861816,
          6.535702705383301,
          12.78268051147461,
          -2.807380437850952,
          -6.898027420043945,
          14.049257278442383,
          2.5329701900482178,
          2.5149917602539062,
          0.3887932598590851,
          -0.0762450098991394,
          1.5536704063415527,
          1.2146447896957397,
          7.747051239013672,
          -12.151895523071289,
          -8.920949935913086,
          11.213412284851074,
          1.7445532083511353,
          8.068981170654297,
          9.414325714111328,
          -13.387297630310059,
          -6.883884906768799,
          0.14377659559249878,
          12.762785911560059,
          9.41288948059082,
          9.08295726776123,
          2.4861233234405518,
          -4.3461456298828125,
          16.932252883911133,
          4.477429389953613,
          5.963503360748291,
          5.184277057647705,
          -4.679196357727051,
          -3.535346508026123,
          -2.9368057250976562,
          0.29665806889533997,
          5.525440692901611,
          5.356845378875732,
          7.409402847290039,
          8.57171630859375,
          4.054006099700928,
          11.637322425842285,
          0.11931776255369186,
          0.3352520167827606,
          8.15597915649414,
          -2.9314825534820557,
          5.522611141204834,
          -9.43437385559082,
          13.774801254272461,
          3.4320521354675293,
          10.575043678283691,
          0.5004331469535828,
          5.929962635040283,
          9.40674114227295,
          5.744905471801758,
          0.38269495964050293,
          0.7658204436302185,
          10.66003704071045,
          -3.8906588554382324,
          -5.434414386749268,
          6.6542439460754395,
          1.994335412979126
         ],
         "xaxis": "x",
         "y": [
          3.948932409286499,
          -5.431718826293945,
          -7.432536602020264,
          2.533377170562744,
          -2.1250481605529785,
          7.8783345222473145,
          14.41681957244873,
          -0.7914757132530212,
          4.172771453857422,
          4.528317928314209,
          5.537554740905762,
          4.80624532699585,
          -6.393390655517578,
          -5.213712692260742,
          11.504942893981934,
          9.507926940917969,
          4.194568157196045,
          11.449804306030273,
          -3.2036077976226807,
          8.450591087341309,
          -7.471557140350342,
          2.5849804878234863,
          8.741418838500977,
          19.43280601501465,
          10.43075942993164,
          1.805568814277649,
          3.8578262329101562,
          10.800007820129395,
          7.372751235961914,
          -11.539046287536621,
          -4.7139201164245605,
          2.7979986667633057,
          11.887323379516602,
          1.8569716215133667,
          -9.69300365447998,
          7.921072959899902,
          2.0994350910186768,
          11.88581657409668,
          6.718783855438232,
          6.215565204620361,
          -9.645824432373047,
          2.6588618755340576,
          5.270328998565674,
          8.216950416564941,
          -14.00976848602295,
          8.466394424438477,
          10.158337593078613,
          -3.6004722118377686,
          2.7529830932617188,
          3.2988545894622803,
          11.97896671295166,
          5.945769786834717,
          2.1372053623199463,
          -6.614981651306152,
          8.721248626708984,
          -4.7382330894470215,
          -1.7260632514953613,
          -12.315580368041992,
          -3.5892434120178223,
          12.316397666931152,
          12.813776969909668,
          -1.9300082921981812,
          5.352071762084961,
          -4.6607794761657715,
          -6.644058704376221,
          9.860912322998047,
          11.878266334533691,
          5.833855628967285,
          -4.307157039642334,
          1.6331998109817505,
          5.643601417541504,
          -4.518579483032227,
          6.289469242095947,
          5.279279708862305,
          -5.670537948608398
         ],
         "yaxis": "y"
        },
        {
         "customdata": [
          [
           "The Strokes",
           "15 Minutes"
          ],
          [
           "The Strokes",
           "The Modern Age"
          ],
          [
           "The Strokes",
           "Razorblade"
          ],
          [
           "The Strokes",
           "Life's A Gas"
          ],
          [
           "The Strokes",
           "Clampdown"
          ],
          [
           "The Strokes",
           "I'll Try Anything Once"
          ],
          [
           "The Strokes",
           "Electricityscape"
          ],
          [
           "The Strokes",
           "Hard To Explain"
          ],
          [
           "The Strokes",
           "New York City Cops"
          ],
          [
           "The Strokes",
           "Heart In A Cage"
          ],
          [
           "The Strokes",
           "Juicebox"
          ],
          [
           "The Strokes",
           "You Only Live Once"
          ],
          [
           "The Strokes",
           "Red Light"
          ],
          [
           "The Strokes",
           "Trying Your Luck"
          ],
          [
           "The Strokes",
           "Take It Or Leave It"
          ],
          [
           "The Strokes",
           "Someday"
          ],
          [
           "The Strokes",
           "Fear Of Sleep"
          ],
          [
           "The Strokes",
           "Alone_ Together"
          ],
          [
           "The Strokes",
           "Reptilia"
          ],
          [
           "The Strokes",
           "Killing Lies"
          ],
          [
           "The Strokes",
           "Is This It"
          ],
          [
           "The Strokes",
           "Last Nite"
          ],
          [
           "The Strokes",
           "Modern Girls And Old Fashion Men"
          ],
          [
           "The Strokes",
           "Between Love & Hate"
          ]
         ],
         "hovertemplate": "artist=%{customdata[0]}<br>t-SNE dimension 1=%{x}<br>t-SNE dimension 2=%{y}<br>title=%{customdata[1]}<extra></extra>",
         "legendgroup": "The Strokes",
         "marker": {
          "color": "#BCBD22",
          "opacity": 0.8,
          "size": 15,
          "symbol": "circle"
         },
         "mode": "markers",
         "name": "The Strokes",
         "showlegend": true,
         "type": "scatter",
         "x": [
          6.011702060699463,
          -0.006711877416819334,
          -0.19676068425178528,
          -2.508495330810547,
          -0.5207023620605469,
          -0.155048206448555,
          -2.984743595123291,
          -2.8898861408233643,
          9.927690505981445,
          -2.467912197113037,
          7.306460380554199,
          0.7368917465209961,
          -1.534013271331787,
          0.03857513517141342,
          -1.2109036445617676,
          -3.6256024837493896,
          4.203364849090576,
          -12.466111183166504,
          -0.2568516433238983,
          -1.2820504903793335,
          -6.284375190734863,
          7.617892742156982,
          0.7154080867767334,
          -1.353023648262024
         ],
         "xaxis": "x",
         "y": [
          3.882606029510498,
          11.30734920501709,
          -5.96728515625,
          -5.470501899719238,
          -7.322607517242432,
          -7.569400310516357,
          5.563385963439941,
          -4.130876541137695,
          7.357606410980225,
          7.1054840087890625,
          14.78487491607666,
          -0.04431268572807312,
          6.239023208618164,
          3.0979626178741455,
          -4.285966396331787,
          -2.6334116458892822,
          -0.27829211950302124,
          2.791513204574585,
          7.358675956726074,
          -5.097805500030518,
          -2.2970428466796875,
          0.7269651889801025,
          -5.032769680023193,
          -4.15562629699707
         ],
         "yaxis": "y"
        },
        {
         "customdata": [
          [
           "Tame Impala",
           "Wander"
          ],
          [
           "Tame Impala",
           "Slide Through My Fingers"
          ],
          [
           "Tame Impala",
           "41 Mosquitoes Flying In Formation"
          ],
          [
           "Tame Impala",
           "Desire Be Desire Go"
          ],
          [
           "Tame Impala",
           "Skeleton Tiger"
          ],
          [
           "Tame Impala",
           "Half Full Glass Of Wine"
          ]
         ],
         "hovertemplate": "artist=%{customdata[0]}<br>t-SNE dimension 1=%{x}<br>t-SNE dimension 2=%{y}<br>title=%{customdata[1]}<extra></extra>",
         "legendgroup": "Tame Impala",
         "marker": {
          "color": "#17BECF",
          "opacity": 0.8,
          "size": 15,
          "symbol": "circle"
         },
         "mode": "markers",
         "name": "Tame Impala",
         "showlegend": true,
         "type": "scatter",
         "x": [
          6.557861804962158,
          -3.1882100105285645,
          1.6228554248809814,
          -7.343591690063477,
          9.07383918762207,
          0.21558907628059387
         ],
         "xaxis": "x",
         "y": [
          4.463770866394043,
          1.5566346645355225,
          -1.4205923080444336,
          -1.3958979845046997,
          8.025744438171387,
          3.1323485374450684
         ],
         "yaxis": "y"
        }
       ],
       "layout": {
        "legend": {
         "title": {
          "text": "artist"
         },
         "tracegroupgap": 0
        },
        "margin": {
         "t": 60
        },
        "template": {
         "data": {
          "bar": [
           {
            "error_x": {
             "color": "rgb(36,36,36)"
            },
            "error_y": {
             "color": "rgb(36,36,36)"
            },
            "marker": {
             "line": {
              "color": "white",
              "width": 0.5
             }
            },
            "type": "bar"
           }
          ],
          "barpolar": [
           {
            "marker": {
             "line": {
              "color": "white",
              "width": 0.5
             }
            },
            "type": "barpolar"
           }
          ],
          "carpet": [
           {
            "aaxis": {
             "endlinecolor": "rgb(36,36,36)",
             "gridcolor": "white",
             "linecolor": "white",
             "minorgridcolor": "white",
             "startlinecolor": "rgb(36,36,36)"
            },
            "baxis": {
             "endlinecolor": "rgb(36,36,36)",
             "gridcolor": "white",
             "linecolor": "white",
             "minorgridcolor": "white",
             "startlinecolor": "rgb(36,36,36)"
            },
            "type": "carpet"
           }
          ],
          "choropleth": [
           {
            "colorbar": {
             "outlinewidth": 1,
             "tickcolor": "rgb(36,36,36)",
             "ticks": "outside"
            },
            "type": "choropleth"
           }
          ],
          "contour": [
           {
            "colorbar": {
             "outlinewidth": 1,
             "tickcolor": "rgb(36,36,36)",
             "ticks": "outside"
            },
            "colorscale": [
             [
              0,
              "#440154"
             ],
             [
              0.1111111111111111,
              "#482878"
             ],
             [
              0.2222222222222222,
              "#3e4989"
             ],
             [
              0.3333333333333333,
              "#31688e"
             ],
             [
              0.4444444444444444,
              "#26828e"
             ],
             [
              0.5555555555555556,
              "#1f9e89"
             ],
             [
              0.6666666666666666,
              "#35b779"
             ],
             [
              0.7777777777777778,
              "#6ece58"
             ],
             [
              0.8888888888888888,
              "#b5de2b"
             ],
             [
              1,
              "#fde725"
             ]
            ],
            "type": "contour"
           }
          ],
          "contourcarpet": [
           {
            "colorbar": {
             "outlinewidth": 1,
             "tickcolor": "rgb(36,36,36)",
             "ticks": "outside"
            },
            "type": "contourcarpet"
           }
          ],
          "heatmap": [
           {
            "colorbar": {
             "outlinewidth": 1,
             "tickcolor": "rgb(36,36,36)",
             "ticks": "outside"
            },
            "colorscale": [
             [
              0,
              "#440154"
             ],
             [
              0.1111111111111111,
              "#482878"
             ],
             [
              0.2222222222222222,
              "#3e4989"
             ],
             [
              0.3333333333333333,
              "#31688e"
             ],
             [
              0.4444444444444444,
              "#26828e"
             ],
             [
              0.5555555555555556,
              "#1f9e89"
             ],
             [
              0.6666666666666666,
              "#35b779"
             ],
             [
              0.7777777777777778,
              "#6ece58"
             ],
             [
              0.8888888888888888,
              "#b5de2b"
             ],
             [
              1,
              "#fde725"
             ]
            ],
            "type": "heatmap"
           }
          ],
          "heatmapgl": [
           {
            "colorbar": {
             "outlinewidth": 1,
             "tickcolor": "rgb(36,36,36)",
             "ticks": "outside"
            },
            "colorscale": [
             [
              0,
              "#440154"
             ],
             [
              0.1111111111111111,
              "#482878"
             ],
             [
              0.2222222222222222,
              "#3e4989"
             ],
             [
              0.3333333333333333,
              "#31688e"
             ],
             [
              0.4444444444444444,
              "#26828e"
             ],
             [
              0.5555555555555556,
              "#1f9e89"
             ],
             [
              0.6666666666666666,
              "#35b779"
             ],
             [
              0.7777777777777778,
              "#6ece58"
             ],
             [
              0.8888888888888888,
              "#b5de2b"
             ],
             [
              1,
              "#fde725"
             ]
            ],
            "type": "heatmapgl"
           }
          ],
          "histogram": [
           {
            "marker": {
             "line": {
              "color": "white",
              "width": 0.6
             }
            },
            "type": "histogram"
           }
          ],
          "histogram2d": [
           {
            "colorbar": {
             "outlinewidth": 1,
             "tickcolor": "rgb(36,36,36)",
             "ticks": "outside"
            },
            "colorscale": [
             [
              0,
              "#440154"
             ],
             [
              0.1111111111111111,
              "#482878"
             ],
             [
              0.2222222222222222,
              "#3e4989"
             ],
             [
              0.3333333333333333,
              "#31688e"
             ],
             [
              0.4444444444444444,
              "#26828e"
             ],
             [
              0.5555555555555556,
              "#1f9e89"
             ],
             [
              0.6666666666666666,
              "#35b779"
             ],
             [
              0.7777777777777778,
              "#6ece58"
             ],
             [
              0.8888888888888888,
              "#b5de2b"
             ],
             [
              1,
              "#fde725"
             ]
            ],
            "type": "histogram2d"
           }
          ],
          "histogram2dcontour": [
           {
            "colorbar": {
             "outlinewidth": 1,
             "tickcolor": "rgb(36,36,36)",
             "ticks": "outside"
            },
            "colorscale": [
             [
              0,
              "#440154"
             ],
             [
              0.1111111111111111,
              "#482878"
             ],
             [
              0.2222222222222222,
              "#3e4989"
             ],
             [
              0.3333333333333333,
              "#31688e"
             ],
             [
              0.4444444444444444,
              "#26828e"
             ],
             [
              0.5555555555555556,
              "#1f9e89"
             ],
             [
              0.6666666666666666,
              "#35b779"
             ],
             [
              0.7777777777777778,
              "#6ece58"
             ],
             [
              0.8888888888888888,
              "#b5de2b"
             ],
             [
              1,
              "#fde725"
             ]
            ],
            "type": "histogram2dcontour"
           }
          ],
          "mesh3d": [
           {
            "colorbar": {
             "outlinewidth": 1,
             "tickcolor": "rgb(36,36,36)",
             "ticks": "outside"
            },
            "type": "mesh3d"
           }
          ],
          "parcoords": [
           {
            "line": {
             "colorbar": {
              "outlinewidth": 1,
              "tickcolor": "rgb(36,36,36)",
              "ticks": "outside"
             }
            },
            "type": "parcoords"
           }
          ],
          "pie": [
           {
            "automargin": true,
            "type": "pie"
           }
          ],
          "scatter": [
           {
            "marker": {
             "colorbar": {
              "outlinewidth": 1,
              "tickcolor": "rgb(36,36,36)",
              "ticks": "outside"
             }
            },
            "type": "scatter"
           }
          ],
          "scatter3d": [
           {
            "line": {
             "colorbar": {
              "outlinewidth": 1,
              "tickcolor": "rgb(36,36,36)",
              "ticks": "outside"
             }
            },
            "marker": {
             "colorbar": {
              "outlinewidth": 1,
              "tickcolor": "rgb(36,36,36)",
              "ticks": "outside"
             }
            },
            "type": "scatter3d"
           }
          ],
          "scattercarpet": [
           {
            "marker": {
             "colorbar": {
              "outlinewidth": 1,
              "tickcolor": "rgb(36,36,36)",
              "ticks": "outside"
             }
            },
            "type": "scattercarpet"
           }
          ],
          "scattergeo": [
           {
            "marker": {
             "colorbar": {
              "outlinewidth": 1,
              "tickcolor": "rgb(36,36,36)",
              "ticks": "outside"
             }
            },
            "type": "scattergeo"
           }
          ],
          "scattergl": [
           {
            "marker": {
             "colorbar": {
              "outlinewidth": 1,
              "tickcolor": "rgb(36,36,36)",
              "ticks": "outside"
             }
            },
            "type": "scattergl"
           }
          ],
          "scattermapbox": [
           {
            "marker": {
             "colorbar": {
              "outlinewidth": 1,
              "tickcolor": "rgb(36,36,36)",
              "ticks": "outside"
             }
            },
            "type": "scattermapbox"
           }
          ],
          "scatterpolar": [
           {
            "marker": {
             "colorbar": {
              "outlinewidth": 1,
              "tickcolor": "rgb(36,36,36)",
              "ticks": "outside"
             }
            },
            "type": "scatterpolar"
           }
          ],
          "scatterpolargl": [
           {
            "marker": {
             "colorbar": {
              "outlinewidth": 1,
              "tickcolor": "rgb(36,36,36)",
              "ticks": "outside"
             }
            },
            "type": "scatterpolargl"
           }
          ],
          "scatterternary": [
           {
            "marker": {
             "colorbar": {
              "outlinewidth": 1,
              "tickcolor": "rgb(36,36,36)",
              "ticks": "outside"
             }
            },
            "type": "scatterternary"
           }
          ],
          "surface": [
           {
            "colorbar": {
             "outlinewidth": 1,
             "tickcolor": "rgb(36,36,36)",
             "ticks": "outside"
            },
            "colorscale": [
             [
              0,
              "#440154"
             ],
             [
              0.1111111111111111,
              "#482878"
             ],
             [
              0.2222222222222222,
              "#3e4989"
             ],
             [
              0.3333333333333333,
              "#31688e"
             ],
             [
              0.4444444444444444,
              "#26828e"
             ],
             [
              0.5555555555555556,
              "#1f9e89"
             ],
             [
              0.6666666666666666,
              "#35b779"
             ],
             [
              0.7777777777777778,
              "#6ece58"
             ],
             [
              0.8888888888888888,
              "#b5de2b"
             ],
             [
              1,
              "#fde725"
             ]
            ],
            "type": "surface"
           }
          ],
          "table": [
           {
            "cells": {
             "fill": {
              "color": "rgb(237,237,237)"
             },
             "line": {
              "color": "white"
             }
            },
            "header": {
             "fill": {
              "color": "rgb(217,217,217)"
             },
             "line": {
              "color": "white"
             }
            },
            "type": "table"
           }
          ]
         },
         "layout": {
          "annotationdefaults": {
           "arrowhead": 0,
           "arrowwidth": 1
          },
          "coloraxis": {
           "colorbar": {
            "outlinewidth": 1,
            "tickcolor": "rgb(36,36,36)",
            "ticks": "outside"
           }
          },
          "colorscale": {
           "diverging": [
            [
             0,
             "rgb(103,0,31)"
            ],
            [
             0.1,
             "rgb(178,24,43)"
            ],
            [
             0.2,
             "rgb(214,96,77)"
            ],
            [
             0.3,
             "rgb(244,165,130)"
            ],
            [
             0.4,
             "rgb(253,219,199)"
            ],
            [
             0.5,
             "rgb(247,247,247)"
            ],
            [
             0.6,
             "rgb(209,229,240)"
            ],
            [
             0.7,
             "rgb(146,197,222)"
            ],
            [
             0.8,
             "rgb(67,147,195)"
            ],
            [
             0.9,
             "rgb(33,102,172)"
            ],
            [
             1,
             "rgb(5,48,97)"
            ]
           ],
           "sequential": [
            [
             0,
             "#440154"
            ],
            [
             0.1111111111111111,
             "#482878"
            ],
            [
             0.2222222222222222,
             "#3e4989"
            ],
            [
             0.3333333333333333,
             "#31688e"
            ],
            [
             0.4444444444444444,
             "#26828e"
            ],
            [
             0.5555555555555556,
             "#1f9e89"
            ],
            [
             0.6666666666666666,
             "#35b779"
            ],
            [
             0.7777777777777778,
             "#6ece58"
            ],
            [
             0.8888888888888888,
             "#b5de2b"
            ],
            [
             1,
             "#fde725"
            ]
           ],
           "sequentialminus": [
            [
             0,
             "#440154"
            ],
            [
             0.1111111111111111,
             "#482878"
            ],
            [
             0.2222222222222222,
             "#3e4989"
            ],
            [
             0.3333333333333333,
             "#31688e"
            ],
            [
             0.4444444444444444,
             "#26828e"
            ],
            [
             0.5555555555555556,
             "#1f9e89"
            ],
            [
             0.6666666666666666,
             "#35b779"
            ],
            [
             0.7777777777777778,
             "#6ece58"
            ],
            [
             0.8888888888888888,
             "#b5de2b"
            ],
            [
             1,
             "#fde725"
            ]
           ]
          },
          "colorway": [
           "#1F77B4",
           "#FF7F0E",
           "#2CA02C",
           "#D62728",
           "#9467BD",
           "#8C564B",
           "#E377C2",
           "#7F7F7F",
           "#BCBD22",
           "#17BECF"
          ],
          "font": {
           "color": "rgb(36,36,36)"
          },
          "geo": {
           "bgcolor": "white",
           "lakecolor": "white",
           "landcolor": "white",
           "showlakes": true,
           "showland": true,
           "subunitcolor": "white"
          },
          "hoverlabel": {
           "align": "left"
          },
          "hovermode": "closest",
          "mapbox": {
           "style": "light"
          },
          "paper_bgcolor": "white",
          "plot_bgcolor": "white",
          "polar": {
           "angularaxis": {
            "gridcolor": "rgb(232,232,232)",
            "linecolor": "rgb(36,36,36)",
            "showgrid": false,
            "showline": true,
            "ticks": "outside"
           },
           "bgcolor": "white",
           "radialaxis": {
            "gridcolor": "rgb(232,232,232)",
            "linecolor": "rgb(36,36,36)",
            "showgrid": false,
            "showline": true,
            "ticks": "outside"
           }
          },
          "scene": {
           "xaxis": {
            "backgroundcolor": "white",
            "gridcolor": "rgb(232,232,232)",
            "gridwidth": 2,
            "linecolor": "rgb(36,36,36)",
            "showbackground": true,
            "showgrid": false,
            "showline": true,
            "ticks": "outside",
            "zeroline": false,
            "zerolinecolor": "rgb(36,36,36)"
           },
           "yaxis": {
            "backgroundcolor": "white",
            "gridcolor": "rgb(232,232,232)",
            "gridwidth": 2,
            "linecolor": "rgb(36,36,36)",
            "showbackground": true,
            "showgrid": false,
            "showline": true,
            "ticks": "outside",
            "zeroline": false,
            "zerolinecolor": "rgb(36,36,36)"
           },
           "zaxis": {
            "backgroundcolor": "white",
            "gridcolor": "rgb(232,232,232)",
            "gridwidth": 2,
            "linecolor": "rgb(36,36,36)",
            "showbackground": true,
            "showgrid": false,
            "showline": true,
            "ticks": "outside",
            "zeroline": false,
            "zerolinecolor": "rgb(36,36,36)"
           }
          },
          "shapedefaults": {
           "fillcolor": "black",
           "line": {
            "width": 0
           },
           "opacity": 0.3
          },
          "ternary": {
           "aaxis": {
            "gridcolor": "rgb(232,232,232)",
            "linecolor": "rgb(36,36,36)",
            "showgrid": false,
            "showline": true,
            "ticks": "outside"
           },
           "baxis": {
            "gridcolor": "rgb(232,232,232)",
            "linecolor": "rgb(36,36,36)",
            "showgrid": false,
            "showline": true,
            "ticks": "outside"
           },
           "bgcolor": "white",
           "caxis": {
            "gridcolor": "rgb(232,232,232)",
            "linecolor": "rgb(36,36,36)",
            "showgrid": false,
            "showline": true,
            "ticks": "outside"
           }
          },
          "title": {
           "x": 0.05
          },
          "xaxis": {
           "automargin": true,
           "gridcolor": "rgb(232,232,232)",
           "linecolor": "rgb(36,36,36)",
           "showgrid": false,
           "showline": true,
           "ticks": "outside",
           "title": {
            "standoff": 15
           },
           "zeroline": false,
           "zerolinecolor": "rgb(36,36,36)"
          },
          "yaxis": {
           "automargin": true,
           "gridcolor": "rgb(232,232,232)",
           "linecolor": "rgb(36,36,36)",
           "showgrid": false,
           "showline": true,
           "ticks": "outside",
           "title": {
            "standoff": 15
           },
           "zeroline": false,
           "zerolinecolor": "rgb(36,36,36)"
          }
         }
        },
        "title": {
         "text": "Song Lyric Embeddings",
         "x": 0.19,
         "xanchor": "center",
         "y": 0.95,
         "yanchor": "top"
        },
        "xaxis": {
         "anchor": "y",
         "domain": [
          0,
          1
         ],
         "title": {
          "text": "t-SNE dimension 1"
         }
        },
        "yaxis": {
         "anchor": "x",
         "domain": [
          0,
          1
         ],
         "title": {
          "text": "t-SNE dimension 2"
         }
        }
       }
      },
      "text/html": [
       "<div>\n",
       "        \n",
       "        \n",
       "            <div id=\"9c4301c8-304f-45ba-9da4-87272e9cf01f\" class=\"plotly-graph-div\" style=\"height:525px; width:100%;\"></div>\n",
       "            <script type=\"text/javascript\">\n",
       "                require([\"plotly\"], function(Plotly) {\n",
       "                    window.PLOTLYENV=window.PLOTLYENV || {};\n",
       "                    \n",
       "                if (document.getElementById(\"9c4301c8-304f-45ba-9da4-87272e9cf01f\")) {\n",
       "                    Plotly.newPlot(\n",
       "                        '9c4301c8-304f-45ba-9da4-87272e9cf01f',\n",
       "                        [{\"customdata\": [[\"Snoop Dogg\", \"The One And Only (Edited)\"], [\"Snoop Dogg\", \"Sexual Eruption\"], [\"Snoop Dogg\", \"Show Me Love (Explicit)\"], [\"Snoop Dogg\", \"Beat Up On Yo Pads\"], [\"Snoop Dogg\", \"Gin And Juice II (Explicit)\"], [\"Snoop Dogg\", \"2 Of Amereicaz Most Wanted\"], [\"Snoop Dogg\", \"Snoop D.O. Double G\"], [\"Snoop Dogg\", \"Look Out\"], [\"Snoop Dogg\", \"Bang Out\"], [\"Snoop Dogg\", \"Betta Days (Explicit)\"], [\"Snoop Dogg\", \"Pimp Slapp'd (Edited)\"], [\"Snoop Dogg\", \"Dolomite Intro (Explicit)\"], [\"Snoop Dogg\", \"A Message 2 Fat Cuzz (Edited)\"], [\"Snoop Dogg\", \"Why Did You Leave Me\"], [\"Snoop Dogg\", \"Snoopafella (Edited)\"], [\"Snoop Dogg\", \"10 Lil' Crips\"], [\"Snoop Dogg\", \"Straight Ballin'\"], [\"Snoop Dogg\", \"Hustle And Ball (Explicit)\"], [\"Snoop Dogg\", \"Dogghouse\"], [\"Snoop Dogg\", \"Fresh Pair of Panties On\"], [\"Snoop Dogg\", \"Those Gurlz\"], [\"Snoop Dogg\", \"Upside Down (Explicit)\"], [\"Snoop Dogg\", \"Sets Up\"], [\"Snoop Dogg\", \"Snoop Dogg Intro\"]], \"hovertemplate\": \"artist=%{customdata[0]}<br>t-SNE dimension 1=%{x}<br>t-SNE dimension 2=%{y}<br>title=%{customdata[1]}<extra></extra>\", \"legendgroup\": \"Snoop Dogg\", \"marker\": {\"color\": \"#1F77B4\", \"opacity\": 0.8, \"size\": 15, \"symbol\": \"circle\"}, \"mode\": \"markers\", \"name\": \"Snoop Dogg\", \"showlegend\": true, \"type\": \"scatter\", \"x\": [12.02261734008789, 12.611482620239258, 11.389323234558105, 12.465433120727539, 13.809954643249512, 13.365623474121094, 11.724719047546387, 14.0655517578125, 13.614028930664062, 12.236190795898438, 13.181790351867676, 8.54517936706543, 2.001079797744751, 14.051029205322266, 9.455069541931152, 11.23013687133789, 13.12591552734375, 11.532280921936035, 11.27861213684082, 11.629487991333008, 11.588382720947266, 12.810932159423828, 13.565901756286621, 8.898372650146484], \"xaxis\": \"x\", \"y\": [-4.888263702392578, -5.270711421966553, -4.925568580627441, -5.800121307373047, -3.3271265029907227, 2.6905922889709473, -0.928300142288208, 3.3482704162597656, 3.370138645172119, 2.3101918697357178, 3.28458833694458, -4.102611064910889, -7.499300479888916, -2.308967351913452, 0.3514349162578583, -2.870929479598999, -3.323723316192627, -3.182996988296509, -4.188971996307373, -1.6433727741241455, -6.399422645568848, -4.364020347595215, -5.472446441650391, -4.7158355712890625], \"yaxis\": \"y\"}, {\"customdata\": [[\"Blink-182\", \"Not Now\"], [\"Blink-182\", \"A New Hope\"], [\"Blink-182\", \"Man Overboard\"], [\"Blink-182\", \"Asthenia\"], [\"Blink-182\", \"All Of This\"], [\"Blink-182\", \"Carousel\"], [\"Blink-182\", \"Shut Up\"], [\"Blink-182\", \"Stay Together For The Kids\"], [\"Blink-182\", \"Every Time I Look For You\"], [\"Blink-182\", \"Does My Breath Smell?\"], [\"Blink-182\", \"Roller Coaster\"], [\"Blink-182\", \"21 Days\"], [\"Blink-182\", \"GO\"], [\"Blink-182\", \"Dumpweed\"], [\"Blink-182\", \"Toast and Bananas\"], [\"Blink-182\", \"Always\"], [\"Blink-182\", \"Reebok Commercial\"], [\"Blink-182\", \"I Won't Be Home For Christmas\"], [\"Blink-182\", \"Rich Lips\"], [\"Blink-182\", \"First Date\"], [\"Blink-182\", \"Depends\"], [\"Blink-182\", \"Anthem Part Two\"], [\"Blink-182\", \"Dysentery Gary\"], [\"Blink-182\", \"Wendy Clear\"], [\"Blink-182\", \"Reckless Abandon\"], [\"Blink-182\", \"Mutt\"], [\"Blink-182\", \"Touchdown Boy\"], [\"Blink-182\", \"Adam's Song\"], [\"Blink-182\", \"The Rock Show\"], [\"Blink-182\", \"Give Me One Good Reason\"], [\"Blink-182\", \"Skit 13 (Blink 182 / 008811237929)\"], [\"Blink-182\", \"My Pet Sally\"], [\"Blink-182\", \"I'm Sorry\"], [\"Blink-182\", \"Story Of A Lonely Guy\"], [\"Blink-182\", \"Aliens Exist\"], [\"Blink-182\", \"Another Girl Another Planet\"], [\"Blink-182\", \"M+M's\"], [\"Blink-182\", \"Ben Wah Balls\"], [\"Blink-182\", \"Happy Holidays_ You Bastard\"], [\"Blink-182\", \"Degenerate\"], [\"Blink-182\", \"The Girl Next Door\"], [\"Blink-182\", \"Strings\"], [\"Blink-182\", \"Pathetic\"], [\"Blink-182\", \"Point of View\"], [\"Blink-182\", \"Please Take Me Home\"], [\"Blink-182\", \"What's My Age Again?\"], [\"Blink-182\", \"All The Small Things\"], [\"Blink-182\", \"Untitled\"], [\"Blink-182\", \"Violence\"], [\"Blink-182\", \"Boring\"], [\"Blink-182\", \"Time\"], [\"Blink-182\", \"Romeo and Rebecca\"], [\"Blink-182\", \"Skit 4 (Blink 182 / 008811237929)\"], [\"Blink-182\", \"Toast & Bananas\"], [\"Blink-182\", \"Don't Leave Me\"], [\"Blink-182\", \"Blew Job\"], [\"Blink-182\", \"Feeling This\"], [\"Blink-182\", \"TV\"], [\"Blink-182\", \"Emo\"], [\"Blink-182\", \"Apple Shampoo\"], [\"Blink-182\", \"Romeo & Rebecca\"], [\"Blink-182\", \"The Party Song\"], [\"Blink-182\", \"Peggy Sue\"], [\"Blink-182\", \"The Fallen Interlude\"], [\"Blink-182\", \"Enthused\"], [\"Blink-182\", \"Online Songs\"], [\"Blink-182\", \"Voyeur\"], [\"Blink-182\", \"I Miss You\"], [\"Blink-182\", \"Going Away To College\"], [\"Blink-182\", \"Fentoozler\"], [\"Blink-182\", \"I'm Lost Without You\"], [\"Blink-182\", \"Lemmings\"], [\"Blink-182\", \"Skit 12 (Blink 182 / 008811237929)\"], [\"Blink-182\", \"Stockholm Syndrome\"]], \"hovertemplate\": \"artist=%{customdata[0]}<br>t-SNE dimension 1=%{x}<br>t-SNE dimension 2=%{y}<br>title=%{customdata[1]}<extra></extra>\", \"legendgroup\": \"Blink-182\", \"marker\": {\"color\": \"#FF7F0E\", \"opacity\": 0.8, \"size\": 15, \"symbol\": \"circle\"}, \"mode\": \"markers\", \"name\": \"Blink-182\", \"showlegend\": true, \"type\": \"scatter\", \"x\": [-11.78492259979248, -1.2417293787002563, -3.546501874923706, -4.4080095291137695, 1.7194944620132446, 7.73802375793457, 5.7558817863464355, -5.27542781829834, -6.36754846572876, 0.41183188557624817, -1.8885869979858398, -5.944765567779541, 2.4626734256744385, -0.10858072340488434, -1.2794642448425293, 2.0661721229553223, 2.572256326675415, 6.796043872833252, 4.629025936126709, 2.2654924392700195, 8.909446716308594, -1.9268556833267212, 7.818443775177002, 3.3902013301849365, 4.479219436645508, 0.16418896615505219, 8.9191255569458, 0.4313511252403259, 5.710592269897461, 2.8627607822418213, 6.708183765411377, 6.396519660949707, -6.285228252410889, -3.930428981781006, 3.3136441707611084, -0.13669778406620026, -0.32003358006477356, 6.1210856437683105, 5.237949848175049, 11.335197448730469, 5.9665727615356445, 1.5974323749542236, 3.0503597259521484, -7.172080993652344, -3.94511079788208, 2.705474853515625, 6.495556354522705, 2.820160150527954, -1.3375577926635742, -4.888912677764893, 4.554693698883057, -1.3833905458450317, 4.637691020965576, -1.3017733097076416, -0.01881919428706169, 8.315130233764648, -3.979839563369751, 3.4685795307159424, -1.5663241147994995, -3.4748144149780273, -1.328218698501587, 3.520172357559204, 0.7496342658996582, 4.488559246063232, -0.42356666922569275, -9.37824535369873, 8.302923202514648, -3.271491050720215, 5.324845790863037, 4.799044609069824, -8.23343276977539, -0.3833903670310974, 6.268874168395996, -9.295848846435547], \"xaxis\": \"x\", \"y\": [-2.789674758911133, 6.2864556312561035, -1.5793137550354004, -4.195541858673096, -4.216484069824219, -3.1708922386169434, -3.7867424488067627, -0.22527004778385162, 2.534503936767578, -7.0169219970703125, 7.241648197174072, -7.714694499969482, -4.901425838470459, -4.76538610458374, 1.3397331237792969, -5.866238117218018, 5.6336750984191895, 6.79520845413208, -8.91672134399414, -5.622602939605713, 1.9888620376586914, -1.4544960260391235, -8.542462348937988, -4.054641246795654, -4.728710651397705, -1.8629487752914429, 4.460070610046387, 7.477996349334717, -0.6880394220352173, -3.9944701194763184, 3.971557140350342, 2.9121763706207275, -0.487824946641922, 2.972714424133301, -4.038497447967529, -3.7491888999938965, 5.51812744140625, -3.372488260269165, -3.6866793632507324, -1.113336205482483, 4.787675857543945, -0.40496182441711426, -3.416682481765747, 15.172258377075195, -3.801314115524292, -5.565762519836426, 1.0233685970306396, 0.8445154428482056, 0.4723304212093353, -6.981070041656494, 2.1849427223205566, 2.7563540935516357, -8.911032676696777, 1.3299132585525513, -1.0919040441513062, -4.46617317199707, 5.653302192687988, -1.1064832210540771, -5.204317569732666, -3.1717216968536377, 2.763437032699585, 2.3257322311401367, -1.3035725355148315, 2.520500421524048, -4.4706902503967285, -1.4980459213256836, 0.01679796725511551, -0.46554964780807495, -2.7341251373291016, -4.979868412017822, -5.460628986358643, -2.3776204586029053, 0.6613256335258484, -0.839393138885498], \"yaxis\": \"y\"}, {\"customdata\": [[\"Red Hot Chili Peppers\", \"Get On Top (Album Version)\"], [\"Red Hot Chili Peppers\", \"Naked In The Rain (Album Version)\"], [\"Red Hot Chili Peppers\", \"Venice Queen (Album Version)\"], [\"Red Hot Chili Peppers\", \"Snow [Hey Oh] [Live Version]\"], [\"Red Hot Chili Peppers\", \"American Ghost Dance (2003 Digital Remastered)\"], [\"Red Hot Chili Peppers\", \"Emit Remmus (Album Version)\"], [\"Red Hot Chili Peppers\", \"The Greeting Song (Album Version)\"], [\"Red Hot Chili Peppers\", \"Hard To Concentrate (Album Version)\"], [\"Red Hot Chili Peppers\", \"I'll Be Your Domino (Non-Album Track)\"], [\"Red Hot Chili Peppers\", \"Buckle Down (2002 Digital Remaster)\"], [\"Red Hot Chili Peppers\", \"I Could Die For You (Album Version)\"], [\"Red Hot Chili Peppers\", \"Love Trilogy (2003 Digital Remaster) ()\"], [\"Red Hot Chili Peppers\", \"Knock Me Down (2003 Digital Remaster)\"], [\"Red Hot Chili Peppers\", \"She's Only 18 (Album Version)\"], [\"Red Hot Chili Peppers\", \"Behind The Sun (Instrumental Demo) (2002 Digital Remaster)\"], [\"Red Hot Chili Peppers\", \"Wet Sand (Album Version)\"], [\"Red Hot Chili Peppers\", \"Road Trippin' (Album Version)\"], [\"Red Hot Chili Peppers\", \"Mercy Mercy (Non-Album Track)\"], [\"Red Hot Chili Peppers\", \"Baby Appeal (2002 Digital Remastser) ()\"], [\"Red Hot Chili Peppers\", \"Lovin' And Touchin' (2003 Digitally Remastered)\"], [\"Red Hot Chili Peppers\", \"The Zephyr Song (Album Version)\"], [\"Red Hot Chili Peppers\", \"Universally Speaking (Album Version)\"], [\"Red Hot Chili Peppers\", \"Good Time Boys (2003 Digital Remaster)\"], [\"Red Hot Chili Peppers\", \"Minor Thing (Album Version)\"], [\"Red Hot Chili Peppers\", \"Hollywood (Africa) (2003 Digitally Remastered)\"], [\"Red Hot Chili Peppers\", \"You Always Sing The Same (2002 Digital Remaster)\"], [\"Red Hot Chili Peppers\", \"Turn It Again (Album Version)\"], [\"Red Hot Chili Peppers\", \"Funky Monks (Album Version)\"], [\"Red Hot Chili Peppers\", \"Lately (Non-Album Track)\"], [\"Red Hot Chili Peppers\", \"Apache Rose Peacock (Album Version)\"], [\"Red Hot Chili Peppers\", \"She Looks To Me (Album Version)\"], [\"Red Hot Chili Peppers\", \"Hollywood (Africa)\"], [\"Red Hot Chili Peppers\", \"Higher Ground (Album Version)\"], [\"Red Hot Chili Peppers\", \"Warm Tape (Album Version)\"], [\"Red Hot Chili Peppers\", \"Blues For Meister\"], [\"Red Hot Chili Peppers\", \"Castles Made Of Sand (Studio) (Bonus Track)\"], [\"Red Hot Chili Peppers\", \"Stadium Arcadium (Album Version)\"], [\"Red Hot Chili Peppers\", \"Around The World (Album Version)\"], [\"Red Hot Chili Peppers\", \"Millionaires Against Hunger (2002 Digital Remastser) (Explicit)\"], [\"Red Hot Chili Peppers\", \"Throw Away Your Television (Album Version)\"], [\"Red Hot Chili Peppers\", \"Especially In Michigan (Album Version)\"], [\"Red Hot Chili Peppers\", \"Police Helicopter (Demo Version) (2003 Digital Remaster)\"], [\"Red Hot Chili Peppers\", \"Mellowship Slinky In B Major (Album Version)\"], [\"Red Hot Chili Peppers\", \"Yertle The Turtle (2003 Digitally Remastered)\"], [\"Red Hot Chili Peppers\", \"Nobody Weird Like Me (2003 Digital Remaster)\"], [\"Red Hot Chili Peppers\", \"On Mercury (Album Version)\"], [\"Red Hot Chili Peppers\", \"Magic Johnson (2003 Digital Remaster)\"], [\"Red Hot Chili Peppers\", \"Parallel Universe (Album Version)\"], [\"Red Hot Chili Peppers\", \"C'mon Girl (Album Version)\"], [\"Red Hot Chili Peppers\", \"If You Want Me To Stay (Pink Mustang Mix)\"], [\"Red Hot Chili Peppers\", \"Thirty Dirty Birds (2003 Digitally Remastered)\"], [\"Red Hot Chili Peppers\", \"Let's Make Evil (Bonus Track)\"], [\"Red Hot Chili Peppers\", \"What It Is (AKA Nina's Song) (Demo) (Digitally Remastered 02) ()\"], [\"Red Hot Chili Peppers\", \"Green Heaven (Demo Version) (Digitally Remastered 02) ()\"], [\"Red Hot Chili Peppers\", \"Hollywood (Africa) (Extended Dance Mix)\"], [\"Red Hot Chili Peppers\", \"Shallow Be Thy Game (Album Version)\"], [\"Red Hot Chili Peppers\", \"Tell Me Baby (Album Version)\"], [\"Red Hot Chili Peppers\", \"My Lovely Man (Album Version)\"], [\"Red Hot Chili Peppers\", \"Blood Sugar Sex Magik (Album Version)\"], [\"Red Hot Chili Peppers\", \"Save This Lady (Non-Album Track)\"], [\"Red Hot Chili Peppers\", \"I Like Dirt (Album Version)\"], [\"Red Hot Chili Peppers\", \"Storm In A Teacup (Album Version)\"], [\"Red Hot Chili Peppers\", \"Breaking The Girl (Album Version)\"], [\"Red Hot Chili Peppers\", \"You Always Sing The Same (Demo)\"], [\"Red Hot Chili Peppers\", \"Deep Kick (Album Version)\"], [\"Red Hot Chili Peppers\", \"Blackeyed Blonde (2003 Digitally Remastered)\"], [\"Red Hot Chili Peppers\", \"Falling Into Grace (Album Version)\"], [\"Red Hot Chili Peppers\", \"Soul To Squeeze (Album Version)\"], [\"Red Hot Chili Peppers\", \"Right On Time (Album Version)\"], [\"Red Hot Chili Peppers\", \"Stranded (Demo)\"], [\"Red Hot Chili Peppers\", \"Me And My Friends (2003 Digital Remaster)\"], [\"Red Hot Chili Peppers\", \"Subterranean Homesick Blues (2003 Digital Remaster)\"], [\"Red Hot Chili Peppers\", \"Skinny Sweaty Man (2003 Digital Remaster)\"], [\"Red Hot Chili Peppers\", \"Behind The Sun\"], [\"Red Hot Chili Peppers\", \"Hump de Bump (Album Version)\"], [\"Red Hot Chili Peppers\", \"Under The Bridge (Album Version)\"], [\"Red Hot Chili Peppers\", \"Give It Away (Album Version)\"], [\"Red Hot Chili Peppers\", \"Salute To Kareem (Demo)\"], [\"Red Hot Chili Peppers\", \"Get Up and Jump (Demo Version) (Digitally Remastered 02) ()\"], [\"Red Hot Chili Peppers\", \"Desecration Smile (Album Version)\"], [\"Red Hot Chili Peppers\", \"Organic Anti-Beat Box Band (2003 Digital Remaster)\"], [\"Red Hot Chili Peppers\", \"The Righteous And The Wicked (Album Version)\"], [\"Red Hot Chili Peppers\", \"Freaky Styley (2003 Digitally Remastered)\"], [\"Red Hot Chili Peppers\", \"Strip My Mind (Album Version)\"], [\"Red Hot Chili Peppers\", \"Why Don't You Love Me (2002 Digital Remaster)\"], [\"Red Hot Chili Peppers\", \"Jungle Man\"], [\"Red Hot Chili Peppers\", \"Over Funk (Bonus Track)\"], [\"Red Hot Chili Peppers\", \"Taste The Pain\"], [\"Red Hot Chili Peppers\", \"Death Of A Martian (Album Version)\"], [\"Red Hot Chili Peppers\", \"Fire (2003 Digital Remaster)\"], [\"Red Hot Chili Peppers\", \"True Men Don't Kill Coyotes (24-Bit Digitally Remastered 02)\"], [\"Red Hot Chili Peppers\", \"Knock Me Down (Original Long Version)\"], [\"Red Hot Chili Peppers\", \"I Could Have Lied (Album Version)\"], [\"Red Hot Chili Peppers\", \"Californication (Album Version)\"], [\"Red Hot Chili Peppers\", \"Out In L.A. (2002 Digital Remastser) ()\"], [\"Red Hot Chili Peppers\", \"Slow Cheetah (Album Version)\"]], \"hovertemplate\": \"artist=%{customdata[0]}<br>t-SNE dimension 1=%{x}<br>t-SNE dimension 2=%{y}<br>title=%{customdata[1]}<extra></extra>\", \"legendgroup\": \"Red Hot Chili Peppers\", \"marker\": {\"color\": \"#2CA02C\", \"opacity\": 0.8, \"size\": 15, \"symbol\": \"circle\"}, \"mode\": \"markers\", \"name\": \"Red Hot Chili Peppers\", \"showlegend\": true, \"type\": \"scatter\", \"x\": [14.061867713928223, 4.659088134765625, 8.352967262268066, -7.984272480010986, 1.4558069705963135, 8.912236213684082, 13.189105987548828, 0.9674646258354187, 2.0653512477874756, 9.685155868530273, -10.253776550292969, 2.834866762161255, 1.7768241167068481, 7.689018249511719, -4.615082263946533, 5.550363063812256, 0.7594795823097229, -4.310291290283203, 12.223422050476074, 6.364253520965576, -0.752365231513977, -5.4384918212890625, 12.26838493347168, 9.659327507019043, 12.954582214355469, 5.785226821899414, 12.914953231811523, 5.41356897354126, -1.063736915588379, 10.27839183807373, 1.0571213960647583, 12.970852851867676, -1.4838571548461914, 3.595522880554199, 9.156765937805176, 1.3712300062179565, -3.1082189083099365, 14.689563751220703, 1.5752143859863281, -1.4366521835327148, 3.3093202114105225, 9.767828941345215, 10.415108680725098, 4.061183929443359, 11.176214218139648, 18.463836669921875, 10.32468318939209, 4.623378276824951, 4.0417561531066895, 0.8994793891906738, 8.662042617797852, -2.189042091369629, 4.502214431762695, 6.526679992675781, 11.197332382202148, -0.8221040964126587, 3.2297897338867188, 1.2659070491790771, -1.880133032798767, 8.34197998046875, 3.8252267837524414, 4.740922451019287, -6.887091159820557, 5.724881172180176, 5.570163726806641, 7.341282844543457, 5.483868598937988, 0.5138327479362488, -3.815709352493286, -1.6657603979110718, 12.771931648254395, 7.544348239898682, 7.449912071228027, -4.618947982788086, 11.433611869812012, 7.072324752807617, -3.0281331539154053, 4.773242473602295, 10.945828437805176, -1.1306294202804565, 11.692533493041992, -1.2477748394012451, 3.271885633468628, 9.183663368225098, 10.391741752624512, 7.836656093597412, 5.506453037261963, -8.12472152709961, -1.7066624164581299, 11.117745399475098, 1.4412968158721924, 1.828441858291626, -3.1094417572021484, 2.1239352226257324, 12.896331787109375, -3.857264757156372], \"xaxis\": \"x\", \"y\": [-5.131838321685791, 9.66370964050293, -5.980813026428223, 4.646581649780273, 10.488996505737305, 16.946916580200195, -0.1381044238805771, -1.392970085144043, 1.935937762260437, -3.9363739490509033, -4.957669734954834, -2.1130130290985107, -1.5240195989608765, 3.581284999847412, 14.508176803588867, 5.9260430335998535, 10.756651878356934, -2.03887939453125, 0.7048510313034058, -2.6550545692443848, 7.483595371246338, 10.599616050720215, 8.339540481567383, 2.1755757331848145, 3.1547811031341553, -2.2957918643951416, 9.224017143249512, -8.419224739074707, 11.026874542236328, 4.589389324188232, 7.200088977813721, 3.164628744125366, 7.841353893280029, 12.891844749450684, 4.755887985229492, 13.613728523254395, 6.055115222930908, 5.9523024559021, -2.869319438934326, -1.4179774522781372, 5.062621116638184, 6.566263675689697, 4.366134166717529, 9.85103988647461, 3.2925655841827393, 3.3641810417175293, 3.0425570011138916, 7.531513214111328, 0.7222991585731506, -5.193417072296143, 7.091658592224121, 8.67750358581543, -1.9182538986206055, 1.6613203287124634, -1.2572648525238037, -4.226165771484375, -0.8345798850059509, -2.3405487537384033, 5.693445682525635, 5.271571159362793, 16.912973403930664, 9.770829200744629, 2.401132106781006, -2.284245014190674, 3.9689390659332275, 9.420400619506836, -8.283919334411621, 5.087445259094238, -8.063338279724121, 8.544317245483398, -0.33745574951171875, -3.844928741455078, 4.397663593292236, 14.512601852416992, 6.844235897064209, 1.436604380607605, 9.049458503723145, 7.533775329589844, -1.3115352392196655, 6.775632381439209, -1.9495428800582886, -0.5769855380058289, -0.9799582362174988, 9.837895393371582, 8.600696563720703, 8.542510032653809, -2.0774636268615723, 5.015120506286621, 8.834210395812988, -1.9876800775527954, 5.3975443840026855, -1.4099042415618896, -8.335225105285645, 0.5889196991920471, -0.2713681757450104, -4.544517517089844], \"yaxis\": \"y\"}, {\"customdata\": [[\"Eminem\", \"Ricky Ticky Toc\"], [\"Eminem\", \"The Way I Am\"], [\"Eminem\", \"Beautiful\"], [\"Eminem\", \"Paul\"], [\"Eminem\", \"Hailie's Song\"], [\"Eminem\", \"Without Me\"], [\"Eminem\", \"8 Mile\"], [\"Eminem\", \"Dr. West\"], [\"Eminem\", \"Curtains Up\"], [\"Eminem\", \"Yellow Brick Road\"], [\"Eminem\", \"If I Had\"], [\"Eminem\", \"Em Calls Paul (skit)\"], [\"Eminem\", \"When I'm Gone\"], [\"Eminem\", \"Bad Influence\"], [\"Eminem\", \"'97 Bonnie & Clyde\"], [\"Eminem\", \"Rock Bottom\"], [\"Eminem\", \"Careful What You Wish For\"], [\"Eminem\", \"Puke\"], [\"Eminem\", \"My Darling\"], [\"Eminem\", \"Public Service Announcement\"], [\"Eminem\", \"Just Don't Give\"], [\"Eminem\", \"We As Americans\"], [\"Eminem\", \"Ken Kaniff\"], [\"Eminem\", \"Shady Narcotics\"], [\"Eminem\", \"Love You More\"], [\"Eminem\", \"Square Dance\"], [\"Eminem\", \"Still Don't Give\"], [\"Eminem\", \"Hazardous Youth\"], [\"Eminem\", \"Tonya\"], [\"Eminem\", \"Criminal\"], [\"Eminem\", \"FACK\"], [\"Eminem\", \"Public Enemy #1\"], [\"Eminem\", \"My 1st Single\"], [\"Eminem\", \"**** You\"], [\"Eminem\", \"My Name Is\"], [\"Eminem\", \"Any Man\"], [\"Eminem\", \"Cleanin' Out My Closet\"], [\"Eminem\", \"Curtains Close\"], [\"Eminem\", \"The Kids\"], [\"Eminem\", \"The Kiss\"], [\"Eminem\", \"Cum On Everybody\"], [\"Eminem\", \"Rabbit Run\"], [\"Eminem\", \"Sing For The Moment\"], [\"Eminem\", \"Lose Yourself\"], [\"Eminem\", \"Paul (skit)\"], [\"Eminem\", \"The Conspiracy (Freestyle)\"], [\"Eminem\", \"Like Toy Soldiers\"], [\"Eminem\", \"Marshall Mathers\"], [\"Eminem\", \"Mockingbird\"], [\"Eminem\", \"Mr. Mathers\"], [\"Eminem\", \"No Apologies\"]], \"hovertemplate\": \"artist=%{customdata[0]}<br>t-SNE dimension 1=%{x}<br>t-SNE dimension 2=%{y}<br>title=%{customdata[1]}<extra></extra>\", \"legendgroup\": \"Eminem\", \"marker\": {\"color\": \"#D62728\", \"opacity\": 0.8, \"size\": 15, \"symbol\": \"circle\"}, \"mode\": \"markers\", \"name\": \"Eminem\", \"showlegend\": true, \"type\": \"scatter\", \"x\": [10.10013198852539, 10.507609367370605, 7.677149295806885, 4.284065246582031, 7.939253807067871, 7.4168572425842285, 8.456562995910645, 0.7147215008735657, 8.241268157958984, 12.533061027526855, 13.889168739318848, 14.726287841796875, 4.2861104011535645, 13.515549659729004, 14.23442554473877, 12.167669296264648, 11.72517204284668, 4.644543647766113, 2.927441358566284, 12.647127151489258, 12.654219627380371, 12.751165390014648, 10.074577331542969, 11.281131744384766, 10.43303108215332, 10.908573150634766, 12.297059059143066, 11.895851135253906, 7.539965629577637, 11.52688980102539, 12.355323791503906, 7.2442426681518555, 12.40493106842041, 11.852505683898926, 7.53232479095459, 9.938780784606934, 7.981229782104492, 11.286413192749023, 6.215920448303223, 12.708413124084473, 10.425337791442871, 6.683711051940918, 7.266102313995361, 7.90250301361084, 12.304891586303711, 9.321624755859375, 9.241303443908691, 11.103642463684082, 7.117836952209473, 8.816483497619629, 10.44813346862793], \"xaxis\": \"x\", \"y\": [-4.588938236236572, -4.446570873260498, -4.790039539337158, -6.8855109214782715, -5.950784206390381, -1.1425470113754272, -3.295243263244629, -3.0866613388061523, -3.77243709564209, -1.137142539024353, 2.5856242179870605, 1.9480187892913818, 1.1174076795578003, 4.585975170135498, 1.35407555103302, 4.387701511383057, 3.4934442043304443, -5.187798500061035, -0.6288962960243225, 0.2471655011177063, 3.8491621017456055, 3.628032684326172, 6.737092018127441, 0.6369204521179199, 0.5170817375183105, 2.2594962120056152, 3.762022018432617, 3.386791467666626, 0.41419872641563416, 2.3337371349334717, -1.06540846824646, 7.23461389541626, 0.015633463859558105, 0.7584638595581055, 1.21885347366333, -0.9343067407608032, 0.10616649687290192, -5.76754093170166, -1.4611845016479492, -5.572490215301514, -3.5386829376220703, -2.598170042037964, -5.166894435882568, -3.6917011737823486, -7.911141395568848, -4.241081714630127, -4.563266277313232, -5.466136455535889, -5.472283840179443, -1.3644275665283203, -4.43751859664917], \"yaxis\": \"y\"}, {\"customdata\": [[\"Eric Clapton\", \"Hello Old Friend\"], [\"Eric Clapton\", \"When You Got A Good Friend (Album Version)\"], [\"Eric Clapton\", \"Tulsa Time\"], [\"Eric Clapton\", \"Floating Bridge\"], [\"Eric Clapton\", \"Blues Power\"], [\"Eric Clapton\", \"Further On Up The Road\"], [\"Eric Clapton\", \"Wonderful Tonight\"], [\"Eric Clapton\", \"I Want A Little Girl (Live)\"], [\"Eric Clapton\", \"Willie And The Hand Jive\"], [\"Eric Clapton\", \"Can't Find My Way Home\"], [\"Eric Clapton\", \"Love Don't Love Nobody (Album Version)\"], [\"Eric Clapton\", \"Alberta\"], [\"Eric Clapton\", \"Come Back Baby (Album Version)\"], [\"Eric Clapton\", \"We're All The Way\"], [\"Eric Clapton\", \"Lay Down Sally\"], [\"Eric Clapton\", \"Someday After A While (Live) (Album Version)\"], [\"Eric Clapton\", \"Bell Bottom Blues (Live)\"], [\"Eric Clapton\", \"Standin' Round Crying (Live) (Album Version)\"], [\"Eric Clapton\", \"Tangled In Love (Album Version)\"], [\"Eric Clapton\", \"Forever Man (Album Version)\"], [\"Eric Clapton\", \"Let It Grow\"], [\"Eric Clapton\", \"Cocaine\"], [\"Eric Clapton\", \"Holy Mother (Album Version)\"], [\"Eric Clapton\", \"Singin' The Blues\"], [\"Eric Clapton\", \"It's In The Way That You Use It (Album Version)\"], [\"Eric Clapton\", \"The Core\"], [\"Eric Clapton\", \"All Our Past Times\"], [\"Eric Clapton\", \"Bottle Of Red Wine\"], [\"Eric Clapton\", \"Little Wing\"], [\"Eric Clapton\", \"Hound Dog (Album Version)\"], [\"Eric Clapton\", \"Swing Low Sweet Chariot\"], [\"Eric Clapton\", \"Meet Me (Down At The Bottom)\"], [\"Eric Clapton\", \"Hoochie Coochie Man  (Live) (Album Version)\"], [\"Eric Clapton\", \"Rita Mae\"], [\"Eric Clapton\", \"Breaking Point  (Album Version)\"], [\"Eric Clapton\", \"Early In The Morning\"], [\"Eric Clapton\", \"Blues Leave Me Alone  (Live)  (Album Version)\"], [\"Eric Clapton\", \"After Midnight\"], [\"Eric Clapton\", \"I'm Tore Down  (Live) (Album Version)\"], [\"Eric Clapton\", \"How Long Blues  (Live)  (Album Version)\"], [\"Eric Clapton\", \"Kind Hearted Woman\"], [\"Eric Clapton\", \"It All Depends (Album Version)\"], [\"Eric Clapton\", \"Double Trouble\"], [\"Eric Clapton\", \"Beware Of Darkness (LP Version)\"], [\"Eric Clapton\", \"Key To The Highway (Live)\"], [\"Eric Clapton\", \"Driftin' (Live)  (Album Version)\"], [\"Eric Clapton\", \"Take A Chance (Album Version)\"], [\"Eric Clapton\", \"Smile\"], [\"Eric Clapton\", \"Kind Hearted Woman Blues (Album Version)\"], [\"Eric Clapton\", \"Before You Accuse Me (Unplugged CD Version)\"], [\"Eric Clapton\", \"Little Queen Of Spades (Album Version)\"], [\"Eric Clapton\", \"Roll It\"], [\"Eric Clapton\", \"I'm Going Left (Album Version)\"], [\"Eric Clapton\", \"Crosscut Saw (LP Version)\"], [\"Eric Clapton\", \"Pretending\"], [\"Eric Clapton\", \"I Shot The Sheriff\"], [\"Eric Clapton\", \"Little Rachel\"], [\"Eric Clapton\", \"Watch Yourself (Live) (Album Version)\"], [\"Eric Clapton\", \"Badge\"], [\"Eric Clapton\", \"Going Down Slow (Album Version)\"], [\"Eric Clapton\", \"Me And The Devil Blues (Album Version)\"], [\"Eric Clapton\", \"Knockin' On Heaven's Door\"], [\"Eric Clapton\", \"Let It Rain\"], [\"Eric Clapton\", \"Please Be With Me\"], [\"Eric Clapton\", \"Tears In Heaven\"], [\"Eric Clapton\", \"Before You Accuse Me (Take A Look At Yourself)\"], [\"Eric Clapton\", \"Have You Ever Loved A Woman\"], [\"Eric Clapton\", \"Behind The Mask (Album Version)\"], [\"Eric Clapton\", \"Don't Think Twice_ It's All Right\"], [\"Eric Clapton\", \"Knock On Wood  (Album Version)\"], [\"Eric Clapton\", \"Layla [Unplugged Version]\"]], \"hovertemplate\": \"artist=%{customdata[0]}<br>t-SNE dimension 1=%{x}<br>t-SNE dimension 2=%{y}<br>title=%{customdata[1]}<extra></extra>\", \"legendgroup\": \"Eric Clapton\", \"marker\": {\"color\": \"#9467BD\", \"opacity\": 0.8, \"size\": 15, \"symbol\": \"circle\"}, \"mode\": \"markers\", \"name\": \"Eric Clapton\", \"showlegend\": true, \"type\": \"scatter\", \"x\": [5.069786548614502, -1.3632121086120605, 7.02028751373291, 6.004810333251953, 11.938693046569824, 5.332034587860107, 0.2328057885169983, 8.404007911682129, 10.726472854614258, -2.377938985824585, -4.001409530639648, 4.893976211547852, 6.4319562911987305, -6.9072418212890625, 14.72993278503418, -3.378662347793579, -2.211049795150757, 6.03059196472168, -1.7348047494888306, -7.351652145385742, -13.488842964172363, 7.3897271156311035, -13.582233428955078, 9.98206901550293, -3.450460433959961, -4.7761759757995605, -5.791545867919922, 4.946539402008057, 1.7841777801513672, 7.958902835845947, 11.11111831665039, 10.732918739318848, 5.996995449066162, 6.994242191314697, -6.57658052444458, 10.405009269714355, 7.804361343383789, 12.02466869354248, 6.807735919952393, 9.324501037597656, 6.189226150512695, 0.013658489100635052, 1.7903941869735718, -9.690577507019043, 9.10428237915039, -0.37290212512016296, -13.200926780700684, -3.6753764152526855, 6.071671962738037, 9.536179542541504, 9.177226066589355, 11.900269508361816, -6.95274019241333, 13.25179386138916, -8.817641258239746, 2.2548463344573975, 12.0037260055542, 8.595084190368652, 5.222080230712891, 8.019453048706055, 9.709742546081543, 16.85883140563965, -14.136768341064453, -14.692259788513184, -11.167315483093262, 9.521693229675293, -7.286015033721924, -0.9656514525413513, 8.996601104736328, 9.21016788482666, -2.884376287460327], \"xaxis\": \"x\", \"y\": [7.947685241699219, -6.781122207641602, 2.7899248600006104, 10.411942481994629, -1.0915260314941406, 4.2627034187316895, 4.686317443847656, -1.063056468963623, -11.777000427246094, 1.6163561344146729, -4.935298442840576, 2.1112961769104004, -1.2955317497253418, -2.600173234939575, 9.890174865722656, -1.685497760772705, 3.4399044513702393, 4.286462306976318, -6.161023139953613, -10.350546836853027, 9.345900535583496, 4.969021797180176, 4.046173572540283, 3.955716371536255, -3.273214101791382, 3.769843101501465, -6.979308128356934, 0.6469096541404724, 9.711463928222656, -11.534335136413574, 8.615927696228027, 6.703629016876221, -10.712065696716309, 4.420802593231201, -2.962808609008789, 0.48662009835243225, 8.17654037475586, -1.7736841440200806, -13.279633522033691, 7.813505172729492, -9.160896301269531, -6.4789533615112305, -7.788507461547852, -2.405747652053833, 8.595307350158691, -2.693514108657837, 2.052067756652832, 5.873908042907715, -9.046764373779297, 2.7122561931610107, -0.9281343817710876, -0.8293145895004272, -0.8467663526535034, 1.180815577507019, -2.5573370456695557, -0.08817549794912338, 0.7667392492294312, 5.0514960289001465, 6.930232048034668, -12.46596622467041, 7.738162994384766, 4.365380764007568, 1.0794904232025146, -6.448050498962402, -3.8313395977020264, 2.7265655994415283, -10.550372123718262, 2.1197187900543213, 7.367912769317627, -9.592360496520996, -6.576274394989014], \"yaxis\": \"y\"}, {\"customdata\": [[\"Avenged Sevenfold\", \"Streets\"], [\"Avenged Sevenfold\", \"Brompton Cocktail (Album Version)\"], [\"Avenged Sevenfold\", \"I Won't See You Tonight Part 2\"], [\"Avenged Sevenfold\", \"Remenissions\"], [\"Avenged Sevenfold\", \"I Won't See You Tonight Part 1\"], [\"Avenged Sevenfold\", \"Dear God (Album Version)\"], [\"Avenged Sevenfold\", \"Breaking Their Hold\"], [\"Avenged Sevenfold\", \"Waking the Fallen\"], [\"Avenged Sevenfold\", \"And All Things Will End\"], [\"Avenged Sevenfold\", \"Crossroads (Non-Album Track)\"], [\"Avenged Sevenfold\", \"Eternal Rest\"], [\"Avenged Sevenfold\", \"M.I.A. (Album Version)\"], [\"Avenged Sevenfold\", \"Afterlife (Album Version)\"], [\"Avenged Sevenfold\", \"Critical Acclaim (Amended Version)\"], [\"Avenged Sevenfold\", \"Turn The Other Way\"], [\"Avenged Sevenfold\", \"Radiant Eclipse\"], [\"Avenged Sevenfold\", \"To End The Rapture\"], [\"Avenged Sevenfold\", \"Warmness On The Soul\"], [\"Avenged Sevenfold\", \"A Little Piece Of Heaven (Album Version)\"], [\"Avenged Sevenfold\", \"Second Heartbeat\"], [\"Avenged Sevenfold\", \"Shattered By Broken Dreams\"], [\"Avenged Sevenfold\", \"Clairvoyant Disease\"], [\"Avenged Sevenfold\", \"Darkness Surrounding\"], [\"Avenged Sevenfold\", \"Unholy Confessions\"], [\"Avenged Sevenfold\", \"The Wicked End (Album Version)\"], [\"Avenged Sevenfold\", \"We Come Out At Night\"], [\"Avenged Sevenfold\", \"The Art Of Subconscious Illusion\"], [\"Avenged Sevenfold\", \"Forgotten Faces\"], [\"Avenged Sevenfold\", \"An Epic Of Time Wasted\"], [\"Avenged Sevenfold\", \"Burn It Down (Live In San Diego)\"], [\"Avenged Sevenfold\", \"Desecrate Through Reverence\"], [\"Avenged Sevenfold\", \"Chapter Four\"], [\"Avenged Sevenfold\", \"Lips Of Deceit\"], [\"Avenged Sevenfold\", \"Strength Of The World (Album Version)\"], [\"Avenged Sevenfold\", \"Unbound [The Wild Ride] (Album Version)\"], [\"Avenged Sevenfold\", \"Thick And Thin\"]], \"hovertemplate\": \"artist=%{customdata[0]}<br>t-SNE dimension 1=%{x}<br>t-SNE dimension 2=%{y}<br>title=%{customdata[1]}<extra></extra>\", \"legendgroup\": \"Avenged Sevenfold\", \"marker\": {\"color\": \"#8C564B\", \"opacity\": 0.8, \"size\": 15, \"symbol\": \"circle\"}, \"mode\": \"markers\", \"name\": \"Avenged Sevenfold\", \"showlegend\": true, \"type\": \"scatter\", \"x\": [13.376471519470215, -8.511052131652832, -9.142927169799805, -5.119451999664307, -12.569552421569824, -7.36473274230957, -8.204839706420898, -13.954330444335938, -6.238142013549805, -9.833647727966309, -14.79245376586914, -13.33375072479248, -11.635176658630371, -3.6895275115966797, -10.259374618530273, -8.421893119812012, -6.04276180267334, -10.27121353149414, 5.062047004699707, -7.226163864135742, -9.864916801452637, -8.070182800292969, -7.757768154144287, -7.951414108276367, -7.545595645904541, -3.999237537384033, -0.5650714635848999, -7.80782413482666, -7.871849536895752, -4.032217502593994, -9.195272445678711, -9.213766098022461, -6.081501007080078, -3.9264016151428223, -8.320242881774902, -1.0297908782958984], \"xaxis\": \"x\", \"y\": [-4.663560390472412, -2.015446186065674, 1.8268951177597046, 1.2028779983520508, 4.311548709869385, -0.11696665734052658, -1.8624470233917236, 6.649916172027588, 1.8624882698059082, -1.7723426818847656, 8.024206161499023, 2.6889593601226807, 2.467512369155884, -3.7514290809631348, 7.715253829956055, 7.00413179397583, 6.915741443634033, -4.824760437011719, -7.514050006866455, -1.3154475688934326, -4.646460056304932, 3.1984267234802246, 6.236360549926758, 0.6346442103385925, 5.907671928405762, 8.356925010681152, 2.5462422370910645, 3.2024383544921875, -0.9593510031700134, -0.41904011368751526, -1.877408504486084, 7.057756423950195, 2.439793825149536, 9.057361602783203, -0.3902430832386017, -2.8876562118530273], \"yaxis\": \"y\"}, {\"customdata\": [[\"Linkin Park\", \"Crawling (Album Version)\"], [\"Linkin Park\", \"Given Up (Album Version)\"], [\"Linkin Park\", \"One Step Closer [Live At Milton Keynes]\"], [\"Linkin Park\", \"Wth>You (Album Version)\"], [\"Linkin Park\", \"In Pieces [Live From Projekt Revolution_ Washington DC_ Aug. 19 '07]\"], [\"Linkin Park\", \"Papercut [Recorded Live At BBC1]\"], [\"Linkin Park\", \"Given Up [Third Encore Session]\"], [\"Linkin Park\", \"Breaking The Habit (Album Version)\"], [\"Linkin Park\", \"Valentine's Day [Live From Frankfurt Germany_ Jan 20 '08]\"], [\"Linkin Park\", \"Points Of Authority (Live In Texas)\"], [\"Linkin Park\", \"Faint [Live In Japan]\"], [\"Linkin Park\", \"My<Dsmbr (Album Version)\"], [\"Linkin Park\", \"Lying From You (Live In Texas)\"], [\"Linkin Park\", \"By Myself (Album Version)\"], [\"Linkin Park\", \"In Between [Live From London UK_ Jan 29 '08]\"], [\"Linkin Park\", \"Runaway (Album Version)\"], [\"Linkin Park\", \"High Voltage\"], [\"Linkin Park\", \"Easier To Run [Live LP Underground Tour 2003]\"], [\"Linkin Park\", \"Kyur4 Th Ich (Album Version)\"], [\"Linkin Park\", \"Buy Myself [Manson Remix] (Non-Album Track)\"], [\"Linkin Park\", \"Numb (Live In Texas)\"], [\"Linkin Park\", \"Rnw@y (Album Version)\"], [\"Linkin Park\", \"New Divide [A Cappella Version]\"], [\"Linkin Park\", \"Plc.4 Mie Haed (Album Version)\"], [\"Linkin Park\", \"In The End (Album Version)\"], [\"Linkin Park\", \"Given Up [Live At Milton Keynes]\"], [\"Linkin Park\", \"Cure For The Itch (Album Version)\"], [\"Linkin Park\", \"Hands Held High (Album Version)\"], [\"Linkin Park\", \"My December\"], [\"Linkin Park\", \"From The Inside [Live LP Underground Tour 2003]\"], [\"Linkin Park\", \"Leave Out All The Rest (Single Version)\"], [\"Linkin Park\", \"1stp Klosr (Album Version)\"], [\"Linkin Park\", \"In The End [Live At Milton Keynes]\"], [\"Linkin Park\", \"Pushing Me Away [Live At Milton Keynes]\"], [\"Linkin Park\", \"Runaway (Live In Texas)\"], [\"Linkin Park\", \"What I've Done [Distorted Remix]\"], [\"Linkin Park\", \"Breaking The Habit [Live At Milton Keynes]\"], [\"Linkin Park\", \"One Step Closer (Album Version)\"], [\"Linkin Park\", \"Shadow Of The Day [Live At Milton Keynes]\"], [\"Linkin Park\", \"H! Vltg3 (Album Version)\"], [\"Linkin Park\", \"In Pieces [Live From SoHo]\"], [\"Linkin Park\", \"Leave Out All The Rest [Live] (Album Version Edit)\"], [\"Linkin Park\", \"Enth E Nd (Album Version)\"], [\"Linkin Park\", \"Nobody's Listening (Album Version)\"], [\"Linkin Park\", \"A Place For My Head (Album Version)\"], [\"Linkin Park\", \"Bleed It Out [Live From Live Earth]\"], [\"Linkin Park\", \"From The Inside [Live In Japan]\"], [\"Linkin Park\", \"The Little Things Give You Away [Live At Milton Keynes]\"], [\"Linkin Park\", \"With You (Album Version)\"], [\"Linkin Park\", \"Riff Raff (Album Version)\"], [\"Linkin Park\", \"Frgt/10 (Album Version)\"], [\"Linkin Park\", \"Crawling (Live In Texas)\"], [\"Linkin Park\", \"Figure.09 (Album Version)\"], [\"Linkin Park\", \"New Divide (Album Version)\"], [\"Linkin Park\", \"X-Ecutioner Style (Album Version)\"], [\"Linkin Park\", \"What I've Done (Album Version)\"], [\"Linkin Park\", \"In The End (Live In Texas)\"], [\"Linkin Park\", \"One Step Closer (Live In Texas)\"], [\"Linkin Park\", \"Pushing Me Away (Album Version)\"], [\"Linkin Park\", \"My December [Live Project Rev. 2002]\"], [\"Linkin Park\", \"P5hng Me A*wy (Album Version)\"], [\"Linkin Park\", \"Leave Out All The Rest [Live From Projekt Revolution_ Detroit MI_ Aug. 22 '07]\"], [\"Linkin Park\", \"No More Sorrow [Live At Milton Keynes]\"], [\"Linkin Park\", \"Points Of Authority (Album Version)\"], [\"Linkin Park\", \"Lying From You [Live LP Underground Tour 2003]\"], [\"Linkin Park\", \"Lying From You [Live At Milton Keynes]\"], [\"Linkin Park\", \"From The Inside [Live At Milton Keynes]\"], [\"Linkin Park\", \"Shadow Of The Day (Album Version)\"]], \"hovertemplate\": \"artist=%{customdata[0]}<br>t-SNE dimension 1=%{x}<br>t-SNE dimension 2=%{y}<br>title=%{customdata[1]}<extra></extra>\", \"legendgroup\": \"Linkin Park\", \"marker\": {\"color\": \"#E377C2\", \"opacity\": 0.8, \"size\": 15, \"symbol\": \"circle\"}, \"mode\": \"markers\", \"name\": \"Linkin Park\", \"showlegend\": true, \"type\": \"scatter\", \"x\": [-9.360217094421387, -7.679488182067871, 1.6326814889907837, -8.933836936950684, -19.586408615112305, -7.638731002807617, -7.708306789398193, -6.051281452178955, -6.490767478942871, 3.6564159393310547, -9.513059616088867, -5.480592250823975, -10.267054557800293, -7.801016330718994, -9.318572998046875, 0.07736915349960327, 12.346952438354492, -13.455001831054688, 5.678053855895996, -7.7258992195129395, 10.66065788269043, 9.11711597442627, -16.031402587890625, -4.971770286560059, -19.3717098236084, -7.714649200439453, 5.70629358291626, 5.434504985809326, -5.849750518798828, 0.07719937711954117, -10.018158912658691, -0.6263508200645447, -19.37187957763672, -19.281753540039062, 1.902880311012268, -10.174727439880371, -6.0557684898376465, -0.6266224980354309, -15.168140411376953, 7.68858003616333, -19.587617874145508, -10.026290893554688, 4.2149152755737305, 4.965535640716553, -4.974301338195801, 1.3593404293060303, 0.0773986428976059, -7.570970058441162, -7.203462600708008, 7.664589881896973, 5.661166191101074, -9.360862731933594, -7.58173131942749, -16.03416633605957, 9.249147415161133, -10.150822639465332, -19.3686466217041, -0.6270689368247986, -19.288169860839844, -11.446002960205078, -19.293601989746094, -8.750373840332031, -3.640385389328003, 3.656501293182373, -10.26728630065918, -10.268195152282715, 0.07693382352590561, -15.171260833740234], \"xaxis\": \"x\", \"y\": [-12.232644081115723, -5.191827774047852, 0.29382598400115967, -0.08397117257118225, 4.966444969177246, 4.653897285461426, -5.208326816558838, -6.710436820983887, 8.0548095703125, 18.02216148376465, -8.70313549041748, 1.0197391510009766, -11.548173904418945, -0.9853988885879517, -6.263731956481934, 21.085830688476562, 5.141534328460693, 4.695083141326904, -2.1831579208374023, -1.0052791833877563, 3.4839894771575928, 2.468299388885498, 11.129783630371094, -7.884224891662598, -4.774550437927246, -5.175114631652832, -2.141663074493408, 4.27106237411499, 4.018632888793945, 21.085969924926758, 1.6549270153045654, 20.468250274658203, -4.774908065795898, -4.728456020355225, 1.7712361812591553, -1.6989456415176392, -6.68143892288208, 20.468130111694336, 10.284412384033203, -1.5670397281646729, 4.967113018035889, 1.6373294591903687, -5.607240200042725, -2.2298343181610107, -7.879903793334961, 5.747204303741455, 21.085721969604492, 6.1639299392700195, 4.988685607910156, -4.428351879119873, 8.550704956054688, -12.233586311340332, -0.35395389795303345, 11.13212776184082, -2.0168063640594482, -1.6808876991271973, -4.774003505706787, 20.4695987701416, -4.732312202453613, -1.6114444732666016, -4.735212326049805, -6.833014011383057, -2.503915309906006, 18.022523880004883, -11.5476655960083, -11.547670364379883, 21.082477569580078, 10.287208557128906], \"yaxis\": \"y\"}, {\"customdata\": [[\"The Who\", \"Slip Kid\"], [\"The Who\", \"Daily Records\"], [\"The Who\", \"Man With Money\"], [\"The Who\", \"Disguises\"], [\"The Who\", \"Tommy Can You Hear Me?\"], [\"The Who\", \"The Quiet One\"], [\"The Who\", \"Pure And Easy\"], [\"The Who\", \"I Like Nightmares\"], [\"The Who\", \"A Quick One While He's Away\"], [\"The Who\", \"Don't Look Away\"], [\"The Who\", \"Behind Blue Eyes\"], [\"The Who\", \"Christmas\"], [\"The Who\", \"Trilby's Piano\"], [\"The Who\", \"Tattoo\"], [\"The Who\", \"Success Story\"], [\"The Who\", \"Relax\"], [\"The Who\", \"Fiddle About\"], [\"The Who\", \"A Man In A Purple Dress\"], [\"The Who\", \"1921\"], [\"The Who\", \"My Wife\"], [\"The Who\", \"Eyesight To The Blind (The Hawker)\"], [\"The Who\", \"Don't Let Go The Coat\"], [\"The Who\", \"Boris The Spider\"], [\"The Who\", \"Love Reign O'er Me\"], [\"The Who\", \"Welcome\"], [\"The Who\", \"Heat Wave\"], [\"The Who\", \"Dr. Jimmy\"], [\"The Who\", \"Sensation\"], [\"The Who\", \"Sunrise\"], [\"The Who\", \"Magic Bus\"], [\"The Who\", \"Miracle Cure\"], [\"The Who\", \"Mary Anne With The Shaky Hand\"], [\"The Who\", \"You Stand By Me\"], [\"The Who\", \"Summertime Blues\"], [\"The Who\", \"Let's See Action\"], [\"The Who\", \"Tea & Theatre\"], [\"The Who\", \"Who Are You\"], [\"The Who\", \"Young Man Blues\"], [\"The Who\", \"Love Ain't For Keeping\"], [\"The Who\", \"Cache Cache\"], [\"The Who\", \"La La La Lies\"], [\"The Who\", \"Squeeze Box\"], [\"The Who\", \"Relay\"], [\"The Who\", \"Too Much Of Anything\"], [\"The Who\", \"The Kids Are Alright\"], [\"The Who\", \"I Can See For Miles\"], [\"The Who\", \"God Speaks_ of Marty Robbins\"], [\"The Who\", \"Sparks\"], [\"The Who\", \"I'm A Boy\"], [\"The Who\", \"Sister Disco\"], [\"The Who\", \"Eminence Front\"], [\"The Who\", \"Substitute\"], [\"The Who\", \"Doctor_ Doctor\"], [\"The Who\", \"My Generation\"], [\"The Who\", \"Long Live Rock\"], [\"The Who\", \"Odorono\"], [\"The Who\", \"It's Hard\"], [\"The Who\", \"I'm Free\"], [\"The Who\", \"Amazing Journey\"], [\"The Who\", \"Happy Jack\"], [\"The Who\", \"Endless Wire\"], [\"The Who\", \"Shout And Shimmy\"], [\"The Who\", \"Medac\"], [\"The Who\", \"Water\"], [\"The Who\", \"I Don't Even Know Myself\"], [\"The Who\", \"Music Must Change\"], [\"The Who\", \"Just You And Me_ Darling\"], [\"The Who\", \"Empty Glass\"], [\"The Who\", \"I Can't Explain\"], [\"The Who\", \"Mike Post Theme\"], [\"The Who\", \"You Better You Bet\"], [\"The Who\", \"Pinball Wizard\"], [\"The Who\", \"Sound Round\"], [\"The Who\", \"Heinz Baked Beans\"], [\"The Who\", \"See Me_ Feel Me\"]], \"hovertemplate\": \"artist=%{customdata[0]}<br>t-SNE dimension 1=%{x}<br>t-SNE dimension 2=%{y}<br>title=%{customdata[1]}<extra></extra>\", \"legendgroup\": \"The Who\", \"marker\": {\"color\": \"#7F7F7F\", \"opacity\": 0.8, \"size\": 15, \"symbol\": \"circle\"}, \"mode\": \"markers\", \"name\": \"The Who\", \"showlegend\": true, \"type\": \"scatter\", \"x\": [1.8892967700958252, 7.532039642333984, 10.158783912658691, -2.4568302631378174, 6.469234943389893, -3.557079553604126, -7.339496612548828, 0.09020976722240448, 1.978838562965393, -0.6233300566673279, -3.461188793182373, 0.06399663537740707, -13.763381004333496, -8.984930038452148, 6.744996070861816, 6.535702705383301, 12.78268051147461, -2.807380437850952, -6.898027420043945, 14.049257278442383, 2.5329701900482178, 2.5149917602539062, 0.3887932598590851, -0.0762450098991394, 1.5536704063415527, 1.2146447896957397, 7.747051239013672, -12.151895523071289, -8.920949935913086, 11.213412284851074, 1.7445532083511353, 8.068981170654297, 9.414325714111328, -13.387297630310059, -6.883884906768799, 0.14377659559249878, 12.762785911560059, 9.41288948059082, 9.08295726776123, 2.4861233234405518, -4.3461456298828125, 16.932252883911133, 4.477429389953613, 5.963503360748291, 5.184277057647705, -4.679196357727051, -3.535346508026123, -2.9368057250976562, 0.29665806889533997, 5.525440692901611, 5.356845378875732, 7.409402847290039, 8.57171630859375, 4.054006099700928, 11.637322425842285, 0.11931776255369186, 0.3352520167827606, 8.15597915649414, -2.9314825534820557, 5.522611141204834, -9.43437385559082, 13.774801254272461, 3.4320521354675293, 10.575043678283691, 0.5004331469535828, 5.929962635040283, 9.40674114227295, 5.744905471801758, 0.38269495964050293, 0.7658204436302185, 10.66003704071045, -3.8906588554382324, -5.434414386749268, 6.6542439460754395, 1.994335412979126], \"xaxis\": \"x\", \"y\": [3.948932409286499, -5.431718826293945, -7.432536602020264, 2.533377170562744, -2.1250481605529785, 7.8783345222473145, 14.41681957244873, -0.7914757132530212, 4.172771453857422, 4.528317928314209, 5.537554740905762, 4.80624532699585, -6.393390655517578, -5.213712692260742, 11.504942893981934, 9.507926940917969, 4.194568157196045, 11.449804306030273, -3.2036077976226807, 8.450591087341309, -7.471557140350342, 2.5849804878234863, 8.741418838500977, 19.43280601501465, 10.43075942993164, 1.805568814277649, 3.8578262329101562, 10.800007820129395, 7.372751235961914, -11.539046287536621, -4.7139201164245605, 2.7979986667633057, 11.887323379516602, 1.8569716215133667, -9.69300365447998, 7.921072959899902, 2.0994350910186768, 11.88581657409668, 6.718783855438232, 6.215565204620361, -9.645824432373047, 2.6588618755340576, 5.270328998565674, 8.216950416564941, -14.00976848602295, 8.466394424438477, 10.158337593078613, -3.6004722118377686, 2.7529830932617188, 3.2988545894622803, 11.97896671295166, 5.945769786834717, 2.1372053623199463, -6.614981651306152, 8.721248626708984, -4.7382330894470215, -1.7260632514953613, -12.315580368041992, -3.5892434120178223, 12.316397666931152, 12.813776969909668, -1.9300082921981812, 5.352071762084961, -4.6607794761657715, -6.644058704376221, 9.860912322998047, 11.878266334533691, 5.833855628967285, -4.307157039642334, 1.6331998109817505, 5.643601417541504, -4.518579483032227, 6.289469242095947, 5.279279708862305, -5.670537948608398], \"yaxis\": \"y\"}, {\"customdata\": [[\"The Strokes\", \"15 Minutes\"], [\"The Strokes\", \"The Modern Age\"], [\"The Strokes\", \"Razorblade\"], [\"The Strokes\", \"Life's A Gas\"], [\"The Strokes\", \"Clampdown\"], [\"The Strokes\", \"I'll Try Anything Once\"], [\"The Strokes\", \"Electricityscape\"], [\"The Strokes\", \"Hard To Explain\"], [\"The Strokes\", \"New York City Cops\"], [\"The Strokes\", \"Heart In A Cage\"], [\"The Strokes\", \"Juicebox\"], [\"The Strokes\", \"You Only Live Once\"], [\"The Strokes\", \"Red Light\"], [\"The Strokes\", \"Trying Your Luck\"], [\"The Strokes\", \"Take It Or Leave It\"], [\"The Strokes\", \"Someday\"], [\"The Strokes\", \"Fear Of Sleep\"], [\"The Strokes\", \"Alone_ Together\"], [\"The Strokes\", \"Reptilia\"], [\"The Strokes\", \"Killing Lies\"], [\"The Strokes\", \"Is This It\"], [\"The Strokes\", \"Last Nite\"], [\"The Strokes\", \"Modern Girls And Old Fashion Men\"], [\"The Strokes\", \"Between Love & Hate\"]], \"hovertemplate\": \"artist=%{customdata[0]}<br>t-SNE dimension 1=%{x}<br>t-SNE dimension 2=%{y}<br>title=%{customdata[1]}<extra></extra>\", \"legendgroup\": \"The Strokes\", \"marker\": {\"color\": \"#BCBD22\", \"opacity\": 0.8, \"size\": 15, \"symbol\": \"circle\"}, \"mode\": \"markers\", \"name\": \"The Strokes\", \"showlegend\": true, \"type\": \"scatter\", \"x\": [6.011702060699463, -0.006711877416819334, -0.19676068425178528, -2.508495330810547, -0.5207023620605469, -0.155048206448555, -2.984743595123291, -2.8898861408233643, 9.927690505981445, -2.467912197113037, 7.306460380554199, 0.7368917465209961, -1.534013271331787, 0.03857513517141342, -1.2109036445617676, -3.6256024837493896, 4.203364849090576, -12.466111183166504, -0.2568516433238983, -1.2820504903793335, -6.284375190734863, 7.617892742156982, 0.7154080867767334, -1.353023648262024], \"xaxis\": \"x\", \"y\": [3.882606029510498, 11.30734920501709, -5.96728515625, -5.470501899719238, -7.322607517242432, -7.569400310516357, 5.563385963439941, -4.130876541137695, 7.357606410980225, 7.1054840087890625, 14.78487491607666, -0.04431268572807312, 6.239023208618164, 3.0979626178741455, -4.285966396331787, -2.6334116458892822, -0.27829211950302124, 2.791513204574585, 7.358675956726074, -5.097805500030518, -2.2970428466796875, 0.7269651889801025, -5.032769680023193, -4.15562629699707], \"yaxis\": \"y\"}, {\"customdata\": [[\"Tame Impala\", \"Wander\"], [\"Tame Impala\", \"Slide Through My Fingers\"], [\"Tame Impala\", \"41 Mosquitoes Flying In Formation\"], [\"Tame Impala\", \"Desire Be Desire Go\"], [\"Tame Impala\", \"Skeleton Tiger\"], [\"Tame Impala\", \"Half Full Glass Of Wine\"]], \"hovertemplate\": \"artist=%{customdata[0]}<br>t-SNE dimension 1=%{x}<br>t-SNE dimension 2=%{y}<br>title=%{customdata[1]}<extra></extra>\", \"legendgroup\": \"Tame Impala\", \"marker\": {\"color\": \"#17BECF\", \"opacity\": 0.8, \"size\": 15, \"symbol\": \"circle\"}, \"mode\": \"markers\", \"name\": \"Tame Impala\", \"showlegend\": true, \"type\": \"scatter\", \"x\": [6.557861804962158, -3.1882100105285645, 1.6228554248809814, -7.343591690063477, 9.07383918762207, 0.21558907628059387], \"xaxis\": \"x\", \"y\": [4.463770866394043, 1.5566346645355225, -1.4205923080444336, -1.3958979845046997, 8.025744438171387, 3.1323485374450684], \"yaxis\": \"y\"}],\n",
       "                        {\"legend\": {\"title\": {\"text\": \"artist\"}, \"tracegroupgap\": 0}, \"margin\": {\"t\": 60}, \"template\": {\"data\": {\"bar\": [{\"error_x\": {\"color\": \"rgb(36,36,36)\"}, \"error_y\": {\"color\": \"rgb(36,36,36)\"}, \"marker\": {\"line\": {\"color\": \"white\", \"width\": 0.5}}, \"type\": \"bar\"}], \"barpolar\": [{\"marker\": {\"line\": {\"color\": \"white\", \"width\": 0.5}}, \"type\": \"barpolar\"}], \"carpet\": [{\"aaxis\": {\"endlinecolor\": \"rgb(36,36,36)\", \"gridcolor\": \"white\", \"linecolor\": \"white\", \"minorgridcolor\": \"white\", \"startlinecolor\": \"rgb(36,36,36)\"}, \"baxis\": {\"endlinecolor\": \"rgb(36,36,36)\", \"gridcolor\": \"white\", \"linecolor\": \"white\", \"minorgridcolor\": \"white\", \"startlinecolor\": \"rgb(36,36,36)\"}, \"type\": \"carpet\"}], \"choropleth\": [{\"colorbar\": {\"outlinewidth\": 1, \"tickcolor\": \"rgb(36,36,36)\", \"ticks\": \"outside\"}, \"type\": \"choropleth\"}], \"contour\": [{\"colorbar\": {\"outlinewidth\": 1, \"tickcolor\": \"rgb(36,36,36)\", \"ticks\": \"outside\"}, \"colorscale\": [[0.0, \"#440154\"], [0.1111111111111111, \"#482878\"], [0.2222222222222222, \"#3e4989\"], [0.3333333333333333, \"#31688e\"], [0.4444444444444444, \"#26828e\"], [0.5555555555555556, \"#1f9e89\"], [0.6666666666666666, \"#35b779\"], [0.7777777777777778, \"#6ece58\"], [0.8888888888888888, \"#b5de2b\"], [1.0, \"#fde725\"]], \"type\": \"contour\"}], \"contourcarpet\": [{\"colorbar\": {\"outlinewidth\": 1, \"tickcolor\": \"rgb(36,36,36)\", \"ticks\": \"outside\"}, \"type\": \"contourcarpet\"}], \"heatmap\": [{\"colorbar\": {\"outlinewidth\": 1, \"tickcolor\": \"rgb(36,36,36)\", \"ticks\": \"outside\"}, \"colorscale\": [[0.0, \"#440154\"], [0.1111111111111111, \"#482878\"], [0.2222222222222222, \"#3e4989\"], [0.3333333333333333, \"#31688e\"], [0.4444444444444444, \"#26828e\"], [0.5555555555555556, \"#1f9e89\"], [0.6666666666666666, \"#35b779\"], [0.7777777777777778, \"#6ece58\"], [0.8888888888888888, \"#b5de2b\"], [1.0, \"#fde725\"]], \"type\": \"heatmap\"}], \"heatmapgl\": [{\"colorbar\": {\"outlinewidth\": 1, \"tickcolor\": \"rgb(36,36,36)\", \"ticks\": \"outside\"}, \"colorscale\": [[0.0, \"#440154\"], [0.1111111111111111, \"#482878\"], [0.2222222222222222, \"#3e4989\"], [0.3333333333333333, \"#31688e\"], [0.4444444444444444, \"#26828e\"], [0.5555555555555556, \"#1f9e89\"], [0.6666666666666666, \"#35b779\"], [0.7777777777777778, \"#6ece58\"], [0.8888888888888888, \"#b5de2b\"], [1.0, \"#fde725\"]], \"type\": \"heatmapgl\"}], \"histogram\": [{\"marker\": {\"line\": {\"color\": \"white\", \"width\": 0.6}}, \"type\": \"histogram\"}], \"histogram2d\": [{\"colorbar\": {\"outlinewidth\": 1, \"tickcolor\": \"rgb(36,36,36)\", \"ticks\": \"outside\"}, \"colorscale\": [[0.0, \"#440154\"], [0.1111111111111111, \"#482878\"], [0.2222222222222222, \"#3e4989\"], [0.3333333333333333, \"#31688e\"], [0.4444444444444444, \"#26828e\"], [0.5555555555555556, \"#1f9e89\"], [0.6666666666666666, \"#35b779\"], [0.7777777777777778, \"#6ece58\"], [0.8888888888888888, \"#b5de2b\"], [1.0, \"#fde725\"]], \"type\": \"histogram2d\"}], \"histogram2dcontour\": [{\"colorbar\": {\"outlinewidth\": 1, \"tickcolor\": \"rgb(36,36,36)\", \"ticks\": \"outside\"}, \"colorscale\": [[0.0, \"#440154\"], [0.1111111111111111, \"#482878\"], [0.2222222222222222, \"#3e4989\"], [0.3333333333333333, \"#31688e\"], [0.4444444444444444, \"#26828e\"], [0.5555555555555556, \"#1f9e89\"], [0.6666666666666666, \"#35b779\"], [0.7777777777777778, \"#6ece58\"], [0.8888888888888888, \"#b5de2b\"], [1.0, \"#fde725\"]], \"type\": \"histogram2dcontour\"}], \"mesh3d\": [{\"colorbar\": {\"outlinewidth\": 1, \"tickcolor\": \"rgb(36,36,36)\", \"ticks\": \"outside\"}, \"type\": \"mesh3d\"}], \"parcoords\": [{\"line\": {\"colorbar\": {\"outlinewidth\": 1, \"tickcolor\": \"rgb(36,36,36)\", \"ticks\": \"outside\"}}, \"type\": \"parcoords\"}], \"pie\": [{\"automargin\": true, \"type\": \"pie\"}], \"scatter\": [{\"marker\": {\"colorbar\": {\"outlinewidth\": 1, \"tickcolor\": \"rgb(36,36,36)\", \"ticks\": \"outside\"}}, \"type\": \"scatter\"}], \"scatter3d\": [{\"line\": {\"colorbar\": {\"outlinewidth\": 1, \"tickcolor\": \"rgb(36,36,36)\", \"ticks\": \"outside\"}}, \"marker\": {\"colorbar\": {\"outlinewidth\": 1, \"tickcolor\": \"rgb(36,36,36)\", \"ticks\": \"outside\"}}, \"type\": \"scatter3d\"}], \"scattercarpet\": [{\"marker\": {\"colorbar\": {\"outlinewidth\": 1, \"tickcolor\": \"rgb(36,36,36)\", \"ticks\": \"outside\"}}, \"type\": \"scattercarpet\"}], \"scattergeo\": [{\"marker\": {\"colorbar\": {\"outlinewidth\": 1, \"tickcolor\": \"rgb(36,36,36)\", \"ticks\": \"outside\"}}, \"type\": \"scattergeo\"}], \"scattergl\": [{\"marker\": {\"colorbar\": {\"outlinewidth\": 1, \"tickcolor\": \"rgb(36,36,36)\", \"ticks\": \"outside\"}}, \"type\": \"scattergl\"}], \"scattermapbox\": [{\"marker\": {\"colorbar\": {\"outlinewidth\": 1, \"tickcolor\": \"rgb(36,36,36)\", \"ticks\": \"outside\"}}, \"type\": \"scattermapbox\"}], \"scatterpolar\": [{\"marker\": {\"colorbar\": {\"outlinewidth\": 1, \"tickcolor\": \"rgb(36,36,36)\", \"ticks\": \"outside\"}}, \"type\": \"scatterpolar\"}], \"scatterpolargl\": [{\"marker\": {\"colorbar\": {\"outlinewidth\": 1, \"tickcolor\": \"rgb(36,36,36)\", \"ticks\": \"outside\"}}, \"type\": \"scatterpolargl\"}], \"scatterternary\": [{\"marker\": {\"colorbar\": {\"outlinewidth\": 1, \"tickcolor\": \"rgb(36,36,36)\", \"ticks\": \"outside\"}}, \"type\": \"scatterternary\"}], \"surface\": [{\"colorbar\": {\"outlinewidth\": 1, \"tickcolor\": \"rgb(36,36,36)\", \"ticks\": \"outside\"}, \"colorscale\": [[0.0, \"#440154\"], [0.1111111111111111, \"#482878\"], [0.2222222222222222, \"#3e4989\"], [0.3333333333333333, \"#31688e\"], [0.4444444444444444, \"#26828e\"], [0.5555555555555556, \"#1f9e89\"], [0.6666666666666666, \"#35b779\"], [0.7777777777777778, \"#6ece58\"], [0.8888888888888888, \"#b5de2b\"], [1.0, \"#fde725\"]], \"type\": \"surface\"}], \"table\": [{\"cells\": {\"fill\": {\"color\": \"rgb(237,237,237)\"}, \"line\": {\"color\": \"white\"}}, \"header\": {\"fill\": {\"color\": \"rgb(217,217,217)\"}, \"line\": {\"color\": \"white\"}}, \"type\": \"table\"}]}, \"layout\": {\"annotationdefaults\": {\"arrowhead\": 0, \"arrowwidth\": 1}, \"coloraxis\": {\"colorbar\": {\"outlinewidth\": 1, \"tickcolor\": \"rgb(36,36,36)\", \"ticks\": \"outside\"}}, \"colorscale\": {\"diverging\": [[0.0, \"rgb(103,0,31)\"], [0.1, \"rgb(178,24,43)\"], [0.2, \"rgb(214,96,77)\"], [0.3, \"rgb(244,165,130)\"], [0.4, \"rgb(253,219,199)\"], [0.5, \"rgb(247,247,247)\"], [0.6, \"rgb(209,229,240)\"], [0.7, \"rgb(146,197,222)\"], [0.8, \"rgb(67,147,195)\"], [0.9, \"rgb(33,102,172)\"], [1.0, \"rgb(5,48,97)\"]], \"sequential\": [[0.0, \"#440154\"], [0.1111111111111111, \"#482878\"], [0.2222222222222222, \"#3e4989\"], [0.3333333333333333, \"#31688e\"], [0.4444444444444444, \"#26828e\"], [0.5555555555555556, \"#1f9e89\"], [0.6666666666666666, \"#35b779\"], [0.7777777777777778, \"#6ece58\"], [0.8888888888888888, \"#b5de2b\"], [1.0, \"#fde725\"]], \"sequentialminus\": [[0.0, \"#440154\"], [0.1111111111111111, \"#482878\"], [0.2222222222222222, \"#3e4989\"], [0.3333333333333333, \"#31688e\"], [0.4444444444444444, \"#26828e\"], [0.5555555555555556, \"#1f9e89\"], [0.6666666666666666, \"#35b779\"], [0.7777777777777778, \"#6ece58\"], [0.8888888888888888, \"#b5de2b\"], [1.0, \"#fde725\"]]}, \"colorway\": [\"#1F77B4\", \"#FF7F0E\", \"#2CA02C\", \"#D62728\", \"#9467BD\", \"#8C564B\", \"#E377C2\", \"#7F7F7F\", \"#BCBD22\", \"#17BECF\"], \"font\": {\"color\": \"rgb(36,36,36)\"}, \"geo\": {\"bgcolor\": \"white\", \"lakecolor\": \"white\", \"landcolor\": \"white\", \"showlakes\": true, \"showland\": true, \"subunitcolor\": \"white\"}, \"hoverlabel\": {\"align\": \"left\"}, \"hovermode\": \"closest\", \"mapbox\": {\"style\": \"light\"}, \"paper_bgcolor\": \"white\", \"plot_bgcolor\": \"white\", \"polar\": {\"angularaxis\": {\"gridcolor\": \"rgb(232,232,232)\", \"linecolor\": \"rgb(36,36,36)\", \"showgrid\": false, \"showline\": true, \"ticks\": \"outside\"}, \"bgcolor\": \"white\", \"radialaxis\": {\"gridcolor\": \"rgb(232,232,232)\", \"linecolor\": \"rgb(36,36,36)\", \"showgrid\": false, \"showline\": true, \"ticks\": \"outside\"}}, \"scene\": {\"xaxis\": {\"backgroundcolor\": \"white\", \"gridcolor\": \"rgb(232,232,232)\", \"gridwidth\": 2, \"linecolor\": \"rgb(36,36,36)\", \"showbackground\": true, \"showgrid\": false, \"showline\": true, \"ticks\": \"outside\", \"zeroline\": false, \"zerolinecolor\": \"rgb(36,36,36)\"}, \"yaxis\": {\"backgroundcolor\": \"white\", \"gridcolor\": \"rgb(232,232,232)\", \"gridwidth\": 2, \"linecolor\": \"rgb(36,36,36)\", \"showbackground\": true, \"showgrid\": false, \"showline\": true, \"ticks\": \"outside\", \"zeroline\": false, \"zerolinecolor\": \"rgb(36,36,36)\"}, \"zaxis\": {\"backgroundcolor\": \"white\", \"gridcolor\": \"rgb(232,232,232)\", \"gridwidth\": 2, \"linecolor\": \"rgb(36,36,36)\", \"showbackground\": true, \"showgrid\": false, \"showline\": true, \"ticks\": \"outside\", \"zeroline\": false, \"zerolinecolor\": \"rgb(36,36,36)\"}}, \"shapedefaults\": {\"fillcolor\": \"black\", \"line\": {\"width\": 0}, \"opacity\": 0.3}, \"ternary\": {\"aaxis\": {\"gridcolor\": \"rgb(232,232,232)\", \"linecolor\": \"rgb(36,36,36)\", \"showgrid\": false, \"showline\": true, \"ticks\": \"outside\"}, \"baxis\": {\"gridcolor\": \"rgb(232,232,232)\", \"linecolor\": \"rgb(36,36,36)\", \"showgrid\": false, \"showline\": true, \"ticks\": \"outside\"}, \"bgcolor\": \"white\", \"caxis\": {\"gridcolor\": \"rgb(232,232,232)\", \"linecolor\": \"rgb(36,36,36)\", \"showgrid\": false, \"showline\": true, \"ticks\": \"outside\"}}, \"title\": {\"x\": 0.05}, \"xaxis\": {\"automargin\": true, \"gridcolor\": \"rgb(232,232,232)\", \"linecolor\": \"rgb(36,36,36)\", \"showgrid\": false, \"showline\": true, \"ticks\": \"outside\", \"title\": {\"standoff\": 15}, \"zeroline\": false, \"zerolinecolor\": \"rgb(36,36,36)\"}, \"yaxis\": {\"automargin\": true, \"gridcolor\": \"rgb(232,232,232)\", \"linecolor\": \"rgb(36,36,36)\", \"showgrid\": false, \"showline\": true, \"ticks\": \"outside\", \"title\": {\"standoff\": 15}, \"zeroline\": false, \"zerolinecolor\": \"rgb(36,36,36)\"}}}, \"title\": {\"text\": \"Song Lyric Embeddings\", \"x\": 0.19, \"xanchor\": \"center\", \"y\": 0.95, \"yanchor\": \"top\"}, \"xaxis\": {\"anchor\": \"y\", \"domain\": [0.0, 1.0], \"title\": {\"text\": \"t-SNE dimension 1\"}}, \"yaxis\": {\"anchor\": \"x\", \"domain\": [0.0, 1.0], \"title\": {\"text\": \"t-SNE dimension 2\"}}},\n",
       "                        {\"responsive\": true}\n",
       "                    ).then(function(){\n",
       "                            \n",
       "var gd = document.getElementById('9c4301c8-304f-45ba-9da4-87272e9cf01f');\n",
       "var x = new MutationObserver(function (mutations, observer) {{\n",
       "        var display = window.getComputedStyle(gd).display;\n",
       "        if (!display || display === 'none') {{\n",
       "            console.log([gd, 'removed!']);\n",
       "            Plotly.purge(gd);\n",
       "            observer.disconnect();\n",
       "        }}\n",
       "}});\n",
       "\n",
       "// Listen for the removal of the full notebook cells\n",
       "var notebookContainer = gd.closest('#notebook-container');\n",
       "if (notebookContainer) {{\n",
       "    x.observe(notebookContainer, {childList: true});\n",
       "}}\n",
       "\n",
       "// Listen for the clearing of the current output cell\n",
       "var outputEl = gd.closest('.output');\n",
       "if (outputEl) {{\n",
       "    x.observe(outputEl, {childList: true});\n",
       "}}\n",
       "\n",
       "                        })\n",
       "                };\n",
       "                });\n",
       "            </script>\n",
       "        </div>"
      ]
     },
     "metadata": {},
     "output_type": "display_data"
    }
   ],
   "source": [
    "import plotly.express as px\n",
    "\n",
    "for x in [('t-SNE dimension 0','t-SNE dimension 1'),\n",
    "          ('t-SNE dimension 0','t-SNE dimension 2'),\n",
    "          ('t-SNE dimension 1','t-SNE dimension 2')]:\n",
    "    fig = px.scatter(tsne_df_, \n",
    "                     x=x[0],\n",
    "                     y=x[1],\n",
    "                     hover_data=['artist','title'],\n",
    "                     color='artist',\n",
    "                     opacity=.8,\n",
    "                     template='simple_white')\\\n",
    "            .update_traces(marker=dict(size=15))\\\n",
    "            .update_layout(\n",
    "                title={\n",
    "                    'text': \"Song Lyric Embeddings\",\n",
    "                    'y':0.95,\n",
    "                    'x':0.19,\n",
    "                    'xanchor': 'center',\n",
    "                    'yanchor': 'top'})\n",
    "    fig.show()"
   ]
  },
  {
   "cell_type": "code",
   "execution_count": 253,
   "metadata": {
    "scrolled": false
   },
   "outputs": [
    {
     "data": {
      "application/vnd.plotly.v1+json": {
       "config": {
        "plotlyServerURL": "https://plot.ly"
       },
       "data": [
        {
         "customdata": [
          [
           "Snoop Dogg",
           "The One And Only (Edited)"
          ],
          [
           "Snoop Dogg",
           "Sexual Eruption"
          ],
          [
           "Snoop Dogg",
           "Show Me Love (Explicit)"
          ],
          [
           "Snoop Dogg",
           "Beat Up On Yo Pads"
          ],
          [
           "Snoop Dogg",
           "Gin And Juice II (Explicit)"
          ],
          [
           "Snoop Dogg",
           "2 Of Amereicaz Most Wanted"
          ],
          [
           "Snoop Dogg",
           "Snoop D.O. Double G"
          ],
          [
           "Snoop Dogg",
           "Look Out"
          ],
          [
           "Snoop Dogg",
           "Bang Out"
          ],
          [
           "Snoop Dogg",
           "Betta Days (Explicit)"
          ],
          [
           "Snoop Dogg",
           "Pimp Slapp'd (Edited)"
          ],
          [
           "Snoop Dogg",
           "Dolomite Intro (Explicit)"
          ],
          [
           "Snoop Dogg",
           "A Message 2 Fat Cuzz (Edited)"
          ],
          [
           "Snoop Dogg",
           "Why Did You Leave Me"
          ],
          [
           "Snoop Dogg",
           "Snoopafella (Edited)"
          ],
          [
           "Snoop Dogg",
           "10 Lil' Crips"
          ],
          [
           "Snoop Dogg",
           "Straight Ballin'"
          ],
          [
           "Snoop Dogg",
           "Hustle And Ball (Explicit)"
          ],
          [
           "Snoop Dogg",
           "Dogghouse"
          ],
          [
           "Snoop Dogg",
           "Fresh Pair of Panties On"
          ],
          [
           "Snoop Dogg",
           "Those Gurlz"
          ],
          [
           "Snoop Dogg",
           "Upside Down (Explicit)"
          ],
          [
           "Snoop Dogg",
           "Sets Up"
          ],
          [
           "Snoop Dogg",
           "Snoop Dogg Intro"
          ]
         ],
         "hovertemplate": "artist=%{customdata[0]}<br>t-SNE dimension 0=%{x}<br>t-SNE dimension 1=%{y}<br>t-SNE dimension 2=%{z}<br>title=%{customdata[1]}<extra></extra>",
         "legendgroup": "Snoop Dogg",
         "marker": {
          "color": "#1F77B4",
          "symbol": "circle"
         },
         "mode": "markers",
         "name": "Snoop Dogg",
         "scene": "scene",
         "showlegend": true,
         "type": "scatter3d",
         "x": [
          6.755438327789307,
          4.453805446624756,
          3.940727949142456,
          6.084778785705566,
          5.540463447570801,
          7.082093238830566,
          5.054286479949951,
          6.808389186859131,
          10.754349708557129,
          10.486239433288574,
          10.674015998840332,
          2.2179152965545654,
          8.906776428222656,
          9.164970397949219,
          9.05984878540039,
          12.261672019958496,
          9.117244720458984,
          12.210005760192871,
          10.806488037109375,
          3.802687168121338,
          3.8919951915740967,
          9.53791618347168,
          6.069442272186279,
          6.362498760223389
         ],
         "y": [
          12.02261734008789,
          12.611482620239258,
          11.389323234558105,
          12.465433120727539,
          13.809954643249512,
          13.365623474121094,
          11.724719047546387,
          14.0655517578125,
          13.614028930664062,
          12.236190795898438,
          13.181790351867676,
          8.54517936706543,
          2.001079797744751,
          14.051029205322266,
          9.455069541931152,
          11.23013687133789,
          13.12591552734375,
          11.532280921936035,
          11.27861213684082,
          11.629487991333008,
          11.588382720947266,
          12.810932159423828,
          13.565901756286621,
          8.898372650146484
         ],
         "z": [
          -4.888263702392578,
          -5.270711421966553,
          -4.925568580627441,
          -5.800121307373047,
          -3.3271265029907227,
          2.6905922889709473,
          -0.928300142288208,
          3.3482704162597656,
          3.370138645172119,
          2.3101918697357178,
          3.28458833694458,
          -4.102611064910889,
          -7.499300479888916,
          -2.308967351913452,
          0.3514349162578583,
          -2.870929479598999,
          -3.323723316192627,
          -3.182996988296509,
          -4.188971996307373,
          -1.6433727741241455,
          -6.399422645568848,
          -4.364020347595215,
          -5.472446441650391,
          -4.7158355712890625
         ]
        },
        {
         "customdata": [
          [
           "Blink-182",
           "Not Now"
          ],
          [
           "Blink-182",
           "A New Hope"
          ],
          [
           "Blink-182",
           "Man Overboard"
          ],
          [
           "Blink-182",
           "Asthenia"
          ],
          [
           "Blink-182",
           "All Of This"
          ],
          [
           "Blink-182",
           "Carousel"
          ],
          [
           "Blink-182",
           "Shut Up"
          ],
          [
           "Blink-182",
           "Stay Together For The Kids"
          ],
          [
           "Blink-182",
           "Every Time I Look For You"
          ],
          [
           "Blink-182",
           "Does My Breath Smell?"
          ],
          [
           "Blink-182",
           "Roller Coaster"
          ],
          [
           "Blink-182",
           "21 Days"
          ],
          [
           "Blink-182",
           "GO"
          ],
          [
           "Blink-182",
           "Dumpweed"
          ],
          [
           "Blink-182",
           "Toast and Bananas"
          ],
          [
           "Blink-182",
           "Always"
          ],
          [
           "Blink-182",
           "Reebok Commercial"
          ],
          [
           "Blink-182",
           "I Won't Be Home For Christmas"
          ],
          [
           "Blink-182",
           "Rich Lips"
          ],
          [
           "Blink-182",
           "First Date"
          ],
          [
           "Blink-182",
           "Depends"
          ],
          [
           "Blink-182",
           "Anthem Part Two"
          ],
          [
           "Blink-182",
           "Dysentery Gary"
          ],
          [
           "Blink-182",
           "Wendy Clear"
          ],
          [
           "Blink-182",
           "Reckless Abandon"
          ],
          [
           "Blink-182",
           "Mutt"
          ],
          [
           "Blink-182",
           "Touchdown Boy"
          ],
          [
           "Blink-182",
           "Adam's Song"
          ],
          [
           "Blink-182",
           "The Rock Show"
          ],
          [
           "Blink-182",
           "Give Me One Good Reason"
          ],
          [
           "Blink-182",
           "Skit 13 (Blink 182 / 008811237929)"
          ],
          [
           "Blink-182",
           "My Pet Sally"
          ],
          [
           "Blink-182",
           "I'm Sorry"
          ],
          [
           "Blink-182",
           "Story Of A Lonely Guy"
          ],
          [
           "Blink-182",
           "Aliens Exist"
          ],
          [
           "Blink-182",
           "Another Girl Another Planet"
          ],
          [
           "Blink-182",
           "M+M's"
          ],
          [
           "Blink-182",
           "Ben Wah Balls"
          ],
          [
           "Blink-182",
           "Happy Holidays_ You Bastard"
          ],
          [
           "Blink-182",
           "Degenerate"
          ],
          [
           "Blink-182",
           "The Girl Next Door"
          ],
          [
           "Blink-182",
           "Strings"
          ],
          [
           "Blink-182",
           "Pathetic"
          ],
          [
           "Blink-182",
           "Point of View"
          ],
          [
           "Blink-182",
           "Please Take Me Home"
          ],
          [
           "Blink-182",
           "What's My Age Again?"
          ],
          [
           "Blink-182",
           "All The Small Things"
          ],
          [
           "Blink-182",
           "Untitled"
          ],
          [
           "Blink-182",
           "Violence"
          ],
          [
           "Blink-182",
           "Boring"
          ],
          [
           "Blink-182",
           "Time"
          ],
          [
           "Blink-182",
           "Romeo and Rebecca"
          ],
          [
           "Blink-182",
           "Skit 4 (Blink 182 / 008811237929)"
          ],
          [
           "Blink-182",
           "Toast & Bananas"
          ],
          [
           "Blink-182",
           "Don't Leave Me"
          ],
          [
           "Blink-182",
           "Blew Job"
          ],
          [
           "Blink-182",
           "Feeling This"
          ],
          [
           "Blink-182",
           "TV"
          ],
          [
           "Blink-182",
           "Emo"
          ],
          [
           "Blink-182",
           "Apple Shampoo"
          ],
          [
           "Blink-182",
           "Romeo & Rebecca"
          ],
          [
           "Blink-182",
           "The Party Song"
          ],
          [
           "Blink-182",
           "Peggy Sue"
          ],
          [
           "Blink-182",
           "The Fallen Interlude"
          ],
          [
           "Blink-182",
           "Enthused"
          ],
          [
           "Blink-182",
           "Online Songs"
          ],
          [
           "Blink-182",
           "Voyeur"
          ],
          [
           "Blink-182",
           "I Miss You"
          ],
          [
           "Blink-182",
           "Going Away To College"
          ],
          [
           "Blink-182",
           "Fentoozler"
          ],
          [
           "Blink-182",
           "I'm Lost Without You"
          ],
          [
           "Blink-182",
           "Lemmings"
          ],
          [
           "Blink-182",
           "Skit 12 (Blink 182 / 008811237929)"
          ],
          [
           "Blink-182",
           "Stockholm Syndrome"
          ]
         ],
         "hovertemplate": "artist=%{customdata[0]}<br>t-SNE dimension 0=%{x}<br>t-SNE dimension 1=%{y}<br>t-SNE dimension 2=%{z}<br>title=%{customdata[1]}<extra></extra>",
         "legendgroup": "Blink-182",
         "marker": {
          "color": "#FF7F0E",
          "symbol": "circle"
         },
         "mode": "markers",
         "name": "Blink-182",
         "scene": "scene",
         "showlegend": true,
         "type": "scatter3d",
         "x": [
          2.3566806316375732,
          3.059398651123047,
          -0.30200111865997314,
          1.1372278928756714,
          -13.233210563659668,
          2.6938135623931885,
          6.969316482543945,
          -3.565216064453125,
          -4.3484578132629395,
          4.013646125793457,
          -5.109289169311523,
          -0.8019116520881653,
          6.662245750427246,
          -1.4231576919555664,
          -3.846250057220459,
          -2.6405222415924072,
          2.4519765377044678,
          4.134634971618652,
          6.433021545410156,
          -2.4352169036865234,
          4.293147087097168,
          10.493805885314941,
          5.677994251251221,
          4.38225793838501,
          7.783583641052246,
          4.7574591636657715,
          0.4907520115375519,
          0.9051226377487183,
          3.1483473777770996,
          5.429284572601318,
          0.9603747725486755,
          -4.587449073791504,
          -6.4981818199157715,
          -1.0897197723388672,
          4.452060222625732,
          13.886101722717285,
          -2.7733519077301025,
          1.4001896381378174,
          4.638012886047363,
          8.720237731933594,
          5.17531156539917,
          -2.6626899242401123,
          5.062623023986816,
          0.9708960056304932,
          -3.2777442932128906,
          5.526009559631348,
          -13.651350021362305,
          2.6845524311065674,
          0.9846048355102539,
          3.0175931453704834,
          9.622015953063965,
          -2.545830249786377,
          6.437599182128906,
          -3.863867998123169,
          -0.128468856215477,
          4.525346755981445,
          -5.27100133895874,
          5.254818439483643,
          -2.0775837898254395,
          0.8537702560424805,
          -2.5729117393493652,
          -3.640801429748535,
          4.745861053466797,
          -2.0894477367401123,
          3.145460367202759,
          -6.729828357696533,
          4.549828052520752,
          -4.329050540924072,
          2.1772632598876953,
          4.0586981773376465,
          -7.211516857147217,
          -4.409763336181641,
          -13.700679779052734,
          2.4081389904022217
         ],
         "y": [
          -11.78492259979248,
          -1.2417293787002563,
          -3.546501874923706,
          -4.4080095291137695,
          1.7194944620132446,
          7.73802375793457,
          5.7558817863464355,
          -5.27542781829834,
          -6.36754846572876,
          0.41183188557624817,
          -1.8885869979858398,
          -5.944765567779541,
          2.4626734256744385,
          -0.10858072340488434,
          -1.2794642448425293,
          2.0661721229553223,
          2.572256326675415,
          6.796043872833252,
          4.629025936126709,
          2.2654924392700195,
          8.909446716308594,
          -1.9268556833267212,
          7.818443775177002,
          3.3902013301849365,
          4.479219436645508,
          0.16418896615505219,
          8.9191255569458,
          0.4313511252403259,
          5.710592269897461,
          2.8627607822418213,
          6.708183765411377,
          6.396519660949707,
          -6.285228252410889,
          -3.930428981781006,
          3.3136441707611084,
          -0.13669778406620026,
          -0.32003358006477356,
          6.1210856437683105,
          5.237949848175049,
          11.335197448730469,
          5.9665727615356445,
          1.5974323749542236,
          3.0503597259521484,
          -7.172080993652344,
          -3.94511079788208,
          2.705474853515625,
          6.495556354522705,
          2.820160150527954,
          -1.3375577926635742,
          -4.888912677764893,
          4.554693698883057,
          -1.3833905458450317,
          4.637691020965576,
          -1.3017733097076416,
          -0.01881919428706169,
          8.315130233764648,
          -3.979839563369751,
          3.4685795307159424,
          -1.5663241147994995,
          -3.4748144149780273,
          -1.328218698501587,
          3.520172357559204,
          0.7496342658996582,
          4.488559246063232,
          -0.42356666922569275,
          -9.37824535369873,
          8.302923202514648,
          -3.271491050720215,
          5.324845790863037,
          4.799044609069824,
          -8.23343276977539,
          -0.3833903670310974,
          6.268874168395996,
          -9.295848846435547
         ],
         "z": [
          -2.789674758911133,
          6.2864556312561035,
          -1.5793137550354004,
          -4.195541858673096,
          -4.216484069824219,
          -3.1708922386169434,
          -3.7867424488067627,
          -0.22527004778385162,
          2.534503936767578,
          -7.0169219970703125,
          7.241648197174072,
          -7.714694499969482,
          -4.901425838470459,
          -4.76538610458374,
          1.3397331237792969,
          -5.866238117218018,
          5.6336750984191895,
          6.79520845413208,
          -8.91672134399414,
          -5.622602939605713,
          1.9888620376586914,
          -1.4544960260391235,
          -8.542462348937988,
          -4.054641246795654,
          -4.728710651397705,
          -1.8629487752914429,
          4.460070610046387,
          7.477996349334717,
          -0.6880394220352173,
          -3.9944701194763184,
          3.971557140350342,
          2.9121763706207275,
          -0.487824946641922,
          2.972714424133301,
          -4.038497447967529,
          -3.7491888999938965,
          5.51812744140625,
          -3.372488260269165,
          -3.6866793632507324,
          -1.113336205482483,
          4.787675857543945,
          -0.40496182441711426,
          -3.416682481765747,
          15.172258377075195,
          -3.801314115524292,
          -5.565762519836426,
          1.0233685970306396,
          0.8445154428482056,
          0.4723304212093353,
          -6.981070041656494,
          2.1849427223205566,
          2.7563540935516357,
          -8.911032676696777,
          1.3299132585525513,
          -1.0919040441513062,
          -4.46617317199707,
          5.653302192687988,
          -1.1064832210540771,
          -5.204317569732666,
          -3.1717216968536377,
          2.763437032699585,
          2.3257322311401367,
          -1.3035725355148315,
          2.520500421524048,
          -4.4706902503967285,
          -1.4980459213256836,
          0.01679796725511551,
          -0.46554964780807495,
          -2.7341251373291016,
          -4.979868412017822,
          -5.460628986358643,
          -2.3776204586029053,
          0.6613256335258484,
          -0.839393138885498
         ]
        },
        {
         "customdata": [
          [
           "Red Hot Chili Peppers",
           "Get On Top (Album Version)"
          ],
          [
           "Red Hot Chili Peppers",
           "Naked In The Rain (Album Version)"
          ],
          [
           "Red Hot Chili Peppers",
           "Venice Queen (Album Version)"
          ],
          [
           "Red Hot Chili Peppers",
           "Snow [Hey Oh] [Live Version]"
          ],
          [
           "Red Hot Chili Peppers",
           "American Ghost Dance (2003 Digital Remastered)"
          ],
          [
           "Red Hot Chili Peppers",
           "Emit Remmus (Album Version)"
          ],
          [
           "Red Hot Chili Peppers",
           "The Greeting Song (Album Version)"
          ],
          [
           "Red Hot Chili Peppers",
           "Hard To Concentrate (Album Version)"
          ],
          [
           "Red Hot Chili Peppers",
           "I'll Be Your Domino (Non-Album Track)"
          ],
          [
           "Red Hot Chili Peppers",
           "Buckle Down (2002 Digital Remaster)"
          ],
          [
           "Red Hot Chili Peppers",
           "I Could Die For You (Album Version)"
          ],
          [
           "Red Hot Chili Peppers",
           "Love Trilogy (2003 Digital Remaster) ()"
          ],
          [
           "Red Hot Chili Peppers",
           "Knock Me Down (2003 Digital Remaster)"
          ],
          [
           "Red Hot Chili Peppers",
           "She's Only 18 (Album Version)"
          ],
          [
           "Red Hot Chili Peppers",
           "Behind The Sun (Instrumental Demo) (2002 Digital Remaster)"
          ],
          [
           "Red Hot Chili Peppers",
           "Wet Sand (Album Version)"
          ],
          [
           "Red Hot Chili Peppers",
           "Road Trippin' (Album Version)"
          ],
          [
           "Red Hot Chili Peppers",
           "Mercy Mercy (Non-Album Track)"
          ],
          [
           "Red Hot Chili Peppers",
           "Baby Appeal (2002 Digital Remastser) ()"
          ],
          [
           "Red Hot Chili Peppers",
           "Lovin' And Touchin' (2003 Digitally Remastered)"
          ],
          [
           "Red Hot Chili Peppers",
           "The Zephyr Song (Album Version)"
          ],
          [
           "Red Hot Chili Peppers",
           "Universally Speaking (Album Version)"
          ],
          [
           "Red Hot Chili Peppers",
           "Good Time Boys (2003 Digital Remaster)"
          ],
          [
           "Red Hot Chili Peppers",
           "Minor Thing (Album Version)"
          ],
          [
           "Red Hot Chili Peppers",
           "Hollywood (Africa) (2003 Digitally Remastered)"
          ],
          [
           "Red Hot Chili Peppers",
           "You Always Sing The Same (2002 Digital Remaster)"
          ],
          [
           "Red Hot Chili Peppers",
           "Turn It Again (Album Version)"
          ],
          [
           "Red Hot Chili Peppers",
           "Funky Monks (Album Version)"
          ],
          [
           "Red Hot Chili Peppers",
           "Lately (Non-Album Track)"
          ],
          [
           "Red Hot Chili Peppers",
           "Apache Rose Peacock (Album Version)"
          ],
          [
           "Red Hot Chili Peppers",
           "She Looks To Me (Album Version)"
          ],
          [
           "Red Hot Chili Peppers",
           "Hollywood (Africa)"
          ],
          [
           "Red Hot Chili Peppers",
           "Higher Ground (Album Version)"
          ],
          [
           "Red Hot Chili Peppers",
           "Warm Tape (Album Version)"
          ],
          [
           "Red Hot Chili Peppers",
           "Blues For Meister"
          ],
          [
           "Red Hot Chili Peppers",
           "Castles Made Of Sand (Studio) (Bonus Track)"
          ],
          [
           "Red Hot Chili Peppers",
           "Stadium Arcadium (Album Version)"
          ],
          [
           "Red Hot Chili Peppers",
           "Around The World (Album Version)"
          ],
          [
           "Red Hot Chili Peppers",
           "Millionaires Against Hunger (2002 Digital Remastser) (Explicit)"
          ],
          [
           "Red Hot Chili Peppers",
           "Throw Away Your Television (Album Version)"
          ],
          [
           "Red Hot Chili Peppers",
           "Especially In Michigan (Album Version)"
          ],
          [
           "Red Hot Chili Peppers",
           "Police Helicopter (Demo Version) (2003 Digital Remaster)"
          ],
          [
           "Red Hot Chili Peppers",
           "Mellowship Slinky In B Major (Album Version)"
          ],
          [
           "Red Hot Chili Peppers",
           "Yertle The Turtle (2003 Digitally Remastered)"
          ],
          [
           "Red Hot Chili Peppers",
           "Nobody Weird Like Me (2003 Digital Remaster)"
          ],
          [
           "Red Hot Chili Peppers",
           "On Mercury (Album Version)"
          ],
          [
           "Red Hot Chili Peppers",
           "Magic Johnson (2003 Digital Remaster)"
          ],
          [
           "Red Hot Chili Peppers",
           "Parallel Universe (Album Version)"
          ],
          [
           "Red Hot Chili Peppers",
           "C'mon Girl (Album Version)"
          ],
          [
           "Red Hot Chili Peppers",
           "If You Want Me To Stay (Pink Mustang Mix)"
          ],
          [
           "Red Hot Chili Peppers",
           "Thirty Dirty Birds (2003 Digitally Remastered)"
          ],
          [
           "Red Hot Chili Peppers",
           "Let's Make Evil (Bonus Track)"
          ],
          [
           "Red Hot Chili Peppers",
           "What It Is (AKA Nina's Song) (Demo) (Digitally Remastered 02) ()"
          ],
          [
           "Red Hot Chili Peppers",
           "Green Heaven (Demo Version) (Digitally Remastered 02) ()"
          ],
          [
           "Red Hot Chili Peppers",
           "Hollywood (Africa) (Extended Dance Mix)"
          ],
          [
           "Red Hot Chili Peppers",
           "Shallow Be Thy Game (Album Version)"
          ],
          [
           "Red Hot Chili Peppers",
           "Tell Me Baby (Album Version)"
          ],
          [
           "Red Hot Chili Peppers",
           "My Lovely Man (Album Version)"
          ],
          [
           "Red Hot Chili Peppers",
           "Blood Sugar Sex Magik (Album Version)"
          ],
          [
           "Red Hot Chili Peppers",
           "Save This Lady (Non-Album Track)"
          ],
          [
           "Red Hot Chili Peppers",
           "I Like Dirt (Album Version)"
          ],
          [
           "Red Hot Chili Peppers",
           "Storm In A Teacup (Album Version)"
          ],
          [
           "Red Hot Chili Peppers",
           "Breaking The Girl (Album Version)"
          ],
          [
           "Red Hot Chili Peppers",
           "You Always Sing The Same (Demo)"
          ],
          [
           "Red Hot Chili Peppers",
           "Deep Kick (Album Version)"
          ],
          [
           "Red Hot Chili Peppers",
           "Blackeyed Blonde (2003 Digitally Remastered)"
          ],
          [
           "Red Hot Chili Peppers",
           "Falling Into Grace (Album Version)"
          ],
          [
           "Red Hot Chili Peppers",
           "Soul To Squeeze (Album Version)"
          ],
          [
           "Red Hot Chili Peppers",
           "Right On Time (Album Version)"
          ],
          [
           "Red Hot Chili Peppers",
           "Stranded (Demo)"
          ],
          [
           "Red Hot Chili Peppers",
           "Me And My Friends (2003 Digital Remaster)"
          ],
          [
           "Red Hot Chili Peppers",
           "Subterranean Homesick Blues (2003 Digital Remaster)"
          ],
          [
           "Red Hot Chili Peppers",
           "Skinny Sweaty Man (2003 Digital Remaster)"
          ],
          [
           "Red Hot Chili Peppers",
           "Behind The Sun"
          ],
          [
           "Red Hot Chili Peppers",
           "Hump de Bump (Album Version)"
          ],
          [
           "Red Hot Chili Peppers",
           "Under The Bridge (Album Version)"
          ],
          [
           "Red Hot Chili Peppers",
           "Give It Away (Album Version)"
          ],
          [
           "Red Hot Chili Peppers",
           "Salute To Kareem (Demo)"
          ],
          [
           "Red Hot Chili Peppers",
           "Get Up and Jump (Demo Version) (Digitally Remastered 02) ()"
          ],
          [
           "Red Hot Chili Peppers",
           "Desecration Smile (Album Version)"
          ],
          [
           "Red Hot Chili Peppers",
           "Organic Anti-Beat Box Band (2003 Digital Remaster)"
          ],
          [
           "Red Hot Chili Peppers",
           "The Righteous And The Wicked (Album Version)"
          ],
          [
           "Red Hot Chili Peppers",
           "Freaky Styley (2003 Digitally Remastered)"
          ],
          [
           "Red Hot Chili Peppers",
           "Strip My Mind (Album Version)"
          ],
          [
           "Red Hot Chili Peppers",
           "Why Don't You Love Me (2002 Digital Remaster)"
          ],
          [
           "Red Hot Chili Peppers",
           "Jungle Man"
          ],
          [
           "Red Hot Chili Peppers",
           "Over Funk (Bonus Track)"
          ],
          [
           "Red Hot Chili Peppers",
           "Taste The Pain"
          ],
          [
           "Red Hot Chili Peppers",
           "Death Of A Martian (Album Version)"
          ],
          [
           "Red Hot Chili Peppers",
           "Fire (2003 Digital Remaster)"
          ],
          [
           "Red Hot Chili Peppers",
           "True Men Don't Kill Coyotes (24-Bit Digitally Remastered 02)"
          ],
          [
           "Red Hot Chili Peppers",
           "Knock Me Down (Original Long Version)"
          ],
          [
           "Red Hot Chili Peppers",
           "I Could Have Lied (Album Version)"
          ],
          [
           "Red Hot Chili Peppers",
           "Californication (Album Version)"
          ],
          [
           "Red Hot Chili Peppers",
           "Out In L.A. (2002 Digital Remastser) ()"
          ],
          [
           "Red Hot Chili Peppers",
           "Slow Cheetah (Album Version)"
          ]
         ],
         "hovertemplate": "artist=%{customdata[0]}<br>t-SNE dimension 0=%{x}<br>t-SNE dimension 1=%{y}<br>t-SNE dimension 2=%{z}<br>title=%{customdata[1]}<extra></extra>",
         "legendgroup": "Red Hot Chili Peppers",
         "marker": {
          "color": "#2CA02C",
          "symbol": "circle"
         },
         "mode": "markers",
         "name": "Red Hot Chili Peppers",
         "scene": "scene",
         "showlegend": true,
         "type": "scatter3d",
         "x": [
          6.596621036529541,
          7.413082599639893,
          5.029504776000977,
          -0.9413048028945923,
          6.349835395812988,
          0.3598494231700897,
          0.22980473935604095,
          8.998594284057617,
          1.637436032295227,
          2.1116020679473877,
          -2.8660736083984375,
          11.240880012512207,
          -1.7598199844360352,
          -3.697075128555298,
          0.625644326210022,
          -0.11654376238584518,
          -6.352496147155762,
          1.1656535863876343,
          -0.08214525878429413,
          -5.744508266448975,
          3.913696765899658,
          0.6831018328666687,
          7.960481643676758,
          8.860852241516113,
          1.6454039812088013,
          -1.8471068143844604,
          5.176307201385498,
          -0.11430303752422333,
          1.3348630666732788,
          7.500875949859619,
          -0.5979627370834351,
          1.6571696996688843,
          17.81173324584961,
          -1.287011742591858,
          0.9808276891708374,
          1.7200431823730469,
          -3.1471593379974365,
          11.029253959655762,
          12.98361587524414,
          9.465018272399902,
          7.358333110809326,
          4.96921968460083,
          6.726891040802002,
          0.20661744475364685,
          5.992878437042236,
          1.1254839897155762,
          9.14825439453125,
          7.4089765548706055,
          0.33095866441726685,
          -13.083494186401367,
          2.5155534744262695,
          7.4296674728393555,
          7.832608222961426,
          10.585566520690918,
          9.508264541625977,
          8.05686092376709,
          -7.713482856750488,
          -10.203474044799805,
          9.203943252563477,
          0.8874683380126953,
          0.3453082740306854,
          7.512555122375488,
          2.748063325881958,
          -1.8475829362869263,
          2.259547472000122,
          9.338879585266113,
          -1.5927517414093018,
          14.452829360961914,
          -3.7218146324157715,
          -7.606037616729736,
          1.3912312984466553,
          8.74587631225586,
          -0.7217297554016113,
          0.6276878118515015,
          1.0339146852493286,
          -5.151357173919678,
          10.050107955932617,
          -4.367839336395264,
          3.044234275817871,
          4.625454425811768,
          4.5240797996521,
          14.132533073425293,
          1.8006551265716553,
          7.161806583404541,
          -10.099491119384766,
          8.325454711914062,
          1.660294532775879,
          -11.566741943359375,
          2.8355302810668945,
          1.051222562789917,
          7.263175010681152,
          -1.675667643547058,
          0.9782916903495789,
          1.2562073469161987,
          1.584025263786316,
          2.936701774597168
         ],
         "y": [
          14.061867713928223,
          4.659088134765625,
          8.352967262268066,
          -7.984272480010986,
          1.4558069705963135,
          8.912236213684082,
          13.189105987548828,
          0.9674646258354187,
          2.0653512477874756,
          9.685155868530273,
          -10.253776550292969,
          2.834866762161255,
          1.7768241167068481,
          7.689018249511719,
          -4.615082263946533,
          5.550363063812256,
          0.7594795823097229,
          -4.310291290283203,
          12.223422050476074,
          6.364253520965576,
          -0.752365231513977,
          -5.4384918212890625,
          12.26838493347168,
          9.659327507019043,
          12.954582214355469,
          5.785226821899414,
          12.914953231811523,
          5.41356897354126,
          -1.063736915588379,
          10.27839183807373,
          1.0571213960647583,
          12.970852851867676,
          -1.4838571548461914,
          3.595522880554199,
          9.156765937805176,
          1.3712300062179565,
          -3.1082189083099365,
          14.689563751220703,
          1.5752143859863281,
          -1.4366521835327148,
          3.3093202114105225,
          9.767828941345215,
          10.415108680725098,
          4.061183929443359,
          11.176214218139648,
          18.463836669921875,
          10.32468318939209,
          4.623378276824951,
          4.0417561531066895,
          0.8994793891906738,
          8.662042617797852,
          -2.189042091369629,
          4.502214431762695,
          6.526679992675781,
          11.197332382202148,
          -0.8221040964126587,
          3.2297897338867188,
          1.2659070491790771,
          -1.880133032798767,
          8.34197998046875,
          3.8252267837524414,
          4.740922451019287,
          -6.887091159820557,
          5.724881172180176,
          5.570163726806641,
          7.341282844543457,
          5.483868598937988,
          0.5138327479362488,
          -3.815709352493286,
          -1.6657603979110718,
          12.771931648254395,
          7.544348239898682,
          7.449912071228027,
          -4.618947982788086,
          11.433611869812012,
          7.072324752807617,
          -3.0281331539154053,
          4.773242473602295,
          10.945828437805176,
          -1.1306294202804565,
          11.692533493041992,
          -1.2477748394012451,
          3.271885633468628,
          9.183663368225098,
          10.391741752624512,
          7.836656093597412,
          5.506453037261963,
          -8.12472152709961,
          -1.7066624164581299,
          11.117745399475098,
          1.4412968158721924,
          1.828441858291626,
          -3.1094417572021484,
          2.1239352226257324,
          12.896331787109375,
          -3.857264757156372
         ],
         "z": [
          -5.131838321685791,
          9.66370964050293,
          -5.980813026428223,
          4.646581649780273,
          10.488996505737305,
          16.946916580200195,
          -0.1381044238805771,
          -1.392970085144043,
          1.935937762260437,
          -3.9363739490509033,
          -4.957669734954834,
          -2.1130130290985107,
          -1.5240195989608765,
          3.581284999847412,
          14.508176803588867,
          5.9260430335998535,
          10.756651878356934,
          -2.03887939453125,
          0.7048510313034058,
          -2.6550545692443848,
          7.483595371246338,
          10.599616050720215,
          8.339540481567383,
          2.1755757331848145,
          3.1547811031341553,
          -2.2957918643951416,
          9.224017143249512,
          -8.419224739074707,
          11.026874542236328,
          4.589389324188232,
          7.200088977813721,
          3.164628744125366,
          7.841353893280029,
          12.891844749450684,
          4.755887985229492,
          13.613728523254395,
          6.055115222930908,
          5.9523024559021,
          -2.869319438934326,
          -1.4179774522781372,
          5.062621116638184,
          6.566263675689697,
          4.366134166717529,
          9.85103988647461,
          3.2925655841827393,
          3.3641810417175293,
          3.0425570011138916,
          7.531513214111328,
          0.7222991585731506,
          -5.193417072296143,
          7.091658592224121,
          8.67750358581543,
          -1.9182538986206055,
          1.6613203287124634,
          -1.2572648525238037,
          -4.226165771484375,
          -0.8345798850059509,
          -2.3405487537384033,
          5.693445682525635,
          5.271571159362793,
          16.912973403930664,
          9.770829200744629,
          2.401132106781006,
          -2.284245014190674,
          3.9689390659332275,
          9.420400619506836,
          -8.283919334411621,
          5.087445259094238,
          -8.063338279724121,
          8.544317245483398,
          -0.33745574951171875,
          -3.844928741455078,
          4.397663593292236,
          14.512601852416992,
          6.844235897064209,
          1.436604380607605,
          9.049458503723145,
          7.533775329589844,
          -1.3115352392196655,
          6.775632381439209,
          -1.9495428800582886,
          -0.5769855380058289,
          -0.9799582362174988,
          9.837895393371582,
          8.600696563720703,
          8.542510032653809,
          -2.0774636268615723,
          5.015120506286621,
          8.834210395812988,
          -1.9876800775527954,
          5.3975443840026855,
          -1.4099042415618896,
          -8.335225105285645,
          0.5889196991920471,
          -0.2713681757450104,
          -4.544517517089844
         ]
        },
        {
         "customdata": [
          [
           "Eminem",
           "Ricky Ticky Toc"
          ],
          [
           "Eminem",
           "The Way I Am"
          ],
          [
           "Eminem",
           "Beautiful"
          ],
          [
           "Eminem",
           "Paul"
          ],
          [
           "Eminem",
           "Hailie's Song"
          ],
          [
           "Eminem",
           "Without Me"
          ],
          [
           "Eminem",
           "8 Mile"
          ],
          [
           "Eminem",
           "Dr. West"
          ],
          [
           "Eminem",
           "Curtains Up"
          ],
          [
           "Eminem",
           "Yellow Brick Road"
          ],
          [
           "Eminem",
           "If I Had"
          ],
          [
           "Eminem",
           "Em Calls Paul (skit)"
          ],
          [
           "Eminem",
           "When I'm Gone"
          ],
          [
           "Eminem",
           "Bad Influence"
          ],
          [
           "Eminem",
           "'97 Bonnie & Clyde"
          ],
          [
           "Eminem",
           "Rock Bottom"
          ],
          [
           "Eminem",
           "Careful What You Wish For"
          ],
          [
           "Eminem",
           "Puke"
          ],
          [
           "Eminem",
           "My Darling"
          ],
          [
           "Eminem",
           "Public Service Announcement"
          ],
          [
           "Eminem",
           "Just Don't Give"
          ],
          [
           "Eminem",
           "We As Americans"
          ],
          [
           "Eminem",
           "Ken Kaniff"
          ],
          [
           "Eminem",
           "Shady Narcotics"
          ],
          [
           "Eminem",
           "Love You More"
          ],
          [
           "Eminem",
           "Square Dance"
          ],
          [
           "Eminem",
           "Still Don't Give"
          ],
          [
           "Eminem",
           "Hazardous Youth"
          ],
          [
           "Eminem",
           "Tonya"
          ],
          [
           "Eminem",
           "Criminal"
          ],
          [
           "Eminem",
           "FACK"
          ],
          [
           "Eminem",
           "Public Enemy #1"
          ],
          [
           "Eminem",
           "My 1st Single"
          ],
          [
           "Eminem",
           "**** You"
          ],
          [
           "Eminem",
           "My Name Is"
          ],
          [
           "Eminem",
           "Any Man"
          ],
          [
           "Eminem",
           "Cleanin' Out My Closet"
          ],
          [
           "Eminem",
           "Curtains Close"
          ],
          [
           "Eminem",
           "The Kids"
          ],
          [
           "Eminem",
           "The Kiss"
          ],
          [
           "Eminem",
           "Cum On Everybody"
          ],
          [
           "Eminem",
           "Rabbit Run"
          ],
          [
           "Eminem",
           "Sing For The Moment"
          ],
          [
           "Eminem",
           "Lose Yourself"
          ],
          [
           "Eminem",
           "Paul (skit)"
          ],
          [
           "Eminem",
           "The Conspiracy (Freestyle)"
          ],
          [
           "Eminem",
           "Like Toy Soldiers"
          ],
          [
           "Eminem",
           "Marshall Mathers"
          ],
          [
           "Eminem",
           "Mockingbird"
          ],
          [
           "Eminem",
           "Mr. Mathers"
          ],
          [
           "Eminem",
           "No Apologies"
          ]
         ],
         "hovertemplate": "artist=%{customdata[0]}<br>t-SNE dimension 0=%{x}<br>t-SNE dimension 1=%{y}<br>t-SNE dimension 2=%{z}<br>title=%{customdata[1]}<extra></extra>",
         "legendgroup": "Eminem",
         "marker": {
          "color": "#D62728",
          "symbol": "circle"
         },
         "mode": "markers",
         "name": "Eminem",
         "scene": "scene",
         "showlegend": true,
         "type": "scatter3d",
         "x": [
          5.491713523864746,
          5.641539573669434,
          4.444303035736084,
          0.5186765789985657,
          5.750620365142822,
          4.294959545135498,
          5.4058613777160645,
          -1.0947879552841187,
          0.5415023565292358,
          5.183362007141113,
          6.861126899719238,
          6.080900192260742,
          -5.253662109375,
          6.967147350311279,
          6.293120384216309,
          8.481157302856445,
          9.243951797485352,
          6.678559303283691,
          -1.4962033033370972,
          9.307604789733887,
          9.091588973999023,
          10.532957077026367,
          3.7625732421875,
          7.329883575439453,
          7.754630088806152,
          8.210373878479004,
          9.985544204711914,
          10.408164978027344,
          6.5775837898254395,
          10.08006763458252,
          9.396994590759277,
          7.99508810043335,
          9.616074562072754,
          11.811978340148926,
          8.831174850463867,
          11.135032653808594,
          7.24661111831665,
          4.911929130554199,
          4.165127277374268,
          9.322354316711426,
          10.051172256469727,
          7.717445373535156,
          7.26663875579834,
          6.45710563659668,
          8.163273811340332,
          7.947653293609619,
          8.331428527832031,
          6.735136032104492,
          4.992342472076416,
          4.508730888366699,
          4.788575172424316
         ],
         "y": [
          10.10013198852539,
          10.507609367370605,
          7.677149295806885,
          4.284065246582031,
          7.939253807067871,
          7.4168572425842285,
          8.456562995910645,
          0.7147215008735657,
          8.241268157958984,
          12.533061027526855,
          13.889168739318848,
          14.726287841796875,
          4.2861104011535645,
          13.515549659729004,
          14.23442554473877,
          12.167669296264648,
          11.72517204284668,
          4.644543647766113,
          2.927441358566284,
          12.647127151489258,
          12.654219627380371,
          12.751165390014648,
          10.074577331542969,
          11.281131744384766,
          10.43303108215332,
          10.908573150634766,
          12.297059059143066,
          11.895851135253906,
          7.539965629577637,
          11.52688980102539,
          12.355323791503906,
          7.2442426681518555,
          12.40493106842041,
          11.852505683898926,
          7.53232479095459,
          9.938780784606934,
          7.981229782104492,
          11.286413192749023,
          6.215920448303223,
          12.708413124084473,
          10.425337791442871,
          6.683711051940918,
          7.266102313995361,
          7.90250301361084,
          12.304891586303711,
          9.321624755859375,
          9.241303443908691,
          11.103642463684082,
          7.117836952209473,
          8.816483497619629,
          10.44813346862793
         ],
         "z": [
          -4.588938236236572,
          -4.446570873260498,
          -4.790039539337158,
          -6.8855109214782715,
          -5.950784206390381,
          -1.1425470113754272,
          -3.295243263244629,
          -3.0866613388061523,
          -3.77243709564209,
          -1.137142539024353,
          2.5856242179870605,
          1.9480187892913818,
          1.1174076795578003,
          4.585975170135498,
          1.35407555103302,
          4.387701511383057,
          3.4934442043304443,
          -5.187798500061035,
          -0.6288962960243225,
          0.2471655011177063,
          3.8491621017456055,
          3.628032684326172,
          6.737092018127441,
          0.6369204521179199,
          0.5170817375183105,
          2.2594962120056152,
          3.762022018432617,
          3.386791467666626,
          0.41419872641563416,
          2.3337371349334717,
          -1.06540846824646,
          7.23461389541626,
          0.015633463859558105,
          0.7584638595581055,
          1.21885347366333,
          -0.9343067407608032,
          0.10616649687290192,
          -5.76754093170166,
          -1.4611845016479492,
          -5.572490215301514,
          -3.5386829376220703,
          -2.598170042037964,
          -5.166894435882568,
          -3.6917011737823486,
          -7.911141395568848,
          -4.241081714630127,
          -4.563266277313232,
          -5.466136455535889,
          -5.472283840179443,
          -1.3644275665283203,
          -4.43751859664917
         ]
        },
        {
         "customdata": [
          [
           "Eric Clapton",
           "Hello Old Friend"
          ],
          [
           "Eric Clapton",
           "When You Got A Good Friend (Album Version)"
          ],
          [
           "Eric Clapton",
           "Tulsa Time"
          ],
          [
           "Eric Clapton",
           "Floating Bridge"
          ],
          [
           "Eric Clapton",
           "Blues Power"
          ],
          [
           "Eric Clapton",
           "Further On Up The Road"
          ],
          [
           "Eric Clapton",
           "Wonderful Tonight"
          ],
          [
           "Eric Clapton",
           "I Want A Little Girl (Live)"
          ],
          [
           "Eric Clapton",
           "Willie And The Hand Jive"
          ],
          [
           "Eric Clapton",
           "Can't Find My Way Home"
          ],
          [
           "Eric Clapton",
           "Love Don't Love Nobody (Album Version)"
          ],
          [
           "Eric Clapton",
           "Alberta"
          ],
          [
           "Eric Clapton",
           "Come Back Baby (Album Version)"
          ],
          [
           "Eric Clapton",
           "We're All The Way"
          ],
          [
           "Eric Clapton",
           "Lay Down Sally"
          ],
          [
           "Eric Clapton",
           "Someday After A While (Live) (Album Version)"
          ],
          [
           "Eric Clapton",
           "Bell Bottom Blues (Live)"
          ],
          [
           "Eric Clapton",
           "Standin' Round Crying (Live) (Album Version)"
          ],
          [
           "Eric Clapton",
           "Tangled In Love (Album Version)"
          ],
          [
           "Eric Clapton",
           "Forever Man (Album Version)"
          ],
          [
           "Eric Clapton",
           "Let It Grow"
          ],
          [
           "Eric Clapton",
           "Cocaine"
          ],
          [
           "Eric Clapton",
           "Holy Mother (Album Version)"
          ],
          [
           "Eric Clapton",
           "Singin' The Blues"
          ],
          [
           "Eric Clapton",
           "It's In The Way That You Use It (Album Version)"
          ],
          [
           "Eric Clapton",
           "The Core"
          ],
          [
           "Eric Clapton",
           "All Our Past Times"
          ],
          [
           "Eric Clapton",
           "Bottle Of Red Wine"
          ],
          [
           "Eric Clapton",
           "Little Wing"
          ],
          [
           "Eric Clapton",
           "Hound Dog (Album Version)"
          ],
          [
           "Eric Clapton",
           "Swing Low Sweet Chariot"
          ],
          [
           "Eric Clapton",
           "Meet Me (Down At The Bottom)"
          ],
          [
           "Eric Clapton",
           "Hoochie Coochie Man  (Live) (Album Version)"
          ],
          [
           "Eric Clapton",
           "Rita Mae"
          ],
          [
           "Eric Clapton",
           "Breaking Point  (Album Version)"
          ],
          [
           "Eric Clapton",
           "Early In The Morning"
          ],
          [
           "Eric Clapton",
           "Blues Leave Me Alone  (Live)  (Album Version)"
          ],
          [
           "Eric Clapton",
           "After Midnight"
          ],
          [
           "Eric Clapton",
           "I'm Tore Down  (Live) (Album Version)"
          ],
          [
           "Eric Clapton",
           "How Long Blues  (Live)  (Album Version)"
          ],
          [
           "Eric Clapton",
           "Kind Hearted Woman"
          ],
          [
           "Eric Clapton",
           "It All Depends (Album Version)"
          ],
          [
           "Eric Clapton",
           "Double Trouble"
          ],
          [
           "Eric Clapton",
           "Beware Of Darkness (LP Version)"
          ],
          [
           "Eric Clapton",
           "Key To The Highway (Live)"
          ],
          [
           "Eric Clapton",
           "Driftin' (Live)  (Album Version)"
          ],
          [
           "Eric Clapton",
           "Take A Chance (Album Version)"
          ],
          [
           "Eric Clapton",
           "Smile"
          ],
          [
           "Eric Clapton",
           "Kind Hearted Woman Blues (Album Version)"
          ],
          [
           "Eric Clapton",
           "Before You Accuse Me (Unplugged CD Version)"
          ],
          [
           "Eric Clapton",
           "Little Queen Of Spades (Album Version)"
          ],
          [
           "Eric Clapton",
           "Roll It"
          ],
          [
           "Eric Clapton",
           "I'm Going Left (Album Version)"
          ],
          [
           "Eric Clapton",
           "Crosscut Saw (LP Version)"
          ],
          [
           "Eric Clapton",
           "Pretending"
          ],
          [
           "Eric Clapton",
           "I Shot The Sheriff"
          ],
          [
           "Eric Clapton",
           "Little Rachel"
          ],
          [
           "Eric Clapton",
           "Watch Yourself (Live) (Album Version)"
          ],
          [
           "Eric Clapton",
           "Badge"
          ],
          [
           "Eric Clapton",
           "Going Down Slow (Album Version)"
          ],
          [
           "Eric Clapton",
           "Me And The Devil Blues (Album Version)"
          ],
          [
           "Eric Clapton",
           "Knockin' On Heaven's Door"
          ],
          [
           "Eric Clapton",
           "Let It Rain"
          ],
          [
           "Eric Clapton",
           "Please Be With Me"
          ],
          [
           "Eric Clapton",
           "Tears In Heaven"
          ],
          [
           "Eric Clapton",
           "Before You Accuse Me (Take A Look At Yourself)"
          ],
          [
           "Eric Clapton",
           "Have You Ever Loved A Woman"
          ],
          [
           "Eric Clapton",
           "Behind The Mask (Album Version)"
          ],
          [
           "Eric Clapton",
           "Don't Think Twice_ It's All Right"
          ],
          [
           "Eric Clapton",
           "Knock On Wood  (Album Version)"
          ],
          [
           "Eric Clapton",
           "Layla [Unplugged Version]"
          ]
         ],
         "hovertemplate": "artist=%{customdata[0]}<br>t-SNE dimension 0=%{x}<br>t-SNE dimension 1=%{y}<br>t-SNE dimension 2=%{z}<br>title=%{customdata[1]}<extra></extra>",
         "legendgroup": "Eric Clapton",
         "marker": {
          "color": "#9467BD",
          "symbol": "circle"
         },
         "mode": "markers",
         "name": "Eric Clapton",
         "scene": "scene",
         "showlegend": true,
         "type": "scatter3d",
         "x": [
          -1.5523858070373535,
          -8.063435554504395,
          -9.32269287109375,
          0.09669798612594604,
          -5.131383419036865,
          -9.781827926635742,
          -3.6110308170318604,
          -7.606637954711914,
          8.271544456481934,
          -6.102609634399414,
          -8.932943344116211,
          -10.82382869720459,
          -11.69426441192627,
          -2.1595675945281982,
          0.593307375907898,
          -10.369701385498047,
          -10.822429656982422,
          -7.99759578704834,
          -5.0754876136779785,
          -0.05443531647324562,
          -0.4868912100791931,
          14.573663711547852,
          0.4762858748435974,
          -3.338926076889038,
          -9.725229263305664,
          6.6240153312683105,
          2.8443939685821533,
          -6.899340629577637,
          -12.408513069152832,
          11.554068565368652,
          -6.443103313446045,
          0.31965166330337524,
          5.738348484039307,
          4.6392083168029785,
          2.6068286895751953,
          -6.6604461669921875,
          -8.21389389038086,
          -3.1473190784454346,
          9.42561149597168,
          -5.582852840423584,
          -3.0196473598480225,
          -2.219277858734131,
          -2.8368582725524902,
          15.722675323486328,
          -8.186601638793945,
          -12.952171325683594,
          -3.260789394378662,
          -14.091765403747559,
          -3.0107693672180176,
          -10.538209915161133,
          -7.257682800292969,
          -4.33036994934082,
          0.16372789442539215,
          0.3916562795639038,
          -2.44162917137146,
          15.494229316711426,
          -2.541259288787842,
          -11.114126205444336,
          -7.598524570465088,
          10.019940376281738,
          -8.936363220214844,
          -7.381035804748535,
          1.9414715766906738,
          -10.377863883972168,
          -7.453835487365723,
          -10.536138534545898,
          -9.497152328491211,
          -1.591194987297058,
          -13.552042961120605,
          -1.3356132507324219,
          -7.793102264404297
         ],
         "y": [
          5.069786548614502,
          -1.3632121086120605,
          7.02028751373291,
          6.004810333251953,
          11.938693046569824,
          5.332034587860107,
          0.2328057885169983,
          8.404007911682129,
          10.726472854614258,
          -2.377938985824585,
          -4.001409530639648,
          4.893976211547852,
          6.4319562911987305,
          -6.9072418212890625,
          14.72993278503418,
          -3.378662347793579,
          -2.211049795150757,
          6.03059196472168,
          -1.7348047494888306,
          -7.351652145385742,
          -13.488842964172363,
          7.3897271156311035,
          -13.582233428955078,
          9.98206901550293,
          -3.450460433959961,
          -4.7761759757995605,
          -5.791545867919922,
          4.946539402008057,
          1.7841777801513672,
          7.958902835845947,
          11.11111831665039,
          10.732918739318848,
          5.996995449066162,
          6.994242191314697,
          -6.57658052444458,
          10.405009269714355,
          7.804361343383789,
          12.02466869354248,
          6.807735919952393,
          9.324501037597656,
          6.189226150512695,
          0.013658489100635052,
          1.7903941869735718,
          -9.690577507019043,
          9.10428237915039,
          -0.37290212512016296,
          -13.200926780700684,
          -3.6753764152526855,
          6.071671962738037,
          9.536179542541504,
          9.177226066589355,
          11.900269508361816,
          -6.95274019241333,
          13.25179386138916,
          -8.817641258239746,
          2.2548463344573975,
          12.0037260055542,
          8.595084190368652,
          5.222080230712891,
          8.019453048706055,
          9.709742546081543,
          16.85883140563965,
          -14.136768341064453,
          -14.692259788513184,
          -11.167315483093262,
          9.521693229675293,
          -7.286015033721924,
          -0.9656514525413513,
          8.996601104736328,
          9.21016788482666,
          -2.884376287460327
         ],
         "z": [
          7.947685241699219,
          -6.781122207641602,
          2.7899248600006104,
          10.411942481994629,
          -1.0915260314941406,
          4.2627034187316895,
          4.686317443847656,
          -1.063056468963623,
          -11.777000427246094,
          1.6163561344146729,
          -4.935298442840576,
          2.1112961769104004,
          -1.2955317497253418,
          -2.600173234939575,
          9.890174865722656,
          -1.685497760772705,
          3.4399044513702393,
          4.286462306976318,
          -6.161023139953613,
          -10.350546836853027,
          9.345900535583496,
          4.969021797180176,
          4.046173572540283,
          3.955716371536255,
          -3.273214101791382,
          3.769843101501465,
          -6.979308128356934,
          0.6469096541404724,
          9.711463928222656,
          -11.534335136413574,
          8.615927696228027,
          6.703629016876221,
          -10.712065696716309,
          4.420802593231201,
          -2.962808609008789,
          0.48662009835243225,
          8.17654037475586,
          -1.7736841440200806,
          -13.279633522033691,
          7.813505172729492,
          -9.160896301269531,
          -6.4789533615112305,
          -7.788507461547852,
          -2.405747652053833,
          8.595307350158691,
          -2.693514108657837,
          2.052067756652832,
          5.873908042907715,
          -9.046764373779297,
          2.7122561931610107,
          -0.9281343817710876,
          -0.8293145895004272,
          -0.8467663526535034,
          1.180815577507019,
          -2.5573370456695557,
          -0.08817549794912338,
          0.7667392492294312,
          5.0514960289001465,
          6.930232048034668,
          -12.46596622467041,
          7.738162994384766,
          4.365380764007568,
          1.0794904232025146,
          -6.448050498962402,
          -3.8313395977020264,
          2.7265655994415283,
          -10.550372123718262,
          2.1197187900543213,
          7.367912769317627,
          -9.592360496520996,
          -6.576274394989014
         ]
        },
        {
         "customdata": [
          [
           "Avenged Sevenfold",
           "Streets"
          ],
          [
           "Avenged Sevenfold",
           "Brompton Cocktail (Album Version)"
          ],
          [
           "Avenged Sevenfold",
           "I Won't See You Tonight Part 2"
          ],
          [
           "Avenged Sevenfold",
           "Remenissions"
          ],
          [
           "Avenged Sevenfold",
           "I Won't See You Tonight Part 1"
          ],
          [
           "Avenged Sevenfold",
           "Dear God (Album Version)"
          ],
          [
           "Avenged Sevenfold",
           "Breaking Their Hold"
          ],
          [
           "Avenged Sevenfold",
           "Waking the Fallen"
          ],
          [
           "Avenged Sevenfold",
           "And All Things Will End"
          ],
          [
           "Avenged Sevenfold",
           "Crossroads (Non-Album Track)"
          ],
          [
           "Avenged Sevenfold",
           "Eternal Rest"
          ],
          [
           "Avenged Sevenfold",
           "M.I.A. (Album Version)"
          ],
          [
           "Avenged Sevenfold",
           "Afterlife (Album Version)"
          ],
          [
           "Avenged Sevenfold",
           "Critical Acclaim (Amended Version)"
          ],
          [
           "Avenged Sevenfold",
           "Turn The Other Way"
          ],
          [
           "Avenged Sevenfold",
           "Radiant Eclipse"
          ],
          [
           "Avenged Sevenfold",
           "To End The Rapture"
          ],
          [
           "Avenged Sevenfold",
           "Warmness On The Soul"
          ],
          [
           "Avenged Sevenfold",
           "A Little Piece Of Heaven (Album Version)"
          ],
          [
           "Avenged Sevenfold",
           "Second Heartbeat"
          ],
          [
           "Avenged Sevenfold",
           "Shattered By Broken Dreams"
          ],
          [
           "Avenged Sevenfold",
           "Clairvoyant Disease"
          ],
          [
           "Avenged Sevenfold",
           "Darkness Surrounding"
          ],
          [
           "Avenged Sevenfold",
           "Unholy Confessions"
          ],
          [
           "Avenged Sevenfold",
           "The Wicked End (Album Version)"
          ],
          [
           "Avenged Sevenfold",
           "We Come Out At Night"
          ],
          [
           "Avenged Sevenfold",
           "The Art Of Subconscious Illusion"
          ],
          [
           "Avenged Sevenfold",
           "Forgotten Faces"
          ],
          [
           "Avenged Sevenfold",
           "An Epic Of Time Wasted"
          ],
          [
           "Avenged Sevenfold",
           "Burn It Down (Live In San Diego)"
          ],
          [
           "Avenged Sevenfold",
           "Desecrate Through Reverence"
          ],
          [
           "Avenged Sevenfold",
           "Chapter Four"
          ],
          [
           "Avenged Sevenfold",
           "Lips Of Deceit"
          ],
          [
           "Avenged Sevenfold",
           "Strength Of The World (Album Version)"
          ],
          [
           "Avenged Sevenfold",
           "Unbound [The Wild Ride] (Album Version)"
          ],
          [
           "Avenged Sevenfold",
           "Thick And Thin"
          ]
         ],
         "hovertemplate": "artist=%{customdata[0]}<br>t-SNE dimension 0=%{x}<br>t-SNE dimension 1=%{y}<br>t-SNE dimension 2=%{z}<br>title=%{customdata[1]}<extra></extra>",
         "legendgroup": "Avenged Sevenfold",
         "marker": {
          "color": "#8C564B",
          "symbol": "circle"
         },
         "mode": "markers",
         "name": "Avenged Sevenfold",
         "scene": "scene",
         "showlegend": true,
         "type": "scatter3d",
         "x": [
          5.971343040466309,
          4.109311580657959,
          2.1070070266723633,
          9.788952827453613,
          3.9614615440368652,
          -7.367602825164795,
          7.4999470710754395,
          0.7096267938613892,
          3.8785476684570312,
          2.6221320629119873,
          3.4809608459472656,
          9.213407516479492,
          -1.7693297863006592,
          7.2952961921691895,
          2.9853172302246094,
          6.073836803436279,
          6.204565048217773,
          -1.4494155645370483,
          5.616572856903076,
          -1.5987329483032227,
          2.0147740840911865,
          0.9779385328292847,
          7.33272647857666,
          2.833091974258423,
          13.538558959960938,
          0.5215267539024353,
          8.218152046203613,
          4.2680463790893555,
          -2.749696969985962,
          12.471538543701172,
          1.4372427463531494,
          12.196849822998047,
          8.295206069946289,
          9.843100547790527,
          1.453490138053894,
          8.634074211120605
         ],
         "y": [
          13.376471519470215,
          -8.511052131652832,
          -9.142927169799805,
          -5.119451999664307,
          -12.569552421569824,
          -7.36473274230957,
          -8.204839706420898,
          -13.954330444335938,
          -6.238142013549805,
          -9.833647727966309,
          -14.79245376586914,
          -13.33375072479248,
          -11.635176658630371,
          -3.6895275115966797,
          -10.259374618530273,
          -8.421893119812012,
          -6.04276180267334,
          -10.27121353149414,
          5.062047004699707,
          -7.226163864135742,
          -9.864916801452637,
          -8.070182800292969,
          -7.757768154144287,
          -7.951414108276367,
          -7.545595645904541,
          -3.999237537384033,
          -0.5650714635848999,
          -7.80782413482666,
          -7.871849536895752,
          -4.032217502593994,
          -9.195272445678711,
          -9.213766098022461,
          -6.081501007080078,
          -3.9264016151428223,
          -8.320242881774902,
          -1.0297908782958984
         ],
         "z": [
          -4.663560390472412,
          -2.015446186065674,
          1.8268951177597046,
          1.2028779983520508,
          4.311548709869385,
          -0.11696665734052658,
          -1.8624470233917236,
          6.649916172027588,
          1.8624882698059082,
          -1.7723426818847656,
          8.024206161499023,
          2.6889593601226807,
          2.467512369155884,
          -3.7514290809631348,
          7.715253829956055,
          7.00413179397583,
          6.915741443634033,
          -4.824760437011719,
          -7.514050006866455,
          -1.3154475688934326,
          -4.646460056304932,
          3.1984267234802246,
          6.236360549926758,
          0.6346442103385925,
          5.907671928405762,
          8.356925010681152,
          2.5462422370910645,
          3.2024383544921875,
          -0.9593510031700134,
          -0.41904011368751526,
          -1.877408504486084,
          7.057756423950195,
          2.439793825149536,
          9.057361602783203,
          -0.3902430832386017,
          -2.8876562118530273
         ]
        },
        {
         "customdata": [
          [
           "Linkin Park",
           "Crawling (Album Version)"
          ],
          [
           "Linkin Park",
           "Given Up (Album Version)"
          ],
          [
           "Linkin Park",
           "One Step Closer [Live At Milton Keynes]"
          ],
          [
           "Linkin Park",
           "Wth>You (Album Version)"
          ],
          [
           "Linkin Park",
           "In Pieces [Live From Projekt Revolution_ Washington DC_ Aug. 19 '07]"
          ],
          [
           "Linkin Park",
           "Papercut [Recorded Live At BBC1]"
          ],
          [
           "Linkin Park",
           "Given Up [Third Encore Session]"
          ],
          [
           "Linkin Park",
           "Breaking The Habit (Album Version)"
          ],
          [
           "Linkin Park",
           "Valentine's Day [Live From Frankfurt Germany_ Jan 20 '08]"
          ],
          [
           "Linkin Park",
           "Points Of Authority (Live In Texas)"
          ],
          [
           "Linkin Park",
           "Faint [Live In Japan]"
          ],
          [
           "Linkin Park",
           "My<Dsmbr (Album Version)"
          ],
          [
           "Linkin Park",
           "Lying From You (Live In Texas)"
          ],
          [
           "Linkin Park",
           "By Myself (Album Version)"
          ],
          [
           "Linkin Park",
           "In Between [Live From London UK_ Jan 29 '08]"
          ],
          [
           "Linkin Park",
           "Runaway (Album Version)"
          ],
          [
           "Linkin Park",
           "High Voltage"
          ],
          [
           "Linkin Park",
           "Easier To Run [Live LP Underground Tour 2003]"
          ],
          [
           "Linkin Park",
           "Kyur4 Th Ich (Album Version)"
          ],
          [
           "Linkin Park",
           "Buy Myself [Manson Remix] (Non-Album Track)"
          ],
          [
           "Linkin Park",
           "Numb (Live In Texas)"
          ],
          [
           "Linkin Park",
           "Rnw@y (Album Version)"
          ],
          [
           "Linkin Park",
           "New Divide [A Cappella Version]"
          ],
          [
           "Linkin Park",
           "Plc.4 Mie Haed (Album Version)"
          ],
          [
           "Linkin Park",
           "In The End (Album Version)"
          ],
          [
           "Linkin Park",
           "Given Up [Live At Milton Keynes]"
          ],
          [
           "Linkin Park",
           "Cure For The Itch (Album Version)"
          ],
          [
           "Linkin Park",
           "Hands Held High (Album Version)"
          ],
          [
           "Linkin Park",
           "My December"
          ],
          [
           "Linkin Park",
           "From The Inside [Live LP Underground Tour 2003]"
          ],
          [
           "Linkin Park",
           "Leave Out All The Rest (Single Version)"
          ],
          [
           "Linkin Park",
           "1stp Klosr (Album Version)"
          ],
          [
           "Linkin Park",
           "In The End [Live At Milton Keynes]"
          ],
          [
           "Linkin Park",
           "Pushing Me Away [Live At Milton Keynes]"
          ],
          [
           "Linkin Park",
           "Runaway (Live In Texas)"
          ],
          [
           "Linkin Park",
           "What I've Done [Distorted Remix]"
          ],
          [
           "Linkin Park",
           "Breaking The Habit [Live At Milton Keynes]"
          ],
          [
           "Linkin Park",
           "One Step Closer (Album Version)"
          ],
          [
           "Linkin Park",
           "Shadow Of The Day [Live At Milton Keynes]"
          ],
          [
           "Linkin Park",
           "H! Vltg3 (Album Version)"
          ],
          [
           "Linkin Park",
           "In Pieces [Live From SoHo]"
          ],
          [
           "Linkin Park",
           "Leave Out All The Rest [Live] (Album Version Edit)"
          ],
          [
           "Linkin Park",
           "Enth E Nd (Album Version)"
          ],
          [
           "Linkin Park",
           "Nobody's Listening (Album Version)"
          ],
          [
           "Linkin Park",
           "A Place For My Head (Album Version)"
          ],
          [
           "Linkin Park",
           "Bleed It Out [Live From Live Earth]"
          ],
          [
           "Linkin Park",
           "From The Inside [Live In Japan]"
          ],
          [
           "Linkin Park",
           "The Little Things Give You Away [Live At Milton Keynes]"
          ],
          [
           "Linkin Park",
           "With You (Album Version)"
          ],
          [
           "Linkin Park",
           "Riff Raff (Album Version)"
          ],
          [
           "Linkin Park",
           "Frgt/10 (Album Version)"
          ],
          [
           "Linkin Park",
           "Crawling (Live In Texas)"
          ],
          [
           "Linkin Park",
           "Figure.09 (Album Version)"
          ],
          [
           "Linkin Park",
           "New Divide (Album Version)"
          ],
          [
           "Linkin Park",
           "X-Ecutioner Style (Album Version)"
          ],
          [
           "Linkin Park",
           "What I've Done (Album Version)"
          ],
          [
           "Linkin Park",
           "In The End (Live In Texas)"
          ],
          [
           "Linkin Park",
           "One Step Closer (Live In Texas)"
          ],
          [
           "Linkin Park",
           "Pushing Me Away (Album Version)"
          ],
          [
           "Linkin Park",
           "My December [Live Project Rev. 2002]"
          ],
          [
           "Linkin Park",
           "P5hng Me A*wy (Album Version)"
          ],
          [
           "Linkin Park",
           "Leave Out All The Rest [Live From Projekt Revolution_ Detroit MI_ Aug. 22 '07]"
          ],
          [
           "Linkin Park",
           "No More Sorrow [Live At Milton Keynes]"
          ],
          [
           "Linkin Park",
           "Points Of Authority (Album Version)"
          ],
          [
           "Linkin Park",
           "Lying From You [Live LP Underground Tour 2003]"
          ],
          [
           "Linkin Park",
           "Lying From You [Live At Milton Keynes]"
          ],
          [
           "Linkin Park",
           "From The Inside [Live At Milton Keynes]"
          ],
          [
           "Linkin Park",
           "Shadow Of The Day (Album Version)"
          ]
         ],
         "hovertemplate": "artist=%{customdata[0]}<br>t-SNE dimension 0=%{x}<br>t-SNE dimension 1=%{y}<br>t-SNE dimension 2=%{z}<br>title=%{customdata[1]}<extra></extra>",
         "legendgroup": "Linkin Park",
         "marker": {
          "color": "#E377C2",
          "symbol": "circle"
         },
         "mode": "markers",
         "name": "Linkin Park",
         "scene": "scene",
         "showlegend": true,
         "type": "scatter3d",
         "x": [
          6.213779926300049,
          2.7881598472595215,
          -0.29860836267471313,
          -0.7161712646484375,
          0.6514974236488342,
          -5.5968499183654785,
          2.800260066986084,
          6.787247657775879,
          -6.957334518432617,
          -8.782448768615723,
          -1.1722067594528198,
          -8.685652732849121,
          2.8128509521484375,
          1.5536189079284668,
          3.892531394958496,
          -0.05389022082090378,
          6.81907844543457,
          2.69486665725708,
          0.16024422645568848,
          1.4919583797454834,
          8.268165588378906,
          9.379013061523438,
          1.2142024040222168,
          14.082133293151855,
          -1.7004239559173584,
          2.819681406021118,
          0.2016151398420334,
          9.757932662963867,
          -9.155569076538086,
          -0.05411464348435402,
          -6.664090633392334,
          2.292496681213379,
          -1.700717806816101,
          -1.6002839803695679,
          -17.58905601501465,
          6.037403583526611,
          6.772360324859619,
          2.2919085025787354,
          -3.408437490463257,
          10.391443252563477,
          0.6513264179229736,
          -6.660976409912109,
          5.284708499908447,
          13.474431991577148,
          14.078402519226074,
          9.266311645507812,
          -0.05410939082503319,
          -3.781902313232422,
          -5.642116069793701,
          8.071070671081543,
          7.943558692932129,
          6.213888168334961,
          -4.684503555297852,
          1.214967131614685,
          7.349837779998779,
          6.047547817230225,
          -1.6983983516693115,
          2.2886548042297363,
          -1.6017708778381348,
          -6.439642429351807,
          -1.6053624153137207,
          -6.09413480758667,
          11.337347030639648,
          -8.782407760620117,
          2.813870668411255,
          2.812246084213257,
          -0.054170481860637665,
          -3.4119138717651367
         ],
         "y": [
          -9.360217094421387,
          -7.679488182067871,
          1.6326814889907837,
          -8.933836936950684,
          -19.586408615112305,
          -7.638731002807617,
          -7.708306789398193,
          -6.051281452178955,
          -6.490767478942871,
          3.6564159393310547,
          -9.513059616088867,
          -5.480592250823975,
          -10.267054557800293,
          -7.801016330718994,
          -9.318572998046875,
          0.07736915349960327,
          12.346952438354492,
          -13.455001831054688,
          5.678053855895996,
          -7.7258992195129395,
          10.66065788269043,
          9.11711597442627,
          -16.031402587890625,
          -4.971770286560059,
          -19.3717098236084,
          -7.714649200439453,
          5.70629358291626,
          5.434504985809326,
          -5.849750518798828,
          0.07719937711954117,
          -10.018158912658691,
          -0.6263508200645447,
          -19.37187957763672,
          -19.281753540039062,
          1.902880311012268,
          -10.174727439880371,
          -6.0557684898376465,
          -0.6266224980354309,
          -15.168140411376953,
          7.68858003616333,
          -19.587617874145508,
          -10.026290893554688,
          4.2149152755737305,
          4.965535640716553,
          -4.974301338195801,
          1.3593404293060303,
          0.0773986428976059,
          -7.570970058441162,
          -7.203462600708008,
          7.664589881896973,
          5.661166191101074,
          -9.360862731933594,
          -7.58173131942749,
          -16.03416633605957,
          9.249147415161133,
          -10.150822639465332,
          -19.3686466217041,
          -0.6270689368247986,
          -19.288169860839844,
          -11.446002960205078,
          -19.293601989746094,
          -8.750373840332031,
          -3.640385389328003,
          3.656501293182373,
          -10.26728630065918,
          -10.268195152282715,
          0.07693382352590561,
          -15.171260833740234
         ],
         "z": [
          -12.232644081115723,
          -5.191827774047852,
          0.29382598400115967,
          -0.08397117257118225,
          4.966444969177246,
          4.653897285461426,
          -5.208326816558838,
          -6.710436820983887,
          8.0548095703125,
          18.02216148376465,
          -8.70313549041748,
          1.0197391510009766,
          -11.548173904418945,
          -0.9853988885879517,
          -6.263731956481934,
          21.085830688476562,
          5.141534328460693,
          4.695083141326904,
          -2.1831579208374023,
          -1.0052791833877563,
          3.4839894771575928,
          2.468299388885498,
          11.129783630371094,
          -7.884224891662598,
          -4.774550437927246,
          -5.175114631652832,
          -2.141663074493408,
          4.27106237411499,
          4.018632888793945,
          21.085969924926758,
          1.6549270153045654,
          20.468250274658203,
          -4.774908065795898,
          -4.728456020355225,
          1.7712361812591553,
          -1.6989456415176392,
          -6.68143892288208,
          20.468130111694336,
          10.284412384033203,
          -1.5670397281646729,
          4.967113018035889,
          1.6373294591903687,
          -5.607240200042725,
          -2.2298343181610107,
          -7.879903793334961,
          5.747204303741455,
          21.085721969604492,
          6.1639299392700195,
          4.988685607910156,
          -4.428351879119873,
          8.550704956054688,
          -12.233586311340332,
          -0.35395389795303345,
          11.13212776184082,
          -2.0168063640594482,
          -1.6808876991271973,
          -4.774003505706787,
          20.4695987701416,
          -4.732312202453613,
          -1.6114444732666016,
          -4.735212326049805,
          -6.833014011383057,
          -2.503915309906006,
          18.022523880004883,
          -11.5476655960083,
          -11.547670364379883,
          21.082477569580078,
          10.287208557128906
         ]
        },
        {
         "customdata": [
          [
           "The Who",
           "Slip Kid"
          ],
          [
           "The Who",
           "Daily Records"
          ],
          [
           "The Who",
           "Man With Money"
          ],
          [
           "The Who",
           "Disguises"
          ],
          [
           "The Who",
           "Tommy Can You Hear Me?"
          ],
          [
           "The Who",
           "The Quiet One"
          ],
          [
           "The Who",
           "Pure And Easy"
          ],
          [
           "The Who",
           "I Like Nightmares"
          ],
          [
           "The Who",
           "A Quick One While He's Away"
          ],
          [
           "The Who",
           "Don't Look Away"
          ],
          [
           "The Who",
           "Behind Blue Eyes"
          ],
          [
           "The Who",
           "Christmas"
          ],
          [
           "The Who",
           "Trilby's Piano"
          ],
          [
           "The Who",
           "Tattoo"
          ],
          [
           "The Who",
           "Success Story"
          ],
          [
           "The Who",
           "Relax"
          ],
          [
           "The Who",
           "Fiddle About"
          ],
          [
           "The Who",
           "A Man In A Purple Dress"
          ],
          [
           "The Who",
           "1921"
          ],
          [
           "The Who",
           "My Wife"
          ],
          [
           "The Who",
           "Eyesight To The Blind (The Hawker)"
          ],
          [
           "The Who",
           "Don't Let Go The Coat"
          ],
          [
           "The Who",
           "Boris The Spider"
          ],
          [
           "The Who",
           "Love Reign O'er Me"
          ],
          [
           "The Who",
           "Welcome"
          ],
          [
           "The Who",
           "Heat Wave"
          ],
          [
           "The Who",
           "Dr. Jimmy"
          ],
          [
           "The Who",
           "Sensation"
          ],
          [
           "The Who",
           "Sunrise"
          ],
          [
           "The Who",
           "Magic Bus"
          ],
          [
           "The Who",
           "Miracle Cure"
          ],
          [
           "The Who",
           "Mary Anne With The Shaky Hand"
          ],
          [
           "The Who",
           "You Stand By Me"
          ],
          [
           "The Who",
           "Summertime Blues"
          ],
          [
           "The Who",
           "Let's See Action"
          ],
          [
           "The Who",
           "Tea & Theatre"
          ],
          [
           "The Who",
           "Who Are You"
          ],
          [
           "The Who",
           "Young Man Blues"
          ],
          [
           "The Who",
           "Love Ain't For Keeping"
          ],
          [
           "The Who",
           "Cache Cache"
          ],
          [
           "The Who",
           "La La La Lies"
          ],
          [
           "The Who",
           "Squeeze Box"
          ],
          [
           "The Who",
           "Relay"
          ],
          [
           "The Who",
           "Too Much Of Anything"
          ],
          [
           "The Who",
           "The Kids Are Alright"
          ],
          [
           "The Who",
           "I Can See For Miles"
          ],
          [
           "The Who",
           "God Speaks_ of Marty Robbins"
          ],
          [
           "The Who",
           "Sparks"
          ],
          [
           "The Who",
           "I'm A Boy"
          ],
          [
           "The Who",
           "Sister Disco"
          ],
          [
           "The Who",
           "Eminence Front"
          ],
          [
           "The Who",
           "Substitute"
          ],
          [
           "The Who",
           "Doctor_ Doctor"
          ],
          [
           "The Who",
           "My Generation"
          ],
          [
           "The Who",
           "Long Live Rock"
          ],
          [
           "The Who",
           "Odorono"
          ],
          [
           "The Who",
           "It's Hard"
          ],
          [
           "The Who",
           "I'm Free"
          ],
          [
           "The Who",
           "Amazing Journey"
          ],
          [
           "The Who",
           "Happy Jack"
          ],
          [
           "The Who",
           "Endless Wire"
          ],
          [
           "The Who",
           "Shout And Shimmy"
          ],
          [
           "The Who",
           "Medac"
          ],
          [
           "The Who",
           "Water"
          ],
          [
           "The Who",
           "I Don't Even Know Myself"
          ],
          [
           "The Who",
           "Music Must Change"
          ],
          [
           "The Who",
           "Just You And Me_ Darling"
          ],
          [
           "The Who",
           "Empty Glass"
          ],
          [
           "The Who",
           "I Can't Explain"
          ],
          [
           "The Who",
           "Mike Post Theme"
          ],
          [
           "The Who",
           "You Better You Bet"
          ],
          [
           "The Who",
           "Pinball Wizard"
          ],
          [
           "The Who",
           "Sound Round"
          ],
          [
           "The Who",
           "Heinz Baked Beans"
          ],
          [
           "The Who",
           "See Me_ Feel Me"
          ]
         ],
         "hovertemplate": "artist=%{customdata[0]}<br>t-SNE dimension 0=%{x}<br>t-SNE dimension 1=%{y}<br>t-SNE dimension 2=%{z}<br>title=%{customdata[1]}<extra></extra>",
         "legendgroup": "The Who",
         "marker": {
          "color": "#7F7F7F",
          "symbol": "circle"
         },
         "mode": "markers",
         "name": "The Who",
         "scene": "scene",
         "showlegend": true,
         "type": "scatter3d",
         "x": [
          9.997482299804688,
          3.852031946182251,
          -7.094632148742676,
          -2.5139904022216797,
          -1.6193808317184448,
          4.4195122718811035,
          4.985694885253906,
          8.260504722595215,
          -13.248541831970215,
          -1.3813241720199585,
          4.217785835266113,
          13.440705299377441,
          5.610045909881592,
          -1.8571138381958008,
          5.966319561004639,
          -7.590492248535156,
          0.3632603883743286,
          8.437968254089355,
          -10.309565544128418,
          -0.7026738524436951,
          -3.146589517593384,
          -3.6521859169006348,
          2.056591510772705,
          2.1078248023986816,
          7.0660576820373535,
          -16.00482749938965,
          10.324721336364746,
          -0.01377097051590681,
          -3.109436511993408,
          1.7425440549850464,
          -0.9418911337852478,
          -1.3523036241531372,
          5.5427632331848145,
          -14.929055213928223,
          8.913168907165527,
          -3.304600715637207,
          -0.31073373556137085,
          5.533579349517822,
          -8.500407218933105,
          2.5596892833709717,
          0.467398077249527,
          -3.503748893737793,
          -11.589388847351074,
          15.319786071777344,
          8.367081642150879,
          -6.279861927032471,
          -5.814425945281982,
          3.240051507949829,
          -8.142179489135742,
          -4.2108564376831055,
          8.895532608032227,
          4.291561603546143,
          5.043083667755127,
          9.33930778503418,
          4.398205757141113,
          1.6402769088745117,
          7.037249565124512,
          4.035045623779297,
          3.24100399017334,
          -0.9544962048530579,
          4.983587741851807,
          -4.054086208343506,
          3.8417932987213135,
          7.977381706237793,
          0.12072635442018509,
          12.315995216369629,
          5.51542854309082,
          4.897365093231201,
          -2.3979551792144775,
          -0.6183369159698486,
          0.30010274052619934,
          17.67426109313965,
          -0.9974594116210938,
          -0.21826307475566864,
          3.782322406768799
         ],
         "y": [
          1.8892967700958252,
          7.532039642333984,
          10.158783912658691,
          -2.4568302631378174,
          6.469234943389893,
          -3.557079553604126,
          -7.339496612548828,
          0.09020976722240448,
          1.978838562965393,
          -0.6233300566673279,
          -3.461188793182373,
          0.06399663537740707,
          -13.763381004333496,
          -8.984930038452148,
          6.744996070861816,
          6.535702705383301,
          12.78268051147461,
          -2.807380437850952,
          -6.898027420043945,
          14.049257278442383,
          2.5329701900482178,
          2.5149917602539062,
          0.3887932598590851,
          -0.0762450098991394,
          1.5536704063415527,
          1.2146447896957397,
          7.747051239013672,
          -12.151895523071289,
          -8.920949935913086,
          11.213412284851074,
          1.7445532083511353,
          8.068981170654297,
          9.414325714111328,
          -13.387297630310059,
          -6.883884906768799,
          0.14377659559249878,
          12.762785911560059,
          9.41288948059082,
          9.08295726776123,
          2.4861233234405518,
          -4.3461456298828125,
          16.932252883911133,
          4.477429389953613,
          5.963503360748291,
          5.184277057647705,
          -4.679196357727051,
          -3.535346508026123,
          -2.9368057250976562,
          0.29665806889533997,
          5.525440692901611,
          5.356845378875732,
          7.409402847290039,
          8.57171630859375,
          4.054006099700928,
          11.637322425842285,
          0.11931776255369186,
          0.3352520167827606,
          8.15597915649414,
          -2.9314825534820557,
          5.522611141204834,
          -9.43437385559082,
          13.774801254272461,
          3.4320521354675293,
          10.575043678283691,
          0.5004331469535828,
          5.929962635040283,
          9.40674114227295,
          5.744905471801758,
          0.38269495964050293,
          0.7658204436302185,
          10.66003704071045,
          -3.8906588554382324,
          -5.434414386749268,
          6.6542439460754395,
          1.994335412979126
         ],
         "z": [
          3.948932409286499,
          -5.431718826293945,
          -7.432536602020264,
          2.533377170562744,
          -2.1250481605529785,
          7.8783345222473145,
          14.41681957244873,
          -0.7914757132530212,
          4.172771453857422,
          4.528317928314209,
          5.537554740905762,
          4.80624532699585,
          -6.393390655517578,
          -5.213712692260742,
          11.504942893981934,
          9.507926940917969,
          4.194568157196045,
          11.449804306030273,
          -3.2036077976226807,
          8.450591087341309,
          -7.471557140350342,
          2.5849804878234863,
          8.741418838500977,
          19.43280601501465,
          10.43075942993164,
          1.805568814277649,
          3.8578262329101562,
          10.800007820129395,
          7.372751235961914,
          -11.539046287536621,
          -4.7139201164245605,
          2.7979986667633057,
          11.887323379516602,
          1.8569716215133667,
          -9.69300365447998,
          7.921072959899902,
          2.0994350910186768,
          11.88581657409668,
          6.718783855438232,
          6.215565204620361,
          -9.645824432373047,
          2.6588618755340576,
          5.270328998565674,
          8.216950416564941,
          -14.00976848602295,
          8.466394424438477,
          10.158337593078613,
          -3.6004722118377686,
          2.7529830932617188,
          3.2988545894622803,
          11.97896671295166,
          5.945769786834717,
          2.1372053623199463,
          -6.614981651306152,
          8.721248626708984,
          -4.7382330894470215,
          -1.7260632514953613,
          -12.315580368041992,
          -3.5892434120178223,
          12.316397666931152,
          12.813776969909668,
          -1.9300082921981812,
          5.352071762084961,
          -4.6607794761657715,
          -6.644058704376221,
          9.860912322998047,
          11.878266334533691,
          5.833855628967285,
          -4.307157039642334,
          1.6331998109817505,
          5.643601417541504,
          -4.518579483032227,
          6.289469242095947,
          5.279279708862305,
          -5.670537948608398
         ]
        },
        {
         "customdata": [
          [
           "The Strokes",
           "15 Minutes"
          ],
          [
           "The Strokes",
           "The Modern Age"
          ],
          [
           "The Strokes",
           "Razorblade"
          ],
          [
           "The Strokes",
           "Life's A Gas"
          ],
          [
           "The Strokes",
           "Clampdown"
          ],
          [
           "The Strokes",
           "I'll Try Anything Once"
          ],
          [
           "The Strokes",
           "Electricityscape"
          ],
          [
           "The Strokes",
           "Hard To Explain"
          ],
          [
           "The Strokes",
           "New York City Cops"
          ],
          [
           "The Strokes",
           "Heart In A Cage"
          ],
          [
           "The Strokes",
           "Juicebox"
          ],
          [
           "The Strokes",
           "You Only Live Once"
          ],
          [
           "The Strokes",
           "Red Light"
          ],
          [
           "The Strokes",
           "Trying Your Luck"
          ],
          [
           "The Strokes",
           "Take It Or Leave It"
          ],
          [
           "The Strokes",
           "Someday"
          ],
          [
           "The Strokes",
           "Fear Of Sleep"
          ],
          [
           "The Strokes",
           "Alone_ Together"
          ],
          [
           "The Strokes",
           "Reptilia"
          ],
          [
           "The Strokes",
           "Killing Lies"
          ],
          [
           "The Strokes",
           "Is This It"
          ],
          [
           "The Strokes",
           "Last Nite"
          ],
          [
           "The Strokes",
           "Modern Girls And Old Fashion Men"
          ],
          [
           "The Strokes",
           "Between Love & Hate"
          ]
         ],
         "hovertemplate": "artist=%{customdata[0]}<br>t-SNE dimension 0=%{x}<br>t-SNE dimension 1=%{y}<br>t-SNE dimension 2=%{z}<br>title=%{customdata[1]}<extra></extra>",
         "legendgroup": "The Strokes",
         "marker": {
          "color": "#BCBD22",
          "symbol": "circle"
         },
         "mode": "markers",
         "name": "The Strokes",
         "scene": "scene",
         "showlegend": true,
         "type": "scatter3d",
         "x": [
          2.5036356449127197,
          -6.447201251983643,
          -0.20637355744838715,
          0.8514477014541626,
          10.081853866577148,
          3.6209003925323486,
          -7.350274085998535,
          -0.5881516337394714,
          10.074528694152832,
          5.7966179847717285,
          -1.274964690208435,
          -4.102651596069336,
          1.3142837285995483,
          -3.5117392539978027,
          -10.59154224395752,
          -3.119318962097168,
          8.611084938049316,
          -14.015766143798828,
          -3.676180839538574,
          -1.5505001544952393,
          -3.0038928985595703,
          -8.93407154083252,
          3.3848330974578857,
          -9.754803657531738
         ],
         "y": [
          6.011702060699463,
          -0.006711877416819334,
          -0.19676068425178528,
          -2.508495330810547,
          -0.5207023620605469,
          -0.155048206448555,
          -2.984743595123291,
          -2.8898861408233643,
          9.927690505981445,
          -2.467912197113037,
          7.306460380554199,
          0.7368917465209961,
          -1.534013271331787,
          0.03857513517141342,
          -1.2109036445617676,
          -3.6256024837493896,
          4.203364849090576,
          -12.466111183166504,
          -0.2568516433238983,
          -1.2820504903793335,
          -6.284375190734863,
          7.617892742156982,
          0.7154080867767334,
          -1.353023648262024
         ],
         "z": [
          3.882606029510498,
          11.30734920501709,
          -5.96728515625,
          -5.470501899719238,
          -7.322607517242432,
          -7.569400310516357,
          5.563385963439941,
          -4.130876541137695,
          7.357606410980225,
          7.1054840087890625,
          14.78487491607666,
          -0.04431268572807312,
          6.239023208618164,
          3.0979626178741455,
          -4.285966396331787,
          -2.6334116458892822,
          -0.27829211950302124,
          2.791513204574585,
          7.358675956726074,
          -5.097805500030518,
          -2.2970428466796875,
          0.7269651889801025,
          -5.032769680023193,
          -4.15562629699707
         ]
        },
        {
         "customdata": [
          [
           "Tame Impala",
           "Wander"
          ],
          [
           "Tame Impala",
           "Slide Through My Fingers"
          ],
          [
           "Tame Impala",
           "41 Mosquitoes Flying In Formation"
          ],
          [
           "Tame Impala",
           "Desire Be Desire Go"
          ],
          [
           "Tame Impala",
           "Skeleton Tiger"
          ],
          [
           "Tame Impala",
           "Half Full Glass Of Wine"
          ]
         ],
         "hovertemplate": "artist=%{customdata[0]}<br>t-SNE dimension 0=%{x}<br>t-SNE dimension 1=%{y}<br>t-SNE dimension 2=%{z}<br>title=%{customdata[1]}<extra></extra>",
         "legendgroup": "Tame Impala",
         "marker": {
          "color": "#17BECF",
          "symbol": "circle"
         },
         "mode": "markers",
         "name": "Tame Impala",
         "scene": "scene",
         "showlegend": true,
         "type": "scatter3d",
         "x": [
          -16.546552658081055,
          -0.5216332674026489,
          -0.5483022332191467,
          2.448789596557617,
          -4.452838897705078,
          0.6372376680374146
         ],
         "y": [
          6.557861804962158,
          -3.1882100105285645,
          1.6228554248809814,
          -7.343591690063477,
          9.07383918762207,
          0.21558907628059387
         ],
         "z": [
          4.463770866394043,
          1.5566346645355225,
          -1.4205923080444336,
          -1.3958979845046997,
          8.025744438171387,
          3.1323485374450684
         ]
        }
       ],
       "layout": {
        "legend": {
         "title": {
          "text": "artist"
         },
         "tracegroupgap": 0
        },
        "margin": {
         "t": 60
        },
        "scene": {
         "domain": {
          "x": [
           0,
           1
          ],
          "y": [
           0,
           1
          ]
         },
         "xaxis": {
          "title": {
           "text": "t-SNE dimension 0"
          }
         },
         "yaxis": {
          "title": {
           "text": "t-SNE dimension 1"
          }
         },
         "zaxis": {
          "title": {
           "text": "t-SNE dimension 2"
          }
         }
        },
        "template": {
         "data": {
          "bar": [
           {
            "error_x": {
             "color": "rgb(36,36,36)"
            },
            "error_y": {
             "color": "rgb(36,36,36)"
            },
            "marker": {
             "line": {
              "color": "white",
              "width": 0.5
             }
            },
            "type": "bar"
           }
          ],
          "barpolar": [
           {
            "marker": {
             "line": {
              "color": "white",
              "width": 0.5
             }
            },
            "type": "barpolar"
           }
          ],
          "carpet": [
           {
            "aaxis": {
             "endlinecolor": "rgb(36,36,36)",
             "gridcolor": "white",
             "linecolor": "white",
             "minorgridcolor": "white",
             "startlinecolor": "rgb(36,36,36)"
            },
            "baxis": {
             "endlinecolor": "rgb(36,36,36)",
             "gridcolor": "white",
             "linecolor": "white",
             "minorgridcolor": "white",
             "startlinecolor": "rgb(36,36,36)"
            },
            "type": "carpet"
           }
          ],
          "choropleth": [
           {
            "colorbar": {
             "outlinewidth": 1,
             "tickcolor": "rgb(36,36,36)",
             "ticks": "outside"
            },
            "type": "choropleth"
           }
          ],
          "contour": [
           {
            "colorbar": {
             "outlinewidth": 1,
             "tickcolor": "rgb(36,36,36)",
             "ticks": "outside"
            },
            "colorscale": [
             [
              0,
              "#440154"
             ],
             [
              0.1111111111111111,
              "#482878"
             ],
             [
              0.2222222222222222,
              "#3e4989"
             ],
             [
              0.3333333333333333,
              "#31688e"
             ],
             [
              0.4444444444444444,
              "#26828e"
             ],
             [
              0.5555555555555556,
              "#1f9e89"
             ],
             [
              0.6666666666666666,
              "#35b779"
             ],
             [
              0.7777777777777778,
              "#6ece58"
             ],
             [
              0.8888888888888888,
              "#b5de2b"
             ],
             [
              1,
              "#fde725"
             ]
            ],
            "type": "contour"
           }
          ],
          "contourcarpet": [
           {
            "colorbar": {
             "outlinewidth": 1,
             "tickcolor": "rgb(36,36,36)",
             "ticks": "outside"
            },
            "type": "contourcarpet"
           }
          ],
          "heatmap": [
           {
            "colorbar": {
             "outlinewidth": 1,
             "tickcolor": "rgb(36,36,36)",
             "ticks": "outside"
            },
            "colorscale": [
             [
              0,
              "#440154"
             ],
             [
              0.1111111111111111,
              "#482878"
             ],
             [
              0.2222222222222222,
              "#3e4989"
             ],
             [
              0.3333333333333333,
              "#31688e"
             ],
             [
              0.4444444444444444,
              "#26828e"
             ],
             [
              0.5555555555555556,
              "#1f9e89"
             ],
             [
              0.6666666666666666,
              "#35b779"
             ],
             [
              0.7777777777777778,
              "#6ece58"
             ],
             [
              0.8888888888888888,
              "#b5de2b"
             ],
             [
              1,
              "#fde725"
             ]
            ],
            "type": "heatmap"
           }
          ],
          "heatmapgl": [
           {
            "colorbar": {
             "outlinewidth": 1,
             "tickcolor": "rgb(36,36,36)",
             "ticks": "outside"
            },
            "colorscale": [
             [
              0,
              "#440154"
             ],
             [
              0.1111111111111111,
              "#482878"
             ],
             [
              0.2222222222222222,
              "#3e4989"
             ],
             [
              0.3333333333333333,
              "#31688e"
             ],
             [
              0.4444444444444444,
              "#26828e"
             ],
             [
              0.5555555555555556,
              "#1f9e89"
             ],
             [
              0.6666666666666666,
              "#35b779"
             ],
             [
              0.7777777777777778,
              "#6ece58"
             ],
             [
              0.8888888888888888,
              "#b5de2b"
             ],
             [
              1,
              "#fde725"
             ]
            ],
            "type": "heatmapgl"
           }
          ],
          "histogram": [
           {
            "marker": {
             "line": {
              "color": "white",
              "width": 0.6
             }
            },
            "type": "histogram"
           }
          ],
          "histogram2d": [
           {
            "colorbar": {
             "outlinewidth": 1,
             "tickcolor": "rgb(36,36,36)",
             "ticks": "outside"
            },
            "colorscale": [
             [
              0,
              "#440154"
             ],
             [
              0.1111111111111111,
              "#482878"
             ],
             [
              0.2222222222222222,
              "#3e4989"
             ],
             [
              0.3333333333333333,
              "#31688e"
             ],
             [
              0.4444444444444444,
              "#26828e"
             ],
             [
              0.5555555555555556,
              "#1f9e89"
             ],
             [
              0.6666666666666666,
              "#35b779"
             ],
             [
              0.7777777777777778,
              "#6ece58"
             ],
             [
              0.8888888888888888,
              "#b5de2b"
             ],
             [
              1,
              "#fde725"
             ]
            ],
            "type": "histogram2d"
           }
          ],
          "histogram2dcontour": [
           {
            "colorbar": {
             "outlinewidth": 1,
             "tickcolor": "rgb(36,36,36)",
             "ticks": "outside"
            },
            "colorscale": [
             [
              0,
              "#440154"
             ],
             [
              0.1111111111111111,
              "#482878"
             ],
             [
              0.2222222222222222,
              "#3e4989"
             ],
             [
              0.3333333333333333,
              "#31688e"
             ],
             [
              0.4444444444444444,
              "#26828e"
             ],
             [
              0.5555555555555556,
              "#1f9e89"
             ],
             [
              0.6666666666666666,
              "#35b779"
             ],
             [
              0.7777777777777778,
              "#6ece58"
             ],
             [
              0.8888888888888888,
              "#b5de2b"
             ],
             [
              1,
              "#fde725"
             ]
            ],
            "type": "histogram2dcontour"
           }
          ],
          "mesh3d": [
           {
            "colorbar": {
             "outlinewidth": 1,
             "tickcolor": "rgb(36,36,36)",
             "ticks": "outside"
            },
            "type": "mesh3d"
           }
          ],
          "parcoords": [
           {
            "line": {
             "colorbar": {
              "outlinewidth": 1,
              "tickcolor": "rgb(36,36,36)",
              "ticks": "outside"
             }
            },
            "type": "parcoords"
           }
          ],
          "pie": [
           {
            "automargin": true,
            "type": "pie"
           }
          ],
          "scatter": [
           {
            "marker": {
             "colorbar": {
              "outlinewidth": 1,
              "tickcolor": "rgb(36,36,36)",
              "ticks": "outside"
             }
            },
            "type": "scatter"
           }
          ],
          "scatter3d": [
           {
            "line": {
             "colorbar": {
              "outlinewidth": 1,
              "tickcolor": "rgb(36,36,36)",
              "ticks": "outside"
             }
            },
            "marker": {
             "colorbar": {
              "outlinewidth": 1,
              "tickcolor": "rgb(36,36,36)",
              "ticks": "outside"
             }
            },
            "type": "scatter3d"
           }
          ],
          "scattercarpet": [
           {
            "marker": {
             "colorbar": {
              "outlinewidth": 1,
              "tickcolor": "rgb(36,36,36)",
              "ticks": "outside"
             }
            },
            "type": "scattercarpet"
           }
          ],
          "scattergeo": [
           {
            "marker": {
             "colorbar": {
              "outlinewidth": 1,
              "tickcolor": "rgb(36,36,36)",
              "ticks": "outside"
             }
            },
            "type": "scattergeo"
           }
          ],
          "scattergl": [
           {
            "marker": {
             "colorbar": {
              "outlinewidth": 1,
              "tickcolor": "rgb(36,36,36)",
              "ticks": "outside"
             }
            },
            "type": "scattergl"
           }
          ],
          "scattermapbox": [
           {
            "marker": {
             "colorbar": {
              "outlinewidth": 1,
              "tickcolor": "rgb(36,36,36)",
              "ticks": "outside"
             }
            },
            "type": "scattermapbox"
           }
          ],
          "scatterpolar": [
           {
            "marker": {
             "colorbar": {
              "outlinewidth": 1,
              "tickcolor": "rgb(36,36,36)",
              "ticks": "outside"
             }
            },
            "type": "scatterpolar"
           }
          ],
          "scatterpolargl": [
           {
            "marker": {
             "colorbar": {
              "outlinewidth": 1,
              "tickcolor": "rgb(36,36,36)",
              "ticks": "outside"
             }
            },
            "type": "scatterpolargl"
           }
          ],
          "scatterternary": [
           {
            "marker": {
             "colorbar": {
              "outlinewidth": 1,
              "tickcolor": "rgb(36,36,36)",
              "ticks": "outside"
             }
            },
            "type": "scatterternary"
           }
          ],
          "surface": [
           {
            "colorbar": {
             "outlinewidth": 1,
             "tickcolor": "rgb(36,36,36)",
             "ticks": "outside"
            },
            "colorscale": [
             [
              0,
              "#440154"
             ],
             [
              0.1111111111111111,
              "#482878"
             ],
             [
              0.2222222222222222,
              "#3e4989"
             ],
             [
              0.3333333333333333,
              "#31688e"
             ],
             [
              0.4444444444444444,
              "#26828e"
             ],
             [
              0.5555555555555556,
              "#1f9e89"
             ],
             [
              0.6666666666666666,
              "#35b779"
             ],
             [
              0.7777777777777778,
              "#6ece58"
             ],
             [
              0.8888888888888888,
              "#b5de2b"
             ],
             [
              1,
              "#fde725"
             ]
            ],
            "type": "surface"
           }
          ],
          "table": [
           {
            "cells": {
             "fill": {
              "color": "rgb(237,237,237)"
             },
             "line": {
              "color": "white"
             }
            },
            "header": {
             "fill": {
              "color": "rgb(217,217,217)"
             },
             "line": {
              "color": "white"
             }
            },
            "type": "table"
           }
          ]
         },
         "layout": {
          "annotationdefaults": {
           "arrowhead": 0,
           "arrowwidth": 1
          },
          "coloraxis": {
           "colorbar": {
            "outlinewidth": 1,
            "tickcolor": "rgb(36,36,36)",
            "ticks": "outside"
           }
          },
          "colorscale": {
           "diverging": [
            [
             0,
             "rgb(103,0,31)"
            ],
            [
             0.1,
             "rgb(178,24,43)"
            ],
            [
             0.2,
             "rgb(214,96,77)"
            ],
            [
             0.3,
             "rgb(244,165,130)"
            ],
            [
             0.4,
             "rgb(253,219,199)"
            ],
            [
             0.5,
             "rgb(247,247,247)"
            ],
            [
             0.6,
             "rgb(209,229,240)"
            ],
            [
             0.7,
             "rgb(146,197,222)"
            ],
            [
             0.8,
             "rgb(67,147,195)"
            ],
            [
             0.9,
             "rgb(33,102,172)"
            ],
            [
             1,
             "rgb(5,48,97)"
            ]
           ],
           "sequential": [
            [
             0,
             "#440154"
            ],
            [
             0.1111111111111111,
             "#482878"
            ],
            [
             0.2222222222222222,
             "#3e4989"
            ],
            [
             0.3333333333333333,
             "#31688e"
            ],
            [
             0.4444444444444444,
             "#26828e"
            ],
            [
             0.5555555555555556,
             "#1f9e89"
            ],
            [
             0.6666666666666666,
             "#35b779"
            ],
            [
             0.7777777777777778,
             "#6ece58"
            ],
            [
             0.8888888888888888,
             "#b5de2b"
            ],
            [
             1,
             "#fde725"
            ]
           ],
           "sequentialminus": [
            [
             0,
             "#440154"
            ],
            [
             0.1111111111111111,
             "#482878"
            ],
            [
             0.2222222222222222,
             "#3e4989"
            ],
            [
             0.3333333333333333,
             "#31688e"
            ],
            [
             0.4444444444444444,
             "#26828e"
            ],
            [
             0.5555555555555556,
             "#1f9e89"
            ],
            [
             0.6666666666666666,
             "#35b779"
            ],
            [
             0.7777777777777778,
             "#6ece58"
            ],
            [
             0.8888888888888888,
             "#b5de2b"
            ],
            [
             1,
             "#fde725"
            ]
           ]
          },
          "colorway": [
           "#1F77B4",
           "#FF7F0E",
           "#2CA02C",
           "#D62728",
           "#9467BD",
           "#8C564B",
           "#E377C2",
           "#7F7F7F",
           "#BCBD22",
           "#17BECF"
          ],
          "font": {
           "color": "rgb(36,36,36)"
          },
          "geo": {
           "bgcolor": "white",
           "lakecolor": "white",
           "landcolor": "white",
           "showlakes": true,
           "showland": true,
           "subunitcolor": "white"
          },
          "hoverlabel": {
           "align": "left"
          },
          "hovermode": "closest",
          "mapbox": {
           "style": "light"
          },
          "paper_bgcolor": "white",
          "plot_bgcolor": "white",
          "polar": {
           "angularaxis": {
            "gridcolor": "rgb(232,232,232)",
            "linecolor": "rgb(36,36,36)",
            "showgrid": false,
            "showline": true,
            "ticks": "outside"
           },
           "bgcolor": "white",
           "radialaxis": {
            "gridcolor": "rgb(232,232,232)",
            "linecolor": "rgb(36,36,36)",
            "showgrid": false,
            "showline": true,
            "ticks": "outside"
           }
          },
          "scene": {
           "xaxis": {
            "backgroundcolor": "white",
            "gridcolor": "rgb(232,232,232)",
            "gridwidth": 2,
            "linecolor": "rgb(36,36,36)",
            "showbackground": true,
            "showgrid": false,
            "showline": true,
            "ticks": "outside",
            "zeroline": false,
            "zerolinecolor": "rgb(36,36,36)"
           },
           "yaxis": {
            "backgroundcolor": "white",
            "gridcolor": "rgb(232,232,232)",
            "gridwidth": 2,
            "linecolor": "rgb(36,36,36)",
            "showbackground": true,
            "showgrid": false,
            "showline": true,
            "ticks": "outside",
            "zeroline": false,
            "zerolinecolor": "rgb(36,36,36)"
           },
           "zaxis": {
            "backgroundcolor": "white",
            "gridcolor": "rgb(232,232,232)",
            "gridwidth": 2,
            "linecolor": "rgb(36,36,36)",
            "showbackground": true,
            "showgrid": false,
            "showline": true,
            "ticks": "outside",
            "zeroline": false,
            "zerolinecolor": "rgb(36,36,36)"
           }
          },
          "shapedefaults": {
           "fillcolor": "black",
           "line": {
            "width": 0
           },
           "opacity": 0.3
          },
          "ternary": {
           "aaxis": {
            "gridcolor": "rgb(232,232,232)",
            "linecolor": "rgb(36,36,36)",
            "showgrid": false,
            "showline": true,
            "ticks": "outside"
           },
           "baxis": {
            "gridcolor": "rgb(232,232,232)",
            "linecolor": "rgb(36,36,36)",
            "showgrid": false,
            "showline": true,
            "ticks": "outside"
           },
           "bgcolor": "white",
           "caxis": {
            "gridcolor": "rgb(232,232,232)",
            "linecolor": "rgb(36,36,36)",
            "showgrid": false,
            "showline": true,
            "ticks": "outside"
           }
          },
          "title": {
           "x": 0.05
          },
          "xaxis": {
           "automargin": true,
           "gridcolor": "rgb(232,232,232)",
           "linecolor": "rgb(36,36,36)",
           "showgrid": false,
           "showline": true,
           "ticks": "outside",
           "title": {
            "standoff": 15
           },
           "zeroline": false,
           "zerolinecolor": "rgb(36,36,36)"
          },
          "yaxis": {
           "automargin": true,
           "gridcolor": "rgb(232,232,232)",
           "linecolor": "rgb(36,36,36)",
           "showgrid": false,
           "showline": true,
           "ticks": "outside",
           "title": {
            "standoff": 15
           },
           "zeroline": false,
           "zerolinecolor": "rgb(36,36,36)"
          }
         }
        }
       }
      },
      "text/html": [
       "<div>\n",
       "        \n",
       "        \n",
       "            <div id=\"721df726-bd8d-47ff-9e96-e5ac57e05989\" class=\"plotly-graph-div\" style=\"height:525px; width:100%;\"></div>\n",
       "            <script type=\"text/javascript\">\n",
       "                require([\"plotly\"], function(Plotly) {\n",
       "                    window.PLOTLYENV=window.PLOTLYENV || {};\n",
       "                    \n",
       "                if (document.getElementById(\"721df726-bd8d-47ff-9e96-e5ac57e05989\")) {\n",
       "                    Plotly.newPlot(\n",
       "                        '721df726-bd8d-47ff-9e96-e5ac57e05989',\n",
       "                        [{\"customdata\": [[\"Snoop Dogg\", \"The One And Only (Edited)\"], [\"Snoop Dogg\", \"Sexual Eruption\"], [\"Snoop Dogg\", \"Show Me Love (Explicit)\"], [\"Snoop Dogg\", \"Beat Up On Yo Pads\"], [\"Snoop Dogg\", \"Gin And Juice II (Explicit)\"], [\"Snoop Dogg\", \"2 Of Amereicaz Most Wanted\"], [\"Snoop Dogg\", \"Snoop D.O. Double G\"], [\"Snoop Dogg\", \"Look Out\"], [\"Snoop Dogg\", \"Bang Out\"], [\"Snoop Dogg\", \"Betta Days (Explicit)\"], [\"Snoop Dogg\", \"Pimp Slapp'd (Edited)\"], [\"Snoop Dogg\", \"Dolomite Intro (Explicit)\"], [\"Snoop Dogg\", \"A Message 2 Fat Cuzz (Edited)\"], [\"Snoop Dogg\", \"Why Did You Leave Me\"], [\"Snoop Dogg\", \"Snoopafella (Edited)\"], [\"Snoop Dogg\", \"10 Lil' Crips\"], [\"Snoop Dogg\", \"Straight Ballin'\"], [\"Snoop Dogg\", \"Hustle And Ball (Explicit)\"], [\"Snoop Dogg\", \"Dogghouse\"], [\"Snoop Dogg\", \"Fresh Pair of Panties On\"], [\"Snoop Dogg\", \"Those Gurlz\"], [\"Snoop Dogg\", \"Upside Down (Explicit)\"], [\"Snoop Dogg\", \"Sets Up\"], [\"Snoop Dogg\", \"Snoop Dogg Intro\"]], \"hovertemplate\": \"artist=%{customdata[0]}<br>t-SNE dimension 0=%{x}<br>t-SNE dimension 1=%{y}<br>t-SNE dimension 2=%{z}<br>title=%{customdata[1]}<extra></extra>\", \"legendgroup\": \"Snoop Dogg\", \"marker\": {\"color\": \"#1F77B4\", \"symbol\": \"circle\"}, \"mode\": \"markers\", \"name\": \"Snoop Dogg\", \"scene\": \"scene\", \"showlegend\": true, \"type\": \"scatter3d\", \"x\": [6.755438327789307, 4.453805446624756, 3.940727949142456, 6.084778785705566, 5.540463447570801, 7.082093238830566, 5.054286479949951, 6.808389186859131, 10.754349708557129, 10.486239433288574, 10.674015998840332, 2.2179152965545654, 8.906776428222656, 9.164970397949219, 9.05984878540039, 12.261672019958496, 9.117244720458984, 12.210005760192871, 10.806488037109375, 3.802687168121338, 3.8919951915740967, 9.53791618347168, 6.069442272186279, 6.362498760223389], \"y\": [12.02261734008789, 12.611482620239258, 11.389323234558105, 12.465433120727539, 13.809954643249512, 13.365623474121094, 11.724719047546387, 14.0655517578125, 13.614028930664062, 12.236190795898438, 13.181790351867676, 8.54517936706543, 2.001079797744751, 14.051029205322266, 9.455069541931152, 11.23013687133789, 13.12591552734375, 11.532280921936035, 11.27861213684082, 11.629487991333008, 11.588382720947266, 12.810932159423828, 13.565901756286621, 8.898372650146484], \"z\": [-4.888263702392578, -5.270711421966553, -4.925568580627441, -5.800121307373047, -3.3271265029907227, 2.6905922889709473, -0.928300142288208, 3.3482704162597656, 3.370138645172119, 2.3101918697357178, 3.28458833694458, -4.102611064910889, -7.499300479888916, -2.308967351913452, 0.3514349162578583, -2.870929479598999, -3.323723316192627, -3.182996988296509, -4.188971996307373, -1.6433727741241455, -6.399422645568848, -4.364020347595215, -5.472446441650391, -4.7158355712890625]}, {\"customdata\": [[\"Blink-182\", \"Not Now\"], [\"Blink-182\", \"A New Hope\"], [\"Blink-182\", \"Man Overboard\"], [\"Blink-182\", \"Asthenia\"], [\"Blink-182\", \"All Of This\"], [\"Blink-182\", \"Carousel\"], [\"Blink-182\", \"Shut Up\"], [\"Blink-182\", \"Stay Together For The Kids\"], [\"Blink-182\", \"Every Time I Look For You\"], [\"Blink-182\", \"Does My Breath Smell?\"], [\"Blink-182\", \"Roller Coaster\"], [\"Blink-182\", \"21 Days\"], [\"Blink-182\", \"GO\"], [\"Blink-182\", \"Dumpweed\"], [\"Blink-182\", \"Toast and Bananas\"], [\"Blink-182\", \"Always\"], [\"Blink-182\", \"Reebok Commercial\"], [\"Blink-182\", \"I Won't Be Home For Christmas\"], [\"Blink-182\", \"Rich Lips\"], [\"Blink-182\", \"First Date\"], [\"Blink-182\", \"Depends\"], [\"Blink-182\", \"Anthem Part Two\"], [\"Blink-182\", \"Dysentery Gary\"], [\"Blink-182\", \"Wendy Clear\"], [\"Blink-182\", \"Reckless Abandon\"], [\"Blink-182\", \"Mutt\"], [\"Blink-182\", \"Touchdown Boy\"], [\"Blink-182\", \"Adam's Song\"], [\"Blink-182\", \"The Rock Show\"], [\"Blink-182\", \"Give Me One Good Reason\"], [\"Blink-182\", \"Skit 13 (Blink 182 / 008811237929)\"], [\"Blink-182\", \"My Pet Sally\"], [\"Blink-182\", \"I'm Sorry\"], [\"Blink-182\", \"Story Of A Lonely Guy\"], [\"Blink-182\", \"Aliens Exist\"], [\"Blink-182\", \"Another Girl Another Planet\"], [\"Blink-182\", \"M+M's\"], [\"Blink-182\", \"Ben Wah Balls\"], [\"Blink-182\", \"Happy Holidays_ You Bastard\"], [\"Blink-182\", \"Degenerate\"], [\"Blink-182\", \"The Girl Next Door\"], [\"Blink-182\", \"Strings\"], [\"Blink-182\", \"Pathetic\"], [\"Blink-182\", \"Point of View\"], [\"Blink-182\", \"Please Take Me Home\"], [\"Blink-182\", \"What's My Age Again?\"], [\"Blink-182\", \"All The Small Things\"], [\"Blink-182\", \"Untitled\"], [\"Blink-182\", \"Violence\"], [\"Blink-182\", \"Boring\"], [\"Blink-182\", \"Time\"], [\"Blink-182\", \"Romeo and Rebecca\"], [\"Blink-182\", \"Skit 4 (Blink 182 / 008811237929)\"], [\"Blink-182\", \"Toast & Bananas\"], [\"Blink-182\", \"Don't Leave Me\"], [\"Blink-182\", \"Blew Job\"], [\"Blink-182\", \"Feeling This\"], [\"Blink-182\", \"TV\"], [\"Blink-182\", \"Emo\"], [\"Blink-182\", \"Apple Shampoo\"], [\"Blink-182\", \"Romeo & Rebecca\"], [\"Blink-182\", \"The Party Song\"], [\"Blink-182\", \"Peggy Sue\"], [\"Blink-182\", \"The Fallen Interlude\"], [\"Blink-182\", \"Enthused\"], [\"Blink-182\", \"Online Songs\"], [\"Blink-182\", \"Voyeur\"], [\"Blink-182\", \"I Miss You\"], [\"Blink-182\", \"Going Away To College\"], [\"Blink-182\", \"Fentoozler\"], [\"Blink-182\", \"I'm Lost Without You\"], [\"Blink-182\", \"Lemmings\"], [\"Blink-182\", \"Skit 12 (Blink 182 / 008811237929)\"], [\"Blink-182\", \"Stockholm Syndrome\"]], \"hovertemplate\": \"artist=%{customdata[0]}<br>t-SNE dimension 0=%{x}<br>t-SNE dimension 1=%{y}<br>t-SNE dimension 2=%{z}<br>title=%{customdata[1]}<extra></extra>\", \"legendgroup\": \"Blink-182\", \"marker\": {\"color\": \"#FF7F0E\", \"symbol\": \"circle\"}, \"mode\": \"markers\", \"name\": \"Blink-182\", \"scene\": \"scene\", \"showlegend\": true, \"type\": \"scatter3d\", \"x\": [2.3566806316375732, 3.059398651123047, -0.30200111865997314, 1.1372278928756714, -13.233210563659668, 2.6938135623931885, 6.969316482543945, -3.565216064453125, -4.3484578132629395, 4.013646125793457, -5.109289169311523, -0.8019116520881653, 6.662245750427246, -1.4231576919555664, -3.846250057220459, -2.6405222415924072, 2.4519765377044678, 4.134634971618652, 6.433021545410156, -2.4352169036865234, 4.293147087097168, 10.493805885314941, 5.677994251251221, 4.38225793838501, 7.783583641052246, 4.7574591636657715, 0.4907520115375519, 0.9051226377487183, 3.1483473777770996, 5.429284572601318, 0.9603747725486755, -4.587449073791504, -6.4981818199157715, -1.0897197723388672, 4.452060222625732, 13.886101722717285, -2.7733519077301025, 1.4001896381378174, 4.638012886047363, 8.720237731933594, 5.17531156539917, -2.6626899242401123, 5.062623023986816, 0.9708960056304932, -3.2777442932128906, 5.526009559631348, -13.651350021362305, 2.6845524311065674, 0.9846048355102539, 3.0175931453704834, 9.622015953063965, -2.545830249786377, 6.437599182128906, -3.863867998123169, -0.128468856215477, 4.525346755981445, -5.27100133895874, 5.254818439483643, -2.0775837898254395, 0.8537702560424805, -2.5729117393493652, -3.640801429748535, 4.745861053466797, -2.0894477367401123, 3.145460367202759, -6.729828357696533, 4.549828052520752, -4.329050540924072, 2.1772632598876953, 4.0586981773376465, -7.211516857147217, -4.409763336181641, -13.700679779052734, 2.4081389904022217], \"y\": [-11.78492259979248, -1.2417293787002563, -3.546501874923706, -4.4080095291137695, 1.7194944620132446, 7.73802375793457, 5.7558817863464355, -5.27542781829834, -6.36754846572876, 0.41183188557624817, -1.8885869979858398, -5.944765567779541, 2.4626734256744385, -0.10858072340488434, -1.2794642448425293, 2.0661721229553223, 2.572256326675415, 6.796043872833252, 4.629025936126709, 2.2654924392700195, 8.909446716308594, -1.9268556833267212, 7.818443775177002, 3.3902013301849365, 4.479219436645508, 0.16418896615505219, 8.9191255569458, 0.4313511252403259, 5.710592269897461, 2.8627607822418213, 6.708183765411377, 6.396519660949707, -6.285228252410889, -3.930428981781006, 3.3136441707611084, -0.13669778406620026, -0.32003358006477356, 6.1210856437683105, 5.237949848175049, 11.335197448730469, 5.9665727615356445, 1.5974323749542236, 3.0503597259521484, -7.172080993652344, -3.94511079788208, 2.705474853515625, 6.495556354522705, 2.820160150527954, -1.3375577926635742, -4.888912677764893, 4.554693698883057, -1.3833905458450317, 4.637691020965576, -1.3017733097076416, -0.01881919428706169, 8.315130233764648, -3.979839563369751, 3.4685795307159424, -1.5663241147994995, -3.4748144149780273, -1.328218698501587, 3.520172357559204, 0.7496342658996582, 4.488559246063232, -0.42356666922569275, -9.37824535369873, 8.302923202514648, -3.271491050720215, 5.324845790863037, 4.799044609069824, -8.23343276977539, -0.3833903670310974, 6.268874168395996, -9.295848846435547], \"z\": [-2.789674758911133, 6.2864556312561035, -1.5793137550354004, -4.195541858673096, -4.216484069824219, -3.1708922386169434, -3.7867424488067627, -0.22527004778385162, 2.534503936767578, -7.0169219970703125, 7.241648197174072, -7.714694499969482, -4.901425838470459, -4.76538610458374, 1.3397331237792969, -5.866238117218018, 5.6336750984191895, 6.79520845413208, -8.91672134399414, -5.622602939605713, 1.9888620376586914, -1.4544960260391235, -8.542462348937988, -4.054641246795654, -4.728710651397705, -1.8629487752914429, 4.460070610046387, 7.477996349334717, -0.6880394220352173, -3.9944701194763184, 3.971557140350342, 2.9121763706207275, -0.487824946641922, 2.972714424133301, -4.038497447967529, -3.7491888999938965, 5.51812744140625, -3.372488260269165, -3.6866793632507324, -1.113336205482483, 4.787675857543945, -0.40496182441711426, -3.416682481765747, 15.172258377075195, -3.801314115524292, -5.565762519836426, 1.0233685970306396, 0.8445154428482056, 0.4723304212093353, -6.981070041656494, 2.1849427223205566, 2.7563540935516357, -8.911032676696777, 1.3299132585525513, -1.0919040441513062, -4.46617317199707, 5.653302192687988, -1.1064832210540771, -5.204317569732666, -3.1717216968536377, 2.763437032699585, 2.3257322311401367, -1.3035725355148315, 2.520500421524048, -4.4706902503967285, -1.4980459213256836, 0.01679796725511551, -0.46554964780807495, -2.7341251373291016, -4.979868412017822, -5.460628986358643, -2.3776204586029053, 0.6613256335258484, -0.839393138885498]}, {\"customdata\": [[\"Red Hot Chili Peppers\", \"Get On Top (Album Version)\"], [\"Red Hot Chili Peppers\", \"Naked In The Rain (Album Version)\"], [\"Red Hot Chili Peppers\", \"Venice Queen (Album Version)\"], [\"Red Hot Chili Peppers\", \"Snow [Hey Oh] [Live Version]\"], [\"Red Hot Chili Peppers\", \"American Ghost Dance (2003 Digital Remastered)\"], [\"Red Hot Chili Peppers\", \"Emit Remmus (Album Version)\"], [\"Red Hot Chili Peppers\", \"The Greeting Song (Album Version)\"], [\"Red Hot Chili Peppers\", \"Hard To Concentrate (Album Version)\"], [\"Red Hot Chili Peppers\", \"I'll Be Your Domino (Non-Album Track)\"], [\"Red Hot Chili Peppers\", \"Buckle Down (2002 Digital Remaster)\"], [\"Red Hot Chili Peppers\", \"I Could Die For You (Album Version)\"], [\"Red Hot Chili Peppers\", \"Love Trilogy (2003 Digital Remaster) ()\"], [\"Red Hot Chili Peppers\", \"Knock Me Down (2003 Digital Remaster)\"], [\"Red Hot Chili Peppers\", \"She's Only 18 (Album Version)\"], [\"Red Hot Chili Peppers\", \"Behind The Sun (Instrumental Demo) (2002 Digital Remaster)\"], [\"Red Hot Chili Peppers\", \"Wet Sand (Album Version)\"], [\"Red Hot Chili Peppers\", \"Road Trippin' (Album Version)\"], [\"Red Hot Chili Peppers\", \"Mercy Mercy (Non-Album Track)\"], [\"Red Hot Chili Peppers\", \"Baby Appeal (2002 Digital Remastser) ()\"], [\"Red Hot Chili Peppers\", \"Lovin' And Touchin' (2003 Digitally Remastered)\"], [\"Red Hot Chili Peppers\", \"The Zephyr Song (Album Version)\"], [\"Red Hot Chili Peppers\", \"Universally Speaking (Album Version)\"], [\"Red Hot Chili Peppers\", \"Good Time Boys (2003 Digital Remaster)\"], [\"Red Hot Chili Peppers\", \"Minor Thing (Album Version)\"], [\"Red Hot Chili Peppers\", \"Hollywood (Africa) (2003 Digitally Remastered)\"], [\"Red Hot Chili Peppers\", \"You Always Sing The Same (2002 Digital Remaster)\"], [\"Red Hot Chili Peppers\", \"Turn It Again (Album Version)\"], [\"Red Hot Chili Peppers\", \"Funky Monks (Album Version)\"], [\"Red Hot Chili Peppers\", \"Lately (Non-Album Track)\"], [\"Red Hot Chili Peppers\", \"Apache Rose Peacock (Album Version)\"], [\"Red Hot Chili Peppers\", \"She Looks To Me (Album Version)\"], [\"Red Hot Chili Peppers\", \"Hollywood (Africa)\"], [\"Red Hot Chili Peppers\", \"Higher Ground (Album Version)\"], [\"Red Hot Chili Peppers\", \"Warm Tape (Album Version)\"], [\"Red Hot Chili Peppers\", \"Blues For Meister\"], [\"Red Hot Chili Peppers\", \"Castles Made Of Sand (Studio) (Bonus Track)\"], [\"Red Hot Chili Peppers\", \"Stadium Arcadium (Album Version)\"], [\"Red Hot Chili Peppers\", \"Around The World (Album Version)\"], [\"Red Hot Chili Peppers\", \"Millionaires Against Hunger (2002 Digital Remastser) (Explicit)\"], [\"Red Hot Chili Peppers\", \"Throw Away Your Television (Album Version)\"], [\"Red Hot Chili Peppers\", \"Especially In Michigan (Album Version)\"], [\"Red Hot Chili Peppers\", \"Police Helicopter (Demo Version) (2003 Digital Remaster)\"], [\"Red Hot Chili Peppers\", \"Mellowship Slinky In B Major (Album Version)\"], [\"Red Hot Chili Peppers\", \"Yertle The Turtle (2003 Digitally Remastered)\"], [\"Red Hot Chili Peppers\", \"Nobody Weird Like Me (2003 Digital Remaster)\"], [\"Red Hot Chili Peppers\", \"On Mercury (Album Version)\"], [\"Red Hot Chili Peppers\", \"Magic Johnson (2003 Digital Remaster)\"], [\"Red Hot Chili Peppers\", \"Parallel Universe (Album Version)\"], [\"Red Hot Chili Peppers\", \"C'mon Girl (Album Version)\"], [\"Red Hot Chili Peppers\", \"If You Want Me To Stay (Pink Mustang Mix)\"], [\"Red Hot Chili Peppers\", \"Thirty Dirty Birds (2003 Digitally Remastered)\"], [\"Red Hot Chili Peppers\", \"Let's Make Evil (Bonus Track)\"], [\"Red Hot Chili Peppers\", \"What It Is (AKA Nina's Song) (Demo) (Digitally Remastered 02) ()\"], [\"Red Hot Chili Peppers\", \"Green Heaven (Demo Version) (Digitally Remastered 02) ()\"], [\"Red Hot Chili Peppers\", \"Hollywood (Africa) (Extended Dance Mix)\"], [\"Red Hot Chili Peppers\", \"Shallow Be Thy Game (Album Version)\"], [\"Red Hot Chili Peppers\", \"Tell Me Baby (Album Version)\"], [\"Red Hot Chili Peppers\", \"My Lovely Man (Album Version)\"], [\"Red Hot Chili Peppers\", \"Blood Sugar Sex Magik (Album Version)\"], [\"Red Hot Chili Peppers\", \"Save This Lady (Non-Album Track)\"], [\"Red Hot Chili Peppers\", \"I Like Dirt (Album Version)\"], [\"Red Hot Chili Peppers\", \"Storm In A Teacup (Album Version)\"], [\"Red Hot Chili Peppers\", \"Breaking The Girl (Album Version)\"], [\"Red Hot Chili Peppers\", \"You Always Sing The Same (Demo)\"], [\"Red Hot Chili Peppers\", \"Deep Kick (Album Version)\"], [\"Red Hot Chili Peppers\", \"Blackeyed Blonde (2003 Digitally Remastered)\"], [\"Red Hot Chili Peppers\", \"Falling Into Grace (Album Version)\"], [\"Red Hot Chili Peppers\", \"Soul To Squeeze (Album Version)\"], [\"Red Hot Chili Peppers\", \"Right On Time (Album Version)\"], [\"Red Hot Chili Peppers\", \"Stranded (Demo)\"], [\"Red Hot Chili Peppers\", \"Me And My Friends (2003 Digital Remaster)\"], [\"Red Hot Chili Peppers\", \"Subterranean Homesick Blues (2003 Digital Remaster)\"], [\"Red Hot Chili Peppers\", \"Skinny Sweaty Man (2003 Digital Remaster)\"], [\"Red Hot Chili Peppers\", \"Behind The Sun\"], [\"Red Hot Chili Peppers\", \"Hump de Bump (Album Version)\"], [\"Red Hot Chili Peppers\", \"Under The Bridge (Album Version)\"], [\"Red Hot Chili Peppers\", \"Give It Away (Album Version)\"], [\"Red Hot Chili Peppers\", \"Salute To Kareem (Demo)\"], [\"Red Hot Chili Peppers\", \"Get Up and Jump (Demo Version) (Digitally Remastered 02) ()\"], [\"Red Hot Chili Peppers\", \"Desecration Smile (Album Version)\"], [\"Red Hot Chili Peppers\", \"Organic Anti-Beat Box Band (2003 Digital Remaster)\"], [\"Red Hot Chili Peppers\", \"The Righteous And The Wicked (Album Version)\"], [\"Red Hot Chili Peppers\", \"Freaky Styley (2003 Digitally Remastered)\"], [\"Red Hot Chili Peppers\", \"Strip My Mind (Album Version)\"], [\"Red Hot Chili Peppers\", \"Why Don't You Love Me (2002 Digital Remaster)\"], [\"Red Hot Chili Peppers\", \"Jungle Man\"], [\"Red Hot Chili Peppers\", \"Over Funk (Bonus Track)\"], [\"Red Hot Chili Peppers\", \"Taste The Pain\"], [\"Red Hot Chili Peppers\", \"Death Of A Martian (Album Version)\"], [\"Red Hot Chili Peppers\", \"Fire (2003 Digital Remaster)\"], [\"Red Hot Chili Peppers\", \"True Men Don't Kill Coyotes (24-Bit Digitally Remastered 02)\"], [\"Red Hot Chili Peppers\", \"Knock Me Down (Original Long Version)\"], [\"Red Hot Chili Peppers\", \"I Could Have Lied (Album Version)\"], [\"Red Hot Chili Peppers\", \"Californication (Album Version)\"], [\"Red Hot Chili Peppers\", \"Out In L.A. (2002 Digital Remastser) ()\"], [\"Red Hot Chili Peppers\", \"Slow Cheetah (Album Version)\"]], \"hovertemplate\": \"artist=%{customdata[0]}<br>t-SNE dimension 0=%{x}<br>t-SNE dimension 1=%{y}<br>t-SNE dimension 2=%{z}<br>title=%{customdata[1]}<extra></extra>\", \"legendgroup\": \"Red Hot Chili Peppers\", \"marker\": {\"color\": \"#2CA02C\", \"symbol\": \"circle\"}, \"mode\": \"markers\", \"name\": \"Red Hot Chili Peppers\", \"scene\": \"scene\", \"showlegend\": true, \"type\": \"scatter3d\", \"x\": [6.596621036529541, 7.413082599639893, 5.029504776000977, -0.9413048028945923, 6.349835395812988, 0.3598494231700897, 0.22980473935604095, 8.998594284057617, 1.637436032295227, 2.1116020679473877, -2.8660736083984375, 11.240880012512207, -1.7598199844360352, -3.697075128555298, 0.625644326210022, -0.11654376238584518, -6.352496147155762, 1.1656535863876343, -0.08214525878429413, -5.744508266448975, 3.913696765899658, 0.6831018328666687, 7.960481643676758, 8.860852241516113, 1.6454039812088013, -1.8471068143844604, 5.176307201385498, -0.11430303752422333, 1.3348630666732788, 7.500875949859619, -0.5979627370834351, 1.6571696996688843, 17.81173324584961, -1.287011742591858, 0.9808276891708374, 1.7200431823730469, -3.1471593379974365, 11.029253959655762, 12.98361587524414, 9.465018272399902, 7.358333110809326, 4.96921968460083, 6.726891040802002, 0.20661744475364685, 5.992878437042236, 1.1254839897155762, 9.14825439453125, 7.4089765548706055, 0.33095866441726685, -13.083494186401367, 2.5155534744262695, 7.4296674728393555, 7.832608222961426, 10.585566520690918, 9.508264541625977, 8.05686092376709, -7.713482856750488, -10.203474044799805, 9.203943252563477, 0.8874683380126953, 0.3453082740306854, 7.512555122375488, 2.748063325881958, -1.8475829362869263, 2.259547472000122, 9.338879585266113, -1.5927517414093018, 14.452829360961914, -3.7218146324157715, -7.606037616729736, 1.3912312984466553, 8.74587631225586, -0.7217297554016113, 0.6276878118515015, 1.0339146852493286, -5.151357173919678, 10.050107955932617, -4.367839336395264, 3.044234275817871, 4.625454425811768, 4.5240797996521, 14.132533073425293, 1.8006551265716553, 7.161806583404541, -10.099491119384766, 8.325454711914062, 1.660294532775879, -11.566741943359375, 2.8355302810668945, 1.051222562789917, 7.263175010681152, -1.675667643547058, 0.9782916903495789, 1.2562073469161987, 1.584025263786316, 2.936701774597168], \"y\": [14.061867713928223, 4.659088134765625, 8.352967262268066, -7.984272480010986, 1.4558069705963135, 8.912236213684082, 13.189105987548828, 0.9674646258354187, 2.0653512477874756, 9.685155868530273, -10.253776550292969, 2.834866762161255, 1.7768241167068481, 7.689018249511719, -4.615082263946533, 5.550363063812256, 0.7594795823097229, -4.310291290283203, 12.223422050476074, 6.364253520965576, -0.752365231513977, -5.4384918212890625, 12.26838493347168, 9.659327507019043, 12.954582214355469, 5.785226821899414, 12.914953231811523, 5.41356897354126, -1.063736915588379, 10.27839183807373, 1.0571213960647583, 12.970852851867676, -1.4838571548461914, 3.595522880554199, 9.156765937805176, 1.3712300062179565, -3.1082189083099365, 14.689563751220703, 1.5752143859863281, -1.4366521835327148, 3.3093202114105225, 9.767828941345215, 10.415108680725098, 4.061183929443359, 11.176214218139648, 18.463836669921875, 10.32468318939209, 4.623378276824951, 4.0417561531066895, 0.8994793891906738, 8.662042617797852, -2.189042091369629, 4.502214431762695, 6.526679992675781, 11.197332382202148, -0.8221040964126587, 3.2297897338867188, 1.2659070491790771, -1.880133032798767, 8.34197998046875, 3.8252267837524414, 4.740922451019287, -6.887091159820557, 5.724881172180176, 5.570163726806641, 7.341282844543457, 5.483868598937988, 0.5138327479362488, -3.815709352493286, -1.6657603979110718, 12.771931648254395, 7.544348239898682, 7.449912071228027, -4.618947982788086, 11.433611869812012, 7.072324752807617, -3.0281331539154053, 4.773242473602295, 10.945828437805176, -1.1306294202804565, 11.692533493041992, -1.2477748394012451, 3.271885633468628, 9.183663368225098, 10.391741752624512, 7.836656093597412, 5.506453037261963, -8.12472152709961, -1.7066624164581299, 11.117745399475098, 1.4412968158721924, 1.828441858291626, -3.1094417572021484, 2.1239352226257324, 12.896331787109375, -3.857264757156372], \"z\": [-5.131838321685791, 9.66370964050293, -5.980813026428223, 4.646581649780273, 10.488996505737305, 16.946916580200195, -0.1381044238805771, -1.392970085144043, 1.935937762260437, -3.9363739490509033, -4.957669734954834, -2.1130130290985107, -1.5240195989608765, 3.581284999847412, 14.508176803588867, 5.9260430335998535, 10.756651878356934, -2.03887939453125, 0.7048510313034058, -2.6550545692443848, 7.483595371246338, 10.599616050720215, 8.339540481567383, 2.1755757331848145, 3.1547811031341553, -2.2957918643951416, 9.224017143249512, -8.419224739074707, 11.026874542236328, 4.589389324188232, 7.200088977813721, 3.164628744125366, 7.841353893280029, 12.891844749450684, 4.755887985229492, 13.613728523254395, 6.055115222930908, 5.9523024559021, -2.869319438934326, -1.4179774522781372, 5.062621116638184, 6.566263675689697, 4.366134166717529, 9.85103988647461, 3.2925655841827393, 3.3641810417175293, 3.0425570011138916, 7.531513214111328, 0.7222991585731506, -5.193417072296143, 7.091658592224121, 8.67750358581543, -1.9182538986206055, 1.6613203287124634, -1.2572648525238037, -4.226165771484375, -0.8345798850059509, -2.3405487537384033, 5.693445682525635, 5.271571159362793, 16.912973403930664, 9.770829200744629, 2.401132106781006, -2.284245014190674, 3.9689390659332275, 9.420400619506836, -8.283919334411621, 5.087445259094238, -8.063338279724121, 8.544317245483398, -0.33745574951171875, -3.844928741455078, 4.397663593292236, 14.512601852416992, 6.844235897064209, 1.436604380607605, 9.049458503723145, 7.533775329589844, -1.3115352392196655, 6.775632381439209, -1.9495428800582886, -0.5769855380058289, -0.9799582362174988, 9.837895393371582, 8.600696563720703, 8.542510032653809, -2.0774636268615723, 5.015120506286621, 8.834210395812988, -1.9876800775527954, 5.3975443840026855, -1.4099042415618896, -8.335225105285645, 0.5889196991920471, -0.2713681757450104, -4.544517517089844]}, {\"customdata\": [[\"Eminem\", \"Ricky Ticky Toc\"], [\"Eminem\", \"The Way I Am\"], [\"Eminem\", \"Beautiful\"], [\"Eminem\", \"Paul\"], [\"Eminem\", \"Hailie's Song\"], [\"Eminem\", \"Without Me\"], [\"Eminem\", \"8 Mile\"], [\"Eminem\", \"Dr. West\"], [\"Eminem\", \"Curtains Up\"], [\"Eminem\", \"Yellow Brick Road\"], [\"Eminem\", \"If I Had\"], [\"Eminem\", \"Em Calls Paul (skit)\"], [\"Eminem\", \"When I'm Gone\"], [\"Eminem\", \"Bad Influence\"], [\"Eminem\", \"'97 Bonnie & Clyde\"], [\"Eminem\", \"Rock Bottom\"], [\"Eminem\", \"Careful What You Wish For\"], [\"Eminem\", \"Puke\"], [\"Eminem\", \"My Darling\"], [\"Eminem\", \"Public Service Announcement\"], [\"Eminem\", \"Just Don't Give\"], [\"Eminem\", \"We As Americans\"], [\"Eminem\", \"Ken Kaniff\"], [\"Eminem\", \"Shady Narcotics\"], [\"Eminem\", \"Love You More\"], [\"Eminem\", \"Square Dance\"], [\"Eminem\", \"Still Don't Give\"], [\"Eminem\", \"Hazardous Youth\"], [\"Eminem\", \"Tonya\"], [\"Eminem\", \"Criminal\"], [\"Eminem\", \"FACK\"], [\"Eminem\", \"Public Enemy #1\"], [\"Eminem\", \"My 1st Single\"], [\"Eminem\", \"**** You\"], [\"Eminem\", \"My Name Is\"], [\"Eminem\", \"Any Man\"], [\"Eminem\", \"Cleanin' Out My Closet\"], [\"Eminem\", \"Curtains Close\"], [\"Eminem\", \"The Kids\"], [\"Eminem\", \"The Kiss\"], [\"Eminem\", \"Cum On Everybody\"], [\"Eminem\", \"Rabbit Run\"], [\"Eminem\", \"Sing For The Moment\"], [\"Eminem\", \"Lose Yourself\"], [\"Eminem\", \"Paul (skit)\"], [\"Eminem\", \"The Conspiracy (Freestyle)\"], [\"Eminem\", \"Like Toy Soldiers\"], [\"Eminem\", \"Marshall Mathers\"], [\"Eminem\", \"Mockingbird\"], [\"Eminem\", \"Mr. Mathers\"], [\"Eminem\", \"No Apologies\"]], \"hovertemplate\": \"artist=%{customdata[0]}<br>t-SNE dimension 0=%{x}<br>t-SNE dimension 1=%{y}<br>t-SNE dimension 2=%{z}<br>title=%{customdata[1]}<extra></extra>\", \"legendgroup\": \"Eminem\", \"marker\": {\"color\": \"#D62728\", \"symbol\": \"circle\"}, \"mode\": \"markers\", \"name\": \"Eminem\", \"scene\": \"scene\", \"showlegend\": true, \"type\": \"scatter3d\", \"x\": [5.491713523864746, 5.641539573669434, 4.444303035736084, 0.5186765789985657, 5.750620365142822, 4.294959545135498, 5.4058613777160645, -1.0947879552841187, 0.5415023565292358, 5.183362007141113, 6.861126899719238, 6.080900192260742, -5.253662109375, 6.967147350311279, 6.293120384216309, 8.481157302856445, 9.243951797485352, 6.678559303283691, -1.4962033033370972, 9.307604789733887, 9.091588973999023, 10.532957077026367, 3.7625732421875, 7.329883575439453, 7.754630088806152, 8.210373878479004, 9.985544204711914, 10.408164978027344, 6.5775837898254395, 10.08006763458252, 9.396994590759277, 7.99508810043335, 9.616074562072754, 11.811978340148926, 8.831174850463867, 11.135032653808594, 7.24661111831665, 4.911929130554199, 4.165127277374268, 9.322354316711426, 10.051172256469727, 7.717445373535156, 7.26663875579834, 6.45710563659668, 8.163273811340332, 7.947653293609619, 8.331428527832031, 6.735136032104492, 4.992342472076416, 4.508730888366699, 4.788575172424316], \"y\": [10.10013198852539, 10.507609367370605, 7.677149295806885, 4.284065246582031, 7.939253807067871, 7.4168572425842285, 8.456562995910645, 0.7147215008735657, 8.241268157958984, 12.533061027526855, 13.889168739318848, 14.726287841796875, 4.2861104011535645, 13.515549659729004, 14.23442554473877, 12.167669296264648, 11.72517204284668, 4.644543647766113, 2.927441358566284, 12.647127151489258, 12.654219627380371, 12.751165390014648, 10.074577331542969, 11.281131744384766, 10.43303108215332, 10.908573150634766, 12.297059059143066, 11.895851135253906, 7.539965629577637, 11.52688980102539, 12.355323791503906, 7.2442426681518555, 12.40493106842041, 11.852505683898926, 7.53232479095459, 9.938780784606934, 7.981229782104492, 11.286413192749023, 6.215920448303223, 12.708413124084473, 10.425337791442871, 6.683711051940918, 7.266102313995361, 7.90250301361084, 12.304891586303711, 9.321624755859375, 9.241303443908691, 11.103642463684082, 7.117836952209473, 8.816483497619629, 10.44813346862793], \"z\": [-4.588938236236572, -4.446570873260498, -4.790039539337158, -6.8855109214782715, -5.950784206390381, -1.1425470113754272, -3.295243263244629, -3.0866613388061523, -3.77243709564209, -1.137142539024353, 2.5856242179870605, 1.9480187892913818, 1.1174076795578003, 4.585975170135498, 1.35407555103302, 4.387701511383057, 3.4934442043304443, -5.187798500061035, -0.6288962960243225, 0.2471655011177063, 3.8491621017456055, 3.628032684326172, 6.737092018127441, 0.6369204521179199, 0.5170817375183105, 2.2594962120056152, 3.762022018432617, 3.386791467666626, 0.41419872641563416, 2.3337371349334717, -1.06540846824646, 7.23461389541626, 0.015633463859558105, 0.7584638595581055, 1.21885347366333, -0.9343067407608032, 0.10616649687290192, -5.76754093170166, -1.4611845016479492, -5.572490215301514, -3.5386829376220703, -2.598170042037964, -5.166894435882568, -3.6917011737823486, -7.911141395568848, -4.241081714630127, -4.563266277313232, -5.466136455535889, -5.472283840179443, -1.3644275665283203, -4.43751859664917]}, {\"customdata\": [[\"Eric Clapton\", \"Hello Old Friend\"], [\"Eric Clapton\", \"When You Got A Good Friend (Album Version)\"], [\"Eric Clapton\", \"Tulsa Time\"], [\"Eric Clapton\", \"Floating Bridge\"], [\"Eric Clapton\", \"Blues Power\"], [\"Eric Clapton\", \"Further On Up The Road\"], [\"Eric Clapton\", \"Wonderful Tonight\"], [\"Eric Clapton\", \"I Want A Little Girl (Live)\"], [\"Eric Clapton\", \"Willie And The Hand Jive\"], [\"Eric Clapton\", \"Can't Find My Way Home\"], [\"Eric Clapton\", \"Love Don't Love Nobody (Album Version)\"], [\"Eric Clapton\", \"Alberta\"], [\"Eric Clapton\", \"Come Back Baby (Album Version)\"], [\"Eric Clapton\", \"We're All The Way\"], [\"Eric Clapton\", \"Lay Down Sally\"], [\"Eric Clapton\", \"Someday After A While (Live) (Album Version)\"], [\"Eric Clapton\", \"Bell Bottom Blues (Live)\"], [\"Eric Clapton\", \"Standin' Round Crying (Live) (Album Version)\"], [\"Eric Clapton\", \"Tangled In Love (Album Version)\"], [\"Eric Clapton\", \"Forever Man (Album Version)\"], [\"Eric Clapton\", \"Let It Grow\"], [\"Eric Clapton\", \"Cocaine\"], [\"Eric Clapton\", \"Holy Mother (Album Version)\"], [\"Eric Clapton\", \"Singin' The Blues\"], [\"Eric Clapton\", \"It's In The Way That You Use It (Album Version)\"], [\"Eric Clapton\", \"The Core\"], [\"Eric Clapton\", \"All Our Past Times\"], [\"Eric Clapton\", \"Bottle Of Red Wine\"], [\"Eric Clapton\", \"Little Wing\"], [\"Eric Clapton\", \"Hound Dog (Album Version)\"], [\"Eric Clapton\", \"Swing Low Sweet Chariot\"], [\"Eric Clapton\", \"Meet Me (Down At The Bottom)\"], [\"Eric Clapton\", \"Hoochie Coochie Man  (Live) (Album Version)\"], [\"Eric Clapton\", \"Rita Mae\"], [\"Eric Clapton\", \"Breaking Point  (Album Version)\"], [\"Eric Clapton\", \"Early In The Morning\"], [\"Eric Clapton\", \"Blues Leave Me Alone  (Live)  (Album Version)\"], [\"Eric Clapton\", \"After Midnight\"], [\"Eric Clapton\", \"I'm Tore Down  (Live) (Album Version)\"], [\"Eric Clapton\", \"How Long Blues  (Live)  (Album Version)\"], [\"Eric Clapton\", \"Kind Hearted Woman\"], [\"Eric Clapton\", \"It All Depends (Album Version)\"], [\"Eric Clapton\", \"Double Trouble\"], [\"Eric Clapton\", \"Beware Of Darkness (LP Version)\"], [\"Eric Clapton\", \"Key To The Highway (Live)\"], [\"Eric Clapton\", \"Driftin' (Live)  (Album Version)\"], [\"Eric Clapton\", \"Take A Chance (Album Version)\"], [\"Eric Clapton\", \"Smile\"], [\"Eric Clapton\", \"Kind Hearted Woman Blues (Album Version)\"], [\"Eric Clapton\", \"Before You Accuse Me (Unplugged CD Version)\"], [\"Eric Clapton\", \"Little Queen Of Spades (Album Version)\"], [\"Eric Clapton\", \"Roll It\"], [\"Eric Clapton\", \"I'm Going Left (Album Version)\"], [\"Eric Clapton\", \"Crosscut Saw (LP Version)\"], [\"Eric Clapton\", \"Pretending\"], [\"Eric Clapton\", \"I Shot The Sheriff\"], [\"Eric Clapton\", \"Little Rachel\"], [\"Eric Clapton\", \"Watch Yourself (Live) (Album Version)\"], [\"Eric Clapton\", \"Badge\"], [\"Eric Clapton\", \"Going Down Slow (Album Version)\"], [\"Eric Clapton\", \"Me And The Devil Blues (Album Version)\"], [\"Eric Clapton\", \"Knockin' On Heaven's Door\"], [\"Eric Clapton\", \"Let It Rain\"], [\"Eric Clapton\", \"Please Be With Me\"], [\"Eric Clapton\", \"Tears In Heaven\"], [\"Eric Clapton\", \"Before You Accuse Me (Take A Look At Yourself)\"], [\"Eric Clapton\", \"Have You Ever Loved A Woman\"], [\"Eric Clapton\", \"Behind The Mask (Album Version)\"], [\"Eric Clapton\", \"Don't Think Twice_ It's All Right\"], [\"Eric Clapton\", \"Knock On Wood  (Album Version)\"], [\"Eric Clapton\", \"Layla [Unplugged Version]\"]], \"hovertemplate\": \"artist=%{customdata[0]}<br>t-SNE dimension 0=%{x}<br>t-SNE dimension 1=%{y}<br>t-SNE dimension 2=%{z}<br>title=%{customdata[1]}<extra></extra>\", \"legendgroup\": \"Eric Clapton\", \"marker\": {\"color\": \"#9467BD\", \"symbol\": \"circle\"}, \"mode\": \"markers\", \"name\": \"Eric Clapton\", \"scene\": \"scene\", \"showlegend\": true, \"type\": \"scatter3d\", \"x\": [-1.5523858070373535, -8.063435554504395, -9.32269287109375, 0.09669798612594604, -5.131383419036865, -9.781827926635742, -3.6110308170318604, -7.606637954711914, 8.271544456481934, -6.102609634399414, -8.932943344116211, -10.82382869720459, -11.69426441192627, -2.1595675945281982, 0.593307375907898, -10.369701385498047, -10.822429656982422, -7.99759578704834, -5.0754876136779785, -0.05443531647324562, -0.4868912100791931, 14.573663711547852, 0.4762858748435974, -3.338926076889038, -9.725229263305664, 6.6240153312683105, 2.8443939685821533, -6.899340629577637, -12.408513069152832, 11.554068565368652, -6.443103313446045, 0.31965166330337524, 5.738348484039307, 4.6392083168029785, 2.6068286895751953, -6.6604461669921875, -8.21389389038086, -3.1473190784454346, 9.42561149597168, -5.582852840423584, -3.0196473598480225, -2.219277858734131, -2.8368582725524902, 15.722675323486328, -8.186601638793945, -12.952171325683594, -3.260789394378662, -14.091765403747559, -3.0107693672180176, -10.538209915161133, -7.257682800292969, -4.33036994934082, 0.16372789442539215, 0.3916562795639038, -2.44162917137146, 15.494229316711426, -2.541259288787842, -11.114126205444336, -7.598524570465088, 10.019940376281738, -8.936363220214844, -7.381035804748535, 1.9414715766906738, -10.377863883972168, -7.453835487365723, -10.536138534545898, -9.497152328491211, -1.591194987297058, -13.552042961120605, -1.3356132507324219, -7.793102264404297], \"y\": [5.069786548614502, -1.3632121086120605, 7.02028751373291, 6.004810333251953, 11.938693046569824, 5.332034587860107, 0.2328057885169983, 8.404007911682129, 10.726472854614258, -2.377938985824585, -4.001409530639648, 4.893976211547852, 6.4319562911987305, -6.9072418212890625, 14.72993278503418, -3.378662347793579, -2.211049795150757, 6.03059196472168, -1.7348047494888306, -7.351652145385742, -13.488842964172363, 7.3897271156311035, -13.582233428955078, 9.98206901550293, -3.450460433959961, -4.7761759757995605, -5.791545867919922, 4.946539402008057, 1.7841777801513672, 7.958902835845947, 11.11111831665039, 10.732918739318848, 5.996995449066162, 6.994242191314697, -6.57658052444458, 10.405009269714355, 7.804361343383789, 12.02466869354248, 6.807735919952393, 9.324501037597656, 6.189226150512695, 0.013658489100635052, 1.7903941869735718, -9.690577507019043, 9.10428237915039, -0.37290212512016296, -13.200926780700684, -3.6753764152526855, 6.071671962738037, 9.536179542541504, 9.177226066589355, 11.900269508361816, -6.95274019241333, 13.25179386138916, -8.817641258239746, 2.2548463344573975, 12.0037260055542, 8.595084190368652, 5.222080230712891, 8.019453048706055, 9.709742546081543, 16.85883140563965, -14.136768341064453, -14.692259788513184, -11.167315483093262, 9.521693229675293, -7.286015033721924, -0.9656514525413513, 8.996601104736328, 9.21016788482666, -2.884376287460327], \"z\": [7.947685241699219, -6.781122207641602, 2.7899248600006104, 10.411942481994629, -1.0915260314941406, 4.2627034187316895, 4.686317443847656, -1.063056468963623, -11.777000427246094, 1.6163561344146729, -4.935298442840576, 2.1112961769104004, -1.2955317497253418, -2.600173234939575, 9.890174865722656, -1.685497760772705, 3.4399044513702393, 4.286462306976318, -6.161023139953613, -10.350546836853027, 9.345900535583496, 4.969021797180176, 4.046173572540283, 3.955716371536255, -3.273214101791382, 3.769843101501465, -6.979308128356934, 0.6469096541404724, 9.711463928222656, -11.534335136413574, 8.615927696228027, 6.703629016876221, -10.712065696716309, 4.420802593231201, -2.962808609008789, 0.48662009835243225, 8.17654037475586, -1.7736841440200806, -13.279633522033691, 7.813505172729492, -9.160896301269531, -6.4789533615112305, -7.788507461547852, -2.405747652053833, 8.595307350158691, -2.693514108657837, 2.052067756652832, 5.873908042907715, -9.046764373779297, 2.7122561931610107, -0.9281343817710876, -0.8293145895004272, -0.8467663526535034, 1.180815577507019, -2.5573370456695557, -0.08817549794912338, 0.7667392492294312, 5.0514960289001465, 6.930232048034668, -12.46596622467041, 7.738162994384766, 4.365380764007568, 1.0794904232025146, -6.448050498962402, -3.8313395977020264, 2.7265655994415283, -10.550372123718262, 2.1197187900543213, 7.367912769317627, -9.592360496520996, -6.576274394989014]}, {\"customdata\": [[\"Avenged Sevenfold\", \"Streets\"], [\"Avenged Sevenfold\", \"Brompton Cocktail (Album Version)\"], [\"Avenged Sevenfold\", \"I Won't See You Tonight Part 2\"], [\"Avenged Sevenfold\", \"Remenissions\"], [\"Avenged Sevenfold\", \"I Won't See You Tonight Part 1\"], [\"Avenged Sevenfold\", \"Dear God (Album Version)\"], [\"Avenged Sevenfold\", \"Breaking Their Hold\"], [\"Avenged Sevenfold\", \"Waking the Fallen\"], [\"Avenged Sevenfold\", \"And All Things Will End\"], [\"Avenged Sevenfold\", \"Crossroads (Non-Album Track)\"], [\"Avenged Sevenfold\", \"Eternal Rest\"], [\"Avenged Sevenfold\", \"M.I.A. (Album Version)\"], [\"Avenged Sevenfold\", \"Afterlife (Album Version)\"], [\"Avenged Sevenfold\", \"Critical Acclaim (Amended Version)\"], [\"Avenged Sevenfold\", \"Turn The Other Way\"], [\"Avenged Sevenfold\", \"Radiant Eclipse\"], [\"Avenged Sevenfold\", \"To End The Rapture\"], [\"Avenged Sevenfold\", \"Warmness On The Soul\"], [\"Avenged Sevenfold\", \"A Little Piece Of Heaven (Album Version)\"], [\"Avenged Sevenfold\", \"Second Heartbeat\"], [\"Avenged Sevenfold\", \"Shattered By Broken Dreams\"], [\"Avenged Sevenfold\", \"Clairvoyant Disease\"], [\"Avenged Sevenfold\", \"Darkness Surrounding\"], [\"Avenged Sevenfold\", \"Unholy Confessions\"], [\"Avenged Sevenfold\", \"The Wicked End (Album Version)\"], [\"Avenged Sevenfold\", \"We Come Out At Night\"], [\"Avenged Sevenfold\", \"The Art Of Subconscious Illusion\"], [\"Avenged Sevenfold\", \"Forgotten Faces\"], [\"Avenged Sevenfold\", \"An Epic Of Time Wasted\"], [\"Avenged Sevenfold\", \"Burn It Down (Live In San Diego)\"], [\"Avenged Sevenfold\", \"Desecrate Through Reverence\"], [\"Avenged Sevenfold\", \"Chapter Four\"], [\"Avenged Sevenfold\", \"Lips Of Deceit\"], [\"Avenged Sevenfold\", \"Strength Of The World (Album Version)\"], [\"Avenged Sevenfold\", \"Unbound [The Wild Ride] (Album Version)\"], [\"Avenged Sevenfold\", \"Thick And Thin\"]], \"hovertemplate\": \"artist=%{customdata[0]}<br>t-SNE dimension 0=%{x}<br>t-SNE dimension 1=%{y}<br>t-SNE dimension 2=%{z}<br>title=%{customdata[1]}<extra></extra>\", \"legendgroup\": \"Avenged Sevenfold\", \"marker\": {\"color\": \"#8C564B\", \"symbol\": \"circle\"}, \"mode\": \"markers\", \"name\": \"Avenged Sevenfold\", \"scene\": \"scene\", \"showlegend\": true, \"type\": \"scatter3d\", \"x\": [5.971343040466309, 4.109311580657959, 2.1070070266723633, 9.788952827453613, 3.9614615440368652, -7.367602825164795, 7.4999470710754395, 0.7096267938613892, 3.8785476684570312, 2.6221320629119873, 3.4809608459472656, 9.213407516479492, -1.7693297863006592, 7.2952961921691895, 2.9853172302246094, 6.073836803436279, 6.204565048217773, -1.4494155645370483, 5.616572856903076, -1.5987329483032227, 2.0147740840911865, 0.9779385328292847, 7.33272647857666, 2.833091974258423, 13.538558959960938, 0.5215267539024353, 8.218152046203613, 4.2680463790893555, -2.749696969985962, 12.471538543701172, 1.4372427463531494, 12.196849822998047, 8.295206069946289, 9.843100547790527, 1.453490138053894, 8.634074211120605], \"y\": [13.376471519470215, -8.511052131652832, -9.142927169799805, -5.119451999664307, -12.569552421569824, -7.36473274230957, -8.204839706420898, -13.954330444335938, -6.238142013549805, -9.833647727966309, -14.79245376586914, -13.33375072479248, -11.635176658630371, -3.6895275115966797, -10.259374618530273, -8.421893119812012, -6.04276180267334, -10.27121353149414, 5.062047004699707, -7.226163864135742, -9.864916801452637, -8.070182800292969, -7.757768154144287, -7.951414108276367, -7.545595645904541, -3.999237537384033, -0.5650714635848999, -7.80782413482666, -7.871849536895752, -4.032217502593994, -9.195272445678711, -9.213766098022461, -6.081501007080078, -3.9264016151428223, -8.320242881774902, -1.0297908782958984], \"z\": [-4.663560390472412, -2.015446186065674, 1.8268951177597046, 1.2028779983520508, 4.311548709869385, -0.11696665734052658, -1.8624470233917236, 6.649916172027588, 1.8624882698059082, -1.7723426818847656, 8.024206161499023, 2.6889593601226807, 2.467512369155884, -3.7514290809631348, 7.715253829956055, 7.00413179397583, 6.915741443634033, -4.824760437011719, -7.514050006866455, -1.3154475688934326, -4.646460056304932, 3.1984267234802246, 6.236360549926758, 0.6346442103385925, 5.907671928405762, 8.356925010681152, 2.5462422370910645, 3.2024383544921875, -0.9593510031700134, -0.41904011368751526, -1.877408504486084, 7.057756423950195, 2.439793825149536, 9.057361602783203, -0.3902430832386017, -2.8876562118530273]}, {\"customdata\": [[\"Linkin Park\", \"Crawling (Album Version)\"], [\"Linkin Park\", \"Given Up (Album Version)\"], [\"Linkin Park\", \"One Step Closer [Live At Milton Keynes]\"], [\"Linkin Park\", \"Wth>You (Album Version)\"], [\"Linkin Park\", \"In Pieces [Live From Projekt Revolution_ Washington DC_ Aug. 19 '07]\"], [\"Linkin Park\", \"Papercut [Recorded Live At BBC1]\"], [\"Linkin Park\", \"Given Up [Third Encore Session]\"], [\"Linkin Park\", \"Breaking The Habit (Album Version)\"], [\"Linkin Park\", \"Valentine's Day [Live From Frankfurt Germany_ Jan 20 '08]\"], [\"Linkin Park\", \"Points Of Authority (Live In Texas)\"], [\"Linkin Park\", \"Faint [Live In Japan]\"], [\"Linkin Park\", \"My<Dsmbr (Album Version)\"], [\"Linkin Park\", \"Lying From You (Live In Texas)\"], [\"Linkin Park\", \"By Myself (Album Version)\"], [\"Linkin Park\", \"In Between [Live From London UK_ Jan 29 '08]\"], [\"Linkin Park\", \"Runaway (Album Version)\"], [\"Linkin Park\", \"High Voltage\"], [\"Linkin Park\", \"Easier To Run [Live LP Underground Tour 2003]\"], [\"Linkin Park\", \"Kyur4 Th Ich (Album Version)\"], [\"Linkin Park\", \"Buy Myself [Manson Remix] (Non-Album Track)\"], [\"Linkin Park\", \"Numb (Live In Texas)\"], [\"Linkin Park\", \"Rnw@y (Album Version)\"], [\"Linkin Park\", \"New Divide [A Cappella Version]\"], [\"Linkin Park\", \"Plc.4 Mie Haed (Album Version)\"], [\"Linkin Park\", \"In The End (Album Version)\"], [\"Linkin Park\", \"Given Up [Live At Milton Keynes]\"], [\"Linkin Park\", \"Cure For The Itch (Album Version)\"], [\"Linkin Park\", \"Hands Held High (Album Version)\"], [\"Linkin Park\", \"My December\"], [\"Linkin Park\", \"From The Inside [Live LP Underground Tour 2003]\"], [\"Linkin Park\", \"Leave Out All The Rest (Single Version)\"], [\"Linkin Park\", \"1stp Klosr (Album Version)\"], [\"Linkin Park\", \"In The End [Live At Milton Keynes]\"], [\"Linkin Park\", \"Pushing Me Away [Live At Milton Keynes]\"], [\"Linkin Park\", \"Runaway (Live In Texas)\"], [\"Linkin Park\", \"What I've Done [Distorted Remix]\"], [\"Linkin Park\", \"Breaking The Habit [Live At Milton Keynes]\"], [\"Linkin Park\", \"One Step Closer (Album Version)\"], [\"Linkin Park\", \"Shadow Of The Day [Live At Milton Keynes]\"], [\"Linkin Park\", \"H! Vltg3 (Album Version)\"], [\"Linkin Park\", \"In Pieces [Live From SoHo]\"], [\"Linkin Park\", \"Leave Out All The Rest [Live] (Album Version Edit)\"], [\"Linkin Park\", \"Enth E Nd (Album Version)\"], [\"Linkin Park\", \"Nobody's Listening (Album Version)\"], [\"Linkin Park\", \"A Place For My Head (Album Version)\"], [\"Linkin Park\", \"Bleed It Out [Live From Live Earth]\"], [\"Linkin Park\", \"From The Inside [Live In Japan]\"], [\"Linkin Park\", \"The Little Things Give You Away [Live At Milton Keynes]\"], [\"Linkin Park\", \"With You (Album Version)\"], [\"Linkin Park\", \"Riff Raff (Album Version)\"], [\"Linkin Park\", \"Frgt/10 (Album Version)\"], [\"Linkin Park\", \"Crawling (Live In Texas)\"], [\"Linkin Park\", \"Figure.09 (Album Version)\"], [\"Linkin Park\", \"New Divide (Album Version)\"], [\"Linkin Park\", \"X-Ecutioner Style (Album Version)\"], [\"Linkin Park\", \"What I've Done (Album Version)\"], [\"Linkin Park\", \"In The End (Live In Texas)\"], [\"Linkin Park\", \"One Step Closer (Live In Texas)\"], [\"Linkin Park\", \"Pushing Me Away (Album Version)\"], [\"Linkin Park\", \"My December [Live Project Rev. 2002]\"], [\"Linkin Park\", \"P5hng Me A*wy (Album Version)\"], [\"Linkin Park\", \"Leave Out All The Rest [Live From Projekt Revolution_ Detroit MI_ Aug. 22 '07]\"], [\"Linkin Park\", \"No More Sorrow [Live At Milton Keynes]\"], [\"Linkin Park\", \"Points Of Authority (Album Version)\"], [\"Linkin Park\", \"Lying From You [Live LP Underground Tour 2003]\"], [\"Linkin Park\", \"Lying From You [Live At Milton Keynes]\"], [\"Linkin Park\", \"From The Inside [Live At Milton Keynes]\"], [\"Linkin Park\", \"Shadow Of The Day (Album Version)\"]], \"hovertemplate\": \"artist=%{customdata[0]}<br>t-SNE dimension 0=%{x}<br>t-SNE dimension 1=%{y}<br>t-SNE dimension 2=%{z}<br>title=%{customdata[1]}<extra></extra>\", \"legendgroup\": \"Linkin Park\", \"marker\": {\"color\": \"#E377C2\", \"symbol\": \"circle\"}, \"mode\": \"markers\", \"name\": \"Linkin Park\", \"scene\": \"scene\", \"showlegend\": true, \"type\": \"scatter3d\", \"x\": [6.213779926300049, 2.7881598472595215, -0.29860836267471313, -0.7161712646484375, 0.6514974236488342, -5.5968499183654785, 2.800260066986084, 6.787247657775879, -6.957334518432617, -8.782448768615723, -1.1722067594528198, -8.685652732849121, 2.8128509521484375, 1.5536189079284668, 3.892531394958496, -0.05389022082090378, 6.81907844543457, 2.69486665725708, 0.16024422645568848, 1.4919583797454834, 8.268165588378906, 9.379013061523438, 1.2142024040222168, 14.082133293151855, -1.7004239559173584, 2.819681406021118, 0.2016151398420334, 9.757932662963867, -9.155569076538086, -0.05411464348435402, -6.664090633392334, 2.292496681213379, -1.700717806816101, -1.6002839803695679, -17.58905601501465, 6.037403583526611, 6.772360324859619, 2.2919085025787354, -3.408437490463257, 10.391443252563477, 0.6513264179229736, -6.660976409912109, 5.284708499908447, 13.474431991577148, 14.078402519226074, 9.266311645507812, -0.05410939082503319, -3.781902313232422, -5.642116069793701, 8.071070671081543, 7.943558692932129, 6.213888168334961, -4.684503555297852, 1.214967131614685, 7.349837779998779, 6.047547817230225, -1.6983983516693115, 2.2886548042297363, -1.6017708778381348, -6.439642429351807, -1.6053624153137207, -6.09413480758667, 11.337347030639648, -8.782407760620117, 2.813870668411255, 2.812246084213257, -0.054170481860637665, -3.4119138717651367], \"y\": [-9.360217094421387, -7.679488182067871, 1.6326814889907837, -8.933836936950684, -19.586408615112305, -7.638731002807617, -7.708306789398193, -6.051281452178955, -6.490767478942871, 3.6564159393310547, -9.513059616088867, -5.480592250823975, -10.267054557800293, -7.801016330718994, -9.318572998046875, 0.07736915349960327, 12.346952438354492, -13.455001831054688, 5.678053855895996, -7.7258992195129395, 10.66065788269043, 9.11711597442627, -16.031402587890625, -4.971770286560059, -19.3717098236084, -7.714649200439453, 5.70629358291626, 5.434504985809326, -5.849750518798828, 0.07719937711954117, -10.018158912658691, -0.6263508200645447, -19.37187957763672, -19.281753540039062, 1.902880311012268, -10.174727439880371, -6.0557684898376465, -0.6266224980354309, -15.168140411376953, 7.68858003616333, -19.587617874145508, -10.026290893554688, 4.2149152755737305, 4.965535640716553, -4.974301338195801, 1.3593404293060303, 0.0773986428976059, -7.570970058441162, -7.203462600708008, 7.664589881896973, 5.661166191101074, -9.360862731933594, -7.58173131942749, -16.03416633605957, 9.249147415161133, -10.150822639465332, -19.3686466217041, -0.6270689368247986, -19.288169860839844, -11.446002960205078, -19.293601989746094, -8.750373840332031, -3.640385389328003, 3.656501293182373, -10.26728630065918, -10.268195152282715, 0.07693382352590561, -15.171260833740234], \"z\": [-12.232644081115723, -5.191827774047852, 0.29382598400115967, -0.08397117257118225, 4.966444969177246, 4.653897285461426, -5.208326816558838, -6.710436820983887, 8.0548095703125, 18.02216148376465, -8.70313549041748, 1.0197391510009766, -11.548173904418945, -0.9853988885879517, -6.263731956481934, 21.085830688476562, 5.141534328460693, 4.695083141326904, -2.1831579208374023, -1.0052791833877563, 3.4839894771575928, 2.468299388885498, 11.129783630371094, -7.884224891662598, -4.774550437927246, -5.175114631652832, -2.141663074493408, 4.27106237411499, 4.018632888793945, 21.085969924926758, 1.6549270153045654, 20.468250274658203, -4.774908065795898, -4.728456020355225, 1.7712361812591553, -1.6989456415176392, -6.68143892288208, 20.468130111694336, 10.284412384033203, -1.5670397281646729, 4.967113018035889, 1.6373294591903687, -5.607240200042725, -2.2298343181610107, -7.879903793334961, 5.747204303741455, 21.085721969604492, 6.1639299392700195, 4.988685607910156, -4.428351879119873, 8.550704956054688, -12.233586311340332, -0.35395389795303345, 11.13212776184082, -2.0168063640594482, -1.6808876991271973, -4.774003505706787, 20.4695987701416, -4.732312202453613, -1.6114444732666016, -4.735212326049805, -6.833014011383057, -2.503915309906006, 18.022523880004883, -11.5476655960083, -11.547670364379883, 21.082477569580078, 10.287208557128906]}, {\"customdata\": [[\"The Who\", \"Slip Kid\"], [\"The Who\", \"Daily Records\"], [\"The Who\", \"Man With Money\"], [\"The Who\", \"Disguises\"], [\"The Who\", \"Tommy Can You Hear Me?\"], [\"The Who\", \"The Quiet One\"], [\"The Who\", \"Pure And Easy\"], [\"The Who\", \"I Like Nightmares\"], [\"The Who\", \"A Quick One While He's Away\"], [\"The Who\", \"Don't Look Away\"], [\"The Who\", \"Behind Blue Eyes\"], [\"The Who\", \"Christmas\"], [\"The Who\", \"Trilby's Piano\"], [\"The Who\", \"Tattoo\"], [\"The Who\", \"Success Story\"], [\"The Who\", \"Relax\"], [\"The Who\", \"Fiddle About\"], [\"The Who\", \"A Man In A Purple Dress\"], [\"The Who\", \"1921\"], [\"The Who\", \"My Wife\"], [\"The Who\", \"Eyesight To The Blind (The Hawker)\"], [\"The Who\", \"Don't Let Go The Coat\"], [\"The Who\", \"Boris The Spider\"], [\"The Who\", \"Love Reign O'er Me\"], [\"The Who\", \"Welcome\"], [\"The Who\", \"Heat Wave\"], [\"The Who\", \"Dr. Jimmy\"], [\"The Who\", \"Sensation\"], [\"The Who\", \"Sunrise\"], [\"The Who\", \"Magic Bus\"], [\"The Who\", \"Miracle Cure\"], [\"The Who\", \"Mary Anne With The Shaky Hand\"], [\"The Who\", \"You Stand By Me\"], [\"The Who\", \"Summertime Blues\"], [\"The Who\", \"Let's See Action\"], [\"The Who\", \"Tea & Theatre\"], [\"The Who\", \"Who Are You\"], [\"The Who\", \"Young Man Blues\"], [\"The Who\", \"Love Ain't For Keeping\"], [\"The Who\", \"Cache Cache\"], [\"The Who\", \"La La La Lies\"], [\"The Who\", \"Squeeze Box\"], [\"The Who\", \"Relay\"], [\"The Who\", \"Too Much Of Anything\"], [\"The Who\", \"The Kids Are Alright\"], [\"The Who\", \"I Can See For Miles\"], [\"The Who\", \"God Speaks_ of Marty Robbins\"], [\"The Who\", \"Sparks\"], [\"The Who\", \"I'm A Boy\"], [\"The Who\", \"Sister Disco\"], [\"The Who\", \"Eminence Front\"], [\"The Who\", \"Substitute\"], [\"The Who\", \"Doctor_ Doctor\"], [\"The Who\", \"My Generation\"], [\"The Who\", \"Long Live Rock\"], [\"The Who\", \"Odorono\"], [\"The Who\", \"It's Hard\"], [\"The Who\", \"I'm Free\"], [\"The Who\", \"Amazing Journey\"], [\"The Who\", \"Happy Jack\"], [\"The Who\", \"Endless Wire\"], [\"The Who\", \"Shout And Shimmy\"], [\"The Who\", \"Medac\"], [\"The Who\", \"Water\"], [\"The Who\", \"I Don't Even Know Myself\"], [\"The Who\", \"Music Must Change\"], [\"The Who\", \"Just You And Me_ Darling\"], [\"The Who\", \"Empty Glass\"], [\"The Who\", \"I Can't Explain\"], [\"The Who\", \"Mike Post Theme\"], [\"The Who\", \"You Better You Bet\"], [\"The Who\", \"Pinball Wizard\"], [\"The Who\", \"Sound Round\"], [\"The Who\", \"Heinz Baked Beans\"], [\"The Who\", \"See Me_ Feel Me\"]], \"hovertemplate\": \"artist=%{customdata[0]}<br>t-SNE dimension 0=%{x}<br>t-SNE dimension 1=%{y}<br>t-SNE dimension 2=%{z}<br>title=%{customdata[1]}<extra></extra>\", \"legendgroup\": \"The Who\", \"marker\": {\"color\": \"#7F7F7F\", \"symbol\": \"circle\"}, \"mode\": \"markers\", \"name\": \"The Who\", \"scene\": \"scene\", \"showlegend\": true, \"type\": \"scatter3d\", \"x\": [9.997482299804688, 3.852031946182251, -7.094632148742676, -2.5139904022216797, -1.6193808317184448, 4.4195122718811035, 4.985694885253906, 8.260504722595215, -13.248541831970215, -1.3813241720199585, 4.217785835266113, 13.440705299377441, 5.610045909881592, -1.8571138381958008, 5.966319561004639, -7.590492248535156, 0.3632603883743286, 8.437968254089355, -10.309565544128418, -0.7026738524436951, -3.146589517593384, -3.6521859169006348, 2.056591510772705, 2.1078248023986816, 7.0660576820373535, -16.00482749938965, 10.324721336364746, -0.01377097051590681, -3.109436511993408, 1.7425440549850464, -0.9418911337852478, -1.3523036241531372, 5.5427632331848145, -14.929055213928223, 8.913168907165527, -3.304600715637207, -0.31073373556137085, 5.533579349517822, -8.500407218933105, 2.5596892833709717, 0.467398077249527, -3.503748893737793, -11.589388847351074, 15.319786071777344, 8.367081642150879, -6.279861927032471, -5.814425945281982, 3.240051507949829, -8.142179489135742, -4.2108564376831055, 8.895532608032227, 4.291561603546143, 5.043083667755127, 9.33930778503418, 4.398205757141113, 1.6402769088745117, 7.037249565124512, 4.035045623779297, 3.24100399017334, -0.9544962048530579, 4.983587741851807, -4.054086208343506, 3.8417932987213135, 7.977381706237793, 0.12072635442018509, 12.315995216369629, 5.51542854309082, 4.897365093231201, -2.3979551792144775, -0.6183369159698486, 0.30010274052619934, 17.67426109313965, -0.9974594116210938, -0.21826307475566864, 3.782322406768799], \"y\": [1.8892967700958252, 7.532039642333984, 10.158783912658691, -2.4568302631378174, 6.469234943389893, -3.557079553604126, -7.339496612548828, 0.09020976722240448, 1.978838562965393, -0.6233300566673279, -3.461188793182373, 0.06399663537740707, -13.763381004333496, -8.984930038452148, 6.744996070861816, 6.535702705383301, 12.78268051147461, -2.807380437850952, -6.898027420043945, 14.049257278442383, 2.5329701900482178, 2.5149917602539062, 0.3887932598590851, -0.0762450098991394, 1.5536704063415527, 1.2146447896957397, 7.747051239013672, -12.151895523071289, -8.920949935913086, 11.213412284851074, 1.7445532083511353, 8.068981170654297, 9.414325714111328, -13.387297630310059, -6.883884906768799, 0.14377659559249878, 12.762785911560059, 9.41288948059082, 9.08295726776123, 2.4861233234405518, -4.3461456298828125, 16.932252883911133, 4.477429389953613, 5.963503360748291, 5.184277057647705, -4.679196357727051, -3.535346508026123, -2.9368057250976562, 0.29665806889533997, 5.525440692901611, 5.356845378875732, 7.409402847290039, 8.57171630859375, 4.054006099700928, 11.637322425842285, 0.11931776255369186, 0.3352520167827606, 8.15597915649414, -2.9314825534820557, 5.522611141204834, -9.43437385559082, 13.774801254272461, 3.4320521354675293, 10.575043678283691, 0.5004331469535828, 5.929962635040283, 9.40674114227295, 5.744905471801758, 0.38269495964050293, 0.7658204436302185, 10.66003704071045, -3.8906588554382324, -5.434414386749268, 6.6542439460754395, 1.994335412979126], \"z\": [3.948932409286499, -5.431718826293945, -7.432536602020264, 2.533377170562744, -2.1250481605529785, 7.8783345222473145, 14.41681957244873, -0.7914757132530212, 4.172771453857422, 4.528317928314209, 5.537554740905762, 4.80624532699585, -6.393390655517578, -5.213712692260742, 11.504942893981934, 9.507926940917969, 4.194568157196045, 11.449804306030273, -3.2036077976226807, 8.450591087341309, -7.471557140350342, 2.5849804878234863, 8.741418838500977, 19.43280601501465, 10.43075942993164, 1.805568814277649, 3.8578262329101562, 10.800007820129395, 7.372751235961914, -11.539046287536621, -4.7139201164245605, 2.7979986667633057, 11.887323379516602, 1.8569716215133667, -9.69300365447998, 7.921072959899902, 2.0994350910186768, 11.88581657409668, 6.718783855438232, 6.215565204620361, -9.645824432373047, 2.6588618755340576, 5.270328998565674, 8.216950416564941, -14.00976848602295, 8.466394424438477, 10.158337593078613, -3.6004722118377686, 2.7529830932617188, 3.2988545894622803, 11.97896671295166, 5.945769786834717, 2.1372053623199463, -6.614981651306152, 8.721248626708984, -4.7382330894470215, -1.7260632514953613, -12.315580368041992, -3.5892434120178223, 12.316397666931152, 12.813776969909668, -1.9300082921981812, 5.352071762084961, -4.6607794761657715, -6.644058704376221, 9.860912322998047, 11.878266334533691, 5.833855628967285, -4.307157039642334, 1.6331998109817505, 5.643601417541504, -4.518579483032227, 6.289469242095947, 5.279279708862305, -5.670537948608398]}, {\"customdata\": [[\"The Strokes\", \"15 Minutes\"], [\"The Strokes\", \"The Modern Age\"], [\"The Strokes\", \"Razorblade\"], [\"The Strokes\", \"Life's A Gas\"], [\"The Strokes\", \"Clampdown\"], [\"The Strokes\", \"I'll Try Anything Once\"], [\"The Strokes\", \"Electricityscape\"], [\"The Strokes\", \"Hard To Explain\"], [\"The Strokes\", \"New York City Cops\"], [\"The Strokes\", \"Heart In A Cage\"], [\"The Strokes\", \"Juicebox\"], [\"The Strokes\", \"You Only Live Once\"], [\"The Strokes\", \"Red Light\"], [\"The Strokes\", \"Trying Your Luck\"], [\"The Strokes\", \"Take It Or Leave It\"], [\"The Strokes\", \"Someday\"], [\"The Strokes\", \"Fear Of Sleep\"], [\"The Strokes\", \"Alone_ Together\"], [\"The Strokes\", \"Reptilia\"], [\"The Strokes\", \"Killing Lies\"], [\"The Strokes\", \"Is This It\"], [\"The Strokes\", \"Last Nite\"], [\"The Strokes\", \"Modern Girls And Old Fashion Men\"], [\"The Strokes\", \"Between Love & Hate\"]], \"hovertemplate\": \"artist=%{customdata[0]}<br>t-SNE dimension 0=%{x}<br>t-SNE dimension 1=%{y}<br>t-SNE dimension 2=%{z}<br>title=%{customdata[1]}<extra></extra>\", \"legendgroup\": \"The Strokes\", \"marker\": {\"color\": \"#BCBD22\", \"symbol\": \"circle\"}, \"mode\": \"markers\", \"name\": \"The Strokes\", \"scene\": \"scene\", \"showlegend\": true, \"type\": \"scatter3d\", \"x\": [2.5036356449127197, -6.447201251983643, -0.20637355744838715, 0.8514477014541626, 10.081853866577148, 3.6209003925323486, -7.350274085998535, -0.5881516337394714, 10.074528694152832, 5.7966179847717285, -1.274964690208435, -4.102651596069336, 1.3142837285995483, -3.5117392539978027, -10.59154224395752, -3.119318962097168, 8.611084938049316, -14.015766143798828, -3.676180839538574, -1.5505001544952393, -3.0038928985595703, -8.93407154083252, 3.3848330974578857, -9.754803657531738], \"y\": [6.011702060699463, -0.006711877416819334, -0.19676068425178528, -2.508495330810547, -0.5207023620605469, -0.155048206448555, -2.984743595123291, -2.8898861408233643, 9.927690505981445, -2.467912197113037, 7.306460380554199, 0.7368917465209961, -1.534013271331787, 0.03857513517141342, -1.2109036445617676, -3.6256024837493896, 4.203364849090576, -12.466111183166504, -0.2568516433238983, -1.2820504903793335, -6.284375190734863, 7.617892742156982, 0.7154080867767334, -1.353023648262024], \"z\": [3.882606029510498, 11.30734920501709, -5.96728515625, -5.470501899719238, -7.322607517242432, -7.569400310516357, 5.563385963439941, -4.130876541137695, 7.357606410980225, 7.1054840087890625, 14.78487491607666, -0.04431268572807312, 6.239023208618164, 3.0979626178741455, -4.285966396331787, -2.6334116458892822, -0.27829211950302124, 2.791513204574585, 7.358675956726074, -5.097805500030518, -2.2970428466796875, 0.7269651889801025, -5.032769680023193, -4.15562629699707]}, {\"customdata\": [[\"Tame Impala\", \"Wander\"], [\"Tame Impala\", \"Slide Through My Fingers\"], [\"Tame Impala\", \"41 Mosquitoes Flying In Formation\"], [\"Tame Impala\", \"Desire Be Desire Go\"], [\"Tame Impala\", \"Skeleton Tiger\"], [\"Tame Impala\", \"Half Full Glass Of Wine\"]], \"hovertemplate\": \"artist=%{customdata[0]}<br>t-SNE dimension 0=%{x}<br>t-SNE dimension 1=%{y}<br>t-SNE dimension 2=%{z}<br>title=%{customdata[1]}<extra></extra>\", \"legendgroup\": \"Tame Impala\", \"marker\": {\"color\": \"#17BECF\", \"symbol\": \"circle\"}, \"mode\": \"markers\", \"name\": \"Tame Impala\", \"scene\": \"scene\", \"showlegend\": true, \"type\": \"scatter3d\", \"x\": [-16.546552658081055, -0.5216332674026489, -0.5483022332191467, 2.448789596557617, -4.452838897705078, 0.6372376680374146], \"y\": [6.557861804962158, -3.1882100105285645, 1.6228554248809814, -7.343591690063477, 9.07383918762207, 0.21558907628059387], \"z\": [4.463770866394043, 1.5566346645355225, -1.4205923080444336, -1.3958979845046997, 8.025744438171387, 3.1323485374450684]}],\n",
       "                        {\"legend\": {\"title\": {\"text\": \"artist\"}, \"tracegroupgap\": 0}, \"margin\": {\"t\": 60}, \"scene\": {\"domain\": {\"x\": [0.0, 1.0], \"y\": [0.0, 1.0]}, \"xaxis\": {\"title\": {\"text\": \"t-SNE dimension 0\"}}, \"yaxis\": {\"title\": {\"text\": \"t-SNE dimension 1\"}}, \"zaxis\": {\"title\": {\"text\": \"t-SNE dimension 2\"}}}, \"template\": {\"data\": {\"bar\": [{\"error_x\": {\"color\": \"rgb(36,36,36)\"}, \"error_y\": {\"color\": \"rgb(36,36,36)\"}, \"marker\": {\"line\": {\"color\": \"white\", \"width\": 0.5}}, \"type\": \"bar\"}], \"barpolar\": [{\"marker\": {\"line\": {\"color\": \"white\", \"width\": 0.5}}, \"type\": \"barpolar\"}], \"carpet\": [{\"aaxis\": {\"endlinecolor\": \"rgb(36,36,36)\", \"gridcolor\": \"white\", \"linecolor\": \"white\", \"minorgridcolor\": \"white\", \"startlinecolor\": \"rgb(36,36,36)\"}, \"baxis\": {\"endlinecolor\": \"rgb(36,36,36)\", \"gridcolor\": \"white\", \"linecolor\": \"white\", \"minorgridcolor\": \"white\", \"startlinecolor\": \"rgb(36,36,36)\"}, \"type\": \"carpet\"}], \"choropleth\": [{\"colorbar\": {\"outlinewidth\": 1, \"tickcolor\": \"rgb(36,36,36)\", \"ticks\": \"outside\"}, \"type\": \"choropleth\"}], \"contour\": [{\"colorbar\": {\"outlinewidth\": 1, \"tickcolor\": \"rgb(36,36,36)\", \"ticks\": \"outside\"}, \"colorscale\": [[0.0, \"#440154\"], [0.1111111111111111, \"#482878\"], [0.2222222222222222, \"#3e4989\"], [0.3333333333333333, \"#31688e\"], [0.4444444444444444, \"#26828e\"], [0.5555555555555556, \"#1f9e89\"], [0.6666666666666666, \"#35b779\"], [0.7777777777777778, \"#6ece58\"], [0.8888888888888888, \"#b5de2b\"], [1.0, \"#fde725\"]], \"type\": \"contour\"}], \"contourcarpet\": [{\"colorbar\": {\"outlinewidth\": 1, \"tickcolor\": \"rgb(36,36,36)\", \"ticks\": \"outside\"}, \"type\": \"contourcarpet\"}], \"heatmap\": [{\"colorbar\": {\"outlinewidth\": 1, \"tickcolor\": \"rgb(36,36,36)\", \"ticks\": \"outside\"}, \"colorscale\": [[0.0, \"#440154\"], [0.1111111111111111, \"#482878\"], [0.2222222222222222, \"#3e4989\"], [0.3333333333333333, \"#31688e\"], [0.4444444444444444, \"#26828e\"], [0.5555555555555556, \"#1f9e89\"], [0.6666666666666666, \"#35b779\"], [0.7777777777777778, \"#6ece58\"], [0.8888888888888888, \"#b5de2b\"], [1.0, \"#fde725\"]], \"type\": \"heatmap\"}], \"heatmapgl\": [{\"colorbar\": {\"outlinewidth\": 1, \"tickcolor\": \"rgb(36,36,36)\", \"ticks\": \"outside\"}, \"colorscale\": [[0.0, \"#440154\"], [0.1111111111111111, \"#482878\"], [0.2222222222222222, \"#3e4989\"], [0.3333333333333333, \"#31688e\"], [0.4444444444444444, \"#26828e\"], [0.5555555555555556, \"#1f9e89\"], [0.6666666666666666, \"#35b779\"], [0.7777777777777778, \"#6ece58\"], [0.8888888888888888, \"#b5de2b\"], [1.0, \"#fde725\"]], \"type\": \"heatmapgl\"}], \"histogram\": [{\"marker\": {\"line\": {\"color\": \"white\", \"width\": 0.6}}, \"type\": \"histogram\"}], \"histogram2d\": [{\"colorbar\": {\"outlinewidth\": 1, \"tickcolor\": \"rgb(36,36,36)\", \"ticks\": \"outside\"}, \"colorscale\": [[0.0, \"#440154\"], [0.1111111111111111, \"#482878\"], [0.2222222222222222, \"#3e4989\"], [0.3333333333333333, \"#31688e\"], [0.4444444444444444, \"#26828e\"], [0.5555555555555556, \"#1f9e89\"], [0.6666666666666666, \"#35b779\"], [0.7777777777777778, \"#6ece58\"], [0.8888888888888888, \"#b5de2b\"], [1.0, \"#fde725\"]], \"type\": \"histogram2d\"}], \"histogram2dcontour\": [{\"colorbar\": {\"outlinewidth\": 1, \"tickcolor\": \"rgb(36,36,36)\", \"ticks\": \"outside\"}, \"colorscale\": [[0.0, \"#440154\"], [0.1111111111111111, \"#482878\"], [0.2222222222222222, \"#3e4989\"], [0.3333333333333333, \"#31688e\"], [0.4444444444444444, \"#26828e\"], [0.5555555555555556, \"#1f9e89\"], [0.6666666666666666, \"#35b779\"], [0.7777777777777778, \"#6ece58\"], [0.8888888888888888, \"#b5de2b\"], [1.0, \"#fde725\"]], \"type\": \"histogram2dcontour\"}], \"mesh3d\": [{\"colorbar\": {\"outlinewidth\": 1, \"tickcolor\": \"rgb(36,36,36)\", \"ticks\": \"outside\"}, \"type\": \"mesh3d\"}], \"parcoords\": [{\"line\": {\"colorbar\": {\"outlinewidth\": 1, \"tickcolor\": \"rgb(36,36,36)\", \"ticks\": \"outside\"}}, \"type\": \"parcoords\"}], \"pie\": [{\"automargin\": true, \"type\": \"pie\"}], \"scatter\": [{\"marker\": {\"colorbar\": {\"outlinewidth\": 1, \"tickcolor\": \"rgb(36,36,36)\", \"ticks\": \"outside\"}}, \"type\": \"scatter\"}], \"scatter3d\": [{\"line\": {\"colorbar\": {\"outlinewidth\": 1, \"tickcolor\": \"rgb(36,36,36)\", \"ticks\": \"outside\"}}, \"marker\": {\"colorbar\": {\"outlinewidth\": 1, \"tickcolor\": \"rgb(36,36,36)\", \"ticks\": \"outside\"}}, \"type\": \"scatter3d\"}], \"scattercarpet\": [{\"marker\": {\"colorbar\": {\"outlinewidth\": 1, \"tickcolor\": \"rgb(36,36,36)\", \"ticks\": \"outside\"}}, \"type\": \"scattercarpet\"}], \"scattergeo\": [{\"marker\": {\"colorbar\": {\"outlinewidth\": 1, \"tickcolor\": \"rgb(36,36,36)\", \"ticks\": \"outside\"}}, \"type\": \"scattergeo\"}], \"scattergl\": [{\"marker\": {\"colorbar\": {\"outlinewidth\": 1, \"tickcolor\": \"rgb(36,36,36)\", \"ticks\": \"outside\"}}, \"type\": \"scattergl\"}], \"scattermapbox\": [{\"marker\": {\"colorbar\": {\"outlinewidth\": 1, \"tickcolor\": \"rgb(36,36,36)\", \"ticks\": \"outside\"}}, \"type\": \"scattermapbox\"}], \"scatterpolar\": [{\"marker\": {\"colorbar\": {\"outlinewidth\": 1, \"tickcolor\": \"rgb(36,36,36)\", \"ticks\": \"outside\"}}, \"type\": \"scatterpolar\"}], \"scatterpolargl\": [{\"marker\": {\"colorbar\": {\"outlinewidth\": 1, \"tickcolor\": \"rgb(36,36,36)\", \"ticks\": \"outside\"}}, \"type\": \"scatterpolargl\"}], \"scatterternary\": [{\"marker\": {\"colorbar\": {\"outlinewidth\": 1, \"tickcolor\": \"rgb(36,36,36)\", \"ticks\": \"outside\"}}, \"type\": \"scatterternary\"}], \"surface\": [{\"colorbar\": {\"outlinewidth\": 1, \"tickcolor\": \"rgb(36,36,36)\", \"ticks\": \"outside\"}, \"colorscale\": [[0.0, \"#440154\"], [0.1111111111111111, \"#482878\"], [0.2222222222222222, \"#3e4989\"], [0.3333333333333333, \"#31688e\"], [0.4444444444444444, \"#26828e\"], [0.5555555555555556, \"#1f9e89\"], [0.6666666666666666, \"#35b779\"], [0.7777777777777778, \"#6ece58\"], [0.8888888888888888, \"#b5de2b\"], [1.0, \"#fde725\"]], \"type\": \"surface\"}], \"table\": [{\"cells\": {\"fill\": {\"color\": \"rgb(237,237,237)\"}, \"line\": {\"color\": \"white\"}}, \"header\": {\"fill\": {\"color\": \"rgb(217,217,217)\"}, \"line\": {\"color\": \"white\"}}, \"type\": \"table\"}]}, \"layout\": {\"annotationdefaults\": {\"arrowhead\": 0, \"arrowwidth\": 1}, \"coloraxis\": {\"colorbar\": {\"outlinewidth\": 1, \"tickcolor\": \"rgb(36,36,36)\", \"ticks\": \"outside\"}}, \"colorscale\": {\"diverging\": [[0.0, \"rgb(103,0,31)\"], [0.1, \"rgb(178,24,43)\"], [0.2, \"rgb(214,96,77)\"], [0.3, \"rgb(244,165,130)\"], [0.4, \"rgb(253,219,199)\"], [0.5, \"rgb(247,247,247)\"], [0.6, \"rgb(209,229,240)\"], [0.7, \"rgb(146,197,222)\"], [0.8, \"rgb(67,147,195)\"], [0.9, \"rgb(33,102,172)\"], [1.0, \"rgb(5,48,97)\"]], \"sequential\": [[0.0, \"#440154\"], [0.1111111111111111, \"#482878\"], [0.2222222222222222, \"#3e4989\"], [0.3333333333333333, \"#31688e\"], [0.4444444444444444, \"#26828e\"], [0.5555555555555556, \"#1f9e89\"], [0.6666666666666666, \"#35b779\"], [0.7777777777777778, \"#6ece58\"], [0.8888888888888888, \"#b5de2b\"], [1.0, \"#fde725\"]], \"sequentialminus\": [[0.0, \"#440154\"], [0.1111111111111111, \"#482878\"], [0.2222222222222222, \"#3e4989\"], [0.3333333333333333, \"#31688e\"], [0.4444444444444444, \"#26828e\"], [0.5555555555555556, \"#1f9e89\"], [0.6666666666666666, \"#35b779\"], [0.7777777777777778, \"#6ece58\"], [0.8888888888888888, \"#b5de2b\"], [1.0, \"#fde725\"]]}, \"colorway\": [\"#1F77B4\", \"#FF7F0E\", \"#2CA02C\", \"#D62728\", \"#9467BD\", \"#8C564B\", \"#E377C2\", \"#7F7F7F\", \"#BCBD22\", \"#17BECF\"], \"font\": {\"color\": \"rgb(36,36,36)\"}, \"geo\": {\"bgcolor\": \"white\", \"lakecolor\": \"white\", \"landcolor\": \"white\", \"showlakes\": true, \"showland\": true, \"subunitcolor\": \"white\"}, \"hoverlabel\": {\"align\": \"left\"}, \"hovermode\": \"closest\", \"mapbox\": {\"style\": \"light\"}, \"paper_bgcolor\": \"white\", \"plot_bgcolor\": \"white\", \"polar\": {\"angularaxis\": {\"gridcolor\": \"rgb(232,232,232)\", \"linecolor\": \"rgb(36,36,36)\", \"showgrid\": false, \"showline\": true, \"ticks\": \"outside\"}, \"bgcolor\": \"white\", \"radialaxis\": {\"gridcolor\": \"rgb(232,232,232)\", \"linecolor\": \"rgb(36,36,36)\", \"showgrid\": false, \"showline\": true, \"ticks\": \"outside\"}}, \"scene\": {\"xaxis\": {\"backgroundcolor\": \"white\", \"gridcolor\": \"rgb(232,232,232)\", \"gridwidth\": 2, \"linecolor\": \"rgb(36,36,36)\", \"showbackground\": true, \"showgrid\": false, \"showline\": true, \"ticks\": \"outside\", \"zeroline\": false, \"zerolinecolor\": \"rgb(36,36,36)\"}, \"yaxis\": {\"backgroundcolor\": \"white\", \"gridcolor\": \"rgb(232,232,232)\", \"gridwidth\": 2, \"linecolor\": \"rgb(36,36,36)\", \"showbackground\": true, \"showgrid\": false, \"showline\": true, \"ticks\": \"outside\", \"zeroline\": false, \"zerolinecolor\": \"rgb(36,36,36)\"}, \"zaxis\": {\"backgroundcolor\": \"white\", \"gridcolor\": \"rgb(232,232,232)\", \"gridwidth\": 2, \"linecolor\": \"rgb(36,36,36)\", \"showbackground\": true, \"showgrid\": false, \"showline\": true, \"ticks\": \"outside\", \"zeroline\": false, \"zerolinecolor\": \"rgb(36,36,36)\"}}, \"shapedefaults\": {\"fillcolor\": \"black\", \"line\": {\"width\": 0}, \"opacity\": 0.3}, \"ternary\": {\"aaxis\": {\"gridcolor\": \"rgb(232,232,232)\", \"linecolor\": \"rgb(36,36,36)\", \"showgrid\": false, \"showline\": true, \"ticks\": \"outside\"}, \"baxis\": {\"gridcolor\": \"rgb(232,232,232)\", \"linecolor\": \"rgb(36,36,36)\", \"showgrid\": false, \"showline\": true, \"ticks\": \"outside\"}, \"bgcolor\": \"white\", \"caxis\": {\"gridcolor\": \"rgb(232,232,232)\", \"linecolor\": \"rgb(36,36,36)\", \"showgrid\": false, \"showline\": true, \"ticks\": \"outside\"}}, \"title\": {\"x\": 0.05}, \"xaxis\": {\"automargin\": true, \"gridcolor\": \"rgb(232,232,232)\", \"linecolor\": \"rgb(36,36,36)\", \"showgrid\": false, \"showline\": true, \"ticks\": \"outside\", \"title\": {\"standoff\": 15}, \"zeroline\": false, \"zerolinecolor\": \"rgb(36,36,36)\"}, \"yaxis\": {\"automargin\": true, \"gridcolor\": \"rgb(232,232,232)\", \"linecolor\": \"rgb(36,36,36)\", \"showgrid\": false, \"showline\": true, \"ticks\": \"outside\", \"title\": {\"standoff\": 15}, \"zeroline\": false, \"zerolinecolor\": \"rgb(36,36,36)\"}}}},\n",
       "                        {\"responsive\": true}\n",
       "                    ).then(function(){\n",
       "                            \n",
       "var gd = document.getElementById('721df726-bd8d-47ff-9e96-e5ac57e05989');\n",
       "var x = new MutationObserver(function (mutations, observer) {{\n",
       "        var display = window.getComputedStyle(gd).display;\n",
       "        if (!display || display === 'none') {{\n",
       "            console.log([gd, 'removed!']);\n",
       "            Plotly.purge(gd);\n",
       "            observer.disconnect();\n",
       "        }}\n",
       "}});\n",
       "\n",
       "// Listen for the removal of the full notebook cells\n",
       "var notebookContainer = gd.closest('#notebook-container');\n",
       "if (notebookContainer) {{\n",
       "    x.observe(notebookContainer, {childList: true});\n",
       "}}\n",
       "\n",
       "// Listen for the clearing of the current output cell\n",
       "var outputEl = gd.closest('.output');\n",
       "if (outputEl) {{\n",
       "    x.observe(outputEl, {childList: true});\n",
       "}}\n",
       "\n",
       "                        })\n",
       "                };\n",
       "                });\n",
       "            </script>\n",
       "        </div>"
      ]
     },
     "metadata": {},
     "output_type": "display_data"
    }
   ],
   "source": [
    "for x in [('t-SNE dimension 0','t-SNE dimension 1','t-SNE dimension 2')]:   \n",
    "    fig = px.scatter_3d(tsne_df_, \n",
    "                     x=x[0],\n",
    "                     y=x[1],\n",
    "                     z=x[2],\n",
    "                     hover_data=['artist', 'title'],\n",
    "                     color='artist',\n",
    "                     template='simple_white')\n",
    "    fig.show()"
   ]
  },
  {
   "cell_type": "code",
   "execution_count": null,
   "metadata": {},
   "outputs": [],
   "source": []
  },
  {
   "cell_type": "code",
   "execution_count": null,
   "metadata": {},
   "outputs": [],
   "source": []
  }
 ],
 "metadata": {
  "kernelspec": {
   "display_name": "Python 3",
   "language": "python",
   "name": "python3"
  },
  "language_info": {
   "codemirror_mode": {
    "name": "ipython",
    "version": 3
   },
   "file_extension": ".py",
   "mimetype": "text/x-python",
   "name": "python",
   "nbconvert_exporter": "python",
   "pygments_lexer": "ipython3",
   "version": "3.7.6"
  }
 },
 "nbformat": 4,
 "nbformat_minor": 4
}
